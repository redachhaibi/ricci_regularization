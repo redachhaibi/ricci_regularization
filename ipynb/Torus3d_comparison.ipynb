{
 "cells": [
  {
   "cell_type": "markdown",
   "metadata": {},
   "source": [
    " This notebook compares two Torus embeddings in order to visualize the effect of curvature regularization"
   ]
  },
  {
   "cell_type": "code",
   "execution_count": null,
   "metadata": {},
   "outputs": [],
   "source": [
    "import torch, json\n",
    "import numpy as np\n",
    "import matplotlib.pyplot as plt\n",
    "import matplotlib.cm as cm\n",
    "import matplotlib.tri as mtri"
   ]
  },
  {
   "cell_type": "code",
   "execution_count": null,
   "metadata": {},
   "outputs": [],
   "source": [
    "# load the experiment without curvature regularizarion\n",
    "experiment_json_not_regularized = f'../experiments/MNIST01_torus_AEexp7.json'\n",
    "with open(experiment_json_not_regularized) as json_file:\n",
    "    json_cofig_not_regularized = json.load(json_file)\n",
    "\n",
    "Path_pictures_not_regularized = json_cofig_not_regularized[\"Path_pictures\"]\n",
    "curv_w_not_regularized = json_cofig_not_regularized[\"losses\"][\"curv_w\"]\n",
    "\n",
    "# load the experiment with curvature regularizarion\n",
    "experiment_json_regularized = f'../experiments/MNIST01_torus_AEexp8.json'\n",
    "with open(experiment_json_regularized) as json_file:\n",
    "    json_cofig_regularized = json.load(json_file)\n",
    "\n",
    "Path_pictures_regularized = json_cofig_regularized[\"Path_pictures\"]\n",
    "curv_w_regularized = json_cofig_regularized[\"losses\"][\"curv_w\"]\n",
    "\n",
    "# loading grids\n",
    "embedded_grid_not_regularized = torch.load(Path_pictures_not_regularized+'/embedded_grid.pt')\n",
    "embedded_grid_regularized = torch.load(Path_pictures_regularized+'/embedded_grid.pt')"
   ]
  },
  {
   "cell_type": "code",
   "execution_count": null,
   "metadata": {},
   "outputs": [],
   "source": [
    "# Number of points. Check if grid sizes are the same\n",
    "if embedded_grid_not_regularized.shape[0] == embedded_grid_regularized.shape[0]:\n",
    "    num_points = embedded_grid_not_regularized.shape[0]\n",
    "else:\n",
    "    raise ValueError(\"An error occurred: different grid sizes\")\n",
    "\n",
    "\n",
    "# Create (u,v) parametrisation to build triangulation\n",
    "u = embedded_grid_regularized[:,0,0]\n",
    "v = embedded_grid_regularized[0,:,1]\n",
    "u, v = np.meshgrid(u, v)\n",
    "u, v = u.flatten(), v.flatten()\n",
    "\n",
    "# Create the triangulation\n",
    "tri = mtri.Triangulation(u, v)\n",
    "\n",
    "# Create the figure and subplots\n",
    "fig = plt.figure(figsize=(15, 7), dpi=300)\n",
    "gs = fig.add_gridspec(1, 3, width_ratios=[1, 1, 0.05], wspace=0.3)\n",
    "ax1 = fig.add_subplot(gs[0, 0], projection='3d')\n",
    "ax2 = fig.add_subplot(gs[0, 1], projection='3d')\n",
    "cax = fig.add_subplot(gs[0, 2])\n",
    "\n",
    "# List of grids\n",
    "grids = [embedded_grid_not_regularized, embedded_grid_regularized]\n",
    "\n",
    "# List of axes\n",
    "axes = [ax1, ax2]\n",
    "\n",
    "# Calculate global min and max of z coordinates\n",
    "z_min = float('inf')\n",
    "z_max = float('-inf')\n",
    "\n",
    "for embedded_grid in grids:\n",
    "    z = embedded_grid[:, :, 2].flatten().detach().numpy()\n",
    "    z_min = min(z_min, z.min())\n",
    "    z_max = max(z_max, z.max())\n",
    "\n",
    "# Loop over grids\n",
    "for ax, embedded_grid in zip(axes, grids):\n",
    "    # Extract coordinates\n",
    "    x = embedded_grid[:, :, 0].flatten().detach().numpy()\n",
    "    y = embedded_grid[:, :, 1].flatten().detach().numpy()\n",
    "    z = embedded_grid[:, :, 2].flatten().detach().numpy()\n",
    "\n",
    "    # Plot the surface\n",
    "    p = ax.plot_trisurf(x, y, z, triangles=tri.triangles, cmap=cm.jet, vmax=z_max, vmin=z_min)\n",
    "    #ax.scatter(x, y, z,s = 0.5,alpha=0.5, zorder = 10)\n",
    "    ax.set_zlim(-0.5, 0.5)\n",
    "    ax.view_init(30, 30)\n",
    "\n",
    "# Set titles for each subplot\n",
    "ax1.set_title(f\"3D embedding of grid 1 on torus with λ_curv = {curv_w_not_regularized}.\")\n",
    "ax2.set_title(f\"3D embedding of grid 2 on torus with λ_curv = {curv_w_regularized}.\")\n",
    "\n",
    "# Add common color bar\n",
    "cbar = fig.colorbar(p, cax=cax)\n",
    "cbar.set_label(\"Height\")\n",
    "cbar.set_ticks([z_min, 0., z_max])\n",
    "cbar.set_ticklabels([f'{z_min:.3f}', '0', f'{z_max:.3f}'])\n",
    "\n",
    "plt.show()"
   ]
  }
 ],
 "metadata": {
  "kernelspec": {
   "display_name": ".venv_ricci2024",
   "language": "python",
   "name": "python3"
  },
  "language_info": {
   "codemirror_mode": {
    "name": "ipython",
    "version": 3
   },
   "file_extension": ".py",
   "mimetype": "text/x-python",
   "name": "python",
   "nbconvert_exporter": "python",
   "pygments_lexer": "ipython3",
   "version": "3.10.12"
  }
 },
 "nbformat": 4,
 "nbformat_minor": 2
}
