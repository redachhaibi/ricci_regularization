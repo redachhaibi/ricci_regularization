{
 "cells": [
  {
   "cell_type": "markdown",
   "metadata": {},
   "source": [
    "# Data loading"
   ]
  },
  {
   "cell_type": "code",
   "execution_count": null,
   "metadata": {},
   "outputs": [],
   "source": [
    "from tqdm.notebook import tqdm\n",
    "import torch\n",
    "import numpy as np\n",
    "import ricci_regularization\n",
    "import matplotlib.pyplot as plt\n",
    "import matplotlib\n",
    "%matplotlib inline\n",
    "import stochman\n",
    "from stochman.manifold import EmbeddedManifold\n",
    "from stochman.curves import CubicSpline\n",
    "import torch.nn as nn\n",
    "import matplotlib.cm as cm\n",
    "\n",
    "import matplotlib.tri as mtri\n",
    "\n",
    "violent_saving = True\n",
    "\n",
    "load_distances = True\n",
    "\n",
    "#experiment_json = f'../experiments/MNIST_torus_AEexp34.json' # no curv_pen\n",
    "\n",
    "experiment_json = f'../experiments/MNIST01_torus_AEexp7.json'\n",
    "mydict = ricci_regularization.get_dataloaders_tuned_nn(Path_experiment_json=experiment_json)"
   ]
  },
  {
   "cell_type": "code",
   "execution_count": null,
   "metadata": {},
   "outputs": [],
   "source": [
    "torus_ae = mydict[\"tuned_neural_network\"]\n",
    "test_loader = mydict[\"test_loader\"]\n",
    "json_cofig = mydict[\"json_config\"]\n",
    "Path_pictures = json_cofig[\"Path_pictures\"]\n",
    "exp_number = json_cofig[\"experiment_number\"]\n",
    "curv_w = json_cofig[\"losses\"][\"curv_w\"]"
   ]
  },
  {
   "cell_type": "code",
   "execution_count": null,
   "metadata": {},
   "outputs": [],
   "source": [
    "D = 784\n",
    "k = json_cofig[\"dataset\"][\"parameters\"][\"k\"]\n",
    "#zlist = []\n",
    "torus_ae.cpu()\n",
    "colorlist = []\n",
    "enc_list = []\n",
    "feature_space_encoding_list = []\n",
    "input_dataset_list = []\n",
    "recon_dataset_list = []\n",
    "for (data, labels) in tqdm( test_loader, position=0 ):\n",
    "#for (data, labels) in tqdm( train_loader, position=0 ):\n",
    "    input_dataset_list.append(data)\n",
    "    recon_dataset_list.append(torus_ae(data)[0])\n",
    "    feature_space_encoding_list.append(torus_ae.encoder_torus(data.view(-1,D)))\n",
    "    #zlist.append(vae(data)[1])\n",
    "    enc_list.append(torus_ae.encoder2lifting(data.view(-1,D)))\n",
    "    colorlist.append(labels) "
   ]
  },
  {
   "cell_type": "code",
   "execution_count": null,
   "metadata": {},
   "outputs": [],
   "source": [
    "#x = torch.cat(zlist)\n",
    "#enc = circle2anglevectorized(x).detach()\n",
    "input_dataset = torch.cat(input_dataset_list)\n",
    "recon_dataset = torch.cat(recon_dataset_list)\n",
    "encoded_points = torch.cat(enc_list)\n",
    "feature_space_encoding = torch.cat(feature_space_encoding_list)\n",
    "encoded_points_no_grad = encoded_points.detach()\n",
    "color_array = torch.cat(colorlist).detach()"
   ]
  },
  {
   "cell_type": "code",
   "execution_count": null,
   "metadata": {},
   "outputs": [],
   "source": [
    "plt.scatter(encoded_points_no_grad[:,0],encoded_points_no_grad[:,1],c = color_array,cmap=ricci_regularization.discrete_cmap(k,\"jet\"))\n",
    "plt.show()"
   ]
  },
  {
   "cell_type": "markdown",
   "metadata": {},
   "source": [
    "# Computing distances with Stochman"
   ]
  },
  {
   "cell_type": "code",
   "execution_count": null,
   "metadata": {},
   "outputs": [],
   "source": [
    "from stochman.manifold import EmbeddedManifold\n",
    "# geodesics are computed minimizing \"energy\" in the embedding of the manifold,\n",
    "# So no need to compute the Pullback metric. and thus the algorithm is fast\n",
    "class Autoencoder(EmbeddedManifold):\n",
    "    def embed(self, c, jacobian = False):\n",
    "        return torus_ae.decoder_torus(c)\n",
    "#selected_labels = json_cofig[\"dataset\"][\"selected_labels\"]\n",
    "model = Autoencoder()"
   ]
  },
  {
   "cell_type": "code",
   "execution_count": null,
   "metadata": {},
   "outputs": [],
   "source": [
    "num_geodesics = 100\n",
    "\n",
    "x_left = -2#-torch.pi#-torch.pi #-2.0\n",
    "y_bottom = -2#-torch.pi#-torch.pi #-2.0\n",
    "\n",
    "x_size = -x_left*2#2*torch.pi # 4.\n",
    "\n",
    "y_size = -y_bottom*2#2*torch.pi #4. # max shift of geodesics \n",
    "\n",
    "x_right = x_left + x_size\n",
    "y_top = y_bottom + y_size\n",
    "\n",
    "starting_points = torch.cat([torch.tensor([x_left,y_bottom + k]) for k in torch.linspace(0,y_size,num_geodesics) ]).reshape(num_geodesics,2)\n",
    "end_points = torch.cat([torch.tensor([x_right,y_bottom + k]) for k in torch.linspace(0,y_size,num_geodesics) ]).reshape(num_geodesics,2)\n",
    "\n",
    "starting_points_vertical = torch.cat([torch.tensor([x_left +k, y_bottom]) for k in torch.linspace(0,y_size,num_geodesics) ]).reshape(num_geodesics,2)\n",
    "end_points_vertical = torch.cat([torch.tensor([x_left + k, y_top]) for k in torch.linspace(0,y_size,num_geodesics) ]).reshape(num_geodesics,2)"
   ]
  },
  {
   "cell_type": "code",
   "execution_count": null,
   "metadata": {},
   "outputs": [],
   "source": [
    "horizontal_step = torch.tensor([x_size/(num_geodesics-1),0])\n",
    "grid = torch.cat([(starting_points + k * horizontal_step) for k in range(num_geodesics)])\n",
    "grid = grid.reshape(num_geodesics,num_geodesics,2)"
   ]
  },
  {
   "cell_type": "code",
   "execution_count": null,
   "metadata": {},
   "outputs": [],
   "source": [
    "grid.grad"
   ]
  },
  {
   "cell_type": "code",
   "execution_count": null,
   "metadata": {},
   "outputs": [],
   "source": [
    "if load_distances == False:\n",
    "    #horizontal geodesics left to right\n",
    "    c,success = model.connecting_geodesic(grid[:-1,:,:].reshape(-1,2),grid[1:,:,:].reshape(-1,2))\n",
    "    c.plot()\n",
    "    plt.scatter(grid[:,:,0], grid[:,:,1],c=\"blue\")\n",
    "    #plt.scatter(all_end_points_horizontal[-num_geodesics:,0],all_end_points_horizontal[-num_geodesics:,1],c=\"blue\")\n",
    "    plt.show()"
   ]
  },
  {
   "cell_type": "code",
   "execution_count": null,
   "metadata": {},
   "outputs": [],
   "source": [
    "if load_distances == False:\n",
    "    # vertical geodesics\n",
    "    c_vert,success = model.connecting_geodesic(grid[:,:-1,:].reshape(-1,2),grid[:,1:,:].reshape(-1,2))\n",
    "    c_vert.plot()\n",
    "    plt.scatter(grid[:,:,0], grid[:,:,1],c=\"blue\")\n",
    "    plt.show()"
   ]
  },
  {
   "cell_type": "code",
   "execution_count": null,
   "metadata": {},
   "outputs": [],
   "source": [
    "if load_distances == False:\n",
    "    c_vert.plot()\n",
    "    c.plot()\n",
    "    plt.scatter(grid[:,:,0], grid[:,:,1],c=\"blue\")\n",
    "    plt.show"
   ]
  },
  {
   "cell_type": "code",
   "execution_count": null,
   "metadata": {},
   "outputs": [],
   "source": [
    "t = torch.linspace(0,1,20)"
   ]
  },
  {
   "cell_type": "markdown",
   "metadata": {},
   "source": [
    "# Distances computation and shaping breakdown (skip this)"
   ]
  },
  {
   "cell_type": "code",
   "execution_count": null,
   "metadata": {},
   "outputs": [],
   "source": [
    "#grid[:-1,:,:]"
   ]
  },
  {
   "cell_type": "code",
   "execution_count": null,
   "metadata": {},
   "outputs": [],
   "source": [
    "# horizontal geodesics \n",
    "#c(t)[:,0,:]"
   ]
  },
  {
   "cell_type": "code",
   "execution_count": null,
   "metadata": {},
   "outputs": [],
   "source": [
    "# horizontal geodesics \n",
    "#c_vert(t)[:,0,:]"
   ]
  },
  {
   "cell_type": "code",
   "execution_count": null,
   "metadata": {},
   "outputs": [],
   "source": [
    "if load_distances == False:\n",
    "    horizontal_lengths = model.curve_length(c(t)).detach()\n",
    "    #print(horizontal_energies)\n",
    "    vertical_lengths = model.curve_length(c_vert(t)).detach()\n",
    "    print(vertical_lengths)\n",
    "    print(vertical_lengths.reshape(num_geodesics,num_geodesics-1))\n",
    "    #print(horizontal_energies.reshape(num_geodesics-1,num_geodesics))\n",
    "    torch.save(horizontal_lengths,Path_pictures+'/horizontal_lengths.pt')\n",
    "    torch.save(vertical_lengths,Path_pictures+'/vertical_lengths.pt')"
   ]
  },
  {
   "cell_type": "code",
   "execution_count": null,
   "metadata": {},
   "outputs": [],
   "source": [
    "# loading geod lengths\n",
    "horizontal_lengths = torch.load(Path_pictures+'/horizontal_lengths.pt')\n",
    "vertical_lengths = torch.load(Path_pictures+'/vertical_lengths.pt')"
   ]
  },
  {
   "cell_type": "code",
   "execution_count": null,
   "metadata": {},
   "outputs": [],
   "source": [
    "# initial embedding rect shape\n",
    "with torch.no_grad():\n",
    "    horizontal_lengths_reshaped = horizontal_lengths.reshape(num_geodesics-1,num_geodesics)\n",
    "    vertical_lengths_reshaped = vertical_lengths.reshape(num_geodesics,num_geodesics-1)\n",
    "    minimal_horizontal_length = horizontal_lengths_reshaped.sum(dim=0).min()\n",
    "    minimal_vertical_length = vertical_lengths_reshaped.sum(dim=1).min()\n",
    "    #horizontal_energies = horizontal_energies.reshape(num_geodesics-1,num_geodesics)\n",
    "    \n",
    "    #vertical_energies = vertical_energies.reshape(num_geodesics,num_geodesics-1)\n",
    "    #print(horizontal_energies_normalized)"
   ]
  },
  {
   "cell_type": "code",
   "execution_count": null,
   "metadata": {},
   "outputs": [],
   "source": [
    "edge = torch.min(minimal_horizontal_length,minimal_vertical_length)\n",
    "print(\"edge length:\", edge.item())\n"
   ]
  },
  {
   "cell_type": "code",
   "execution_count": null,
   "metadata": {},
   "outputs": [],
   "source": [
    "#setting the initial grid embedding\n",
    "with torch.no_grad():\n",
    "    stretched_grid = grid*edge/x_size\n",
    "#setteing small vertical perturbation\n",
    "torch.manual_seed(0)\n",
    "eps = 1e-2*edge/num_geodesics\n",
    "z_perturbation = eps * torch.randn(num_geodesics,num_geodesics,1)\n",
    "\n",
    "flat_grid = torch.cat((stretched_grid, z_perturbation),dim=2).requires_grad_()\n",
    "#flat_grid.requires_grad_()"
   ]
  },
  {
   "cell_type": "markdown",
   "metadata": {},
   "source": [
    "# The embedding nn.Module"
   ]
  },
  {
   "cell_type": "code",
   "execution_count": null,
   "metadata": {},
   "outputs": [],
   "source": [
    "class MyModel(nn.Module):\n",
    "    def __init__(self):\n",
    "        super(MyModel, self).__init__()\n",
    "        flat_grid = torch.cat((stretched_grid, z_perturbation),dim=2).requires_grad_()\n",
    "        self.emb = nn.Parameter(flat_grid)\n",
    "    def plot(self):\n",
    "        fig = plt.figure(figsize = (10,10),dpi=300)\n",
    "        ax = fig.add_subplot(1, 2, 1, projection='3d')\n",
    "        ax.set_title(\"Grid embedding\")\n",
    "        x = self.emb[:,:,0].detach()\n",
    "        y = self.emb[:,:,1].detach()\n",
    "        z = self.emb[:,:,2].detach()\n",
    "        ax.set_zlim(-edge.item(),edge.item())\n",
    "        ax.scatter(x,y,z)\n",
    "        return\n",
    "    def plot_triang(self,additional_comment='',savefig=False, plot_number=0):\n",
    "        u = np.linspace(-2.0, 2.0 , endpoint=True, num=num_geodesics)\n",
    "        v = np.linspace(-2.0, 2.0 , endpoint=True, num=num_geodesics)\n",
    "        u, v = np.meshgrid(u, v)\n",
    "        u, v = u.flatten(), v.flatten()\n",
    "        %matplotlib inline\n",
    "\n",
    "\n",
    "        # triple\n",
    "        x = embedded_grid()[:,:,0].flatten().detach()\n",
    "        y = embedded_grid()[:,:,1].flatten().detach()\n",
    "        z = embedded_grid()[:,:,2].flatten().detach()\n",
    "\n",
    "        # Triangulate parameter space to determine the triangles\n",
    "        tri = mtri.Triangulation(u, v)\n",
    "\n",
    "        fig = plt.figure(figsize = (10,10),dpi=300)\n",
    "        # Plot the surface.  The triangles in parameter space determine which x, y, z\n",
    "        # points are connected by an edge.\n",
    "\n",
    "\n",
    "        ax = fig.add_subplot(1, 2, 1, projection='3d')\n",
    "\n",
    "        ax.set_title(f\"3d embedding of a grid on torus with $\\lambda_{{\\mathrm{{curv}}}} = ${curv_w}.\"+\n",
    "                     additional_comment)\n",
    "        \n",
    "        p = ax.plot_trisurf(x, y, z, triangles=tri.triangles, cmap=cm.Spectral,vmax=z.max(),vmin=z.min())\n",
    "        ax.set_zlim(-0.5, 0.5)\n",
    "        ax.view_init(0, 30)\n",
    "\n",
    "        cbar = fig.colorbar(p,shrink = 0.1)\n",
    "        cbar.set_label(\"Height\")\n",
    "        cbar.set_ticks(ticks=[z.min(), 0., z.max()])\n",
    "        cbar.set_ticklabels(ticklabels=[f'{z.min():.3f}','0', f'{z.max():.3f}'])\n",
    "\n",
    "        if savefig == True:\n",
    "            plt.savefig(Path_pictures+f\"/3dembedding_optimization_history/plot{plot_number}.pdf\",format=\"pdf\")\n",
    "\n",
    "        plt.show()\n",
    "        return\n",
    "    \n",
    "    def forward(self):\n",
    "        # Use the custom parameter\n",
    "        return self.emb"
   ]
  },
  {
   "cell_type": "code",
   "execution_count": null,
   "metadata": {},
   "outputs": [],
   "source": [
    "# Create an instance of the model\n",
    "embedded_grid = MyModel()\n",
    "# Set up the optimizer\n",
    "optimizer = torch.optim.SGD(embedded_grid.parameters(), lr=1e-1)"
   ]
  },
  {
   "cell_type": "code",
   "execution_count": null,
   "metadata": {},
   "outputs": [],
   "source": [
    "# checking initial guess adaquacy\n",
    "\"\"\"\n",
    "print(\"lenghts of horizontal geodesics:\\n\", horizontal_lengths_reshaped)\n",
    "print(\"initial euclidean lengths in 3d embedding:\\n\",(embedded_grid()[1:,:,:] - embedded_grid()[:-1,:,:]).norm(dim = -1))\n",
    "\n",
    "print(\"lenghts of vertical geodesics:\\n\", vertical_lengths_reshaped)\n",
    "print(\"initial euclidean lengths in 3d embedding:\\n\",(embedded_grid()[:,1:,:] - embedded_grid()[:,:-1,:]).norm(dim = -1))\n",
    "\"\"\""
   ]
  },
  {
   "cell_type": "markdown",
   "metadata": {},
   "source": [
    "# The training loop"
   ]
  },
  {
   "cell_type": "code",
   "execution_count": null,
   "metadata": {},
   "outputs": [],
   "source": [
    "def training_loop(epoch,num_iter=1, mode=\"diagnostic\", loss_history = []):\n",
    "    loss_values = loss_history  # List to store loss values\n",
    "    for epoch in range(num_iter):\n",
    "        optimizer.zero_grad()\n",
    "\n",
    "        # Compute the embedded grid once to avoid redundant computations\n",
    "        embedded = embedded_grid()\n",
    "\n",
    "        # Calculate horizontal and vertical distances\n",
    "        horizontal_grid_distances = (embedded[1:, :, :] - embedded[:-1, :, :]).norm(dim=-1)\n",
    "        vertical_grid_distances = (embedded[:, 1:, :] - embedded[:, :-1, :]).norm(dim=-1)\n",
    "\n",
    "        # Compute the losses\n",
    "        loss_horizontal = (horizontal_lengths_reshaped - horizontal_grid_distances).square().mean()\n",
    "        loss_vertical = (vertical_lengths_reshaped - vertical_grid_distances).square().mean()\n",
    "\n",
    "        # Sum the losses\n",
    "        loss = 1e2*(loss_horizontal + loss_vertical)\n",
    "\n",
    "        # Backpropagation\n",
    "        loss.backward()\n",
    "        optimizer.step()\n",
    "\n",
    "        # Store the loss value\n",
    "        loss_values.append(loss.item())\n",
    "\n",
    "        # Print diagnostics if needed\n",
    "        #if mode == \"diagnostic\":\n",
    "            #print(f\"Epoch #{epoch + 1}, loss: {loss.item():.3f}\")\n",
    "\n",
    "    # Plot the loss values if in diagnostic mode\n",
    "    if mode == \"diagnostic\":\n",
    "        plt.figure()\n",
    "        #plt.plot(range(1, (num_iter + 1)), loss_values, label='Loss')\n",
    "        plt.plot(loss_values, label='Loss')\n",
    "        plt.xlabel('Iterations')\n",
    "        plt.ylabel('Loss')\n",
    "        plt.title('Training Loss Over Time')\n",
    "        plt.legend()\n",
    "        plt.show()\n",
    "\n",
    "    return loss_values\n"
   ]
  },
  {
   "cell_type": "code",
   "execution_count": null,
   "metadata": {},
   "outputs": [],
   "source": [
    "num_epochs = 10\n",
    "loss_history = []\n",
    "embedded_grid.plot_triang()\n",
    "for epoch in range(num_epochs):\n",
    "    loss_history = training_loop(epoch+1,num_iter=1000, loss_history=loss_history)\n",
    "    embedded_grid.plot_triang(plot_number=epoch+1,savefig=True,\n",
    "                              additional_comment=f'\\n After {len(loss_history)} iterations.')"
   ]
  },
  {
   "cell_type": "code",
   "execution_count": null,
   "metadata": {},
   "outputs": [],
   "source": [
    "plt.plot(loss_history, label='Loss')\n",
    "plt.xlabel('Iterations')\n",
    "plt.ylabel('Loss')\n",
    "plt.title('Training Loss Over Time')\n",
    "plt.legend()\n",
    "plt.savefig(Path_pictures+\"/3dembedding_optimization_history/loss.pdf\")\n",
    "plt.show()"
   ]
  },
  {
   "cell_type": "code",
   "execution_count": null,
   "metadata": {},
   "outputs": [],
   "source": [
    "loss_history[-1]"
   ]
  },
  {
   "cell_type": "markdown",
   "metadata": {},
   "source": [
    "# Plotting with the embedded grid with matplotlib triangulation"
   ]
  },
  {
   "cell_type": "code",
   "execution_count": null,
   "metadata": {},
   "outputs": [],
   "source": [
    "optimized_grid = embedded_grid().detach()"
   ]
  },
  {
   "cell_type": "code",
   "execution_count": null,
   "metadata": {},
   "outputs": [],
   "source": [
    "u = np.linspace(-2.0, 2.0 , endpoint=True, num=num_geodesics)\n",
    "v = np.linspace(-2.0, 2.0 , endpoint=True, num=num_geodesics)\n",
    "u, v = np.meshgrid(u, v)\n",
    "u, v = u.flatten(), v.flatten()\n",
    "%matplotlib inline\n",
    "\n",
    "\n",
    "# triple\n",
    "x = embedded_grid()[:,:,0].flatten().detach()\n",
    "y = embedded_grid()[:,:,1].flatten().detach()\n",
    "z = embedded_grid()[:,:,2].flatten().detach()\n",
    "\n",
    "# Triangulate parameter space to determine the triangles\n",
    "tri = mtri.Triangulation(u, v)\n",
    "\n",
    "fig = plt.figure(figsize = (10,10),dpi=300)\n",
    "# Plot the surface.  The triangles in parameter space determine which x, y, z\n",
    "# points are connected by an edge.\n",
    "\n",
    "\n",
    "ax = fig.add_subplot(1, 2, 1, projection='3d')\n",
    "\n",
    "ax.set_title(f\"3d embedding of a grid on torus with $\\lambda_{{\\mathrm{{curv}}}} = ${curv_w}.\")\n",
    "#linthresh = (z.abs().max()/100).item()\n",
    "\n",
    "p = ax.plot_trisurf(x, y, z, triangles=tri.triangles, cmap=cm.Spectral,vmax=z.max(),vmin=z.min())\n",
    "#norm = matplotlib.colors.SymLogNorm(linthresh = linthresh),vmax=z.max(),vmin=z.min())\n",
    "\n",
    "ax.set_zlim(-0.5, 0.5)\n",
    "ax.view_init(0, 30)\n",
    "#ax.set_xticklabels('')\n",
    "\n",
    "cbar = fig.colorbar(p,shrink = 0.1)\n",
    "cbar.set_label(\"Height\")\n",
    "cbar.set_ticks(ticks=[z.min(), 0., z.max()])\n",
    "cbar.set_ticklabels(ticklabels=[f'{z.min():.3f}','0', f'{z.max():.3f}'])\n",
    "\n",
    "plt.savefig(Path_pictures+f\"/torus3d_embedding_curw_w={curv_w}_num_geod={num_geodesics}.pdf\",format=\"pdf\")\n",
    "\n",
    "plt.show()"
   ]
  },
  {
   "cell_type": "markdown",
   "metadata": {},
   "source": [
    "# Plotting with the embedded grid with trimesh"
   ]
  },
  {
   "cell_type": "code",
   "execution_count": null,
   "metadata": {},
   "outputs": [],
   "source": [
    "import trimesh\n",
    "%matplotlib notebook\n",
    "import matplotlib.pyplot as plt\n",
    "%matplotlib notebook\n",
    "\n",
    "\n",
    "# Create the trimesh object directly from vertices and faces\n",
    "triangulation_mesh = trimesh.Trimesh(vertices=optimized_grid.reshape(-1,3), faces=tri.triangles)\n",
    "\n",
    "# Display the triangulated surface\n",
    "triangulation_mesh.show()"
   ]
  }
 ],
 "metadata": {
  "kernelspec": {
   "display_name": ".venv_ricci2024",
   "language": "python",
   "name": "python3"
  },
  "language_info": {
   "codemirror_mode": {
    "name": "ipython",
    "version": 3
   },
   "file_extension": ".py",
   "mimetype": "text/x-python",
   "name": "python",
   "nbconvert_exporter": "python",
   "pygments_lexer": "ipython3",
   "version": "3.10.12"
  }
 },
 "nbformat": 4,
 "nbformat_minor": 2
}
