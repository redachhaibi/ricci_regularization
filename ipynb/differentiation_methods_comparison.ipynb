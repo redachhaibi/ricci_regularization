{
 "cells": [
  {
   "cell_type": "code",
   "execution_count": null,
   "metadata": {},
   "outputs": [],
   "source": [
    "import torch\n",
    "import torch.nn as nn\n",
    "import torch.nn.functional as F\n",
    "import numpy as np\n",
    "device = torch.device(\"cpu\")\n",
    "import torch\n",
    "import torch.func as TF\n",
    "from functorch import jacrev,jacfwd\n",
    "import matplotlib.pyplot as plt\n",
    "import timeit"
   ]
  },
  {
   "cell_type": "markdown",
   "metadata": {},
   "source": [
    "# I. Setting different ways of metric computation for the decoder"
   ]
  },
  {
   "cell_type": "code",
   "execution_count": null,
   "metadata": {},
   "outputs": [],
   "source": [
    "class Decoder(nn.Module):\n",
    "    \n",
    "    def __init__(self, encoded_space_dim,fc2_input_dim):\n",
    "        super().__init__()\n",
    "        self.decoder_lin = nn.Sequential(\n",
    "            nn.Linear(encoded_space_dim, 128),\n",
    "            nn.ReLU(True),\n",
    "            nn.Linear(128, 3 * 3 * 32),\n",
    "            nn.ReLU(True)\n",
    "        )\n",
    "\n",
    "        self.unflatten = nn.Unflatten(dim=1, \n",
    "        unflattened_size=(32, 3, 3))\n",
    "\n",
    "        self.decoder_conv = nn.Sequential(\n",
    "            nn.ConvTranspose2d(32, 16, 3, \n",
    "            stride=2, output_padding=0),\n",
    "            nn.BatchNorm2d(16),\n",
    "            nn.ReLU(True),\n",
    "            nn.ConvTranspose2d(16, 8, 3, stride=2, \n",
    "            padding=1, output_padding=1),\n",
    "            nn.BatchNorm2d(8),\n",
    "            nn.ReLU(True),\n",
    "            nn.ConvTranspose2d(8, 1, 3, stride=2, \n",
    "            padding=1, output_padding=1)\n",
    "        )\n",
    "        \n",
    "    def forward(self, x):\n",
    "        x = self.decoder_lin(x)\n",
    "        x = self.unflatten(x)\n",
    "        x = self.decoder_conv(x)\n",
    "        x = torch.sigmoid(x)\n",
    "        return x\n",
    "    \n",
    "decoder = Decoder(encoded_space_dim = 2,fc2_input_dim=128)\n",
    "\n",
    "# Send to device\n",
    "decoder.to(device) \n",
    "\n",
    "# Load the parameters of the trained decoder without curvature in Loss func\n",
    "PATH_dec = '../nn_weights/decoder_conv_autoenc.pt'\n",
    "decoder.load_state_dict(torch.load(PATH_dec))\n",
    "\n",
    "# Switch to eval mode\n",
    "decoder.eval()"
   ]
  },
  {
   "cell_type": "code",
   "execution_count": null,
   "metadata": {},
   "outputs": [],
   "source": [
    "def make_grid(numsteps):\n",
    "    \n",
    "    xs = torch.linspace(-1.5, 1.5, steps = numsteps)\n",
    "    ys = torch.linspace(-1.5, 1.5, steps = numsteps)\n",
    "    #uniform_grid = torch.cartesian_prod(xs,ys)\n",
    "\n",
    "    # true grid starts from left bottom corner. x is the first to increase\n",
    "    tgrid = torch.cartesian_prod(ys, xs)\n",
    "    tgrid = tgrid.roll(1,1)\n",
    "    return tgrid"
   ]
  },
  {
   "cell_type": "code",
   "execution_count": null,
   "metadata": {},
   "outputs": [],
   "source": [
    "def metric_fd(u, function=decoder, hx=1e-5, hy=1e-5): #this gives metric at point u with steps hx and hy\n",
    "    u = u.reshape(-1,2)\n",
    "\n",
    "    dx = torch.tensor([[0.0 + hx, 0.0]])\n",
    "    dy = torch.tensor([[0.0, 0.0 + hy]])\n",
    "    dpsi_over_dx = (function(u + dx) - function(u - dx))/(2*hx)\n",
    "    dpsi_over_dy = (function(u + dy) - function(u - dy))/(2*hy)\n",
    "\n",
    "    dpsi_over_dx = torch.flatten(dpsi_over_dx).view(784,1)\n",
    "    dpsi_over_dy = torch.flatten(dpsi_over_dy).view(784,1)\n",
    "    \n",
    "    dpsi = torch.cat((dpsi_over_dx,dpsi_over_dy),dim=-1)\n",
    "    my_metric = torch.matmul(dpsi.T,dpsi)\n",
    "    return my_metric\n",
    "\n",
    "def metric_jacfwd(u, function = decoder):\n",
    "    u = u.reshape(-1,2)\n",
    "    jac = jacfwd(function)(u)\n",
    "    jac = jac.reshape(-1,2)\n",
    "    metric = torch.matmul(jac.T,jac)\n",
    "    return metric\n",
    "\n",
    "def metric_jacrev(u, function = decoder):\n",
    "    u = u.reshape(-1,2)\n",
    "    jac = jacrev(function)(u)\n",
    "    jac = jac.reshape(-1,2)\n",
    "    metric = torch.matmul(jac.T,jac)\n",
    "    return metric\n",
    "\n",
    "metric_fd_vmap = TF.vmap(metric_fd)\n",
    "metric_jacfwd_vmap = TF.vmap(metric_jacfwd)\n",
    "metric_jacrev_vmap = TF.vmap(metric_jacrev)\n"
   ]
  },
  {
   "cell_type": "code",
   "execution_count": null,
   "metadata": {},
   "outputs": [],
   "source": [
    "def compute_metric(function=decoder, batch = None, method ={\"name\":str, \"precision\":float}):\n",
    "    if method[\"name\"]==\"metric_jacfwd_vmap\":\n",
    "        return metric_jacfwd_vmap(batch, function=function)\n",
    "    elif method[\"name\"]==\"metric_fd_vmap\":\n",
    "        h = method[\"precision\"]\n",
    "        with torch.no_grad():\n",
    "            metric = metric_fd_vmap(batch, function=function, hx=h,hy=h)\n",
    "        return metric\n",
    "    elif method[\"name\"]==\"metric_jacrev_vmap\":\n",
    "        return metric_jacrev_vmap(batch, function=function)"
   ]
  },
  {
   "cell_type": "code",
   "execution_count": null,
   "metadata": {},
   "outputs": [],
   "source": [
    "# a short demo checking if this works\n",
    "my_batch = torch.rand(3,2)\n",
    "example_fd_vmap = compute_metric(decoder, my_batch, method={\"name\": \"metric_fd_vmap\", \"precision\" : 1e-4})\n",
    "example_jacfwd_vmap = compute_metric(decoder, my_batch, method={\"name\": \"metric_jacfwd_vmap\", \"precision\" : None})\n",
    "example_jacrev_vmap = compute_metric(decoder, my_batch, method={\"name\": \"metric_jacrev_vmap\", \"precision\" : None})\n",
    "print(\"fd+vmap:\\n\",example_fd_vmap,\"\\n jacfwd+vmap:\\n\",example_jacfwd_vmap,\"\\n jacrev+vmap:\\n\",example_jacrev_vmap)"
   ]
  },
  {
   "cell_type": "markdown",
   "metadata": {},
   "source": [
    "# II.Testing: performance plots"
   ]
  },
  {
   "cell_type": "code",
   "execution_count": null,
   "metadata": {},
   "outputs": [],
   "source": [
    "batchsize_array = np.linspace(10,9e+4+10,num=6).astype(int)\n",
    "batchsize_array\n"
   ]
  },
  {
   "cell_type": "code",
   "execution_count": null,
   "metadata": {},
   "outputs": [],
   "source": [
    "computation_time_fd =[]\n",
    "#computation_time_jacrev =[]\n",
    "computation_time_jacfwd =[]\n",
    "\n",
    "for i in batchsize_array:\n",
    "    numsteps = i\n",
    "    my_batch = torch.rand(i,2)\n",
    "\n",
    "    with_fd_timer = timeit.timeit(stmt=\"compute_metric(decoder, my_batch, method={\\\"name\\\": \\\"metric_fd_vmap\\\", \\\"precision\\\" : 1e-4})\",number=1,globals=globals())\n",
    "    with_jacfwd_timer = timeit.timeit(stmt=\"compute_metric(decoder, my_batch, method={\\\"name\\\": \\\"metric_jacfwd_vmap\\\", \\\"precision\\\" : None})\",number=1, globals=globals())\n",
    "    #with_jacrev_timer = timeit.timeit(stmt=\"compute_metric(decoder, my_batch, method={\\\"name\\\": \\\"metric_jacrev_vmap\\\", \\\"precision\\\" : None})\",number=1, globals=globals())\n",
    "    #computation_time_jacrev.append(with_jacrev_timer)\n",
    "    computation_time_fd.append(with_fd_timer)\n",
    "    computation_time_jacfwd.append(with_jacfwd_timer)"
   ]
  },
  {
   "cell_type": "code",
   "execution_count": null,
   "metadata": {},
   "outputs": [],
   "source": [
    "plt.plot(computation_time_jacfwd,label=\"vmap+jacfwd\")\n",
    "plt.plot(computation_time_fd,label=\"vmap+fd\")\n",
    "plt.xticks((batchsize_array-10)/18000, labels=batchsize_array)\n",
    "plt.title(\"Comparison of jacfwd and fd\")\n",
    "plt.xlabel(\"Linear size of the grid\")\n",
    "plt.ylabel(\"Time in seconds\")\n",
    "plt.legend()\n",
    "plt.show()"
   ]
  },
  {
   "cell_type": "markdown",
   "metadata": {},
   "source": [
    "# III. Testing: relative error frobenius norm plot"
   ]
  },
  {
   "cell_type": "code",
   "execution_count": null,
   "metadata": {},
   "outputs": [],
   "source": [
    "numsteps = 100\n",
    "fd_step = 5e-6 \n",
    "tgrid = make_grid(numsteps)\n",
    "metric_on_grid_jacfwd = compute_metric(decoder, tgrid, method={\"name\": \"metric_jacfwd_vmap\", \"precision\" : None})\n",
    "metric_on_grid_jacfwd = metric_on_grid_jacfwd.detach()\n",
    "metric_on_grid_fd = compute_metric(decoder, tgrid, method={\"name\": \"metric_fd_vmap\", \"precision\" : fd_step})"
   ]
  },
  {
   "cell_type": "code",
   "execution_count": null,
   "metadata": {},
   "outputs": [],
   "source": [
    "xs = torch.linspace(-1.5, 1.5, steps = numsteps)\n",
    "ys = torch.linspace(-1.5, 1.5, steps = numsteps)\n",
    "\n",
    "# Fast computation of Frobenious norm on the grid without borders\n",
    "Newfrob1 = metric_on_grid_jacfwd.norm(dim=(1,2)).view(numsteps,numsteps)\n",
    "Newfrob1 = Newfrob1[1:-1,1:-1].transpose(0,1)\n",
    "\n",
    "Newfrob2 = metric_on_grid_fd.norm(dim=(1,2)).view(numsteps,numsteps)\n",
    "Newfrob2 = Newfrob2[1:-1,1:-1].transpose(0,1)\n"
   ]
  },
  {
   "cell_type": "code",
   "execution_count": null,
   "metadata": {},
   "outputs": [],
   "source": [
    "#Heat map of the frobenius norm\n",
    "h = plt.contourf(xs[1:-1], ys[1:-1], Newfrob1)\n",
    "plt.title('Heatmap of the Frobenius norm of the metric')\n",
    "plt.xlabel( \"x coordinate\")\n",
    "plt.ylabel( \"y coordinate\")\n",
    "plt.axis('scaled')\n",
    "plt.colorbar(label=\"Frobenius norm of the metric\")\n",
    "#plt.xlim(-1.5 + mean[0], 1.5 + mean[0])\n",
    "#plt.ylim(-1.5 + mean[1], 1.5 + mean[1])\n",
    "plt.show()"
   ]
  },
  {
   "cell_type": "code",
   "execution_count": null,
   "metadata": {},
   "outputs": [],
   "source": [
    "#Heat map of the frobenius norm\n",
    "h = plt.contourf(xs[1:-1], ys[1:-1], 100*abs(Newfrob1-Newfrob2)/Newfrob1)\n",
    "plt.title('Heatmap of relative error')\n",
    "plt.xlabel( \"x coordinate\")\n",
    "plt.ylabel( \"y coordinate\")\n",
    "plt.axis('scaled')\n",
    "plt.colorbar(label=\"Relative error of the metric\")\n",
    "#plt.xlim(-1.5 + mean[0], 1.5 + mean[0])\n",
    "#plt.ylim(-1.5 + mean[1], 1.5 + mean[1])\n",
    "plt.show()"
   ]
  },
  {
   "cell_type": "markdown",
   "metadata": {},
   "source": [
    "# IV. Checking ground truth"
   ]
  },
  {
   "cell_type": "code",
   "execution_count": null,
   "metadata": {},
   "outputs": [],
   "source": [
    "my_fun_constant = nn.Linear(2,784,bias=False)\n",
    "weights_tensor = torch.rand(784,2)\n",
    "Q, R = torch.linalg.qr(weights_tensor)\n",
    "with torch.no_grad():\n",
    "    my_fun_constant.weight = nn.Parameter(Q)\n",
    "def my_fun_sphere(u):\n",
    "    u = u.flatten()\n",
    "    output = torch.cat((torch.sin(u[1])*torch.cos(u[0]).unsqueeze(0),torch.sin(u[1])*torch.sin(u[0]).unsqueeze(0),torch.cos(u[1]).unsqueeze(0)),dim=-1)\n",
    "    output = torch.cat((output.unsqueeze(0),torch.zeros(781).unsqueeze(0)),dim=1)\n",
    "    output = output.flatten()\n",
    "    return output"
   ]
  },
  {
   "cell_type": "code",
   "execution_count": null,
   "metadata": {},
   "outputs": [],
   "source": [
    "#short demo\n",
    "my_batch = torch.rand(3,2)\n",
    "print(\"constant:\\n\", compute_metric(my_fun_constant, my_batch, method={\"name\": \"metric_jacfwd_vmap\", \"precision\" : None}),\n",
    "      \"\\n spheric coordinates:\\n\", compute_metric(my_fun_sphere, my_batch, method={\"name\": \"metric_jacfwd_vmap\", \"precision\" : None}))"
   ]
  },
  {
   "cell_type": "code",
   "execution_count": null,
   "metadata": {},
   "outputs": [],
   "source": [
    "# another way of depicting heatmaps\n",
    "def draw_metric_frobenius_norm(numsteps=100, function=decoder, method ={\"name\":str, \"precision\":float}):\n",
    "    tgrid = make_grid(numsteps)\n",
    "    metric_on_grid = compute_metric(function, tgrid, method={\"name\": method[\"name\"], \"precision\" : method[\"precision\"]})\n",
    "    Frob_norm_on_grid = metric_on_grid.norm(dim=(1,2)).view(numsteps,numsteps)\n",
    "    Frob_norm_on_grid = Frob_norm_on_grid[1:-1,1:-1].detach()\n",
    "    \n",
    "    fig, ax = plt.subplots()\n",
    "    im = ax.imshow(Frob_norm_on_grid,origin=\"lower\")\n",
    "\n",
    "    cbar = ax.figure.colorbar(im)\n",
    "\n",
    "    ax.set_xticks((Frob_norm_on_grid.shape[0]-1)*(np.linspace(0,1,num=11)),labels=np.linspace(-1.5,1.5,num=11).round(1))\n",
    "    ax.set_yticks((Frob_norm_on_grid.shape[1]-1)*(np.linspace(0,1,num=11)),labels=np.linspace(-1.5,1.5,num=11).round(1))\n",
    "    plt.xlabel( \"x coordinate\")\n",
    "    plt.ylabel( \"y coordinate\")\n",
    "    plt.axis('scaled')\n",
    "\n",
    "    ax.set_title(\"Frobenius norm of the metric\")\n",
    "    fig.tight_layout()\n",
    "    plt.show()\n",
    "    return plt"
   ]
  },
  {
   "cell_type": "code",
   "execution_count": null,
   "metadata": {},
   "outputs": [],
   "source": [
    "draw_metric_frobenius_norm(100,function=my_fun_constant, method={\"name\": \"metric_jacfwd_vmap\", \"precision\" : None})"
   ]
  },
  {
   "cell_type": "code",
   "execution_count": null,
   "metadata": {},
   "outputs": [],
   "source": [
    "draw_metric_frobenius_norm(100,function=my_fun_sphere, method={\"name\": \"metric_jacfwd_vmap\", \"precision\" : None})"
   ]
  },
  {
   "cell_type": "code",
   "execution_count": null,
   "metadata": {},
   "outputs": [],
   "source": [
    "draw_metric_frobenius_norm(100,function=decoder, method={\"name\": \"metric_jacfwd_vmap\", \"precision\" : None})"
   ]
  },
  {
   "cell_type": "code",
   "execution_count": null,
   "metadata": {},
   "outputs": [],
   "source": []
  }
 ],
 "metadata": {
  "kernelspec": {
   "display_name": ".venv_ricci",
   "language": "python",
   "name": "python3"
  },
  "language_info": {
   "codemirror_mode": {
    "name": "ipython",
    "version": 3
   },
   "file_extension": ".py",
   "mimetype": "text/x-python",
   "name": "python",
   "nbconvert_exporter": "python",
   "pygments_lexer": "ipython3",
   "version": "3.10.12"
  },
  "orig_nbformat": 4
 },
 "nbformat": 4,
 "nbformat_minor": 2
}
