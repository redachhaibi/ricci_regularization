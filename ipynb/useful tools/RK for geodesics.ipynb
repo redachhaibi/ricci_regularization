{
 "cells": [
  {
   "attachments": {},
   "cell_type": "markdown",
   "id": "90ac8134",
   "metadata": {},
   "source": [
    "# Pendulum ODE with odeint and Runge-Kutta\n"
   ]
  },
  {
   "cell_type": "code",
   "execution_count": null,
   "id": "933b0c41",
   "metadata": {},
   "outputs": [],
   "source": [
    "#theta''(t) + b*theta'(t) + c*sin(theta(t)) = 0\n",
    "#theta'(t) = omega(t)\n",
    "#omega'(t) = -b*omega(t) - c*sin(theta(t))"
   ]
  },
  {
   "cell_type": "code",
   "execution_count": null,
   "id": "c07de484",
   "metadata": {},
   "outputs": [],
   "source": [
    "import numpy as np\n",
    "import matplotlib.pyplot as plt\n"
   ]
  },
  {
   "cell_type": "code",
   "execution_count": null,
   "id": "af43a4ba",
   "metadata": {},
   "outputs": [],
   "source": [
    "pip install scipy"
   ]
  },
  {
   "cell_type": "code",
   "execution_count": null,
   "id": "b2aeb470",
   "metadata": {},
   "outputs": [],
   "source": [
    "from scipy.integrate import odeint  # for comparison"
   ]
  },
  {
   "cell_type": "code",
   "execution_count": null,
   "id": "a83345e8",
   "metadata": {},
   "outputs": [],
   "source": [
    "def pend(y, t, b, c):\n",
    "    theta, omega = y\n",
    "    dydt = [omega, -b*omega - c*np.sin(theta)]\n",
    "    #dydt = [- np.sin(omega),- np.sin(theta)]\n",
    "    return dydt"
   ]
  },
  {
   "cell_type": "code",
   "execution_count": null,
   "id": "27c5b5d4",
   "metadata": {},
   "outputs": [],
   "source": [
    "b = 0.25\n",
    "c = 5.0"
   ]
  },
  {
   "cell_type": "code",
   "execution_count": null,
   "id": "ae744328",
   "metadata": {},
   "outputs": [],
   "source": [
    "y0 = [np.pi - 0.1, 0.0]"
   ]
  },
  {
   "cell_type": "code",
   "execution_count": null,
   "id": "307c42ec",
   "metadata": {},
   "outputs": [],
   "source": [
    "t = np.linspace(0, 10, 101)"
   ]
  },
  {
   "cell_type": "code",
   "execution_count": null,
   "id": "399b1c5a",
   "metadata": {},
   "outputs": [],
   "source": [
    "sol = odeint(pend, y0, t, args=(b, c))"
   ]
  },
  {
   "cell_type": "code",
   "execution_count": null,
   "id": "cb4a84de",
   "metadata": {},
   "outputs": [],
   "source": [
    "np.shape(sol)"
   ]
  },
  {
   "cell_type": "code",
   "execution_count": null,
   "id": "85e61256",
   "metadata": {},
   "outputs": [],
   "source": [
    "plt.plot(t, sol[:, 0], 'b', label=r'$\\theta(t)$')\n",
    "plt.plot(t, sol[:, 1], 'g', label=r'$\\omega(t)$')\n",
    "plt.legend(loc='best')\n",
    "plt.xlabel('t')\n",
    "plt.grid()\n",
    "plt.show()"
   ]
  },
  {
   "cell_type": "code",
   "execution_count": null,
   "id": "35212a51",
   "metadata": {},
   "outputs": [],
   "source": [
    "#runge kutta\n",
    "def rungekutta1(f, y0, t, args=()):\n",
    "    n = len(t)\n",
    "    y = np.zeros((n, len(y0)))\n",
    "    y[0] = y0\n",
    "    for i in range(n - 1):\n",
    "        y[i+1] = y[i] + (t[i+1] - t[i])*np.array(f(y[i], t[i], *args))\n",
    "        #print(type(t[i]))\n",
    "        #print (np.array(f(y[i], t[i], *args)))\n",
    "    return y"
   ]
  },
  {
   "cell_type": "code",
   "execution_count": null,
   "id": "b90121b9",
   "metadata": {},
   "outputs": [],
   "source": [
    "sol = rungekutta1(pend, y0, t, args=(b, c))"
   ]
  },
  {
   "cell_type": "code",
   "execution_count": null,
   "id": "a18799f1",
   "metadata": {},
   "outputs": [],
   "source": [
    "plt.plot(t,sol)"
   ]
  },
  {
   "cell_type": "code",
   "execution_count": null,
   "id": "5eca7370",
   "metadata": {},
   "outputs": [],
   "source": [
    "#y'=cos t\n",
    "def sin(y, t):\n",
    "    dydt = np.cos(t)\n",
    "    return dydt"
   ]
  },
  {
   "cell_type": "code",
   "execution_count": null,
   "id": "22d693e7",
   "metadata": {},
   "outputs": [],
   "source": [
    "sol2 = odeint(sin, 0, t)"
   ]
  },
  {
   "cell_type": "code",
   "execution_count": null,
   "id": "91ab273b",
   "metadata": {},
   "outputs": [],
   "source": [
    "plt.plot(t, sol2, 'b', label=r'$\\theta(t)$')\n",
    "plt.legend(loc='best')\n",
    "plt.xlabel('t')\n",
    "plt.grid()\n",
    "plt.show()"
   ]
  },
  {
   "cell_type": "code",
   "execution_count": null,
   "id": "cb17f9a4",
   "metadata": {},
   "outputs": [],
   "source": [
    "#runge kutta\n",
    "def rungekutta1(f, y0, t, args=()):\n",
    "    n = len(t)\n",
    "    y = np.zeros(n)\n",
    "    y[0] = y0\n",
    "    for i in range(n - 1):\n",
    "        y[i+1] = y[i] + (t[i+1] - t[i]) * f(y[i], t[i])\n",
    "    return y"
   ]
  },
  {
   "cell_type": "code",
   "execution_count": null,
   "id": "bb1c7f4f",
   "metadata": {},
   "outputs": [],
   "source": [
    "y0 = 0"
   ]
  },
  {
   "cell_type": "code",
   "execution_count": null,
   "id": "56952356",
   "metadata": {},
   "outputs": [],
   "source": [
    "# choose numsteps\n",
    "numsteps = 10\n",
    "t = np.linspace(0,10,numsteps)"
   ]
  },
  {
   "cell_type": "code",
   "execution_count": null,
   "id": "cc353615",
   "metadata": {},
   "outputs": [],
   "source": [
    "sol = rungekutta1(sin, y0, t)"
   ]
  },
  {
   "cell_type": "code",
   "execution_count": null,
   "id": "9b12703e",
   "metadata": {},
   "outputs": [],
   "source": [
    "plt.plot(t, sol, 'm', label=r'$\\theta(t)$')\n",
    "plt.legend(loc='best')\n",
    "plt.xlabel('t')\n",
    "plt.grid()\n",
    "plt.show()"
   ]
  },
  {
   "attachments": {},
   "cell_type": "markdown",
   "id": "59d3994e",
   "metadata": {},
   "source": [
    "## Runge-Kutta for multiple initial conditions"
   ]
  },
  {
   "cell_type": "code",
   "execution_count": null,
   "id": "b678f987",
   "metadata": {},
   "outputs": [],
   "source": [
    "# Let us improve runge kutta\n",
    "def rungekutta_mult(f, y0, t, args=()):\n",
    "    n = len(t)\n",
    "    y = np.zeros((len(y0), n))\n",
    "    y[:, 0] = y0\n",
    "    for i in range(n - 1):\n",
    "        y[:, i+1] = y[:, i] + (t[i+1] - t[i]) * f(y[:, i], t[i])\n",
    "    return y\n",
    "\n",
    "def solve( y0 ):\n",
    "  y = np.zeros( (len(y0), N))\n",
    "  y[:,0] = y0\n",
    "  for i in range(1,N):\n",
    "    t_i = i*dt\n",
    "    dy = dt*y_prime( t_i, y[:,i-1] )\n",
    "    y[:, i] = y[:, i-1] + dy\n",
    "  #\n",
    "  return y"
   ]
  },
  {
   "cell_type": "code",
   "execution_count": null,
   "id": "b7e42dd6",
   "metadata": {},
   "outputs": [],
   "source": [
    "y0 = np.random.rand(10)"
   ]
  },
  {
   "cell_type": "code",
   "execution_count": null,
   "id": "bbb68961",
   "metadata": {},
   "outputs": [],
   "source": [
    "solutions = rungekutta_mult(sin, y0, t)\n",
    "#solutions = rungekutta1(sin, y0, t)"
   ]
  },
  {
   "cell_type": "code",
   "execution_count": null,
   "id": "224e5237",
   "metadata": {},
   "outputs": [],
   "source": [
    "import matplotlib.pyplot as plt\n",
    "\n",
    "plt.plot( solutions.T )\n",
    "plt.title( \"Curves solutions to the ODE\")\n",
    "plt.xlabel( \"Time t\")"
   ]
  },
  {
   "cell_type": "code",
   "execution_count": null,
   "id": "84b7b98e",
   "metadata": {},
   "outputs": [],
   "source": [
    "#Next thing is to try runge kutta for geodesics ode\n",
    "#Let us first try to compute geodesics on a sphere or any simpe 2-manifold\n",
    "import numpy as np\n",
    "u = np.zeros(2)\n",
    "phi, theta = u"
   ]
  },
  {
   "cell_type": "code",
   "execution_count": null,
   "id": "901b8a25",
   "metadata": {},
   "outputs": [],
   "source": [
    "#Christoffel symbols\n",
    "#u = np.zeros(2)\n",
    "R = 3\n",
    "def g (u): #metrics on sphere\n",
    "    phi, theta = u\n",
    "    g = (R**2)*np.array([[np.cos(theta)**2, 0],[0, 1]])\n",
    "    return g"
   ]
  },
  {
   "cell_type": "code",
   "execution_count": null,
   "id": "8fd681ff",
   "metadata": {},
   "outputs": [],
   "source": [
    "# check\n",
    "g = g([0,np.pi/4])"
   ]
  },
  {
   "cell_type": "code",
   "execution_count": null,
   "id": "a0df4341",
   "metadata": {},
   "outputs": [],
   "source": [
    "g"
   ]
  },
  {
   "cell_type": "code",
   "execution_count": null,
   "id": "6813c688",
   "metadata": {},
   "outputs": [],
   "source": [
    "def g_inv (u): #inverse metrics on sphere\n",
    "    phi, theta = u\n",
    "    g_inv = (1/R**2)*np.array([[1/np.cos(theta)**2, 0],[0, 1]])\n",
    "    return g_inv"
   ]
  },
  {
   "cell_type": "code",
   "execution_count": null,
   "id": "7ed0624b",
   "metadata": {},
   "outputs": [],
   "source": [
    "# check\n",
    "g_inv([0,np.pi/4])"
   ]
  },
  {
   "cell_type": "code",
   "execution_count": null,
   "id": "d69a2d9f",
   "metadata": {},
   "outputs": [],
   "source": [
    "# alternative way to inverse matrix via linalg\n",
    "h = np.linalg.inv(g)"
   ]
  },
  {
   "cell_type": "code",
   "execution_count": null,
   "id": "b2a296be",
   "metadata": {},
   "outputs": [],
   "source": [
    "h"
   ]
  },
  {
   "cell_type": "code",
   "execution_count": null,
   "id": "36554cbb",
   "metadata": {},
   "outputs": [],
   "source": [
    "#derivatives of metrics on sphere\n",
    "def dgdphi (u): #dg/dphi\n",
    "    phi, theta = u\n",
    "    g = np.array([[0, 0],[0, 0]])\n",
    "    return g\n",
    "def dgdtheta (u): #dg/dtheta\n",
    "    phi, theta = u\n",
    "    g = np.array([[-R**2*np.sin(2*theta), 0],[0, 0]])\n",
    "    return g"
   ]
  },
  {
   "cell_type": "code",
   "execution_count": null,
   "id": "e07c4c79",
   "metadata": {},
   "outputs": [],
   "source": [
    "def dg (u): #dg\n",
    "    phi, theta = u\n",
    "    g = np.array([[[0, 0],\n",
    "                   [0, 0]],\n",
    "                  [[-R**2*np.sin(2*theta), 0],\n",
    "                   [0, 0]]])\n",
    "    return g"
   ]
  },
  {
   "cell_type": "code",
   "execution_count": null,
   "id": "e2f38feb",
   "metadata": {},
   "outputs": [],
   "source": [
    "dgdtheta([0,np.pi/4])"
   ]
  },
  {
   "cell_type": "code",
   "execution_count": null,
   "id": "6dfb0401",
   "metadata": {},
   "outputs": [],
   "source": [
    "dg([0,np.pi/4])[1,0,0] #first index is the index of the variable wrt which we differentiate"
   ]
  },
  {
   "cell_type": "code",
   "execution_count": null,
   "id": "64a58ded",
   "metadata": {},
   "outputs": [],
   "source": [
    "#Christoffel symbols at a point u = phi , theta\n",
    "def Ch(u):\n",
    "    Ch = np.zeros((2,2,2))\n",
    "    for i in range(2):\n",
    "        for j in range(2):\n",
    "            for l in range(2):\n",
    "                for k in range(2):\n",
    "                    Ch[l,i,j] += 0.5 * g_inv(u)[l,k] * (dg(u)[i,k,j] + dg(u)[j,i,k] - dg(u)[k,i,j]) #Ch^l_ij\n",
    "    return Ch"
   ]
  },
  {
   "cell_type": "code",
   "execution_count": null,
   "id": "506508cb",
   "metadata": {},
   "outputs": [],
   "source": [
    "Ch([0,np.pi/4])"
   ]
  },
  {
   "cell_type": "code",
   "execution_count": null,
   "id": "e4a7931a",
   "metadata": {},
   "outputs": [],
   "source": [
    "#computing geodesics...\n",
    "# y = [u , v]\n",
    "# v := dot(u)\n",
    "# dot(v)^l = Ch^l_ij * v^i * v^j\n",
    "def geod(y, t):\n",
    "    #u, v = y\n",
    "    u = y[0:2:]\n",
    "    v = y[2::]\n",
    "    dudt = v\n",
    "    dvdt = np.zeros(2)\n",
    "    for l in range(2):\n",
    "        for i in range(2):\n",
    "            for j in range(2):\n",
    "                dvdt[l] -= Ch(u)[l,i,j] * v[i] * v[j]\n",
    "    dydt = np.concatenate((dudt, dvdt))\n",
    "    return dydt"
   ]
  },
  {
   "cell_type": "code",
   "execution_count": null,
   "id": "a578f764",
   "metadata": {},
   "outputs": [],
   "source": [
    "#\\phi is the andle to some fixed meridin (longitude), \\theta is the angle to the equator (lattitude)\n",
    "# u = \\phi, \\theta\n",
    "u0 = [0.1, 0.0] # initial position in local coord \\phi, \\theta\n",
    "v0 = [0.0, 1.0] # initial speed\n",
    "y0 = np.concatenate((u0,v0))"
   ]
  },
  {
   "cell_type": "code",
   "execution_count": null,
   "id": "5fb362d8",
   "metadata": {},
   "outputs": [],
   "source": [
    "y0"
   ]
  },
  {
   "cell_type": "code",
   "execution_count": null,
   "id": "5aa435fa",
   "metadata": {},
   "outputs": [],
   "source": [
    "t = np.linspace(0, 2, 21)"
   ]
  },
  {
   "cell_type": "code",
   "execution_count": null,
   "id": "0e8ddba7",
   "metadata": {},
   "outputs": [],
   "source": [
    "sol = odeint(geod, y0, t)"
   ]
  },
  {
   "cell_type": "code",
   "execution_count": null,
   "id": "231c263a",
   "metadata": {},
   "outputs": [],
   "source": [
    "np.shape(sol)"
   ]
  },
  {
   "cell_type": "code",
   "execution_count": null,
   "id": "7a62f6cc",
   "metadata": {},
   "outputs": [],
   "source": [
    "sol"
   ]
  },
  {
   "cell_type": "code",
   "execution_count": null,
   "id": "58a54908",
   "metadata": {},
   "outputs": [],
   "source": [
    "#draw the graphs of solutions phi and theta\n",
    "plt.plot(t, sol[:, 0], 'b', label=r'$\\phi(t)$')\n",
    "plt.plot(t, sol[:, 1], 'g', label=r'$\\theta(t)$')\n",
    "plt.legend(loc='best')\n",
    "plt.xlabel('t')\n",
    "plt.grid()\n",
    "plt.show()\n",
    "#this should be like a meridian"
   ]
  },
  {
   "cell_type": "code",
   "execution_count": null,
   "id": "5828e247",
   "metadata": {},
   "outputs": [],
   "source": [
    "plt.plot (sol[:, 0], sol[:, 1])\n",
    "plt.grid()\n",
    "plt.show()"
   ]
  },
  {
   "cell_type": "code",
   "execution_count": null,
   "id": "bf8300bb",
   "metadata": {},
   "outputs": [],
   "source": [
    "#runge kutta\n",
    "def rungekutta1(f, y0, t, args=()):\n",
    "    n = len(t)\n",
    "    y = np.zeros((n, len(y0)))\n",
    "    y[0] = y0\n",
    "    for i in range(n - 1):\n",
    "        y[i+1] = y[i] + (t[i+1] - t[i])*f(y[i], t[i], *args)\n",
    "        print(y[i])\n",
    "    return y\n",
    "sol = rungekutta1(geod, y0, t)"
   ]
  },
  {
   "attachments": {},
   "cell_type": "markdown",
   "id": "20344cc8",
   "metadata": {},
   "source": [
    "## Vectorization of Christoffel symbols and metric derivatives"
   ]
  },
  {
   "cell_type": "code",
   "execution_count": null,
   "id": "1f4b2878",
   "metadata": {},
   "outputs": [],
   "source": [
    "# let us compute everithing on a grid. i.e. first dimension would give us the index of the node on the vectorized grid\n",
    "import torch\n",
    "def g (u): #metrics on a grid\n",
    "    # u is the vector of points\n",
    "    R = 3 #Radius\n",
    "    phi = u[:,0]\n",
    "    theta = u[:, 1]\n",
    "    n = u.shape[0] #number of points\n",
    "    g = torch.zeros((n,2,2))\n",
    "    #g11 = torch.cos(theta)**2\n",
    "    #g12 = torch.zeros(n)\n",
    "    #g21 = torch.zeros(n)\n",
    "    #g22 = torch.ones(n)\n",
    "\n",
    "    #hyperbolic metric on a half plane\n",
    "    g11 = 1/theta**2\n",
    "    g12 = torch.zeros(n)\n",
    "    g21 = torch.zeros(n)\n",
    "    g22 = 1/theta**2\n",
    "\n",
    "    g = torch.cat((g11, g12, g21, g22)).view(4,n)\n",
    "    g = g.T\n",
    "    g = g.view(n, 2, 2)\n",
    "    #g = (R**2)*g\n",
    "    #g = (R**2)*torch.tensor([[torch.cos(theta)**2, 0],[0, 1]])\n",
    "    return g"
   ]
  },
  {
   "cell_type": "code",
   "execution_count": null,
   "id": "4892ced9",
   "metadata": {},
   "outputs": [],
   "source": [
    "g(torch.tensor([[0.,0.1],[0.,0.1],[0.,1.]]))"
   ]
  },
  {
   "cell_type": "code",
   "execution_count": null,
   "id": "cc733b65",
   "metadata": {},
   "outputs": [],
   "source": [
    "u = torch.tensor([[0.,0.],[0.,0.],[0.,1.]])"
   ]
  },
  {
   "cell_type": "code",
   "execution_count": null,
   "id": "549ece9f",
   "metadata": {},
   "outputs": [],
   "source": [
    "theta = u[:, 1]\n",
    "theta"
   ]
  },
  {
   "cell_type": "code",
   "execution_count": null,
   "id": "781fe15d",
   "metadata": {},
   "outputs": [],
   "source": [
    "1/theta**2"
   ]
  },
  {
   "cell_type": "code",
   "execution_count": null,
   "id": "c20c7b4a",
   "metadata": {},
   "outputs": [],
   "source": [
    "numsteps = 3\n",
    "xs = torch.linspace(-1, 1, steps = numsteps)\n",
    "ys = torch.linspace(-1, 1, steps = numsteps)\n",
    "grid = torch.cartesian_prod(xs,ys)"
   ]
  },
  {
   "cell_type": "code",
   "execution_count": null,
   "id": "80bb0ac0",
   "metadata": {},
   "outputs": [],
   "source": [
    "grid.shape"
   ]
  },
  {
   "cell_type": "code",
   "execution_count": null,
   "id": "edde7b57",
   "metadata": {},
   "outputs": [],
   "source": [
    "yy = g(grid)"
   ]
  },
  {
   "cell_type": "code",
   "execution_count": null,
   "id": "7250ba1c",
   "metadata": {},
   "outputs": [],
   "source": [
    "yy"
   ]
  },
  {
   "cell_type": "code",
   "execution_count": null,
   "id": "99e0627a",
   "metadata": {},
   "outputs": [],
   "source": [
    "torch.cat((yy,yy),1).view(9,2,2,2)"
   ]
  },
  {
   "cell_type": "code",
   "execution_count": null,
   "id": "bef5e48e",
   "metadata": {},
   "outputs": [],
   "source": [
    "torch.inverse(yy) # inverts several matrices at once!!"
   ]
  },
  {
   "cell_type": "code",
   "execution_count": null,
   "id": "164024c1",
   "metadata": {},
   "outputs": [],
   "source": [
    "# metric derivatives on a grid for hyperbolic metric\n",
    "def dg (u): #dg\n",
    "    #phi, theta = u\n",
    "    #think of x = phi, y = theta\n",
    "    # u is the vector of points\n",
    "    R = 3 #Radius\n",
    "    phi = u[:,0]\n",
    "    theta = u[:, 1]\n",
    "    n = u.shape[0] #number of points\n",
    "    g = torch.zeros((n,2,2,2))\n",
    "    \n",
    "    #x derivatives of g\n",
    " \n",
    "    gx11 = torch.zeros(n)\n",
    "    gx12 = torch.zeros(n)\n",
    "    gx21 = torch.zeros(n)\n",
    "    gx22 = torch.zeros(n)\n",
    "\n",
    "    gx = torch.cat((gx11, gx12, gx21, gx22)).view(4,n)\n",
    "    gx = gx.T\n",
    "    gx = gx.view(n, 2, 2)\n",
    "    \n",
    "    #y derivatives of g\n",
    "    \n",
    "    #gy11 = -R**2*torch.sin(2*theta)\n",
    "    gy11 = -2/theta**3\n",
    "    gy12 = torch.zeros(n)\n",
    "    gy21 = torch.zeros(n)\n",
    "    gy22 = -2/theta**3\n",
    "    #gy22 = torch.zeros(n)\n",
    "\n",
    "    gy = torch.cat((gy11, gy12, gy21, gy22)).view(4,n)\n",
    "    gy = gy.T\n",
    "    gy = gy.view(n, 2, 2)\n",
    "\n",
    "    dg = torch.cat((gx,gy),1).view(n,2,2,2)\n",
    "    #g = np.array([[[0, 0],\n",
    "    #               [0, 0]],\n",
    "    #              [[-R**2*np.sin(2*theta), 0],\n",
    "    #               [0, 0]]])\n",
    "    return dg"
   ]
  },
  {
   "cell_type": "code",
   "execution_count": null,
   "id": "a7e446cd",
   "metadata": {},
   "outputs": [],
   "source": [
    "dg(grid[:3])"
   ]
  },
  {
   "cell_type": "code",
   "execution_count": null,
   "id": "837d83ac",
   "metadata": {},
   "outputs": [],
   "source": [
    "#Christoffel symbols at a vector of points  u = num of points, phi , theta\n",
    "#this code does not use loops\n",
    "def Ch(u):\n",
    "    #phi = u[:,0]\n",
    "    #theta = u[:, 1]\n",
    "    n = u.shape[0]\n",
    "    Ch = torch.zeros((n, 2,2,2))\n",
    "    for i in range(2):\n",
    "        for j in range(2):\n",
    "            for l in range(2):\n",
    "                for k in range(2):\n",
    "                    Ch[:,l,i,j] += 0.5 * torch.inverse(g(u))[:,l,k] * (dg(u)[:,i,k,j] + dg(u)[:,j,i,k] - dg(u)[:,k,i,j]) #Ch^l_ij\n",
    "                    #Ch[l,i,j] += 0.5 * g_inv(u)[l,k] * (dg(u)[i,k,j] + dg(u)[j,i,k] - dg(u)[k,i,j]) #Ch^l_ij\n",
    "    return Ch"
   ]
  },
  {
   "cell_type": "code",
   "execution_count": null,
   "id": "a37389c7",
   "metadata": {},
   "outputs": [],
   "source": [
    "Ch(grid)"
   ]
  },
  {
   "cell_type": "code",
   "execution_count": null,
   "id": "b3c33694",
   "metadata": {},
   "outputs": [],
   "source": [
    "Ch(torch.tensor([[0.,0.]]))"
   ]
  },
  {
   "cell_type": "code",
   "execution_count": null,
   "id": "a8e45768",
   "metadata": {},
   "outputs": [],
   "source": [
    "u0 = torch.tensor([0.0, 0.1]) # initial position in local coord \\phi, \\theta\n",
    "v0 = torch.tensor([1.0, 0.0]) # initial speed\n",
    "y0 = torch.cat((u0,v0)).view(1,4)\n",
    "t = torch.linspace(0, 2, steps = 21)"
   ]
  },
  {
   "cell_type": "code",
   "execution_count": null,
   "id": "eb4c018f",
   "metadata": {},
   "outputs": [],
   "source": [
    "y0.shape"
   ]
  },
  {
   "cell_type": "code",
   "execution_count": null,
   "id": "b36f2fb9",
   "metadata": {},
   "outputs": [],
   "source": [
    "t = torch.linspace(0, 2, steps = 21)"
   ]
  },
  {
   "cell_type": "code",
   "execution_count": null,
   "id": "6e89837b",
   "metadata": {},
   "outputs": [],
   "source": [
    "#computing geodesics...\n",
    "# y has shape num of points, u, v\n",
    "# v := dot(u)\n",
    "# dot(v)^l = Ch^l_ij * v^i * v^j\n",
    "def geod(y, t):\n",
    "    #u, v = y\n",
    "    n = y.shape[0]\n",
    "    u = y[: , 0:2:]\n",
    "    v = y[: , 2::]\n",
    "    dudt = v\n",
    "    dvdt = torch.zeros(n, 2)\n",
    "    for l in range(2):\n",
    "        for i in range(2):\n",
    "            for j in range(2):\n",
    "                dvdt[:, l] -= Ch(u)[:, l,i,j] * v[:, i] * v[:, j]\n",
    "    dydt = torch.cat((dudt.T, dvdt.T)).T\n",
    "    # dydt = np.concatenate((dudt, dvdt))\n",
    "    return dydt"
   ]
  },
  {
   "cell_type": "code",
   "execution_count": null,
   "id": "2ba241b3",
   "metadata": {},
   "outputs": [],
   "source": [
    "geod(y0,t)"
   ]
  },
  {
   "cell_type": "code",
   "execution_count": null,
   "id": "f03c8cca",
   "metadata": {},
   "outputs": [],
   "source": [
    "h = torch.rand(10,4)"
   ]
  },
  {
   "cell_type": "code",
   "execution_count": null,
   "id": "3dc56d8a",
   "metadata": {},
   "outputs": [],
   "source": [
    "geod(h,t)"
   ]
  },
  {
   "cell_type": "code",
   "execution_count": null,
   "id": "d6abbeb3",
   "metadata": {},
   "outputs": [],
   "source": [
    "#runge kutta for many initial conditions\n",
    "def rungekutta_new(f, y0, t, args=()):\n",
    "    nt = len(t) # number of steps in time\n",
    "    # len(y0[0]) is the number of initial conditions\n",
    "    # len(y0[1]) is the dimention of the state space. In our case it is 4 \n",
    "    y = torch.zeros((nt, y0.shape[0],y0.shape[1]))\n",
    "    y[0,:,:] = y0\n",
    "    for i in range(nt - 1):\n",
    "        y[i+1,:,:] = y[i,:,:] + (t[i+1] - t[i])*f(y[i,:,:], t[i], *args)\n",
    "        print(y[i,:,:])\n",
    "    return y"
   ]
  },
  {
   "cell_type": "code",
   "execution_count": null,
   "id": "0b925cc2",
   "metadata": {},
   "outputs": [],
   "source": [
    "sol0 = rungekutta_new(geod, y0, t)\n",
    "#solrand = rungekutta_new(geod, h, t)"
   ]
  },
  {
   "cell_type": "code",
   "execution_count": null,
   "id": "d72d57ed",
   "metadata": {},
   "outputs": [],
   "source": [
    "\n",
    "import matplotlib.pyplot as plt\n",
    "\n",
    "#plt.plot(t, solrand[:, :, 0], 'b', label=r'$\\phi(t)$')\n",
    "plt.plot(sol0[:, :, 0], sol0[:, :, 1], 'g', label=r'$\\theta(t)$')\n",
    "#plt.plot(t, solrand[:, :, 1], 'g', label=r'$\\theta(t)$')\n",
    "#plt.legend(loc='best')\n",
    "#plt.plot( sol.T )\n",
    "plt.title( \"Parametric plots of the coordinates of geodesics\")\n",
    "plt.xlabel( \"Time t\")\n",
    "plt.grid()"
   ]
  },
  {
   "cell_type": "code",
   "execution_count": null,
   "id": "625f9e05",
   "metadata": {},
   "outputs": [],
   "source": [
    "plt.plot(solrand[:, :, 0], solrand[:, :, 1])\n",
    "#plt.plot(t, solrand[:, :, 1], 'g', label=r'$\\theta(t)$')\n",
    "#plt.legend(loc='best')\n",
    "#plt.plot( sol.T )\n",
    "plt.title( \"Plots of geodesics with random initial conditions\")\n",
    "plt.xlabel( \"x coordinate\")\n",
    "plt.ylabel( \"y coordinate\")\n",
    "plt.grid()"
   ]
  },
  {
   "cell_type": "code",
   "execution_count": null,
   "id": "737e5529",
   "metadata": {},
   "outputs": [],
   "source": []
  }
 ],
 "metadata": {
  "kernelspec": {
   "display_name": "Python 3 (ipykernel)",
   "language": "python",
   "name": "python3"
  },
  "language_info": {
   "codemirror_mode": {
    "name": "ipython",
    "version": 3
   },
   "file_extension": ".py",
   "mimetype": "text/x-python",
   "name": "python",
   "nbconvert_exporter": "python",
   "pygments_lexer": "ipython3",
   "version": "3.7.16"
  }
 },
 "nbformat": 4,
 "nbformat_minor": 5
}
