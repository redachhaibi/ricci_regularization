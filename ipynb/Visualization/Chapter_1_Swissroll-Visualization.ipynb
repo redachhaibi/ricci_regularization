{
 "cells": [
  {
   "cell_type": "markdown",
   "metadata": {},
   "source": [
    "NB! Umap installation required. Type: 'pip install umap-learn'.\n",
    "\n",
    "This notebook visualises the Swissroll dataset and compares its embedding into a pre-trained AE latent space to standard dimensionality reduction techniques such as:\n",
    "\n",
    "0) PCA https://pytorch.org/docs/stable/generated/torch.pca_lowrank.html\n",
    "1) LLE https://cs.nyu.edu/~roweis/lle/papers/lleintroa4.pdf\n",
    "2) t-SNE https://en.wikipedia.org/wiki/T-distributed_stochastic_neighbor_embedding\n",
    "3) UMAP https://umap-learn.readthedocs.io/en/latest/"
   ]
  },
  {
   "cell_type": "code",
   "execution_count": null,
   "metadata": {},
   "outputs": [],
   "source": [
    "# Minimal imports\n",
    "import math\n",
    "import torch\n",
    "import matplotlib.pyplot as plt\n",
    "\n",
    "import ricci_regularization\n",
    "\n",
    "\n",
    "import yaml\n",
    "from sklearn import datasets\n",
    "from tqdm.notebook import tqdm\n",
    "\n",
    "\n",
    "import matplotlib.pyplot as plt\n",
    "from sklearn import datasets, manifold\n",
    "import torch\n",
    "import math"
   ]
  },
  {
   "cell_type": "code",
   "execution_count": null,
   "metadata": {},
   "outputs": [],
   "source": [
    "Path_pictures = f\"../plots/\"\n",
    "\n",
    "alpha = 0.5 # point opacity\n",
    "n_samples=18000\n",
    "sr_points, sr_color = datasets.make_swiss_roll(n_samples=n_samples, noise=0.05,random_state=1)"
   ]
  },
  {
   "cell_type": "code",
   "execution_count": null,
   "metadata": {},
   "outputs": [],
   "source": [
    "points_tensor = torch.tensor(sr_points)\n",
    "cov_matrix = torch.cov(points_tensor.T)\n",
    "print(\"Covariance matrix:\\n\", cov_matrix)\n",
    "mean = points_tensor.mean(dim=0)\n",
    "print(\"Mean vector:\", mean)"
   ]
  },
  {
   "cell_type": "code",
   "execution_count": null,
   "metadata": {},
   "outputs": [],
   "source": [
    "import numpy as np\n",
    "N = 1000\n",
    "noise = 0.05\n",
    "\n",
    "t = 3*np.pi/2 * (1 + 2*np.random.rand(1,N))\n",
    "h = 21 * np.random.rand(1,N)\n",
    "data = np.concatenate((t*np.cos(t),h,t*np.sin(t))) + noise*np.random.randn(3,N)\t\n",
    "#np.transpose(data), np.squeeze(t)"
   ]
  },
  {
   "cell_type": "code",
   "execution_count": null,
   "metadata": {},
   "outputs": [],
   "source": [
    "norms = torch.tensor(sr_points).norm(dim = 1)"
   ]
  },
  {
   "cell_type": "code",
   "execution_count": null,
   "metadata": {},
   "outputs": [],
   "source": [
    "min = norms.min()"
   ]
  },
  {
   "cell_type": "code",
   "execution_count": null,
   "metadata": {},
   "outputs": [],
   "source": [
    "max= norms.max()"
   ]
  },
  {
   "cell_type": "code",
   "execution_count": null,
   "metadata": {},
   "outputs": [],
   "source": [
    "mean = norms.mean()\n",
    "std = norms.std()"
   ]
  },
  {
   "cell_type": "code",
   "execution_count": null,
   "metadata": {},
   "outputs": [],
   "source": [
    "plt.hist(norms)\n",
    "plt.title(\"Histogram of norms of all points of the swiss roll\")\n",
    "plt.show()\n",
    "print(f\"Norms vary between {min:0.2f} and {max:0.2f} \\n with mean: {mean:0.2f} and std dev: {std:0.2f} \")"
   ]
  },
  {
   "cell_type": "code",
   "execution_count": null,
   "metadata": {},
   "outputs": [],
   "source": [
    "plt.title(\"Histogram of norms of normalized points of the swiss roll\")\n",
    "plt.hist((norms-mean)/std)\n",
    "plt.show()"
   ]
  },
  {
   "cell_type": "markdown",
   "metadata": {},
   "source": [
    "## resampling for plots"
   ]
  },
  {
   "cell_type": "code",
   "execution_count": null,
   "metadata": {},
   "outputs": [],
   "source": [
    "sr_points, sr_color = datasets.make_swiss_roll(n_samples=round(n_samples*0.2), noise=0.05,random_state=1)"
   ]
  },
  {
   "cell_type": "code",
   "execution_count": null,
   "metadata": {},
   "outputs": [],
   "source": [
    "fig = plt.figure(figsize=(9,9),dpi=400)\n",
    "plt.rcParams.update({'font.size': 20}) # makes all fonts on the plot be 20\n",
    "\n",
    "ax = fig.add_subplot(projection='3d')\n",
    "p = ax.scatter(sr_points[:,0],\n",
    "           sr_points[:,1],\n",
    "           sr_points[:,2],\n",
    "           c=sr_color, s=40, alpha = alpha,cmap='jet')\n",
    "#plt.title(\"Swiss roll dataset in 3d\",fontsize=20)\n",
    "#plt.colorbar(p, label=\"sr_color\", shrink = 0.5,location=\"left\")\n",
    "ax.view_init(azim=-70, elev=15)\n",
    "\n",
    "ax.xaxis.pane.fill = False\n",
    "ax.yaxis.pane.fill = False\n",
    "ax.zaxis.pane.fill = False\n",
    "\n",
    "# Now set color to white (or whatever is \"invisible\")\n",
    "ax.xaxis.pane.set_edgecolor('w')\n",
    "ax.yaxis.pane.set_edgecolor('w')\n",
    "ax.zaxis.pane.set_edgecolor('w')\n",
    "\n",
    "\n",
    "ax.grid(True)\n",
    "\n",
    "#plt.savefig(f'{Path_pictures}/swissroll3d_cbar.pdf',bbox_inches='tight',format='pdf')\n",
    "#plt.savefig(f'{Path_pictures}/swissroll3d.pdf',bbox_inches='tight',format='pdf')\n",
    "plt.show()"
   ]
  },
  {
   "cell_type": "markdown",
   "metadata": {},
   "source": [
    "### The solution of unrolling the doe"
   ]
  },
  {
   "cell_type": "code",
   "execution_count": null,
   "metadata": {},
   "outputs": [],
   "source": [
    "colors_tensor = torch.from_numpy(sr_color)\n",
    "#colors_normalized = torch.nn.functional.normalize(colors_tensor,dim=0)\n",
    "y_tensor = torch.from_numpy(sr_points[:,1])\n",
    "#y_normalized = torch.nn.functional.normalize(y_tensor,dim=0)\n",
    "fig = plt.figure(figsize=(9,9),dpi=400)\n",
    "plt.rcParams.update({'font.size': 20})\n",
    "#plt.figure(figsize=(20,10),dpi=100)\n",
    "#plt.title(\"The unrolled swiss roll: projection on the\\n 2nd and the 4th coordinate (the color)\")\n",
    "#plt.xlabel(\"the y-coordinate of sr_points\")\n",
    "#plt.ylabel(\"sr_color\")\n",
    "#plt.scatter(y_normalized,colors_normalized,c=sr_color)\n",
    "plt.scatter(y_tensor,colors_tensor,c=sr_color,cmap='jet',s=40,alpha=alpha)\n",
    "#plt.savefig(f'{Path_pictures}/swissroll_solution.pdf',bbox_inches='tight',format='pdf')\n",
    "plt.show()"
   ]
  },
  {
   "cell_type": "markdown",
   "metadata": {},
   "source": [
    "# PCA"
   ]
  },
  {
   "cell_type": "code",
   "execution_count": null,
   "metadata": {},
   "outputs": [],
   "source": [
    "u,s,v = torch.pca_lowrank(torch.tensor(sr_points),q=2)"
   ]
  },
  {
   "cell_type": "code",
   "execution_count": null,
   "metadata": {},
   "outputs": [],
   "source": [
    "plt.figure(figsize=(9,9),dpi=400)\n",
    "plt.rcParams.update({'font.size': 20}) # makes all fonts on the plot be 20\n",
    "plt.scatter( u[:,0], u[:,1], c=sr_color, s= 40,alpha=alpha, cmap='jet',marker='o',edgecolors=None )\n",
    "#plt.title( \"PCA embedding of the swiss roll\")\n",
    "#plt.colorbar(orientation='vertical',shrink = 0.7)\n",
    "#plt.savefig(f'{Path_pictures}/swissroll_pca.pdf',bbox_inches='tight',format='pdf')\n",
    "plt.show()"
   ]
  },
  {
   "cell_type": "markdown",
   "metadata": {},
   "source": [
    "# LLE "
   ]
  },
  {
   "cell_type": "code",
   "execution_count": null,
   "metadata": {},
   "outputs": [],
   "source": [
    "sr_lle, sr_err = manifold.locally_linear_embedding(\n",
    "    sr_points, n_neighbors=12, n_components=2\n",
    ")\n",
    "\"\"\"\n",
    "fig, axs = plt.subplots(figsize=(8, 8), nrows=2)\n",
    "axs[0].scatter(sr_lle[:, 0], sr_lle[:, 1], c=sr_color)\n",
    "axs[0].set_title(\"LLE Embedding of Swiss Roll\")\n",
    "axs[1].scatter(sr_tsne[:, 0], sr_tsne[:, 1], c=sr_color)\n",
    "_ = axs[1].set_title(\"t-SNE Embedding of Swiss Roll\")\n",
    "\"\"\"\n"
   ]
  },
  {
   "cell_type": "code",
   "execution_count": null,
   "metadata": {},
   "outputs": [],
   "source": [
    "plt.rcParams.update({'font.size': 20})\n",
    "fig = plt.figure(figsize=(9,9),dpi=400)\n",
    "plt.scatter(sr_lle[:, 0], sr_lle[:, 1], c=sr_color,cmap='jet',s=40,alpha=alpha)\n",
    "#plt.title(\"LLE Embedding of the swiss roll\")\n",
    "#plt.savefig(f'{Path_pictures}/swissroll_lle.pdf',bbox_inches='tight',format='pdf')\n",
    "plt.show()"
   ]
  },
  {
   "cell_type": "markdown",
   "metadata": {},
   "source": [
    "# t-SNE"
   ]
  },
  {
   "cell_type": "code",
   "execution_count": null,
   "metadata": {},
   "outputs": [],
   "source": [
    "sr_tsne = manifold.TSNE(n_components=2, perplexity=40, random_state=0).fit_transform(\n",
    "    sr_points\n",
    ")"
   ]
  },
  {
   "cell_type": "code",
   "execution_count": null,
   "metadata": {},
   "outputs": [],
   "source": [
    "fig = plt.figure(figsize=(9,9),dpi=400)\n",
    "plt.rcParams.update({'font.size': 20})\n",
    "plt.scatter(sr_tsne[:, 0], sr_tsne[:, 1], c=sr_color,cmap='jet',s=40,alpha=alpha)\n",
    "#plt.title(\"t-SNE embedding of the swiss roll\")\n",
    "#plt.savefig(f'{Path_pictures}/swissroll_tsne.pdf',bbox_inches='tight',format='pdf')\n",
    "#plt.savefig(f'{Path_pictures}/swissroll_tsne.pdf',bbox_inches='tight',format='pdf')\n",
    "plt.show()"
   ]
  },
  {
   "cell_type": "markdown",
   "metadata": {},
   "source": [
    "# UMAP"
   ]
  },
  {
   "cell_type": "code",
   "execution_count": null,
   "metadata": {},
   "outputs": [],
   "source": [
    "import umap"
   ]
  },
  {
   "cell_type": "code",
   "execution_count": null,
   "metadata": {},
   "outputs": [],
   "source": [
    "mapper = umap.UMAP().fit(sr_points)"
   ]
  },
  {
   "cell_type": "code",
   "execution_count": null,
   "metadata": {},
   "outputs": [],
   "source": [
    "encoded_points = mapper.embedding_"
   ]
  },
  {
   "cell_type": "code",
   "execution_count": null,
   "metadata": {},
   "outputs": [],
   "source": [
    "fig = plt.figure(figsize=(9,9),dpi=400)\n",
    "plt.rcParams.update({'font.size': 20}) # makes all fonts on the plot be 20\n",
    "plt.scatter( encoded_points[:,0], encoded_points[:,1], c=sr_color, s= 40,alpha=alpha, cmap='jet',marker='o',edgecolors=None )\n",
    "#plt.title( \"UMAP embedding of the swiss roll\")\n",
    "#plt.colorbar(orientation='vertical',shrink = 0.7)\n",
    "#plt.savefig(f'{Path_pictures}/swissroll_umap.pdf',bbox_inches='tight',format='pdf')\n",
    "plt.show()"
   ]
  },
  {
   "cell_type": "markdown",
   "metadata": {},
   "source": [
    "# AE latent space"
   ]
  },
  {
   "cell_type": "code",
   "execution_count": null,
   "metadata": {},
   "outputs": [],
   "source": [
    "with open('../../experiments/Swissroll_exp0_config.yaml', 'r') as yaml_file:\n",
    "    yaml_config = yaml.load(yaml_file, Loader=yaml.FullLoader)"
   ]
  },
  {
   "cell_type": "code",
   "execution_count": null,
   "metadata": {},
   "outputs": [],
   "source": [
    "\n",
    "# Load data loaders based on YAML configuration\n",
    "dict = ricci_regularization.DataLoaders.get_dataloaders(\n",
    "    dataset_config=yaml_config[\"dataset\"],\n",
    "    data_loader_config=yaml_config[\"data_loader_settings\"]\n",
    ")\n",
    "train_loader = dict[\"train_loader\"]\n",
    "test_loader = dict[\"test_loader\"]\n",
    "test_dataset = dict.get(\"test_dataset\")  # Assuming 'test_dataset' is a key returned by get_dataloaders\n",
    "\n",
    "print(\"Data loaders created successfully.\")\n",
    "\n",
    "torus_ae = ricci_regularization.DataLoaders.get_tuned_nn(config=yaml_config, additional_path=\"../\")\n",
    "\n",
    "print(\"AE weights loaded successfully.\")"
   ]
  },
  {
   "cell_type": "code",
   "execution_count": null,
   "metadata": {},
   "outputs": [],
   "source": [
    "experiment_name = yaml_config[\"experiment\"][\"name\"]\n",
    "curv_w = yaml_config[\"loss_settings\"][\"lambda_curv\"]\n",
    "\n",
    "dataset_name = yaml_config[\"dataset\"][\"name\"]\n",
    "D = yaml_config[\"architecture\"][\"input_dim\"]\n",
    "# D is the dimension of the dataset\n",
    "if dataset_name in [\"MNIST\", \"MNIST01\", \"Synthetic\"]:\n",
    "    # k from the JSON configuration file is the number of classes\n",
    "    selected_labels = yaml_config[\"dataset\"][\"selected_labels\"]\n",
    "    k = len ( selected_labels )"
   ]
  },
  {
   "cell_type": "markdown",
   "metadata": {},
   "source": [
    "## AE latent space plotting"
   ]
  },
  {
   "cell_type": "code",
   "execution_count": null,
   "metadata": {},
   "outputs": [],
   "source": [
    "# choose train or test loader\n",
    "loader = test_loader\n",
    "#loader = train_loader\n",
    "#zlist = []\n",
    "torus_ae.cpu()\n",
    "colorlist = []\n",
    "enc_list = []\n",
    "input_dataset_list = []\n",
    "recon_dataset_list = []\n",
    "#for (data, labels) in tqdm( test_loader, position=0 ):\n",
    "for (data, labels) in tqdm( loader, position=0 ):\n",
    "    input_dataset_list.append(data)\n",
    "    recon_dataset_list.append(torus_ae(data)[0])\n",
    "    #zlist.append(vae(data)[1])\n",
    "    enc_list.append(torus_ae.encoder_to_lifting(data.view(-1,D)))\n",
    "    colorlist.append(labels) "
   ]
  },
  {
   "cell_type": "code",
   "execution_count": null,
   "metadata": {},
   "outputs": [],
   "source": [
    "#x = torch.cat(zlist)\n",
    "#enc = circle2anglevectorized(x).detach()\n",
    "input_dataset = torch.cat(input_dataset_list)\n",
    "recon_dataset = torch.cat(recon_dataset_list)\n",
    "encoded_points = torch.cat(enc_list)\n",
    "encoded_points_no_grad = encoded_points.detach()\n",
    "color_array = torch.cat(colorlist).detach()\n",
    "#assert torch.equal(enc,enc_tensor)\n",
    "\n",
    "# latent \\in [-1,1]. grid reparametrization for plotting\n",
    "encoded_points_no_grad = encoded_points_no_grad/math.pi"
   ]
  },
  {
   "cell_type": "code",
   "execution_count": null,
   "metadata": {},
   "outputs": [],
   "source": [
    "plt.rcParams.update({'font.size': 20})\n",
    "plt.figure(figsize=(9, 9),dpi=400)\n",
    "\n",
    "if dataset_name == \"Swissroll\":\n",
    "    plt.scatter(encoded_points_no_grad[:,0],encoded_points_no_grad[:,1], c=color_array, marker='o',s=40,alpha=alpha, edgecolor='none', cmap= 'jet')\n",
    "else:\n",
    "    plt.scatter(encoded_points_no_grad[:,0],encoded_points_no_grad[:,1], c=color_array, marker='o', edgecolor='none', cmap=ricci_regularization.discrete_cmap(k, 'jet'))\n",
    "    #plt.colorbar(ticks=range(k))\n",
    "plt.xticks([-1.,-0.5,0.,0.5,1.])\n",
    "plt.yticks([-1.,-0.5,0.,0.5,1.])\n",
    "plt.ylim(-1., 1.)\n",
    "plt.xlim(-1., 1.)\n",
    "plt.grid(True)\n",
    "#if violent_saving == True:\n",
    "#    plt.savefig(f\"{Path_pictures}/latent_space.pdf\",format=\"pdf\",bbox_inches='tight')\n",
    "#plt.savefig(f\"{Path_pictures}/latent_space_{experiment_name}.jpg\",bbox_inches='tight', format=\"pdf\")\n",
    "plt.show()"
   ]
  }
 ],
 "metadata": {
  "kernelspec": {
   "display_name": ".venv_ricci",
   "language": "python",
   "name": "python3"
  },
  "language_info": {
   "codemirror_mode": {
    "name": "ipython",
    "version": 3
   },
   "file_extension": ".py",
   "mimetype": "text/x-python",
   "name": "python",
   "nbconvert_exporter": "python",
   "pygments_lexer": "ipython3",
   "version": "3.10.12"
  }
 },
 "nbformat": 4,
 "nbformat_minor": 2
}
