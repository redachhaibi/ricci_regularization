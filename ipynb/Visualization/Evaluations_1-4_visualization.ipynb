{
 "cells": [
  {
   "cell_type": "code",
   "execution_count": null,
   "metadata": {},
   "outputs": [],
   "source": [
    "import matplotlib.pyplot as plt\n",
    "import torch\n",
    "import numpy as np"
   ]
  },
  {
   "cell_type": "code",
   "execution_count": null,
   "metadata": {},
   "outputs": [],
   "source": [
    "E_1_list = [] # list of values of the 1st functional in each of 3 settings \n",
    "E_2_list = []\n",
    "E_3_list = []\n",
    "geodesic_energy_list_of_arrays = []\n",
    "\n",
    "for i in [1,2,3]:\n",
    "    Path = f'../../experiments/MNIST_Setting_{i}'\n",
    "    loaded_data = torch.load(Path + '/3Functionals.pt')\n",
    "    geodesic_energy_list_of_arrays.append( torch.load( Path + '/geodesic_energy_array.pt') )\n",
    "    E_1_list.append( loaded_data['E^1'].detach() )\n",
    "    E_2_list.append( loaded_data['E^2'].detach() )\n",
    "    E_3_list.append( loaded_data['E^3'].detach() )\n"
   ]
  },
  {
   "cell_type": "code",
   "execution_count": null,
   "metadata": {},
   "outputs": [],
   "source": [
    "Path_pictures = f'../../experiments/MNIST_Setting_3'\n",
    "def plot_3histograms(list_of_arrays, samples_name, xlim,  bins = 30, automatic_ticks = False):\n",
    "    #list_of_arrays = [arr[arr <= xlim].detach() for arr in list_of_arrays]\n",
    "    plt.rcParams.update({'font.size': 20})\n",
    "    plt.figure(figsize=(12, 9),dpi=400)\n",
    "    \n",
    "    # find maximal element of all the three arrays of values over settings 1-3\n",
    "    range_max = max([torch.max(list_of_arrays[m]) for m in range(3)]).item()\n",
    "    range_min = min([torch.min(list_of_arrays[m]) for m in range(3)]).item()\n",
    "    \n",
    "    # Plot the first histogram\n",
    "    plt.hist(list_of_arrays[0].detach(), bins=bins, range=(range_min, range_max), color='yellow', alpha=0.6, label='Setting 1',zorder = 10)    \n",
    "\n",
    "    # Plot the second histogram\n",
    "    plt.hist(list_of_arrays[1].detach(), bins=bins, range=(range_min, range_max), color='blue', alpha=0.6, label='Setting 2', zorder = 0)\n",
    "    \n",
    "    # Plot the third histogram\n",
    "    plt.hist(list_of_arrays[2].detach(), bins=bins, range=(range_min, range_max), color='green', alpha=1.0, label='Setting 3',zorder=-1)\n",
    "    \n",
    "    # Add labels and title\n",
    "    plt.ylabel('Frequency')\n",
    "    plt.xlabel('Values')\n",
    "    plt.xlim(range_min, xlim)\n",
    "    \n",
    "    if automatic_ticks == False:\n",
    "        # Create 5 equidistant x-tick positions\n",
    "        xticks = np.linspace(0, xlim, 5)\n",
    "        # Set the xticks and enforce them as labels\n",
    "        plt.xticks(xticks)\n",
    "\n",
    "    # Add legend\n",
    "    plt.legend()\n",
    "    file_name = Path_pictures + f\"/Histogram_{samples_name}_comparison.pdf\"\n",
    "    plt.savefig(file_name, bbox_inches='tight', format = \"pdf\")\n",
    "    print(\"Histogram saved at:\", file_name)\n",
    "\n",
    "    # Show the plot\n",
    "    plt.show()"
   ]
  },
  {
   "cell_type": "code",
   "execution_count": null,
   "metadata": {},
   "outputs": [],
   "source": [
    "Path_pictures = f'../../experiments/MNIST_Setting_3'\n",
    "def plot_3histograms_bars(list_of_arrays, samples_name, xlim=None,  n_bins = 30, automatic_ticks = False):\n",
    "    #list_of_arrays = [arr[arr <= xlim].detach() for arr in list_of_arrays]\n",
    "    plt.rcParams.update({'font.size': 20})\n",
    "    plt.figure(figsize=(12, 9),dpi=400)\n",
    "    \n",
    "    # find maximal element of all the three arrays of values over settings 1-3\n",
    "    range_max = max([torch.max(list_of_arrays[m]) for m in range(3)]).item()\n",
    "    range_min = min([torch.min(list_of_arrays[m]) for m in range(3)]).item()\n",
    "    \n",
    "    colors = ['yellow', 'grey', 'black']\n",
    "\n",
    "    # Plot the first histogram\n",
    "    plt.hist(list_of_arrays, n_bins,range=(range_min, range_max),density=False, histtype='bar', color=colors,\n",
    "          label=['Setting 1', 'Setting 2', 'Setting 3'])\n",
    "    \n",
    "    # Add labels and title\n",
    "    plt.ylabel('Frequency')\n",
    "    plt.xlabel('Values')\n",
    "    if xlim == None:\n",
    "        xlim = range_max\n",
    "    plt.xlim(range_min, xlim)\n",
    "    \n",
    "    if automatic_ticks == False:\n",
    "        # Create 5 equidistant x-tick positions\n",
    "        xticks = np.linspace(0, xlim, 5)\n",
    "        # Set the xticks and enforce them as labels\n",
    "        plt.xticks(xticks)\n",
    "\n",
    "    # Add legend\n",
    "    plt.legend()\n",
    "    file_name = Path_pictures + f\"/Histogram_bars_{samples_name}_comparison.pdf\"\n",
    "    plt.savefig(file_name, bbox_inches='tight', format = \"pdf\")\n",
    "    print(\"Histogram saved at:\", file_name)\n",
    "\n",
    "    # Show the plot\n",
    "    plt.show()# Plot the histograms"
   ]
  },
  {
   "cell_type": "code",
   "execution_count": null,
   "metadata": {},
   "outputs": [],
   "source": [
    "plot_3histograms_bars(E_1_list, samples_name = \"E_tilde_values\", n_bins=50, xlim=0.5e+6)"
   ]
  },
  {
   "cell_type": "code",
   "execution_count": null,
   "metadata": {},
   "outputs": [],
   "source": [
    "plot_3histograms(E_1_list, samples_name = \"E_tilde_values\", bins=50,xlim=0.5e+6)"
   ]
  },
  {
   "cell_type": "code",
   "execution_count": null,
   "metadata": {},
   "outputs": [],
   "source": [
    "plot_3histograms_bars(E_2_list, samples_name = \"Energy_values\",xlim=3.e+3)"
   ]
  },
  {
   "cell_type": "code",
   "execution_count": null,
   "metadata": {},
   "outputs": [],
   "source": [
    "plot_3histograms(E_2_list, samples_name = \"Energy_values\",xlim=3.e+3)"
   ]
  },
  {
   "cell_type": "code",
   "execution_count": null,
   "metadata": {},
   "outputs": [],
   "source": [
    "plot_3histograms_bars(E_3_list, samples_name = \"Acceleration_values\", n_bins=30,xlim=0.1e+6)"
   ]
  },
  {
   "cell_type": "code",
   "execution_count": null,
   "metadata": {},
   "outputs": [],
   "source": [
    "plot_3histograms(E_3_list, samples_name = \"Acceleration_values\", bins=30,xlim=0.1e+6)"
   ]
  },
  {
   "cell_type": "code",
   "execution_count": null,
   "metadata": {},
   "outputs": [],
   "source": [
    "list_of_ratios = []\n",
    "for i in range(3):\n",
    "    ratio = geodesic_energy_list_of_arrays[i] / E_2_list[i]\n",
    "    list_of_ratios.append(ratio)"
   ]
  },
  {
   "cell_type": "code",
   "execution_count": null,
   "metadata": {},
   "outputs": [],
   "source": [
    "plot_3histograms(list_of_ratios, samples_name = \"naive_ratios\", bins = 20, xlim=1.1, automatic_ticks = True)"
   ]
  },
  {
   "cell_type": "code",
   "execution_count": null,
   "metadata": {},
   "outputs": [],
   "source": [
    "plot_3histograms_bars(list_of_ratios, samples_name = \"naive_ratios\", n_bins = 20, xlim=1.1, automatic_ticks = True)"
   ]
  }
 ],
 "metadata": {
  "kernelspec": {
   "display_name": ".venv_ricci2024",
   "language": "python",
   "name": "python3"
  },
  "language_info": {
   "codemirror_mode": {
    "name": "ipython",
    "version": 3
   },
   "file_extension": ".py",
   "mimetype": "text/x-python",
   "name": "python",
   "nbconvert_exporter": "python",
   "pygments_lexer": "ipython3",
   "version": "3.10.12"
  }
 },
 "nbformat": 4,
 "nbformat_minor": 2
}
