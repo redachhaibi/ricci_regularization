{
 "cells": [
  {
   "cell_type": "code",
   "execution_count": null,
   "metadata": {},
   "outputs": [],
   "source": [
    "import matplotlib.pyplot as plt\n",
    "import torch"
   ]
  },
  {
   "cell_type": "code",
   "execution_count": null,
   "metadata": {},
   "outputs": [],
   "source": [
    "E_1_list = []\n",
    "E_2_list = []\n",
    "E_3_list = []\n",
    "geodesic_energy_list_of_arrays = []\n",
    "\n",
    "for i in [1,2,3]:\n",
    "    Path = f'../../experiments/MNIST_Setting_{i}'\n",
    "    loaded_data = torch.load(Path + '/3Functionals.pt')\n",
    "    geodesic_energy_list_of_arrays.append( torch.load( Path + '/geodesic_energy_array.pt') )\n",
    "    E_1_list.append( loaded_data['E^1'] )\n",
    "    E_2_list.append( loaded_data['E^2'] )\n",
    "    E_3_list.append( loaded_data['E^3'] )\n"
   ]
  },
  {
   "cell_type": "code",
   "execution_count": null,
   "metadata": {},
   "outputs": [],
   "source": [
    "Path_pictures = f'../../experiments/MNIST_Setting_3'\n",
    "def plot_3histograms(list_of_arrays, samples_name):\n",
    "    plt.rcParams.update({'font.size': 20})\n",
    "    plt.figure(figsize=(12, 9),dpi=400)\n",
    "    # Plot the first histogram\n",
    "    plt.hist(list_of_arrays[0].detach(), bins=30, density=False, color='yellow', alpha=0.5, label='Setting 1')\n",
    "\n",
    "    # Plot the second histogram\n",
    "    plt.hist(list_of_arrays[1].detach(), bins=30, density=False, color='grey', alpha=0.5, label='Setting 2')\n",
    "\n",
    "    # Plot the second histogram\n",
    "    plt.hist(list_of_arrays[2].detach(), bins=30, density=False, color='green', alpha=0.5, label='Setting 3')\n",
    "\n",
    "    # Add labels and title\n",
    "    plt.ylabel('Frequency')\n",
    "    plt.xlabel('Values')\n",
    "\n",
    "    # Add legend\n",
    "    plt.legend()\n",
    "    file_name = Path_pictures+f\"/Histogram_{samples_name}_comparison.pdf\"\n",
    "    plt.savefig(file_name, bbox_inches='tight', format = \"pdf\")\n",
    "    print(\"Histogram saved at:\", file_name)\n",
    "\n",
    "    # Show the plot\n",
    "    plt.show()"
   ]
  },
  {
   "cell_type": "code",
   "execution_count": null,
   "metadata": {},
   "outputs": [],
   "source": [
    "#plot_3histograms(E_1_list, samples_name = \"E_tilde_values\")"
   ]
  },
  {
   "cell_type": "code",
   "execution_count": null,
   "metadata": {},
   "outputs": [],
   "source": [
    "#plot_3histograms(E_2_list, samples_name = \"Energy_values\")"
   ]
  },
  {
   "cell_type": "code",
   "execution_count": null,
   "metadata": {},
   "outputs": [],
   "source": [
    "#plot_3histograms(E_3_list, samples_name = \"Acceleration_values\")"
   ]
  },
  {
   "cell_type": "code",
   "execution_count": null,
   "metadata": {},
   "outputs": [],
   "source": [
    "list_of_ratios = []\n",
    "for i in range(3):\n",
    "    ratio = geodesic_energy_list_of_arrays[i] / E_2_list[i]\n",
    "    list_of_ratios.append(ratio)"
   ]
  },
  {
   "cell_type": "code",
   "execution_count": null,
   "metadata": {},
   "outputs": [],
   "source": [
    "plot_3histograms(list_of_ratios, samples_name = \"naive_ratios\")"
   ]
  }
 ],
 "metadata": {
  "kernelspec": {
   "display_name": ".venv_ricci2024",
   "language": "python",
   "name": "python3"
  },
  "language_info": {
   "codemirror_mode": {
    "name": "ipython",
    "version": 3
   },
   "file_extension": ".py",
   "mimetype": "text/x-python",
   "name": "python",
   "nbconvert_exporter": "python",
   "pygments_lexer": "ipython3",
   "version": "3.10.12"
  }
 },
 "nbformat": 4,
 "nbformat_minor": 2
}
