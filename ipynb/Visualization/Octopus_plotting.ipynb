{
 "cells": [
  {
   "cell_type": "markdown",
   "metadata": {},
   "source": [
    "# Octopus plotting"
   ]
  },
  {
   "cell_type": "code",
   "execution_count": null,
   "metadata": {},
   "outputs": [],
   "source": [
    "import torch, ricci_regularization, json"
   ]
  },
  {
   "cell_type": "code",
   "execution_count": null,
   "metadata": {},
   "outputs": [],
   "source": [
    "setting_numbers = [4]\n",
    "experiment_numbers = [2,3]\n",
    "k_means_setup_numbers = [0,1,2,3,4,5,6,7,8,9]\n",
    "for setting_number in setting_numbers:\n",
    "    for experiment_number in experiment_numbers:\n",
    "        for k_means_setup_number in k_means_setup_numbers:\n",
    "            pretrained_AE_setting_name = f'MNIST_Setting_{setting_number}_exp{experiment_number}'\n",
    "            Path_clustering_setup = f\"../experiments/{pretrained_AE_setting_name}/K_means_setup_{k_means_setup_number}\"\n",
    "            with open(Path_clustering_setup + f\"/params.json\", \"r\") as f_Riemannian:\n",
    "                Riemannian_k_means_params = json.load(f_Riemannian)\n",
    "            geodesic_curve = torch.load(Path_clustering_setup+\"/geodesic_curve.pt\")\n",
    "            ricci_regularization.RiemannianKmeansTools.plot_octopus(geodesic_curve,\n",
    "                memberships=torch.tensor(Riemannian_k_means_params[\"Riemannian_k_means_labels\"]),\n",
    "                ground_truth_labels=Riemannian_k_means_params[\"ground_truth_labels\"],\n",
    "                saving_folder=Path_clustering_setup, suffix=0, show_geodesics_in_original_local_charts=False,\n",
    "                show_only_geodesics_to_nearest_centroids = False)"
   ]
  }
 ],
 "metadata": {
  "kernelspec": {
   "display_name": ".venv_ricci2024",
   "language": "python",
   "name": "python3"
  },
  "language_info": {
   "codemirror_mode": {
    "name": "ipython",
    "version": 3
   },
   "file_extension": ".py",
   "mimetype": "text/x-python",
   "name": "python",
   "nbconvert_exporter": "python",
   "pygments_lexer": "ipython3",
   "version": "3.10.12"
  }
 },
 "nbformat": 4,
 "nbformat_minor": 2
}
