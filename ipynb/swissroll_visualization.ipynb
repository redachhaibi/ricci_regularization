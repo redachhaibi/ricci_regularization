{
 "cells": [
  {
   "cell_type": "code",
   "execution_count": null,
   "metadata": {},
   "outputs": [],
   "source": [
    "import matplotlib.pyplot as plt\n",
    "import sklearn\n",
    "from sklearn import datasets, manifold"
   ]
  },
  {
   "cell_type": "code",
   "execution_count": null,
   "metadata": {},
   "outputs": [],
   "source": [
    "sr_points, sr_color = datasets.make_swiss_roll(n_samples=1500, noise=0.05)"
   ]
  },
  {
   "cell_type": "code",
   "execution_count": null,
   "metadata": {},
   "outputs": [],
   "source": [
    "fig = plt.figure()\n",
    "\n",
    "ax = fig.add_subplot(projection='3d')\n",
    "plt.rcParams.update({'font.size': 20})\n",
    "ax.scatter(sr_points[:,0],\n",
    "           sr_points[:,1],\n",
    "           sr_points[:,2],\n",
    "           c=sr_color, s=30, alpha = 0.8,cmap='jet')\n",
    "plt.title(\"Swiss roll dataset in 3d\")\n",
    "ax.view_init(azim=-70, elev=15)\n",
    "plt.show()"
   ]
  },
  {
   "cell_type": "markdown",
   "metadata": {},
   "source": [
    "### The solution of unrolling the doe"
   ]
  },
  {
   "cell_type": "code",
   "execution_count": null,
   "metadata": {},
   "outputs": [],
   "source": [
    "import torch\n",
    "colors_tensor = torch.from_numpy(sr_color)\n",
    "#colors_normalized = torch.nn.functional.normalize(colors_tensor,dim=0)\n",
    "y_tensor = torch.from_numpy(sr_points[:,1])\n",
    "#y_normalized = torch.nn.functional.normalize(y_tensor,dim=0)\n",
    "\n",
    "plt.rcParams.update({'font.size': 20})\n",
    "#plt.figure(figsize=(20,10),dpi=100)\n",
    "plt.title(\"The unrolled swiss roll: projection on the\\n 2nd and the 4th coordinate (the color)\")\n",
    "plt.xlabel(\"the y-coordinate of sr_points\")\n",
    "plt.ylabel(\"sr_color\")\n",
    "#plt.scatter(y_normalized,colors_normalized,c=sr_color)\n",
    "plt.scatter(y_tensor,colors_tensor,c=sr_color,cmap='jet',s=30)\n",
    "#\n",
    "plt.show()"
   ]
  },
  {
   "cell_type": "markdown",
   "metadata": {},
   "source": [
    "### LLE and t-SNE"
   ]
  },
  {
   "cell_type": "code",
   "execution_count": null,
   "metadata": {},
   "outputs": [],
   "source": [
    "sr_lle, sr_err = manifold.locally_linear_embedding(\n",
    "    sr_points, n_neighbors=12, n_components=2\n",
    ")\n",
    "\n",
    "sr_tsne = manifold.TSNE(n_components=2, perplexity=40, random_state=0).fit_transform(\n",
    "    sr_points\n",
    ")\n",
    "\"\"\"\n",
    "fig, axs = plt.subplots(figsize=(8, 8), nrows=2)\n",
    "axs[0].scatter(sr_lle[:, 0], sr_lle[:, 1], c=sr_color)\n",
    "axs[0].set_title(\"LLE Embedding of Swiss Roll\")\n",
    "axs[1].scatter(sr_tsne[:, 0], sr_tsne[:, 1], c=sr_color)\n",
    "_ = axs[1].set_title(\"t-SNE Embedding of Swiss Roll\")\n",
    "\"\"\"\n"
   ]
  },
  {
   "cell_type": "code",
   "execution_count": null,
   "metadata": {},
   "outputs": [],
   "source": [
    "plt.rcParams.update({'font.size': 20})\n",
    "plt.scatter(sr_lle[:, 0], sr_lle[:, 1], c=sr_color,cmap='jet',s=30)\n",
    "plt.title(\"LLE Embedding of the swiss roll\")\n",
    "plt.show()"
   ]
  },
  {
   "cell_type": "code",
   "execution_count": null,
   "metadata": {},
   "outputs": [],
   "source": [
    "plt.rcParams.update({'font.size': 20})\n",
    "plt.scatter(sr_tsne[:, 0], sr_tsne[:, 1], c=sr_color,cmap='jet',s=30)\n",
    "plt.title(\"t-SNE embedding of the swiss roll\")\n",
    "plt.show()"
   ]
  },
  {
   "cell_type": "markdown",
   "metadata": {},
   "source": [
    "### UMAP"
   ]
  },
  {
   "cell_type": "code",
   "execution_count": null,
   "metadata": {},
   "outputs": [],
   "source": [
    "import umap"
   ]
  },
  {
   "cell_type": "code",
   "execution_count": null,
   "metadata": {},
   "outputs": [],
   "source": [
    "mapper = umap.UMAP().fit(sr_points)"
   ]
  },
  {
   "cell_type": "code",
   "execution_count": null,
   "metadata": {},
   "outputs": [],
   "source": [
    "encoded_points = mapper.embedding_"
   ]
  },
  {
   "cell_type": "code",
   "execution_count": null,
   "metadata": {},
   "outputs": [],
   "source": [
    "plt.rcParams.update({'font.size': 20}) # makes all fonts on the plot be 20\n",
    "plt.scatter( encoded_points[:,0], encoded_points[:,1], c=sr_color, alpha=0.5, cmap='jet',marker='o',edgecolors=None )\n",
    "plt.title( \"UMAP embedding of the swiss roll\")\n",
    "#plt.colorbar(orientation='vertical',shrink = 0.7)\n",
    "plt.show()"
   ]
  }
 ],
 "metadata": {
  "kernelspec": {
   "display_name": ".venv_ricci",
   "language": "python",
   "name": "python3"
  },
  "language_info": {
   "codemirror_mode": {
    "name": "ipython",
    "version": 3
   },
   "file_extension": ".py",
   "mimetype": "text/x-python",
   "name": "python",
   "nbconvert_exporter": "python",
   "pygments_lexer": "ipython3",
   "version": "3.10.12"
  }
 },
 "nbformat": 4,
 "nbformat_minor": 2
}
