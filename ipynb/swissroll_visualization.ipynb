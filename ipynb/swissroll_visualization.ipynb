{
 "cells": [
  {
   "cell_type": "code",
   "execution_count": null,
   "metadata": {},
   "outputs": [],
   "source": [
    "import matplotlib.pyplot as plt\n",
    "import sklearn\n",
    "from sklearn import datasets, manifold\n",
    "import torch\n",
    "import math\n",
    "\n",
    "Path_pictures = f\"/home/alazarev/CodeProjects/Experiments/swissroll_embeddings\"\n",
    "\n",
    "alpha = 0.5 # point opacity"
   ]
  },
  {
   "cell_type": "code",
   "execution_count": null,
   "metadata": {},
   "outputs": [],
   "source": [
    "n_samples=18000\n",
    "sr_points, sr_color = datasets.make_swiss_roll(n_samples=n_samples, noise=0.05,random_state=1)"
   ]
  },
  {
   "cell_type": "code",
   "execution_count": null,
   "metadata": {},
   "outputs": [],
   "source": [
    "points_tensor = torch.tensor(sr_points)\n",
    "cov_matrix = torch.cov(points_tensor.T)\n",
    "print(\"Covariance matrix:\\n\", cov_matrix)\n",
    "mean = points_tensor.mean(dim=0)\n",
    "print(\"Mean vector:\", mean)"
   ]
  },
  {
   "cell_type": "code",
   "execution_count": null,
   "metadata": {},
   "outputs": [],
   "source": [
    "import numpy as np\n",
    "N = 1000\n",
    "noise = 0.05\n",
    "\n",
    "t = 3*np.pi/2 * (1 + 2*np.random.rand(1,N))\n",
    "h = 21 * np.random.rand(1,N)\n",
    "data = np.concatenate((t*np.cos(t),h,t*np.sin(t))) + noise*np.random.randn(3,N)\t\n",
    "#np.transpose(data), np.squeeze(t)"
   ]
  },
  {
   "cell_type": "code",
   "execution_count": null,
   "metadata": {},
   "outputs": [],
   "source": [
    "norms = torch.tensor(sr_points).norm(dim = 1)"
   ]
  },
  {
   "cell_type": "code",
   "execution_count": null,
   "metadata": {},
   "outputs": [],
   "source": [
    "min = norms.min()"
   ]
  },
  {
   "cell_type": "code",
   "execution_count": null,
   "metadata": {},
   "outputs": [],
   "source": [
    "max= norms.max()"
   ]
  },
  {
   "cell_type": "code",
   "execution_count": null,
   "metadata": {},
   "outputs": [],
   "source": [
    "mean = norms.mean()\n",
    "std = norms.std()"
   ]
  },
  {
   "cell_type": "code",
   "execution_count": null,
   "metadata": {},
   "outputs": [],
   "source": [
    "plt.hist(norms)\n",
    "plt.title(\"Histogram of norms of all points of the swiss roll\")\n",
    "plt.show()\n",
    "print(f\"Norms vary between {min:0.2f} and {max:0.2f} \\n with mean: {mean:0.2f} and std dev: {std:0.2f} \")"
   ]
  },
  {
   "cell_type": "code",
   "execution_count": null,
   "metadata": {},
   "outputs": [],
   "source": [
    "plt.title(\"Histogram of norms of normalized points of the swiss roll\")\n",
    "plt.hist((norms-mean)/std)\n",
    "plt.show()"
   ]
  },
  {
   "cell_type": "markdown",
   "metadata": {},
   "source": [
    "## resampling for plots"
   ]
  },
  {
   "cell_type": "code",
   "execution_count": null,
   "metadata": {},
   "outputs": [],
   "source": [
    "sr_points, sr_color = datasets.make_swiss_roll(n_samples=round(n_samples*0.2), noise=0.05,random_state=1)"
   ]
  },
  {
   "cell_type": "code",
   "execution_count": null,
   "metadata": {},
   "outputs": [],
   "source": [
    "fig = plt.figure(figsize=(9,9),dpi=400)\n",
    "plt.rcParams.update({'font.size': 20}) # makes all fonts on the plot be 20\n",
    "\n",
    "ax = fig.add_subplot(projection='3d')\n",
    "p = ax.scatter(sr_points[:,0],\n",
    "           sr_points[:,1],\n",
    "           sr_points[:,2],\n",
    "           c=sr_color, s=40, alpha = alpha,cmap='jet')\n",
    "#plt.title(\"Swiss roll dataset in 3d\",fontsize=20)\n",
    "#plt.colorbar(p, label=\"sr_color\", shrink = 0.5,location=\"left\")\n",
    "ax.view_init(azim=-70, elev=15)\n",
    "\n",
    "ax.xaxis.pane.fill = False\n",
    "ax.yaxis.pane.fill = False\n",
    "ax.zaxis.pane.fill = False\n",
    "\n",
    "# Now set color to white (or whatever is \"invisible\")\n",
    "ax.xaxis.pane.set_edgecolor('w')\n",
    "ax.yaxis.pane.set_edgecolor('w')\n",
    "ax.zaxis.pane.set_edgecolor('w')\n",
    "\n",
    "\n",
    "ax.grid(True)\n",
    "\n",
    "#plt.savefig(f'{Path_pictures}/swissroll3d_cbar.pdf',bbox_inches='tight',format='pdf')\n",
    "#plt.savefig(f'{Path_pictures}/swissroll3d.pdf',bbox_inches='tight',format='pdf')\n",
    "plt.show()"
   ]
  },
  {
   "cell_type": "markdown",
   "metadata": {},
   "source": [
    "### The solution of unrolling the doe"
   ]
  },
  {
   "cell_type": "code",
   "execution_count": null,
   "metadata": {},
   "outputs": [],
   "source": [
    "colors_tensor = torch.from_numpy(sr_color)\n",
    "#colors_normalized = torch.nn.functional.normalize(colors_tensor,dim=0)\n",
    "y_tensor = torch.from_numpy(sr_points[:,1])\n",
    "#y_normalized = torch.nn.functional.normalize(y_tensor,dim=0)\n",
    "fig = plt.figure(figsize=(9,9),dpi=400)\n",
    "plt.rcParams.update({'font.size': 20})\n",
    "#plt.figure(figsize=(20,10),dpi=100)\n",
    "#plt.title(\"The unrolled swiss roll: projection on the\\n 2nd and the 4th coordinate (the color)\")\n",
    "#plt.xlabel(\"the y-coordinate of sr_points\")\n",
    "#plt.ylabel(\"sr_color\")\n",
    "#plt.scatter(y_normalized,colors_normalized,c=sr_color)\n",
    "plt.scatter(y_tensor,colors_tensor,c=sr_color,cmap='jet',s=40,alpha=alpha)\n",
    "#plt.savefig(f'{Path_pictures}/swissroll_solution.pdf',bbox_inches='tight',format='pdf')\n",
    "plt.show()"
   ]
  },
  {
   "cell_type": "markdown",
   "metadata": {},
   "source": [
    "### LLE and t-SNE"
   ]
  },
  {
   "cell_type": "code",
   "execution_count": null,
   "metadata": {},
   "outputs": [],
   "source": [
    "sr_lle, sr_err = manifold.locally_linear_embedding(\n",
    "    sr_points, n_neighbors=12, n_components=2\n",
    ")\n",
    "\n",
    "sr_tsne = manifold.TSNE(n_components=2, perplexity=40, random_state=0).fit_transform(\n",
    "    sr_points\n",
    ")\n",
    "\"\"\"\n",
    "fig, axs = plt.subplots(figsize=(8, 8), nrows=2)\n",
    "axs[0].scatter(sr_lle[:, 0], sr_lle[:, 1], c=sr_color)\n",
    "axs[0].set_title(\"LLE Embedding of Swiss Roll\")\n",
    "axs[1].scatter(sr_tsne[:, 0], sr_tsne[:, 1], c=sr_color)\n",
    "_ = axs[1].set_title(\"t-SNE Embedding of Swiss Roll\")\n",
    "\"\"\"\n"
   ]
  },
  {
   "cell_type": "code",
   "execution_count": null,
   "metadata": {},
   "outputs": [],
   "source": [
    "plt.rcParams.update({'font.size': 20})\n",
    "fig = plt.figure(figsize=(9,9),dpi=400)\n",
    "plt.scatter(sr_lle[:, 0], sr_lle[:, 1], c=sr_color,cmap='jet',s=40,alpha=alpha)\n",
    "#plt.title(\"LLE Embedding of the swiss roll\")\n",
    "#plt.savefig(f'{Path_pictures}/swissroll_lle.pdf',bbox_inches='tight',format='pdf')\n",
    "plt.show()"
   ]
  },
  {
   "cell_type": "code",
   "execution_count": null,
   "metadata": {},
   "outputs": [],
   "source": [
    "fig = plt.figure(figsize=(9,9),dpi=400)\n",
    "plt.rcParams.update({'font.size': 20})\n",
    "plt.scatter(sr_tsne[:, 0], sr_tsne[:, 1], c=sr_color,cmap='jet',s=40,alpha=alpha)\n",
    "#plt.title(\"t-SNE embedding of the swiss roll\")\n",
    "#plt.savefig(f'{Path_pictures}/swissroll_tsne.pdf',bbox_inches='tight',format='pdf')\n",
    "#plt.savefig(f'{Path_pictures}/swissroll_tsne.pdf',bbox_inches='tight',format='pdf')\n",
    "plt.show()"
   ]
  },
  {
   "cell_type": "markdown",
   "metadata": {},
   "source": [
    "### UMAP"
   ]
  },
  {
   "cell_type": "code",
   "execution_count": null,
   "metadata": {},
   "outputs": [],
   "source": [
    "import umap"
   ]
  },
  {
   "cell_type": "code",
   "execution_count": null,
   "metadata": {},
   "outputs": [],
   "source": [
    "mapper = umap.UMAP().fit(sr_points)"
   ]
  },
  {
   "cell_type": "code",
   "execution_count": null,
   "metadata": {},
   "outputs": [],
   "source": [
    "encoded_points = mapper.embedding_"
   ]
  },
  {
   "cell_type": "code",
   "execution_count": null,
   "metadata": {},
   "outputs": [],
   "source": [
    "fig = plt.figure(figsize=(9,9),dpi=400)\n",
    "plt.rcParams.update({'font.size': 20}) # makes all fonts on the plot be 20\n",
    "plt.scatter( encoded_points[:,0], encoded_points[:,1], c=sr_color, s= 40,alpha=alpha, cmap='jet',marker='o',edgecolors=None )\n",
    "#plt.title( \"UMAP embedding of the swiss roll\")\n",
    "#plt.colorbar(orientation='vertical',shrink = 0.7)\n",
    "#plt.savefig(f'{Path_pictures}/swissroll_umap.pdf',bbox_inches='tight',format='pdf')\n",
    "plt.show()"
   ]
  },
  {
   "cell_type": "markdown",
   "metadata": {},
   "source": [
    "# PCA"
   ]
  },
  {
   "cell_type": "code",
   "execution_count": null,
   "metadata": {},
   "outputs": [],
   "source": [
    "u,s,v = torch.pca_lowrank(torch.tensor(sr_points),q=2)"
   ]
  },
  {
   "cell_type": "code",
   "execution_count": null,
   "metadata": {},
   "outputs": [],
   "source": [
    "plt.figure(figsize=(9,9),dpi=400)\n",
    "plt.rcParams.update({'font.size': 20}) # makes all fonts on the plot be 20\n",
    "plt.scatter( u[:,0], u[:,1], c=sr_color, s= 40,alpha=alpha, cmap='jet',marker='o',edgecolors=None )\n",
    "#plt.title( \"PCA embedding of the swiss roll\")\n",
    "#plt.colorbar(orientation='vertical',shrink = 0.7)\n",
    "#plt.savefig(f'{Path_pictures}/swissroll_pca.pdf',bbox_inches='tight',format='pdf')\n",
    "plt.show()"
   ]
  },
  {
   "cell_type": "markdown",
   "metadata": {},
   "source": [
    "# AE"
   ]
  },
  {
   "cell_type": "code",
   "execution_count": null,
   "metadata": {},
   "outputs": [],
   "source": [
    "# Minimal imports\n",
    "import math\n",
    "import torch\n",
    "from torch import nn\n",
    "import numpy as np\n",
    "import matplotlib.pyplot as plt\n",
    "import matplotlib\n",
    "\n",
    "# adding path to the set generating package\n",
    "import sys\n",
    "sys.path.append('../') # have to go 1 level up\n",
    "import ricci_regularization as RR\n",
    "#import torchvision\n",
    "\n",
    "\n",
    "import sklearn\n",
    "from sklearn import datasets"
   ]
  },
  {
   "cell_type": "code",
   "execution_count": null,
   "metadata": {},
   "outputs": [],
   "source": [
    "class Encoder(nn.Module):\n",
    "    def __init__(self, input_dim, hidden_dim):\n",
    "        super().__init__()\n",
    "        self.linear1 = nn.Linear(input_dim, 512)\n",
    "        self.linear2 = nn.Linear(512, 256)\n",
    "        self.linear3 = nn.Linear(256, 128)\n",
    "        self.linear4 = nn.Linear(128, hidden_dim)\n",
    "        #self.activation = nn.ReLU()\n",
    "        self.activation = torch.sin\n",
    "    def forward(self, x):\n",
    "        y = self.linear1(x)\n",
    "        y = self.activation(y)\n",
    "        y = self.linear2(y)\n",
    "        y = self.activation(y)\n",
    "        y = self.linear3(y)\n",
    "        y = self.activation(y)\n",
    "        out = self.linear4(y)\n",
    "        #out = self.activation(out)\n",
    "        return out"
   ]
  },
  {
   "cell_type": "code",
   "execution_count": null,
   "metadata": {},
   "outputs": [],
   "source": [
    "load_weight_name = \"swissroll_curv_w=0_ls=R^2\"\n",
    "encoder = Encoder(input_dim=3, hidden_dim=2)\n",
    "PATH_enc = f'../nn_weights/encoder_{load_weight_name}'\n",
    "encoder.load_state_dict(torch.load(PATH_enc))\n",
    "encoder.eval()"
   ]
  },
  {
   "cell_type": "code",
   "execution_count": null,
   "metadata": {},
   "outputs": [],
   "source": [
    "sr_points_tensor = torch.tensor(sr_points).to(dtype=torch.float32)\n",
    "sr_in_AE_ls = encoder(sr_points_tensor).detach()"
   ]
  },
  {
   "cell_type": "code",
   "execution_count": null,
   "metadata": {},
   "outputs": [],
   "source": [
    "fig = plt.figure(figsize=(9,9),dpi=400)\n",
    "plt.rcParams.update({'font.size': 20})\n",
    "plt.scatter(sr_in_AE_ls[:, 0], sr_in_AE_ls[:, 1], \n",
    "            c=sr_color,cmap='jet',s=40,alpha=alpha)\n",
    "#plt.title(\"t-SNE embedding of the swiss roll\")\n",
    "#plt.savefig(f'{Path_pictures}/swissroll_tsne.png',bbox_inches='tight',format='png')\n",
    "plt.savefig(f'{Path_pictures}/swissroll_AE.pdf',bbox_inches='tight',format='pdf')\n",
    "plt.show()"
   ]
  }
 ],
 "metadata": {
  "kernelspec": {
   "display_name": ".venv_ricci",
   "language": "python",
   "name": "python3"
  },
  "language_info": {
   "codemirror_mode": {
    "name": "ipython",
    "version": 3
   },
   "file_extension": ".py",
   "mimetype": "text/x-python",
   "name": "python",
   "nbconvert_exporter": "python",
   "pygments_lexer": "ipython3",
   "version": "3.10.12"
  }
 },
 "nbformat": 4,
 "nbformat_minor": 2
}
