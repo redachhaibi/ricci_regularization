{
 "cells": [
  {
   "attachments": {},
   "cell_type": "markdown",
   "metadata": {},
   "source": [
    "# I. Train and test datasets"
   ]
  },
  {
   "cell_type": "code",
   "execution_count": null,
   "metadata": {},
   "outputs": [],
   "source": [
    "# Hyperparameters for dataset\n",
    "\n",
    "D = 784 #dimension\n",
    "#D = 3\n",
    "k = 3 # num of 2d planes in dim D\n",
    "n = 6*(10**3) # num of points in each plane\n",
    "d = 2 # starting dimention of gaussians\n",
    "#n = 10**3 # num of points in each plane\n",
    "shift_class = 0\n",
    "intercl_var = 0.1 #initially 0.1\n",
    "var_class = 1\n",
    "\n",
    "\n",
    "# Hyperparameters for data loaders\n",
    "#batch_size  = 16\n",
    "split_ratio = 0.2\n",
    "\n",
    "# Set manual seed for reproducibility\n",
    "# torch.manual_seed(0)"
   ]
  },
  {
   "cell_type": "code",
   "execution_count": null,
   "metadata": {},
   "outputs": [],
   "source": [
    "# adding path to the set generating package\n",
    "import sys\n",
    "sys.path.append('../') # have to go 1 level up"
   ]
  },
  {
   "cell_type": "code",
   "execution_count": null,
   "metadata": {},
   "outputs": [],
   "source": [
    "import torch\n",
    "import ricci_regularization\n",
    "\n",
    "\n",
    "# Generate dataset\n",
    "# via classes\n",
    "torch.manual_seed(0) # reproducibility\n",
    "my_dataset = ricci_regularization.SyntheticDataset(k=k,n=n,d=d,D=D,\n",
    "                                    shift_class=shift_class, intercl_var=intercl_var, var_class = var_class)\n",
    "\n",
    "train_dataset = my_dataset.create\n",
    "\n",
    "m = len(train_dataset)\n",
    "train_data, test_data = torch.utils.data.random_split(train_dataset, [int(m-m*split_ratio), int(m*split_ratio)])\n"
   ]
  },
  {
   "attachments": {},
   "cell_type": "markdown",
   "metadata": {},
   "source": [
    "# II. Fit dimension reduction models"
   ]
  },
  {
   "cell_type": "code",
   "execution_count": null,
   "metadata": {},
   "outputs": [],
   "source": [
    "from sklearn.manifold import TSNE\n",
    "import matplotlib.pyplot as plt"
   ]
  },
  {
   "cell_type": "code",
   "execution_count": null,
   "metadata": {},
   "outputs": [],
   "source": [
    "def discrete_cmap(N, base_cmap=None):\n",
    "    \"\"\"Create an N-bin discrete colormap from the specified input map\"\"\"\n",
    "\n",
    "    # Note that if base_cmap is a string or None, you can simply do\n",
    "    return plt.cm.get_cmap(base_cmap, N)"
   ]
  },
  {
   "cell_type": "markdown",
   "metadata": {},
   "source": [
    "## II.1. TSNE check"
   ]
  },
  {
   "cell_type": "code",
   "execution_count": null,
   "metadata": {},
   "outputs": [],
   "source": [
    "# TNSE check on test set\n",
    "synthetic_points = test_data[:][0].view(-1,D)\n",
    "\n",
    "tsne   = TSNE(n_components=2, verbose=1, random_state=123)\n",
    "z_test = tsne.fit_transform(synthetic_points.numpy())"
   ]
  },
  {
   "cell_type": "code",
   "execution_count": null,
   "metadata": {},
   "outputs": [],
   "source": [
    "plt.rcParams.update({'font.size': 20}) # makes all fonts on the plot be 20\n",
    "plt.scatter( z_test[:,0], z_test[:,1], c=test_data[:][1], alpha=0.5, cmap=discrete_cmap(k,'jet'),marker='o',edgecolors=None )\n",
    "plt.title( \"t-SNE projection of the \\n Synthetic dataset\")\n",
    "plt.colorbar(ticks=range(k),orientation='vertical',shrink = 0.7)\n",
    "#plt.savefig(\"/home/alazarev/CodeProjects/Experiments/TSNE_synthetic.eps\",bbox_inches='tight',format='eps')\n",
    "plt.show()\n"
   ]
  },
  {
   "cell_type": "code",
   "execution_count": null,
   "metadata": {},
   "outputs": [],
   "source": [
    "# TNSE check on train set\n",
    "\"\"\"\n",
    "synthetic_points = train_data[:][0].view(-1,28*28)\n",
    "\n",
    "tsne   = TSNE(n_components=2, verbose=1, random_state=123)\n",
    "z_train = tsne.fit_transform(synthetic_points.numpy())\n",
    "\"\"\""
   ]
  },
  {
   "cell_type": "code",
   "execution_count": null,
   "metadata": {},
   "outputs": [],
   "source": [
    "\"\"\"\n",
    "plt.scatter( z_train[:,0], z_train[:,1], c=train_data[:][1], alpha=0.5 )\n",
    "plt.title( \"TSNE projection of train data\")\n",
    "plt.show()\n",
    "\"\"\""
   ]
  },
  {
   "cell_type": "markdown",
   "metadata": {},
   "source": [
    "### Plots using Seaborn"
   ]
  },
  {
   "cell_type": "code",
   "execution_count": null,
   "metadata": {},
   "outputs": [],
   "source": [
    "\"\"\"\n",
    "import pandas as pd \n",
    "\n",
    "# Format data\n",
    "df = pd.DataFrame()\n",
    "#df[\"y\"] = labels.numpy()\n",
    "df[\"y\"] = test_data[:][1].numpy() #test_data[:][1] are labels\n",
    "df[\"comp-1\"] = z_test[:,0]\n",
    "df[\"comp-2\"] = z_test[:,1]\n",
    "\n",
    "import seaborn as sns\n",
    "import numpy as np # this module is useful to work with numerical arrays\n",
    "sns.scatterplot(x=\"comp-1\", y=\"comp-2\", hue=df.y.tolist(),\n",
    "                palette=sns.color_palette(\"hls\", 10),\n",
    "                data=df).set(title=\"Synthetic dataset data T-SNE projection\")\n",
    "\"\"\""
   ]
  },
  {
   "cell_type": "markdown",
   "metadata": {},
   "source": [
    "## II.2. UMAP"
   ]
  },
  {
   "cell_type": "code",
   "execution_count": null,
   "metadata": {},
   "outputs": [],
   "source": [
    "points = test_data[:][0]\n",
    "labels = test_data[:][1]"
   ]
  },
  {
   "cell_type": "code",
   "execution_count": null,
   "metadata": {},
   "outputs": [],
   "source": [
    "points.shape"
   ]
  },
  {
   "cell_type": "code",
   "execution_count": null,
   "metadata": {},
   "outputs": [],
   "source": [
    "import umap\n",
    "\n",
    "mapper = umap.UMAP().fit(points)\n"
   ]
  },
  {
   "cell_type": "code",
   "execution_count": null,
   "metadata": {},
   "outputs": [],
   "source": [
    "encoded_points = mapper.embedding_"
   ]
  },
  {
   "cell_type": "code",
   "execution_count": null,
   "metadata": {},
   "outputs": [],
   "source": [
    "plt.rcParams.update({'font.size': 20}) # makes all fonts on the plot be 20\n",
    "plt.scatter( encoded_points[:,0], encoded_points[:,1], c=test_data[:][1], alpha=0.5, cmap=discrete_cmap(k,'jet'),marker='o',edgecolors=None )\n",
    "plt.title( \"UMAP embedding of the \\n Synthetic dataset\")\n",
    "plt.colorbar(ticks=range(k),orientation='vertical',shrink = 0.7)\n",
    "#plt.savefig(\"/home/alazarev/CodeProjects/Experiments/UMAP_synthetic.eps\",bbox_inches='tight',format='eps')\n",
    "plt.show()"
   ]
  },
  {
   "cell_type": "markdown",
   "metadata": {},
   "source": [
    "# III. 3D visualization"
   ]
  },
  {
   "cell_type": "code",
   "execution_count": null,
   "metadata": {},
   "outputs": [],
   "source": [
    "D = 3\n",
    "k = 3 # num of 2d planes in dim D\n",
    "n = 6*(10**3) # num of points in each plane\n",
    "d = 2 # starting dimention of gaussians\n",
    "#n = 10**3 # num of points in each plane\n",
    "shift_class = 0\n",
    "intercl_var = 1 #initially 0.1\n",
    "var_class = 0.1\n",
    "torch.manual_seed(0) # reproducibility\n",
    "my_dataset = ricci_regularization.SyntheticDataset(k=k,n=n,d=d,D=D,\n",
    "                                    shift_class=shift_class, intercl_var=intercl_var, var_class = var_class)\n",
    "\n",
    "train_dataset = my_dataset.create\n",
    "\n",
    "split_ratio = 0.2\n",
    "m = len(train_dataset)\n",
    "train_data, test_data = torch.utils.data.random_split(train_dataset, [int(m-m*split_ratio), int(m*split_ratio)])\n",
    "# only for D=3\n",
    "if D==3:\n",
    "    points = test_data[:][0].squeeze()\n",
    "    labels = test_data[:][1]\n",
    "    fig = plt.figure()\n",
    "    ax = fig.add_subplot(projection='3d')\n",
    "    plt.rcParams.update({'font.size': 20})\n",
    "    ax.scatter(points[:,0],\n",
    "               points[:,1],\n",
    "               points[:,2],\n",
    "               c=labels, s=30, alpha = 0.5,cmap=plt.cm.get_cmap('jet', k))\n",
    "    plt.title(\"Synthetic dataset in 3d\")\n",
    "    ax.view_init(azim=155, elev=15)\n",
    "    plt.show()"
   ]
  },
  {
   "cell_type": "markdown",
   "metadata": {},
   "source": [
    "# Histograms"
   ]
  },
  {
   "cell_type": "code",
   "execution_count": null,
   "metadata": {},
   "outputs": [],
   "source": [
    "import numpy as np\n",
    "import math\n",
    "\n",
    "### Synthetic dataset check\n",
    "points = []\n",
    "all_points = []\n",
    "plane_idx = 0\n",
    "for tensor,label in train_dataset:\n",
    "    if int(label)==plane_idx:\n",
    "        points.append(tensor)\n",
    "    all_points.append(tensor)    \n",
    "# end for\n",
    "array_points = np.array(points).squeeze()\n",
    "points_in_0th_Gaussian = torch.from_numpy(array_points)\n",
    "shift_1 = my_dataset.shifts[0]\n",
    "\n",
    "deviations_squared = (points_in_0th_Gaussian - shift_1.T).norm(dim=1)**2\n",
    "\n",
    "fig, ax = plt.subplots()\n",
    "plt.title(f\"Squares of l2 norms of deviations in plane {plane_idx} \\nof the dataset\")\n",
    "ax.hist(deviations_squared,bins=round(math.sqrt(n)))\n",
    "plt.xlabel(\"Squared l2 norm of deviation\")\n",
    "#fig.text(0.0,-0.35, f\"Mean square of l2 norms of deviations:{deviations_squared.mean().item():.4f} \\nSet parameters: {k} Gaussian(s) defined in {d}-dimensional planes \\n are isometrically embedded into {D} dimensional space \\nEach Gaussian is of variance={var_class} and their means are randomly \\nsampled from $\\mathcal{{N}}(0,{intercl_var}\\cdot\\mathbf{{I}})$).\")\n",
    "fig.text(0.0,-0.15, f\"Mean square of l2 norms of deviations:{deviations_squared.mean().item():.4f} \\nSet params: n={n}, k={k}, d={d}, D={D}, $\\sigma$={var_class}, $\\sigma_{{I}}$={intercl_var}.\")\n",
    "plt.show()\n",
    "\n",
    "#torch.trace(torch.cov(points_in_0th_Gaussian.T))\n",
    "array_points = np.array(all_points).squeeze()\n",
    "all_points = torch.from_numpy(array_points)\n",
    "\n",
    "norms_squared = (all_points).norm(dim=1)**2\n",
    "\n",
    "fig, ax = plt.subplots()\n",
    "plt.title(f\"Squares of l2 norms of all points of the dataset\")\n",
    "ax.hist(norms_squared,bins=round(math.sqrt(n)))\n",
    "plt.xlabel(\"Squared l2 norm of a point\")\n",
    "#fig.text(0.0,-0.35, f\"Mean square of l2 norms of points in the set: {norms_squared.mean().item():.4f} \\nSet parameters: {k} Gaussian(s) defined in {d}-dimensional planes \\n are isometrically embedded into {D} dimensional space \\nEach Gaussian is of variance={var_class} and their means are randomly \\nsampled from $\\mathcal{{N}}(0,{intercl_var}\\cdot\\mathbf{{I}})$).\")\n",
    "fig.text(0.0,-0.15, f\"Mean square of l2 norms of points in the set: {norms_squared.mean().item():.4f} \\nSet params: n={n}, k={k}, d={d}, D={D}, $\\sigma$={var_class}, $\\sigma_{{I}}$={intercl_var}.\")\n",
    "plt.show()\n",
    "\n",
    "for plane_idx in range(k):\n",
    "    points =[]\n",
    "    for tensor,label in train_dataset:\n",
    "        if int(label)==plane_idx:\n",
    "            points.append(tensor)\n",
    "    # end for\n",
    "    array_points = np.array(points).squeeze()\n",
    "\n",
    "    m = len(array_points)\n",
    "    mean = torch.from_numpy((array_points.sum(axis=0))/m)\n",
    "     \n",
    "    print(f\"\\n Plane {plane_idx}.\")\n",
    "    print(f\"The mean L2 norm of of samples from plane {plane_idx}:\\n {mean.norm()}\")\n",
    "    print(f\"To be compared to its estimate (the norm of the random shift):\\n {my_dataset.shifts[plane_idx].norm()} ~sqrt(D): {math.sqrt(D)}\")\n",
    "\n",
    "    matrix_of_Gaussian_samples = torch.from_numpy(array_points)\n",
    "    cov_matrix = torch.cov(matrix_of_Gaussian_samples.T)\n",
    "    print(f\"Frobenius norm of the covariance matrix of samples from plane {plane_idx}:\\n {cov_matrix.norm()}\")\n",
    "    print(f'To be compared to its estimate ~var_class*sqrt(d):\\n {var_class*math.sqrt(d)}')\n",
    "# end for"
   ]
  },
  {
   "cell_type": "markdown",
   "metadata": {},
   "source": [
    "# Distance from the mean Heatmaps"
   ]
  },
  {
   "cell_type": "code",
   "execution_count": null,
   "metadata": {},
   "outputs": [],
   "source": [
    "shifts = my_dataset.shifts"
   ]
  },
  {
   "cell_type": "code",
   "execution_count": null,
   "metadata": {},
   "outputs": [],
   "source": [
    "data_for_plot = test_data\n",
    "\n",
    "#latent = encoder(data_for_plot[:][0].squeeze()).detach()\n",
    "labels = data_for_plot[:][1]\n",
    "int_labels = labels.to(int)\n",
    "init_data = data_for_plot[:][0]\n",
    "centers = []\n",
    "\n",
    "for label in int_labels:\n",
    "    centers.append(shifts[label])\n",
    "centers_tensor = torch.from_numpy(np.array(centers).squeeze())\n",
    "distances = torch.norm(init_data-centers_tensor,dim=1)"
   ]
  },
  {
   "cell_type": "code",
   "execution_count": null,
   "metadata": {},
   "outputs": [],
   "source": [
    "range(k)"
   ]
  },
  {
   "cell_type": "code",
   "execution_count": null,
   "metadata": {},
   "outputs": [],
   "source": [
    "plt.scatter( z_test[:,0], z_test[:,1], c=distances, alpha=0.5, marker='o', edgecolor='none', cmap='jet')\n",
    "# use for logscale: norm=matplotlib.colors.LogNorm()\n",
    "plt.title( \"TSNE embedding of the \\n Synthetic dataset\")\n",
    "plt.colorbar(label=\"Distance to cloud center\",orientation='vertical',shrink = 0.7)\n",
    "plt.show()"
   ]
  },
  {
   "cell_type": "code",
   "execution_count": null,
   "metadata": {},
   "outputs": [],
   "source": [
    "plt.scatter( encoded_points[:,0], encoded_points[:,1], c=distances, alpha=0.5, marker='o', edgecolor='none', cmap='jet')\n",
    "# use for logscale: norm=matplotlib.colors.LogNorm()\n",
    "plt.title( \"UMAP embedding of the \\n Synthetic dataset\")\n",
    "plt.colorbar(label=\"Distance to cloud center\",orientation='vertical',shrink = 0.7)\n",
    "plt.show()"
   ]
  },
  {
   "cell_type": "code",
   "execution_count": null,
   "metadata": {},
   "outputs": [],
   "source": [
    "D = 3\n",
    "k = 3 # num of 2d planes in dim D\n",
    "n = 6*(10**3) # num of points in each plane\n",
    "d = 2 # starting dimention of gaussians\n",
    "#n = 10**3 # num of points in each plane\n",
    "shift_class = 0\n",
    "intercl_var = 2 #initially 0.1\n",
    "var_class = 0.75\n",
    "torch.manual_seed(0) # reproducibility\n",
    "my_dataset = ricci_regularization.SyntheticDataset(k=k,n=n,d=d,D=D,\n",
    "                                    shift_class=shift_class, intercl_var=intercl_var, var_class = var_class)\n",
    "\n",
    "train_dataset = my_dataset.create\n",
    "\n",
    "split_ratio = 0.2\n",
    "m = len(train_dataset)\n",
    "train_data, test_data = torch.utils.data.random_split(train_dataset, [int(m-m*split_ratio), int(m*split_ratio)])\n",
    "\n",
    "shifts = my_dataset.shifts\n",
    "\n",
    "data_for_plot = test_data\n",
    "\n",
    "#latent = encoder(data_for_plot[:][0].squeeze()).detach()\n",
    "labels = data_for_plot[:][1]\n",
    "int_labels = labels.to(int)\n",
    "init_data = data_for_plot[:][0]\n",
    "centers = []\n",
    "\n",
    "for label in int_labels:\n",
    "    centers.append(shifts[label])\n",
    "centers_tensor = torch.from_numpy(np.array(centers).squeeze())\n",
    "distances = torch.norm(init_data-centers_tensor,dim=1)\n",
    "\n",
    "# only for D=3\n",
    "if D==3:\n",
    "    points = test_data[:][0].squeeze()\n",
    "    labels = test_data[:][1]\n",
    "    fig = plt.figure()\n",
    "    ax = fig.add_subplot(projection='3d')\n",
    "    plt.rcParams.update({'font.size': 20})\n",
    "    \n",
    "    plot = ax.scatter(points[:,0],\n",
    "               points[:,1],\n",
    "               points[:,2],\n",
    "               c=distances, s=15, alpha = 0.5,cmap='jet')\n",
    "    plt.colorbar(plot,label=\"Distance to cloud center\",orientation='vertical',shrink = 0.7,location='left')\n",
    "    plt.title(\"Synthetic dataset in 3d\")\n",
    "    ax.view_init(azim=145, elev=15)\n",
    "    plt.show()"
   ]
  },
  {
   "cell_type": "code",
   "execution_count": null,
   "metadata": {},
   "outputs": [],
   "source": []
  }
 ],
 "metadata": {
  "kernelspec": {
   "display_name": "pytorch",
   "language": "python",
   "name": "python3"
  },
  "language_info": {
   "codemirror_mode": {
    "name": "ipython",
    "version": 3
   },
   "file_extension": ".py",
   "mimetype": "text/x-python",
   "name": "python",
   "nbconvert_exporter": "python",
   "pygments_lexer": "ipython3",
   "version": "3.10.12"
  },
  "orig_nbformat": 4
 },
 "nbformat": 4,
 "nbformat_minor": 2
}
