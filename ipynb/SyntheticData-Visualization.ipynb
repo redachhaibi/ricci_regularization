{
 "cells": [
  {
   "attachments": {},
   "cell_type": "markdown",
   "metadata": {},
   "source": [
    "# I. Train and test datasets"
   ]
  },
  {
   "cell_type": "code",
   "execution_count": null,
   "metadata": {},
   "outputs": [],
   "source": [
    "# Hyperparameters for dataset\n",
    "\n",
    "D = 784 #dimension\n",
    "#D = 3\n",
    "k = 3 # num of 2d planes in dim D\n",
    "n = 6*(10**3) # num of points in each plane\n",
    "d = 2 # starting dimention of gaussians\n",
    "#n = 10**3 # num of points in each plane\n",
    "shift_class = 0\n",
    "intercl_var = 0.1 #initially 0.1\n",
    "\n",
    "\n",
    "# Hyperparameters for data loaders\n",
    "#batch_size  = 16\n",
    "split_ratio = 0.2\n",
    "\n",
    "# Set manual seed for reproducibility\n",
    "# torch.manual_seed(0)"
   ]
  },
  {
   "cell_type": "code",
   "execution_count": null,
   "metadata": {},
   "outputs": [],
   "source": [
    "# adding path to the set generating package\n",
    "import sys\n",
    "sys.path.append('../') # have to go 1 level up"
   ]
  },
  {
   "cell_type": "code",
   "execution_count": null,
   "metadata": {},
   "outputs": [],
   "source": [
    "import torch\n",
    "import ricci_regularization\n",
    "\n",
    "\n",
    "# Generate dataset\n",
    "# via classes\n",
    "torch.manual_seed(0) # reproducibility\n",
    "my_dataset = ricci_regularization.SyntheticDataset(k=k,n=n,d=d,D=D,\n",
    "                                    shift_class=shift_class, intercl_var=intercl_var)\n",
    "\n",
    "train_dataset = my_dataset.create\n",
    "\n",
    "m = len(train_dataset)\n",
    "train_data, test_data = torch.utils.data.random_split(train_dataset, [int(m-m*split_ratio), int(m*split_ratio)])\n"
   ]
  },
  {
   "attachments": {},
   "cell_type": "markdown",
   "metadata": {},
   "source": [
    "# II. Fit dimension reduction models"
   ]
  },
  {
   "cell_type": "code",
   "execution_count": null,
   "metadata": {},
   "outputs": [],
   "source": [
    "from sklearn.manifold import TSNE\n",
    "import matplotlib.pyplot as plt"
   ]
  },
  {
   "cell_type": "code",
   "execution_count": null,
   "metadata": {},
   "outputs": [],
   "source": [
    "def discrete_cmap(N, base_cmap=None):\n",
    "    \"\"\"Create an N-bin discrete colormap from the specified input map\"\"\"\n",
    "\n",
    "    # Note that if base_cmap is a string or None, you can simply do\n",
    "    return plt.cm.get_cmap(base_cmap, N)"
   ]
  },
  {
   "cell_type": "markdown",
   "metadata": {},
   "source": [
    "## II.1. TSNE check"
   ]
  },
  {
   "cell_type": "code",
   "execution_count": null,
   "metadata": {},
   "outputs": [],
   "source": [
    "# TNSE check on test set\n",
    "synthetic_points = test_data[:][0].view(-1,D)\n",
    "\n",
    "tsne   = TSNE(n_components=2, verbose=1, random_state=123)\n",
    "z_test = tsne.fit_transform(synthetic_points.numpy())"
   ]
  },
  {
   "cell_type": "code",
   "execution_count": null,
   "metadata": {},
   "outputs": [],
   "source": [
    "plt.rcParams.update({'font.size': 20}) # makes all fonts on the plot be 20\n",
    "plt.scatter( z_test[:,0], z_test[:,1], c=test_data[:][1], alpha=0.5, cmap=discrete_cmap(k,'jet'),marker='o',edgecolors=None )\n",
    "plt.title( \"t-SNE projection of the Synthetic dataset\")\n",
    "plt.colorbar(ticks=range(k),orientation='vertical',shrink = 0.7)\n",
    "plt.show()"
   ]
  },
  {
   "cell_type": "code",
   "execution_count": null,
   "metadata": {},
   "outputs": [],
   "source": [
    "# TNSE check on train set\n",
    "\"\"\"\n",
    "synthetic_points = train_data[:][0].view(-1,28*28)\n",
    "\n",
    "tsne   = TSNE(n_components=2, verbose=1, random_state=123)\n",
    "z_train = tsne.fit_transform(synthetic_points.numpy())\n",
    "\"\"\""
   ]
  },
  {
   "cell_type": "code",
   "execution_count": null,
   "metadata": {},
   "outputs": [],
   "source": [
    "\"\"\"\n",
    "plt.scatter( z_train[:,0], z_train[:,1], c=train_data[:][1], alpha=0.5 )\n",
    "plt.title( \"TSNE projection of train data\")\n",
    "plt.show()\n",
    "\"\"\""
   ]
  },
  {
   "cell_type": "markdown",
   "metadata": {},
   "source": [
    "### Plots using Seaborn"
   ]
  },
  {
   "cell_type": "code",
   "execution_count": null,
   "metadata": {},
   "outputs": [],
   "source": [
    "\"\"\"\n",
    "import pandas as pd \n",
    "\n",
    "# Format data\n",
    "df = pd.DataFrame()\n",
    "#df[\"y\"] = labels.numpy()\n",
    "df[\"y\"] = test_data[:][1].numpy() #test_data[:][1] are labels\n",
    "df[\"comp-1\"] = z_test[:,0]\n",
    "df[\"comp-2\"] = z_test[:,1]\n",
    "\n",
    "import seaborn as sns\n",
    "import numpy as np # this module is useful to work with numerical arrays\n",
    "sns.scatterplot(x=\"comp-1\", y=\"comp-2\", hue=df.y.tolist(),\n",
    "                palette=sns.color_palette(\"hls\", 10),\n",
    "                data=df).set(title=\"Synthetic dataset data T-SNE projection\")\n",
    "\"\"\""
   ]
  },
  {
   "cell_type": "markdown",
   "metadata": {},
   "source": [
    "## II.2. UMAP"
   ]
  },
  {
   "cell_type": "code",
   "execution_count": null,
   "metadata": {},
   "outputs": [],
   "source": [
    "points = test_data[:][0]\n",
    "labels = test_data[:][1]"
   ]
  },
  {
   "cell_type": "code",
   "execution_count": null,
   "metadata": {},
   "outputs": [],
   "source": [
    "points.shape"
   ]
  },
  {
   "cell_type": "code",
   "execution_count": null,
   "metadata": {},
   "outputs": [],
   "source": [
    "import umap\n",
    "\n",
    "mapper = umap.UMAP().fit(points)\n"
   ]
  },
  {
   "cell_type": "code",
   "execution_count": null,
   "metadata": {},
   "outputs": [],
   "source": [
    "encoded_points = mapper.embedding_"
   ]
  },
  {
   "cell_type": "code",
   "execution_count": null,
   "metadata": {},
   "outputs": [],
   "source": [
    "plt.rcParams.update({'font.size': 20}) # makes all fonts on the plot be 20\n",
    "plt.scatter( encoded_points[:,0], encoded_points[:,1], c=test_data[:][1], alpha=0.5, cmap=discrete_cmap(k,'jet'),marker='o',edgecolors=None )\n",
    "plt.title( \"UMAP embedding of the Synthetic dataset\")\n",
    "plt.colorbar(ticks=range(k),orientation='vertical',shrink = 0.7)\n",
    "plt.show()"
   ]
  },
  {
   "cell_type": "markdown",
   "metadata": {},
   "source": [
    "# III. 3D visualization"
   ]
  },
  {
   "cell_type": "code",
   "execution_count": null,
   "metadata": {},
   "outputs": [],
   "source": [
    "# only for D=3\n",
    "if D==3:\n",
    "    points = test_data[:][0].squeeze()\n",
    "    labels = test_data[:][1]\n",
    "    fig = plt.figure()\n",
    "    ax = fig.add_subplot(projection='3d')\n",
    "    plt.rcParams.update({'font.size': 20})\n",
    "    ax.scatter(points[:,0],\n",
    "               points[:,1],\n",
    "               points[:,2],\n",
    "               c=labels, s=30, alpha = 0.5,cmap=plt.cm.get_cmap('jet', k))\n",
    "    plt.title(\"Synthetic dataset in 3d\")\n",
    "    ax.view_init(azim=160, elev=55)\n",
    "    plt.show()"
   ]
  }
 ],
 "metadata": {
  "kernelspec": {
   "display_name": "pytorch",
   "language": "python",
   "name": "python3"
  },
  "language_info": {
   "codemirror_mode": {
    "name": "ipython",
    "version": 3
   },
   "file_extension": ".py",
   "mimetype": "text/x-python",
   "name": "python",
   "nbconvert_exporter": "python",
   "pygments_lexer": "ipython3",
   "version": "3.10.12"
  },
  "orig_nbformat": 4
 },
 "nbformat": 4,
 "nbformat_minor": 2
}
