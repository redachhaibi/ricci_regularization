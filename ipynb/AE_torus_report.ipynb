{
 "cells": [
  {
   "cell_type": "markdown",
   "metadata": {},
   "source": [
    "This notebook builds a report for pretrained torus AE.\n",
    "\n",
    "NB! All plots are only suitable for dimension of the latent space d=2.\n",
    "All plots are saved if 'violent_saving' == True.\n",
    "\n",
    "This notebook contains:\n",
    "\n",
    "0) Loading data and nn weights\n",
    "1) Data and reconstruction loss scatterplots\n",
    "2) Histograms of curvature values over data and over a dense grid\n",
    "3) Automatically scaled heatmaps over the latent space and scatterplots of datasets $\\{X_i\\}$ for :\n",
    "    1) absolute value of scalar curvature $|R(X_i)|$\n",
    "    2) scalar curvature $R(X_i)$\n",
    "    3) square root of metric matrix determinant $\\sqrt{\\mathrm{det}G(X_i)}$ \n",
    "    4) half trace of metric matrix: $0.5 \\cdot \\mathrm{tr}G(X_i)$\n",
    "4) Scatterplots of data vs heatmaps over the whole latent space. Unique colorbar scaling:\n",
    "    1) absolute value of scalar curvature $|R(X_i)|$\n",
    "    2) scalar curvature $R(X_i)$\n",
    "    3) square root of metric matrix determinant $\\sqrt{\\mathrm{det}G(X_i)}$ \n",
    "    4) half trace of metric matrix: $0.5 \\cdot \\mathrm{tr}G(X_i)$\n",
    "5) Jacobian of the encoder and decoder Frobenius norms\n",
    "6) Merge pdfs: All plots are mereged into a single report in pdf format if 'build_report' == True. "
   ]
  },
  {
   "cell_type": "code",
   "execution_count": null,
   "metadata": {},
   "outputs": [],
   "source": [
    "# prerequisites\n",
    "import matplotlib.pyplot as plt\n",
    "import torch\n",
    "import math\n",
    "import numpy as np\n",
    "from tqdm.notebook import tqdm\n",
    "from pypdf import PdfWriter\n",
    "import matplotlib\n",
    "import ricci_regularization\n",
    "import json, yaml\n",
    "import os\n",
    "\n",
    "from sklearn import datasets\n",
    "from torchvision import datasets, transforms"
   ]
  },
  {
   "cell_type": "markdown",
   "metadata": {},
   "source": [
    "# 0. Loading data and nn weights"
   ]
  },
  {
   "cell_type": "code",
   "execution_count": null,
   "metadata": {},
   "outputs": [],
   "source": [
    "\n",
    "violent_saving = True # if False it will not save plots\n",
    "build_report = True\n",
    "use_test_data_for_plots = True"
   ]
  },
  {
   "cell_type": "code",
   "execution_count": null,
   "metadata": {},
   "outputs": [],
   "source": [
    "#with open('../experiments/MNIST01_exp7_config.yaml', 'r') as yaml_file:\n",
    "with open('../experiments/Swissroll_exp1_config.yaml', 'r') as yaml_file:\n",
    "    yaml_config = yaml.load(yaml_file, Loader=yaml.FullLoader)"
   ]
  },
  {
   "cell_type": "code",
   "execution_count": null,
   "metadata": {},
   "outputs": [],
   "source": [
    "# Load data loaders based on YAML configuration\n",
    "dict = ricci_regularization.DataLoaders.get_dataloaders(\n",
    "    dataset_config=yaml_config[\"dataset\"],\n",
    "    data_loader_config=yaml_config[\"data_loader_settings\"]\n",
    ")\n",
    "train_loader = dict[\"train_loader\"]\n",
    "test_loader = dict[\"test_loader\"]\n",
    "test_dataset = dict.get(\"test_dataset\")  # Assuming 'test_dataset' is a key returned by get_dataloaders\n",
    "\n",
    "print(\"Data loaders created successfully.\")\n",
    "\n",
    "torus_ae = ricci_regularization.DataLoaders.get_tuned_nn(config=yaml_config)\n",
    "\n",
    "print(\"AE weights loaded successfully.\")"
   ]
  },
  {
   "cell_type": "code",
   "execution_count": null,
   "metadata": {},
   "outputs": [],
   "source": [
    "experiment_name = yaml_config[\"experiment\"][\"name\"]\n",
    "\n",
    "#Path_pictures = yaml_config[\"experiment\"][\"path\"]\n",
    "Path_pictures = \"../experiments/\" + yaml_config[\"experiment\"][\"name\"]\n",
    "if violent_saving == True:\n",
    "    # Check and create directories based on configuration\n",
    "    if not os.path.exists(Path_pictures):  # Check if the picture path does not exist\n",
    "        os.mkdir(Path_pictures)  # Create the directory for plots if not yet created\n",
    "        print(f\"Created directory: {Path_pictures}\")  # Print directory creation feedback\n",
    "    else:\n",
    "        print(f\"Directiry already exists: {Path_pictures}\")\n",
    "\n",
    "curv_w = yaml_config[\"loss_settings\"][\"lambda_curv\"]\n",
    "\n",
    "dataset_name = yaml_config[\"dataset\"][\"name\"]\n",
    "D = yaml_config[\"architecture\"][\"input_dim\"]\n",
    "# D is the dimension of the dataset\n",
    "if dataset_name in [\"MNIST\", \"MNIST01\", \"Synthetic\"]:\n",
    "    # k from the JSON configuration file is the number of classes\n",
    "    #k = yaml_config[\"dataset\"][\"k\"]\n",
    "    k = len(yaml_config[\"dataset\"][\"selected_labels\"])\n",
    "    selected_labels = yaml_config[\"dataset\"][\"selected_labels\"]\n",
    "print(\"Experiment name:\", experiment_name)\n",
    "print(\"Plots saved at:\", Path_pictures)"
   ]
  },
  {
   "cell_type": "code",
   "execution_count": null,
   "metadata": {},
   "outputs": [],
   "source": [
    "\"\"\"\n",
    "# oldstyle loading using json\n",
    "#experiment_json = f'../experiments/MNIST01_torus_AEexp7.json'\n",
    "experiment_json = f'../experiments/Swissroll_torus_AEexp86.json'\n",
    "mydict = ricci_regularization.get_dataloaders_tuned_nn(Path_experiment_json=experiment_json)\n",
    "\n",
    "torus_ae = mydict[\"tuned_neural_network\"]\n",
    "train_loader = mydict[\"train_loader\"]\n",
    "test_loader = mydict[\"test_loader\"]\n",
    "json_config = mydict[\"json_config\"]\n",
    "Path_pictures = json_config[\"Path_pictures\"]\n",
    "Path_experiments = json_config[\"Path_experiments\"]\n",
    "experiment_name = json_config[\"experiment_name\"]\n",
    "experiment_number = json_config[\"experiment_number\"]\n",
    "try:\n",
    "    curv_w = json_config[\"losses\"][\"curv_w\"]\n",
    "except KeyError:\n",
    "    curv_w = json_config[\"optimization_parameters\"][\"curv_w\"]\n",
    "\n",
    "dataset_name = json_config[\"dataset\"][\"name\"]\n",
    "D = json_config[\"architecture\"][\"input_dim\"]\n",
    "# D is the dimension of the dataset\n",
    "if dataset_name == \"MNIST\" or dataset_name == \"MNIST01\" or dataset_name == \"Synthetic\":\n",
    "    # k from the JSON configuration file is the number of classes\n",
    "    k = json_config[\"dataset\"][\"parameters\"][\"k\"]\n",
    "    selected_labels = json_config[\"dataset\"][\"selected_labels\"]\n",
    "\n",
    "# DUMP ONLY REPORTING PARTS to include in the pdf report\n",
    "try:\n",
    "    keys2print = ['experiment_name','experiment_number','dataset',\n",
    " 'architecture', 'optimization_parameters', 'losses', 'OOD_parameters', 'training_results_on_test_data']\n",
    "    json_config2print = {key : json_config[key] for key in keys2print}\n",
    "except KeyError:\n",
    "    keys2print = [\"experiment_name\",\"experiment_number\",\"dataset\", \"optimization_parameters\"]\n",
    "    json_config2print = {key : json_config[key] for key in keys2print}\n",
    "print(json_config2print)\n",
    "\"\"\""
   ]
  },
  {
   "cell_type": "markdown",
   "metadata": {},
   "source": [
    "# 1. Data and reconstruction loss scatterplots"
   ]
  },
  {
   "cell_type": "code",
   "execution_count": null,
   "metadata": {},
   "outputs": [],
   "source": [
    "\"\"\"\n",
    "#inspiration for torus_ae.encoder2lifting\n",
    "def circle2anglevectorized(zLatentTensor,Z_DIM = Z_DIM):\n",
    "    cosphi = zLatentTensor[:, 0:Z_DIM]\n",
    "    sinphi = zLatentTensor[:, Z_DIM:2*Z_DIM]\n",
    "    phi = torch.acos(cosphi)*torch.sgn(torch.asin(sinphi))\n",
    "    return phi\n",
    "\"\"\""
   ]
  },
  {
   "cell_type": "code",
   "execution_count": null,
   "metadata": {},
   "outputs": [],
   "source": [
    "# choose train or test loader\n",
    "if use_test_data_for_plots == True:\n",
    "    loader = test_loader\n",
    "else:\n",
    "    loader = train_loader\n",
    "#zlist = []\n",
    "torus_ae.cpu()\n",
    "colorlist = []\n",
    "enc_list = []\n",
    "input_dataset_list = []\n",
    "recon_dataset_list = []\n",
    "#for (data, labels) in tqdm( test_loader, position=0 ):\n",
    "for (data, labels) in tqdm( loader, position=0 ):\n",
    "    input_dataset_list.append(data)\n",
    "    recon_dataset_list.append(torus_ae(data)[0])\n",
    "    #zlist.append(vae(data)[1])\n",
    "    enc_list.append(torus_ae.encoder2lifting(data.view(-1,D)))\n",
    "    colorlist.append(labels) "
   ]
  },
  {
   "cell_type": "code",
   "execution_count": null,
   "metadata": {},
   "outputs": [],
   "source": [
    "#x = torch.cat(zlist)\n",
    "#enc = circle2anglevectorized(x).detach()\n",
    "input_dataset = torch.cat(input_dataset_list)\n",
    "recon_dataset = torch.cat(recon_dataset_list)\n",
    "encoded_points = torch.cat(enc_list)\n",
    "encoded_points_no_grad = encoded_points.detach()\n",
    "color_array = torch.cat(colorlist).detach()\n",
    "#assert torch.equal(enc,enc_tensor)\n",
    "\n",
    "# latent \\in [-1,1]. grid reparametrization for plotting\n",
    "encoded_points_no_grad = encoded_points_no_grad/math.pi"
   ]
  },
  {
   "cell_type": "code",
   "execution_count": null,
   "metadata": {},
   "outputs": [],
   "source": [
    "plt.rcParams.update({'font.size': 20})\n",
    "plt.figure(figsize=(9, 9),dpi=400)\n",
    "\n",
    "if dataset_name == \"Swissroll\":\n",
    "    plt.scatter(encoded_points_no_grad[:,0],encoded_points_no_grad[:,1], c=color_array, marker='o', edgecolor='none', cmap= 'jet')\n",
    "else:\n",
    "    plt.scatter(encoded_points_no_grad[:,0],encoded_points_no_grad[:,1], c=color_array, marker='o', edgecolor='none', cmap=ricci_regularization.discrete_cmap(k, 'jet'))\n",
    "    #plt.colorbar(ticks=range(k))\n",
    "plt.xticks([-1.,-0.5,0.,0.5,1.])\n",
    "plt.yticks([-1.,-0.5,0.,0.5,1.])\n",
    "plt.ylim(-1., 1.)\n",
    "plt.xlim(-1., 1.)\n",
    "plt.grid(True)\n",
    "if violent_saving == True: \n",
    "    plt.savefig(f\"{Path_pictures}/latent_space.pdf\",format=\"pdf\",bbox_inches='tight')\n",
    "plt.savefig(f\"{Path_pictures}/latent_space_{experiment_name}.jpg\",bbox_inches='tight', format=\"jpeg\")"
   ]
  },
  {
   "cell_type": "code",
   "execution_count": null,
   "metadata": {},
   "outputs": [],
   "source": [
    "if dataset_name == \"MNIST\" or dataset_name == \"MNIST01\":\n",
    "    test_dataset  = datasets.MNIST(root='../datasets/', train=False, transform=transforms.ToTensor(), download=False)\n",
    "    p = ricci_regularization.plot_ae_outputs_selected(test_dataset=test_dataset, encoder=torus_ae.encoder2lifting,decoder=torus_ae.decoder_torus,selected_labels=selected_labels)\n",
    "    if violent_saving == True:\n",
    "        p.savefig(f\"{Path_pictures}/recon_images.jpg\",bbox_inches='tight', format=\"jpeg\")"
   ]
  },
  {
   "cell_type": "markdown",
   "metadata": {},
   "source": [
    "## Reconstruction loss computation"
   ]
  },
  {
   "cell_type": "code",
   "execution_count": null,
   "metadata": {},
   "outputs": [],
   "source": [
    "abs_error_tensor = input_dataset.view(-1,D) - recon_dataset\n",
    "mse_array = abs_error_tensor.norm(dim=1).detach()\n",
    "mse_array = mse_array**2/D\n",
    "#torch.nn.functional.mse_loss(input_dataset.view(-1,D)[0],recon_dataset[0],reduction='mean')"
   ]
  },
  {
   "cell_type": "markdown",
   "metadata": {},
   "source": [
    "## Metric losses computation"
   ]
  },
  {
   "cell_type": "code",
   "execution_count": null,
   "metadata": {},
   "outputs": [],
   "source": [
    "curvature_array = ricci_regularization.Sc_jacfwd_vmap(encoded_points,function=torus_ae.decoder_torus).detach()\n",
    "metric_array = ricci_regularization.metric_jacfwd_vmap(encoded_points,function=torus_ae.decoder_torus).detach()\n",
    "det_array = torch.det(metric_array)\n",
    "trace_array = torch.einsum('jii->j',metric_array)"
   ]
  },
  {
   "cell_type": "code",
   "execution_count": null,
   "metadata": {},
   "outputs": [],
   "source": [
    "# latent \\in [-\\pi,\\pi]. grid parameteres for evaluation.\n",
    "latent = encoded_points_no_grad\n",
    "left = latent[:,0].min()\n",
    "right = latent[:,0].max()\n",
    "bottom = latent[:,1].min()\n",
    "top = latent[:,1].max()\n",
    "\n",
    "xsize = right - left\n",
    "ysize = top - bottom\n",
    "xcenter = 0.5*(left + right)\n",
    "ycenter = 0.5*(bottom + top)"
   ]
  },
  {
   "cell_type": "code",
   "execution_count": null,
   "metadata": {},
   "outputs": [],
   "source": [
    "linsize = 200 #200\n",
    "\n",
    "grid_on_ls = ricci_regularization.make_grid(linsize,xsize=xsize,ysize=ysize,xcenter=xcenter,ycenter=ycenter)\n",
    "\n",
    "grid_numpoints = grid_on_ls.shape[0]\n",
    "bs = 4000\n",
    "metric_det_list = []\n",
    "metric_trace_list = []\n",
    "curv_list = []\n",
    "for i in range(grid_numpoints//bs):\n",
    "    batch_of_grid = grid_on_ls[i*bs:(i+1)*bs]\n",
    "    metric_on_batch_of_grid = ricci_regularization.metric_jacfwd_vmap(batch_of_grid,function=torus_ae.decoder_torus)\n",
    "    metric_det_on_batch_of_grid = torch.det(metric_on_batch_of_grid)\n",
    "    metric_trace_on_batch_of_grid = torch.func.vmap(torch.trace)(metric_on_batch_of_grid)\n",
    "    curv_on_batch_of_grid = ricci_regularization.Sc_jacfwd_vmap(batch_of_grid, function = torus_ae.decoder_torus)\n",
    "    metric_det_list.append(metric_det_on_batch_of_grid.tolist())\n",
    "    metric_trace_list.append(metric_trace_on_batch_of_grid.tolist())\n",
    "    curv_list.append(curv_on_batch_of_grid.tolist())\n",
    "metric_det_on_grid = np.concatenate(metric_det_list)\n",
    "metric_trace_on_grid = np.concatenate(metric_trace_list)\n",
    "curv_on_the_grid = np.concatenate(curv_list)\n",
    "\"\"\"\n",
    "metric_on_grid = ricci_regularization.metric_jacfwd_vmap(grid_on_ls,function=torus_ae.decoder_torus)\n",
    "metric_det_on_grid = torch.det(metric_on_grid)\n",
    "metric_trace_on_grid = torch.func.vmap(torch.trace)(metric_on_grid)\n",
    "curv_on_the_grid = ricci_regularization.Sc_jacfwd_vmap(grid_on_ls,device = torch.device(\"cpu\"), function = torus_ae.decoder_torus)\n",
    "\"\"\""
   ]
  },
  {
   "cell_type": "code",
   "execution_count": null,
   "metadata": {},
   "outputs": [],
   "source": [
    "# latent \\in [-1,1]. grid reparametrization for plotting\n",
    "#encoded_points_no_grad = encoded_points_no_grad/math.pi\n",
    "latent = encoded_points_no_grad\n",
    "left = latent[:,0].min()\n",
    "right = latent[:,0].max()\n",
    "bottom = latent[:,1].min()\n",
    "top = latent[:,1].max()\n",
    "\n",
    "xsize = right - left\n",
    "ysize = top - bottom\n",
    "xcenter = 0.5*(left + right)\n",
    "ycenter = 0.5*(bottom + top)"
   ]
  },
  {
   "cell_type": "markdown",
   "metadata": {},
   "source": [
    "## Losses plotting"
   ]
  },
  {
   "cell_type": "code",
   "execution_count": null,
   "metadata": {},
   "outputs": [],
   "source": [
    "# (generate plot here)\n",
    "\n",
    "plt.rcParams.update({'font.size': 16})\n",
    "\n",
    "size_of_points = 20\n",
    "fig, (ax00,ax0)= plt.subplots(ncols=2, nrows=1,figsize=(15,6),dpi=300)\n",
    "# (ax3,ax4) can  be added\n",
    "\n",
    "fig.tight_layout(pad=2.0)\n",
    "\n",
    "ax00.title.set_text(\"AE latent space\")\n",
    "if dataset_name == \"Synthetic\" or dataset_name == \"MNIST\":\n",
    "    p00 = ax00.scatter( encoded_points_no_grad[:,0], encoded_points_no_grad[:,1], c=color_array, alpha=0.5, s = size_of_points, marker='o', edgecolor='none', cmap=ricci_regularization.discrete_cmap(k, \"jet\"))\n",
    "    fig.colorbar(p00,label=\"initial color\", ticks=(np.arange(k)))    \n",
    "else:\n",
    "    p00 = ax00.scatter( encoded_points_no_grad[:,0], encoded_points_no_grad[:,1], c=color_array, alpha=0.5, s = size_of_points, marker='o', edgecolor='none', cmap='jet')\n",
    "    fig.colorbar(p00,label=\"initial color\")\n",
    "ax00.grid(True)\n",
    "ax0.title.set_text(\"Reconstruction loss\")\n",
    "p0 = ax0.scatter( encoded_points_no_grad[:,0], encoded_points_no_grad[:,1], c=mse_array, alpha=0.5, s = size_of_points, marker='o', edgecolor='none', cmap='jet',norm=matplotlib.colors.LogNorm())\n",
    "ax0.grid(True)\n",
    "cb = fig.colorbar(p0,label=\"squared l2 norm errors\")\n",
    "#tick_locator = ticker.MaxNLocator(nbins=10)\n",
    "#cb.locator = tick_locator\n",
    "#cb.update_ticks()\n",
    "\n",
    "if violent_saving == True:\n",
    "    fig.savefig(f'{Path_pictures}/init_colors_recon_loss.pdf',bbox_inches='tight',format='pdf')\n",
    "plt.show()"
   ]
  },
  {
   "cell_type": "markdown",
   "metadata": {},
   "source": [
    "# 3. Histograms of curvature values over data and over a dense grid"
   ]
  },
  {
   "cell_type": "code",
   "execution_count": null,
   "metadata": {},
   "outputs": [],
   "source": [
    "plt.title(f\"Histogram of curvature values over {len(curvature_array)} test data samples\")\n",
    "plt.hist(curvature_array, bins = math.ceil(math.sqrt(curvature_array.shape[0])))\n",
    "plt.show()"
   ]
  },
  {
   "cell_type": "code",
   "execution_count": null,
   "metadata": {},
   "outputs": [],
   "source": [
    "plt.title(\"Histogram of curvature values over grid cells \\n\" + rf\"of ${linsize}\\times{linsize}$ grid test data samples\")\n",
    "plt.hist(curv_on_the_grid, bins = 200)\n",
    "plt.show()"
   ]
  },
  {
   "cell_type": "markdown",
   "metadata": {},
   "source": [
    "# 4. Automatically scaled heatmaps over the latent space and scatterplots of datasets $\\{X_i\\}$"
   ]
  },
  {
   "cell_type": "code",
   "execution_count": null,
   "metadata": {},
   "outputs": [],
   "source": [
    "#xcenter = 0.0 \n",
    "#ycenter = 0.0\n",
    "xshift = 0.0\n",
    "yshift = 0.0\n",
    "numticks = 5\n",
    "if dataset_name == \"Synthetic\":\n",
    "    tick_decimals = 2\n",
    "else:\n",
    "    tick_decimals = 1\n",
    "plt.rcParams.update({'font.size': 16})\n",
    "\n",
    "fig, ((ax1, ax2), (ax3, ax4)) = plt.subplots(ncols=2, nrows=2, figsize=(15,12),dpi=300)\n",
    "\n",
    "fig.tight_layout(pad=2.0)\n",
    "\n",
    "xticks = np.linspace(xcenter - 0.5*xsize, xcenter + 0.5*xsize, numticks) \n",
    "yticks = np.linspace(ycenter - 0.5*ysize, ycenter + 0.5*ysize, numticks)\n",
    "\n",
    "xtick_labels = (xticks+xshift).tolist()\n",
    "ytick_labels = (yticks+yshift).tolist()\n",
    "\n",
    "xtick_labels = [ '%.{0}f'.format(tick_decimals) % elem for elem in xtick_labels ]\n",
    "ytick_labels = [ '%.{0}f'.format(tick_decimals) % elem for elem in ytick_labels]\n",
    "\n",
    "ticks_places = np.linspace(0, 1, numticks)*(linsize-1)\n",
    "\n",
    "im1 = ax1.imshow(abs(curv_on_the_grid.reshape(linsize,linsize)),\n",
    "                 origin=\"lower\",cmap=\"jet\",\n",
    "                 norm = matplotlib.colors.LogNorm())\n",
    "fig.colorbar(im1,ax = ax1, shrink = 1, label = \"curvature abs value\")\n",
    "ax1.set_title(\"Absolute value of scalar curvature\")\n",
    "\n",
    "im2 = ax2.imshow(curv_on_the_grid.reshape(linsize,linsize),\n",
    "                 origin=\"lower\",cmap=\"jet\",\n",
    "                 norm = matplotlib.colors.SymLogNorm(linthresh=abs(0.01*curv_on_the_grid.mean()).item()))\n",
    "fig.colorbar(im2,ax = ax2, shrink = 1, label = \"curvature\")\n",
    "ax2.set_title(\"Scalar curvature\")\n",
    "\n",
    "im3 = ax3.imshow((np.sqrt(metric_det_on_grid)).reshape(linsize,linsize),\n",
    "                 origin=\"lower\",cmap=\"jet\",norm = None)\n",
    "fig.colorbar(im3,ax = ax3, shrink = 1, label = \"$\\sqrt{det(G)}$\")\n",
    "ax3.set_title(\"$\\sqrt{det(G)}$\")\n",
    "\n",
    "im4 = ax4.imshow((0.5*(metric_trace_on_grid)).reshape(linsize,linsize),\n",
    "                 origin=\"lower\",cmap=\"jet\",norm = None)\n",
    "fig.colorbar(im4, ax = ax4, shrink = 1, label = \"0.5$\\cdot$tr(G)\")\n",
    "ax4.set_title(\"0.5$\\cdot$tr(G)\")\n",
    "\n",
    "axs = (ax1, ax2, ax3, ax4)\n",
    "for ax in axs:\n",
    "    ax.set_xticks(ticks_places,labels = xtick_labels)\n",
    "    ax.set_yticks(ticks_places,labels = ytick_labels)\n",
    "\n",
    "if violent_saving == True:\n",
    "    plt.savefig(f'{Path_pictures}/heatmaps_not_scaled.pdf',bbox_inches='tight',format='pdf')\n",
    "plt.show()"
   ]
  },
  {
   "cell_type": "markdown",
   "metadata": {},
   "source": [
    "# 5. Scatterplots of data vs heatmaps over the whole latent space. Unique colorbar scaling"
   ]
  },
  {
   "cell_type": "code",
   "execution_count": null,
   "metadata": {},
   "outputs": [],
   "source": [
    "max_curvature = curv_on_the_grid.max().item()\n",
    "min_curvature = curv_on_the_grid.min().item()\n",
    "linthresh_curvature = 0.01*abs(curv_on_the_grid.mean()).item()\n",
    "linthresh_curvature\n",
    "\n",
    "max_abs_curvature = abs(curv_on_the_grid).max().item()\n",
    "min_abs_curvature = 0.01*abs(curv_on_the_grid).mean().item()"
   ]
  },
  {
   "cell_type": "code",
   "execution_count": null,
   "metadata": {},
   "outputs": [],
   "source": [
    "# Create a 2x2 grid of subplots with specified figure size and resolution\n",
    "fig, ((ax1, ax2), (ax3, ax4)) = plt.subplots(ncols=2, nrows=2, figsize=(15, 12), dpi=300)\n",
    "\n",
    "# Adjust layout to prevent overlap between subplots\n",
    "fig.tight_layout(pad=2.0)\n",
    "\n",
    "# Define x and y ticks for the plots\n",
    "xticks = np.linspace(xcenter - 0.5 * xsize, xcenter + 0.5 * xsize, numticks)\n",
    "yticks = np.linspace(ycenter - 0.5 * ysize, ycenter + 0.5 * ysize, numticks)\n",
    "\n",
    "# Adjust ticks with shifts and format labels with specified decimal places\n",
    "xtick_labels = (xticks + xshift).tolist()\n",
    "ytick_labels = (yticks + yshift).tolist()\n",
    "xtick_labels = ['%.{0}f'.format(tick_decimals) % elem for elem in xtick_labels]\n",
    "ytick_labels = ['%.{0}f'.format(tick_decimals) % elem for elem in ytick_labels]\n",
    "\n",
    "# Determine positions for ticks\n",
    "ticks_places = np.linspace(0, 1, numticks) * (linsize - 1)\n",
    "\n",
    "# Plot for ax1: Scatter plot of latent space colored by absolute value of curvature_array\n",
    "ax1.title.set_text(\"Absolute value of scalar curvature\")\n",
    "p1 = ax1.scatter(latent[:, 0], latent[:, 1], c=abs(curvature_array),\n",
    "                 alpha=1, s=size_of_points, marker='o',\n",
    "                 edgecolor='none', cmap='jet',\n",
    "                 norm=matplotlib.colors.LogNorm(vmin=min_abs_curvature,\n",
    "                                                vmax=max_abs_curvature))\n",
    "fig.colorbar(p1, label=\"curvature abs value\")\n",
    "\n",
    "# Plot for ax2: Image plot of absolute value of curv_on_the_grid reshaped to grid dimensions\n",
    "ax2.title.set_text(\"Absolute value of scalar curvature overall\")\n",
    "im1 = ax2.imshow(abs(curv_on_the_grid.reshape(linsize, linsize)),\n",
    "                 origin=\"lower\", cmap=\"jet\",\n",
    "                 norm=matplotlib.colors.LogNorm(vmin=min_abs_curvature,\n",
    "                                                 vmax=max_abs_curvature))\n",
    "fig.colorbar(im1, ax=ax2, shrink=1, label=\"curvature abs value\")\n",
    "ax2.set_title(\"Absolute value of scalar curvature overall\")\n",
    "\n",
    "# Plot for ax3: Scatter plot of latent space colored by curvature_array\n",
    "ax3.title.set_text(\"Scalar curvature\")\n",
    "p2 = ax3.scatter(latent[:, 0], latent[:, 1], c=curvature_array,\n",
    "                 alpha=1, s=size_of_points, marker='o',\n",
    "                 edgecolor='none', cmap='jet',\n",
    "                 norm=matplotlib.colors.SymLogNorm(linthresh=linthresh_curvature,\n",
    "                                                    vmin=min_curvature,\n",
    "                                                    vmax=max_curvature))\n",
    "fig.colorbar(p2, label=\"curvature\")\n",
    "\n",
    "# Plot for ax4: Image plot of curv_on_the_grid reshaped to grid dimensions\n",
    "ax4.title.set_text(\"Scalar curvature overall\")\n",
    "im2 = ax4.imshow(curv_on_the_grid.reshape(linsize, linsize),\n",
    "                 origin=\"lower\", cmap=\"jet\",\n",
    "                 norm=matplotlib.colors.SymLogNorm(linthresh=linthresh_curvature,\n",
    "                                                    vmin=min_curvature,\n",
    "                                                    vmax=max_curvature))\n",
    "fig.colorbar(im2, ax=ax4, shrink=1, label=\"curvature\")\n",
    "ax4.set_title(\"Scalar curvature overall\")\n",
    "\n",
    "# Adjust limits and ticks for ax1 and ax3\n",
    "axs = (ax1, ax3)\n",
    "for ax in axs:\n",
    "    ax.set_ylim(bottom, top)\n",
    "    ax.set_xlim(left, right)\n",
    "    ax.set_xticks(list(map(float, xtick_labels)), labels=xtick_labels)\n",
    "    ax.set_yticks(list(map(float, ytick_labels)), labels=ytick_labels)\n",
    "\n",
    "# Adjust ticks for ax2 and ax4\n",
    "axs = (ax2, ax4)\n",
    "for ax in axs:\n",
    "    ax.set_xticks(ticks_places, labels=xtick_labels)\n",
    "    ax.set_yticks(ticks_places, labels=ytick_labels)\n",
    "\n",
    "# Save the figure if violent_saving is set to True\n",
    "if violent_saving == True:\n",
    "    plt.savefig(f'{Path_pictures}/curvature_heatmaps.pdf', bbox_inches='tight', format='pdf')\n",
    "\n",
    "# Display the plot\n",
    "plt.show()\n"
   ]
  },
  {
   "cell_type": "markdown",
   "metadata": {},
   "source": [
    "## Metric losses: "
   ]
  },
  {
   "cell_type": "code",
   "execution_count": null,
   "metadata": {},
   "outputs": [],
   "source": [
    "# Create a 2x2 grid of subplots with specified figure size and resolution\n",
    "fig, ((ax1, ax3), (ax2, ax4)) = plt.subplots(ncols=2, nrows=2, figsize=(15, 12), dpi=300)\n",
    "\n",
    "# Adjust layout to prevent overlap between subplots\n",
    "fig.tight_layout(pad=2.0)\n",
    "\n",
    "# Plot for ax1: Scatter plot of latent space colored by the square root of the determinant of the metric tensor\n",
    "ax1.title.set_text(\"$\\sqrt{det(G)}$\")\n",
    "p = ax1.scatter(latent[:, 0], latent[:, 1],\n",
    "                c=torch.sqrt(abs(det_array)), alpha=1, s=size_of_points, \n",
    "                marker='o', edgecolor='none', cmap='jet',\n",
    "                vmax=np.sqrt(metric_det_on_grid.max()))\n",
    "fig.colorbar(p, label=\"$\\sqrt{det(G)}$\")\n",
    "\n",
    "# Plot for ax2: Scatter plot of latent space colored by half the trace of the metric tensor\n",
    "ax2.title.set_text(\"0.5$\\cdot$tr(G)\")\n",
    "q = ax2.scatter(latent[:, 0], latent[:, 1], \n",
    "                c=0.5 * trace_array, alpha=1, s=size_of_points, \n",
    "                marker='o', edgecolor='none', cmap='jet',\n",
    "                vmax=0.5 * metric_trace_on_grid.max().item())\n",
    "fig.colorbar(q, label=\"0.5$\\cdot$tr(G)\")\n",
    "\n",
    "# Plot for ax3: Image plot of the square root of the determinant of the metric tensor grid\n",
    "im3 = ax3.imshow((np.sqrt(metric_det_on_grid)).reshape(linsize, linsize),\n",
    "                 origin=\"lower\", cmap=\"jet\", norm=None)\n",
    "fig.colorbar(im3, ax=ax3, shrink=1, label=\"$\\sqrt{det(G)}$\")\n",
    "ax3.set_title(\"$\\sqrt{det(G)}$\")\n",
    "\n",
    "# Plot for ax4: Image plot of half the trace of the metric tensor grid\n",
    "im4 = ax4.imshow((0.5 * metric_trace_on_grid).reshape(linsize, linsize),\n",
    "                 origin=\"lower\", cmap=\"jet\", norm=None,\n",
    "                 vmax=0.5 * metric_trace_on_grid.max().item())\n",
    "fig.colorbar(im4, ax=ax4, shrink=1, label=\"0.5$\\cdot$tr(G)\")\n",
    "ax4.set_title(\"0.5$\\cdot$tr(G)\")\n",
    "\n",
    "# Setting ticks and labels for image plots (ax3 and ax4)\n",
    "axs = (ax3, ax4)\n",
    "for ax in axs:\n",
    "    ax.set_xticks(ticks_places, labels=xtick_labels)\n",
    "    ax.set_yticks(ticks_places, labels=ytick_labels)\n",
    "\n",
    "# Setting limits and ticks for scatter plots (ax1 and ax2)\n",
    "axs = (ax1, ax2)\n",
    "for ax in axs:\n",
    "    ax.set_ylim(bottom, top)\n",
    "    ax.set_xlim(left, right)\n",
    "    ax.set_xticks(list(map(float, xtick_labels)), labels=xtick_labels)\n",
    "    ax.set_yticks(list(map(float, ytick_labels)), labels=ytick_labels)\n",
    "\n",
    "# Save the figure if violent_saving is set to True\n",
    "if violent_saving == True:\n",
    "    # plt.savefig(f'{Path_pictures}/metric_det_trace.eps', bbox_inches='tight', format='eps')\n",
    "    plt.savefig(f'{Path_pictures}/metric_det_trace.pdf', bbox_inches='tight', format='pdf')\n",
    "\n",
    "# Display the figure\n",
    "plt.show()\n"
   ]
  },
  {
   "cell_type": "markdown",
   "metadata": {},
   "source": [
    "# 6. Jacobian of the encoder and decoder Frobenius norms"
   ]
  },
  {
   "cell_type": "code",
   "execution_count": null,
   "metadata": {},
   "outputs": [],
   "source": [
    "validation_set_size_limit = 4000\n",
    "metric_array_encoder = ricci_regularization.metric_jacrev_vmap(input_dataset[:validation_set_size_limit],function=torus_ae.encoder2lifting,latent_space_dim=D).detach()\n",
    "trace_array_encoder = torch.einsum('jii->j',metric_array_encoder)"
   ]
  },
  {
   "cell_type": "code",
   "execution_count": null,
   "metadata": {},
   "outputs": [],
   "source": [
    "fig, axes = plt.subplots(ncols=2,nrows=1, figsize=(15,6))\n",
    "p0 = axes[1].scatter( latent[:,0], latent[:,1],\n",
    "                c=trace_array, alpha=1, s = size_of_points, \n",
    "                marker='o', edgecolor='none', cmap='jet', norm= matplotlib.colors.LogNorm())\n",
    "cb0 = plt.colorbar(p0, label=r\"$\\|\\nabla \\Psi \\|_F = \\mathrm{tr} (G) $\")\n",
    "axes[1].set_title(\"Jacobian of the decoder\")\n",
    "\n",
    "p1 = axes[0].scatter( latent[:validation_set_size_limit,0], latent[:validation_set_size_limit,1],\n",
    "                c=trace_array_encoder, alpha=1, s = size_of_points, \n",
    "                marker='o', edgecolor='none', cmap='jet',norm= matplotlib.colors.LogNorm())\n",
    "cb1 = plt.colorbar(p1, label=r\"$\\|\\nabla \\Phi \\|_F$\")\n",
    "axes[0].set_title(\"Jacobian of the encoder\")\n",
    "if violent_saving == True:\n",
    "    plt.savefig(f'{Path_pictures}/jac_norms_encoder_decoder.pdf',bbox_inches='tight',format='pdf')\n",
    "plt.show()"
   ]
  },
  {
   "cell_type": "markdown",
   "metadata": {},
   "source": [
    "# 7. Merge pdfs"
   ]
  },
  {
   "cell_type": "code",
   "execution_count": null,
   "metadata": {},
   "outputs": [],
   "source": [
    "if build_report == True:\n",
    "    #pdfs = [f\"{Path_pictures}/hyperparameters_exp{experiment_number}.pdf\",f'{Path_pictures}/losses_exp{experiment_number}.pdf',f'{Path_pictures}/init_colors_recon_loss.pdf', f'{Path_pictures}/curvature_heatmaps.pdf', f'{Path_pictures}/metric_det_trace.pdf', f'{Path_pictures}/jac_norms_encoder_decoder.pdf']\n",
    "    pdfs = [f'{Path_pictures}/losses.pdf',f'{Path_pictures}/init_colors_recon_loss.pdf', f'{Path_pictures}/curvature_heatmaps.pdf', f'{Path_pictures}/metric_det_trace.pdf', f'{Path_pictures}/jac_norms_encoder_decoder.pdf']\n",
    "    merger = PdfWriter()\n",
    "\n",
    "    for pdf in pdfs:\n",
    "        merger.append(pdf)\n",
    "\n",
    "    merger.write(f\"{Path_pictures}/report_{experiment_name}.pdf\")\n",
    "    merger.close()\n"
   ]
  }
 ],
 "metadata": {
  "kernelspec": {
   "display_name": ".venv_ricci2024",
   "language": "python",
   "name": "python3"
  },
  "language_info": {
   "codemirror_mode": {
    "name": "ipython",
    "version": 3
   },
   "file_extension": ".py",
   "mimetype": "text/x-python",
   "name": "python",
   "nbconvert_exporter": "python",
   "pygments_lexer": "ipython3",
   "version": "3.10.12"
  },
  "orig_nbformat": 4
 },
 "nbformat": 4,
 "nbformat_minor": 2
}
