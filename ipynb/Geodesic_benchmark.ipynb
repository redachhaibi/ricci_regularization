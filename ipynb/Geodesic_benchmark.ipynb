{
 "cells": [
  {
   "cell_type": "markdown",
   "metadata": {},
   "source": [
    "NB! Stochman pachage is required.\n",
    "Type: pip install stochman\n",
    "\n",
    "This notebook consists of:\n",
    "\n",
    "0) Imports. Loading AE weights.\n",
    "1) Demo: a geodesic connecting two poinnts (geodesic bvp via Stochman).\n",
    "2) Grid of geodesics in latent space (parallelized computation): setting grid parameters + plotting.\n",
    "3) Logarithmic map: demo\n",
    "4) Grid of geodesics in a logarithmic chart.\n",
    "5) Geodesic shooting via Runge-Kutta. Approximation via RK mathod to the solutian of the Cauchy problem to the geodesic ODE. Shooting is used to construct exponential maps.\n",
    "6) Geodesic length ratio benchmark. Straight lines vs geodesics in a logarithmic chart. Average ratio between random geodesics and straight lines connecting their endpoints in a logaritmic chart with a single base point.\n",
    "7) Geodesic length ratio for random multiple geodesics and different logmap base points. Same as in 6 length ratio is computed for random geodesics and different random basepoints of the logarithmic maps.\n",
    "8) Frechet mean slow, (via a Sturm-like method). See description of the method in Section 3 of https://www-sop.inria.fr/asclepios/events/MFCA15/Papers/MFCA15_4_2.pdf.\n",
    "\n",
    "\n",
    "The geodesics are computed considesing a geodesic boundary value problem (b.v.p.) with the help of Stochman package.\n",
    "\n",
    "Let $( M, g )$ be a Riemannian manifold. Given points $ p, q \\in M $, find a curve $\\gamma : [0,1] \\to M $ such that:\n",
    "\\begin{equation}\n",
    "%\\label{eq:geodesic_eq}\n",
    "\\begin{aligned}\n",
    "    \\gamma(0) &= p \\ , \\\\\n",
    "    \\gamma(1) &= q \\ , \\\\\n",
    "    \\nabla_{\\dot{\\gamma}} \\dot{\\gamma} &= 0 \\ .\n",
    "\\end{aligned}\n",
    "\\end{equation}\n",
    "where $ \\nabla $ is the Levi-Civita connection associated with $ g $.\n",
    "\n",
    "In local coordinates $ (x^1, x^2, \\ldots, x^n) $, the geodesic equation is:\n",
    "\\begin{align}\n",
    "    \\frac{d^2 x^i}{dt^2} + \\Gamma^i_{jk} \\frac{dx^j}{dt} \\frac{dx^k}{dt} = 0\n",
    "\\end{align}\n",
    "where $ \\Gamma^i_{jk} $ are the Christoffel symbols.\n",
    "\n",
    "The length functional $ L $ for a curve $ \\gamma $ is given by:\n",
    "\\begin{align*}\n",
    "    L[\\gamma] = \\int_0^1 \\sqrt{g_{\\gamma(t)}(\\dot{\\gamma}(t), \\dot{\\gamma}(t))} \\, dt\n",
    "\\end{align*}\n",
    "\n",
    "The energy functional $E$ for a curve $\\gamma$ is given by:\n",
    "\\begin{align*}\n",
    "E[\\gamma] = \\int_0^1 g_{\\gamma(t)}(\\dot{\\gamma}(t), \\dot{\\gamma}(t)) \\, dt \\quad \\text{(6)}\n",
    "\\end{align*}\n",
    "\n",
    "Geodesics are the curves that minimize the length functional $ L $ and also minimize the energy functional $ E $. In the Stochman package, geodesics connecting two points are found as minimizers of energy functionals. Technically, they are approximated by cubic splines through the solution of an optimization problem on the spline coefficients.\n",
    "\n",
    "The latent space of the AE is topologically a $ 2 $-dimensional torus $\\mathcal{T}^2$, i.e., it can be considered as a periodic box $[-\\pi, \\pi]^2$. We define a Riemannian metric on the latent space as the pull-back of the Euclidean metric in the output space $\\mathbb{R}^D$ by the decoder function $\\Psi$ of the AE:\n",
    "\\begin{equation}\n",
    "    g = \\nabla \\Psi^* \\nabla \\Psi,\n",
    "\\end{equation}\n",
    "\n",
    "The main objectives here are to show that:\n",
    "1) The geometry of the latent space is different from Euclidean.\n",
    "2) Adding curvature penalization forces the geodesics in logarithmic charts to become closer to straight lines."
   ]
  },
  {
   "cell_type": "markdown",
   "metadata": {},
   "source": [
    "# 0. Imports. Loading AE weights."
   ]
  },
  {
   "cell_type": "code",
   "execution_count": null,
   "metadata": {},
   "outputs": [],
   "source": [
    "from tqdm.notebook import tqdm\n",
    "import torch\n",
    "import numpy as np\n",
    "import ricci_regularization\n",
    "import matplotlib.pyplot as plt\n",
    "import matplotlib\n",
    "from stochman.manifold import EmbeddedManifold\n",
    "from stochman.curves import CubicSpline\n",
    "import json, yaml, os"
   ]
  },
  {
   "cell_type": "code",
   "execution_count": null,
   "metadata": {},
   "outputs": [],
   "source": [
    "violent_saving = True\n",
    "#with open('../experiments/MNIST_Setting_2_config.yaml', 'r') as yaml_file:\n",
    "#with open('../experiments/Synthetic_Setting_1/Synthetic_Setting_1_config.yaml', 'r') as yaml_file:\n",
    "with open('../experiments/Swissroll_exp2_config.yaml', 'r') as yaml_file:\n",
    "    yaml_config = yaml.load(yaml_file, Loader=yaml.FullLoader)"
   ]
  },
  {
   "cell_type": "code",
   "execution_count": null,
   "metadata": {},
   "outputs": [],
   "source": [
    "# Load data loaders based on YAML configuration\n",
    "dict = ricci_regularization.DataLoaders.get_dataloaders(\n",
    "    dataset_config=yaml_config[\"dataset\"],\n",
    "    data_loader_config=yaml_config[\"data_loader_settings\"],\n",
    "    dtype=torch.float32\n",
    ")\n",
    "train_loader = dict[\"train_loader\"]\n",
    "test_loader = dict[\"test_loader\"]\n",
    "test_dataset = dict.get(\"test_dataset\")  # Assuming 'test_dataset' is a key returned by get_dataloaders\n",
    "\n",
    "print(\"Data loaders created successfully.\")\n",
    "\n",
    "torus_ae, Path_ae_weights = ricci_regularization.DataLoaders.get_tuned_nn(config=yaml_config)\n",
    "\n",
    "print(\"AE weights loaded successfully.\")\n",
    "print(\"AE weights loaded from\", Path_ae_weights)"
   ]
  },
  {
   "cell_type": "code",
   "execution_count": null,
   "metadata": {},
   "outputs": [],
   "source": [
    "experiment_name = yaml_config[\"experiment\"][\"name\"]\n",
    "\n",
    "#Path_pictures = yaml_config[\"experiment\"][\"path\"]\n",
    "Path_pictures = \"../experiments/\" + yaml_config[\"experiment\"][\"name\"]\n",
    "if violent_saving == True:\n",
    "    # Check and create directories based on configuration\n",
    "    if not os.path.exists(Path_pictures):  # Check if the picture path does not exist\n",
    "        os.mkdir(Path_pictures)  # Create the directory for plots if not yet created\n",
    "        print(f\"Created directory: {Path_pictures}\")  # Print directory creation feedback\n",
    "    else:\n",
    "        print(f\"Directiry already exists: {Path_pictures}\")\n",
    "\n",
    "curv_w = yaml_config[\"loss_settings\"][\"lambda_curv\"]\n",
    "\n",
    "dataset_name = yaml_config[\"dataset\"][\"name\"]\n",
    "D = yaml_config[\"architecture\"][\"input_dim\"]\n",
    "# D is the dimension of the dataset\n",
    "if dataset_name == [\"MNIST01\"]:\n",
    "    # k from the JSON configuration file is the number of classes\n",
    "    #k = yaml_config[\"dataset\"][\"k\"]\n",
    "    k = len(yaml_config[\"dataset\"][\"selected_labels\"])\n",
    "    selected_labels = yaml_config[\"dataset\"][\"selected_labels\"]\n",
    "elif dataset_name == \"MNIST\":\n",
    "    selected_labels = np.arange(10)\n",
    "    k = 10\n",
    "elif dataset_name == \"Synthetic\":\n",
    "    k = yaml_config[\"dataset\"][\"k\"] \n",
    "print(\"Experiment name:\", experiment_name)\n",
    "print(\"Plots saved at:\", Path_pictures)"
   ]
  },
  {
   "cell_type": "code",
   "execution_count": null,
   "metadata": {},
   "outputs": [],
   "source": [
    "# Move the torus autoencoder to CPU\n",
    "torus_ae.cpu()\n",
    "\n",
    "# Initialize lists to store various data\n",
    "colorlist = []  # List to store labels\n",
    "enc_list = []   # List to store encoded representations\n",
    "feature_space_encoding_list = []  # List to store feature space encodings\n",
    "input_dataset_list = []  # List to store input datasets\n",
    "recon_dataset_list = []  # List to store reconstructed datasets\n",
    "\n",
    "# Iterate through the test_loader (or train_loader if uncommented), and collect data\n",
    "for (data, labels) in tqdm(test_loader, position=0):\n",
    "    input_dataset_list.append(data)  # Append input data to input_dataset_list\n",
    "    recon_dataset_list.append(torus_ae(data)[0])  # Append reconstructed data to recon_dataset_list\n",
    "    feature_space_encoding_list.append(torus_ae.encoder_torus(data.view(-1, D)))  # Append feature space encoding to feature_space_encoding_list\n",
    "    enc_list.append(torus_ae.encoder2lifting(data.view(-1, D)))  # Append encoded representations to enc_list\n",
    "    colorlist.append(labels)  # Append labels to colorlist\n",
    "\n",
    "# Concatenate lists to form complete datasets and encoded representations\n",
    "input_dataset = torch.cat(input_dataset_list)\n",
    "recon_dataset = torch.cat(recon_dataset_list)\n",
    "encoded_points = torch.cat(enc_list)\n",
    "feature_space_encoding = torch.cat(feature_space_encoding_list)\n",
    "encoded_points_no_grad = encoded_points.detach()  # Detach encoded points from the computation graph\n",
    "color_array = torch.cat(colorlist).detach()  # Detach color array from the computation graph\n",
    "\n",
    "# Plot the encoded points in feature space\n",
    "plt.figure(figsize=(9,9))\n",
    "if dataset_name ==\"Swissroll\":\n",
    "    my_cmap = \"jet\"\n",
    "else:\n",
    "    my_cmap = ricci_regularization.discrete_cmap(k,\"jet\",bright_colors=True)\n",
    "    \n",
    "plt.scatter(encoded_points_no_grad[:, 0], encoded_points_no_grad[:, 1], c=color_array, alpha=0.6, cmap = my_cmap)\n",
    "plt.ylim(-torch.pi, torch.pi)\n",
    "plt.xlim(-torch.pi, torch.pi)\n",
    "plt.show()  # Display the plot\n",
    "\n",
    "# alternative plotting\n",
    "#fig = ricci_regularization.point_plot(encoder=torus_ae.encoder2lifting, data=test_dataset, config=yaml_config,batch_idx=0,device=\"cpu\")\n",
    "#fig.show()\n"
   ]
  },
  {
   "cell_type": "markdown",
   "metadata": {},
   "source": [
    "# 1. Demo: a geodesic connecting two poinnts (geodesic bvp via Stochman)."
   ]
  },
  {
   "cell_type": "code",
   "execution_count": null,
   "metadata": {},
   "outputs": [],
   "source": [
    "#from stochman.manifold import EmbeddedManifold\n",
    "# geodesics are computed minimizing \"energy\" in the embedding of the manifold,\n",
    "# So no need to compute the Pullback metric. and thus the algorithm is fast\n",
    "# Define the embedding by the AE decoder\n",
    "class Autoencoder(EmbeddedManifold):\n",
    "    def embed(self, c, jacobian = False):\n",
    "        return torus_ae.decoder_torus(c)"
   ]
  },
  {
   "cell_type": "code",
   "execution_count": null,
   "metadata": {},
   "outputs": [],
   "source": [
    "model = Autoencoder()\n",
    "torch.manual_seed(0)\n",
    "\n",
    "# for plotting\n",
    "t = torch.linspace(0.,1.,100)\n",
    "\n",
    "# p0 and p1 can be chosen anywhere on R^2 with 2\\pi periodic metric \n",
    "p0 = torch.tensor([0.,-2.]) #+11*torch.pi\n",
    "p1 = torch.tensor([1.5,1.5]) #+ 11*torch.pi\n",
    "# find a pair of points with different labels (first in test loader) \n",
    "#p0 = encoded_points[torch.where(color_array==selected_labels[0])][0].detach()\n",
    "#p1 = encoded_points[torch.where(color_array==selected_labels[1])][0].detach()\n",
    "print(f\"start:{p0}, \\n end {p1}\")\n",
    "c, success = model.connecting_geodesic(p0, p1) # here the parameter t in c(t)should be a torch.tensor\n",
    "print(\"Success:\",success.item(),\"\\n length\",model.curve_length(c(t)).item())"
   ]
  },
  {
   "cell_type": "code",
   "execution_count": null,
   "metadata": {},
   "outputs": [],
   "source": [
    "points_on_geodesic = c(t).detach()\n",
    "straight_line = CubicSpline(p0,p1)\n",
    "straight_line_points2plot = straight_line(t).detach()\n",
    "\n",
    "geod_length = model.curve_length(c(t)).item()\n",
    "straight_line_length = model.curve_length(straight_line(t)).item()"
   ]
  },
  {
   "cell_type": "code",
   "execution_count": null,
   "metadata": {},
   "outputs": [],
   "source": [
    "plt.figure(figsize=(9,9))\n",
    "plt.title(\"Geodesic bvp: straight line vs geodesic.\", fontsize=20)\n",
    "plt.scatter(encoded_points_no_grad[:,0],encoded_points_no_grad[:,1],c = color_array,alpha=0.6,cmap=my_cmap,zorder=0)\n",
    "plt.plot(points_on_geodesic[:,0],points_on_geodesic[:,1],c=\"blue\",label=f\"Geodesic.\\nLength:{geod_length:.3f}\",zorder=1e4,linewidth=3.)\n",
    "plt.plot(straight_line_points2plot[:,0],straight_line_points2plot[:,1],c=\"green\",label=f\"Straight line.\\nLength:{straight_line_length:.3f}\",zorder=1e5,linewidth=3.)\n",
    "plt.legend(loc=\"upper left\", fontsize=15)\n",
    "plt.ylim(-torch.pi, torch.pi)\n",
    "plt.xlim(-torch.pi, torch.pi)\n",
    "if violent_saving == True:\n",
    "    plt.savefig(f'{Path_pictures}/geodesic_vs_straight.pdf',bbox_inches='tight',format='pdf')\n",
    "    plt.savefig(f'{Path_pictures}/geodesic_vs_straight.jpg',bbox_inches='tight',format='jpeg',dpi=400)\n",
    "plt.show()"
   ]
  },
  {
   "cell_type": "markdown",
   "metadata": {},
   "source": [
    "# 2. Grid of geodesics in latent space (parallelized computation)."
   ]
  },
  {
   "cell_type": "markdown",
   "metadata": {},
   "source": [
    "## Creating a grid"
   ]
  },
  {
   "cell_type": "code",
   "execution_count": null,
   "metadata": {},
   "outputs": [],
   "source": [
    "# old grid\n",
    "def create_grid_version_linspace(num_geodesics, x_left=-torch.pi/2, y_bottom=-torch.pi/2,\n",
    "                                 x_size=torch.pi, y_size=torch.pi):\n",
    "    \"\"\"\n",
    "    Creates a grid of geodesics around a rectangular box using linspace to distribute points.\n",
    "\n",
    "    Parameters:\n",
    "    - num_geodesics (int): Number of geodesics to compute.\n",
    "    - x_left, y_bottom (float): Left and bottom coordinates of the box.\n",
    "    - x_size, y_size (float): Width and height of the box.\n",
    "\n",
    "    Returns:\n",
    "    - horizontal_geodesics (stochman.curves.CubicSpline): Geodesics along the horizontal borders.\n",
    "    - vertical_geodesics (stochman.curves.CubicSpline): Geodesics along the vertical borders.\n",
    "    \"\"\"\n",
    "    x_right = x_left + x_size  # Right coordinate of the box\n",
    "    y_top = y_bottom + y_size  # Top coordinate of the box\n",
    "\n",
    "    # Compute starting and ending points for horizontal geodesics\n",
    "    starting_points = torch.cat([torch.tensor([x_left, y_bottom + k]) for k in torch.linspace(0, y_size, num_geodesics)]).reshape(num_geodesics, 2)\n",
    "    end_points = torch.cat([torch.tensor([x_right, y_bottom + k]) for k in torch.linspace(0, y_size, num_geodesics)]).reshape(num_geodesics, 2)\n",
    "\n",
    "    # Compute starting and ending points for vertical geodesics\n",
    "    starting_points_vertical = torch.cat([torch.tensor([x_left + k, y_bottom]) for k in torch.linspace(0, x_size, num_geodesics)]).reshape(num_geodesics, 2)\n",
    "    end_points_vertical = torch.cat([torch.tensor([x_left + k, y_top]) for k in torch.linspace(0, x_size, num_geodesics)]).reshape(num_geodesics, 2)\n",
    "\n",
    "    # Compute horizontal geodesics\n",
    "    horizontal_geodesics, _ = model.connecting_geodesic(starting_points, end_points)\n",
    "\n",
    "    # Compute vertical geodesics\n",
    "    vertical_geodesics, _ = model.connecting_geodesic(starting_points_vertical, end_points_vertical)\n",
    "\n",
    "    return horizontal_geodesics, vertical_geodesics\n",
    "\n"
   ]
  },
  {
   "cell_type": "code",
   "execution_count": null,
   "metadata": {},
   "outputs": [],
   "source": [
    "# Create grid version 1\n",
    "def create_grid_version_1(num_geodesics, x_left=-torch.pi/2, y_bottom=-torch.pi/2,\n",
    "                          x_size=torch.pi, y_size=torch.pi):\n",
    "    \"\"\"\n",
    "    This function creates a grid of geodesics around a box of 4 border geodesics defined by the parameters.\n",
    "    \n",
    "    Parameters:\n",
    "    - num_geodesics (int): Number of geodesics to compute.\n",
    "    - x_left, y_bottom (float): Left and bottom coordinates of the box.\n",
    "    - x_size, y_size (float): Width and height of the box.\n",
    "    \n",
    "    Returns:\n",
    "    - horizontal_geodesics (stochman.curves.CubicSpline): Geodesics along the horizontal borders.\n",
    "    - vertical_geodesics (stochman.curves.CubicSpline): Geodesics along the vertical borders.\n",
    "    \"\"\"\n",
    "    x_right = x_left + x_size\n",
    "    y_top = y_bottom + y_size\n",
    "\n",
    "    # Collect 4 corner points to connect them with geodesics which are on the border of the box\n",
    "    starting_points_border = torch.cat([torch.tensor([x_left, y_bottom + k]) for k in torch.linspace(0, y_size, 2)]).reshape(2, 2)\n",
    "    end_points_border = torch.cat([torch.tensor([x_right, y_bottom + k]) for k in torch.linspace(0, y_size, 2)]).reshape(2, 2)\n",
    "    \n",
    "    starting_points_vertical_border = torch.cat([torch.tensor([x_left + k, y_bottom]) for k in torch.linspace(0, x_size, 2)]).reshape(2, 2)\n",
    "    end_points_vertical_border = torch.cat([torch.tensor([x_left + k, y_top]) for k in torch.linspace(0, x_size, 2)]).reshape(2, 2)\n",
    "    \n",
    "    # Connect geodesics for horizontal and vertical borders\n",
    "    horizontal_geodesics_border, _ = model.connecting_geodesic(starting_points_border, end_points_border)\n",
    "    vertical_geodesics_border, _ = model.connecting_geodesic(starting_points_vertical_border, end_points_vertical_border)\n",
    "    \n",
    "    # Find equidistant points on the borders of the grid. Their number is num_geodesics\n",
    "    t = torch.linspace(0, 1, num_geodesics)\n",
    "    geodesics2plot_horizontal_border = horizontal_geodesics_border(t).detach()\n",
    "    geodesics2plot_vertical_border = vertical_geodesics_border(t).detach()\n",
    "    \n",
    "    # Extract starting and ending points for horizontal and vertical geodesics\n",
    "    starting_points = geodesics2plot_vertical_border[0, :, :]\n",
    "    end_points = geodesics2plot_vertical_border[1, :, :]\n",
    "    starting_points_vertical = geodesics2plot_horizontal_border[0, :, :]\n",
    "    end_points_vertical = geodesics2plot_horizontal_border[1, :, :]\n",
    "    \n",
    "    # Compute horizontal geodesics\n",
    "    horizontal_geodesics, _ = model.connecting_geodesic(starting_points, end_points)\n",
    "\n",
    "    # Compute vertical geodesics\n",
    "    vertical_geodesics, _ = model.connecting_geodesic(starting_points_vertical, end_points_vertical)\n",
    "    \n",
    "    return horizontal_geodesics, vertical_geodesics\n",
    "\n",
    "# Function to plot the grid version 1\n",
    "def plot_grid(geodesics2plot_horizontal, geodesics2plot_vertical,\n",
    "                    savefig=False,show_data=False):\n",
    "    num_geodesics = geodesics2plot_horizontal.shape[0]\n",
    "    if show_data == True:\n",
    "        plt.scatter(encoded_points_no_grad[:,0],encoded_points_no_grad[:,1],c = color_array,cmap=my_cmap)\n",
    "    #plt.title(f\"Geodesic grid on MNIST with {k} labels with $\\lambda_{{\\mathrm{{curv}}}}={curv_w}$\")\n",
    "    for i in range(num_geodesics):\n",
    "        plt.plot(geodesics2plot_horizontal[i,:,0],geodesics2plot_horizontal[i,:,1],c=\"black\")\n",
    "        plt.plot(geodesics2plot_vertical[i,:,0],geodesics2plot_vertical[i,:,1],c=\"black\")\n",
    "    plt.xlim(-torch.pi,torch.pi)\n",
    "    plt.ylim(-torch.pi,torch.pi)\n",
    "    if savefig == True:\n",
    "        plt.savefig(f'{Path_pictures}/multiple_geodesics_{experiment_name}.pdf',bbox_inches='tight',format='pdf')\n",
    "    return plt, geodesics2plot_horizontal, geodesics2plot_vertical"
   ]
  },
  {
   "cell_type": "code",
   "execution_count": null,
   "metadata": {},
   "outputs": [],
   "source": [
    "\"\"\"\n",
    "x_left = -0.5 #-torch.pi/2\n",
    "y_bottom = 1.5 #-torch.pi/2\n",
    "x_size= 1. #torch.pi\n",
    "y_size= 1. #torch.pi\n",
    "\"\"\"\n",
    "x_center = -2.\n",
    "y_center = 1.\n",
    "x_size= 1.75 #torch.pi\n",
    "y_size= 1.75 #torch.pi\n",
    "\n",
    "x_left = x_center - x_size/2 #-2.0 #-torch.pi/2\n",
    "y_bottom = y_center - y_size/2 #-2.0 #-torch.pi/2\n",
    "\n",
    "x_right = x_center + x_size/2 \n",
    "y_top = y_center + y_size/2\n",
    "\n",
    "# set num_geodesics\n",
    "num_geodesics = 11\n",
    "\n",
    "# create a geodesic grid version 1:\n",
    "horizontal_geodesics, vertical_geodesics = create_grid_version_1(num_geodesics=num_geodesics, \n",
    "        x_left=x_left, y_bottom=y_bottom,\n",
    "        x_size=x_size, y_size=y_size)\n",
    "\n",
    "# Call the function to generate the plot\n",
    "num_approximation_points = 20\n",
    "\n",
    "# Define the number of approximation points for plotting\n",
    "t = torch.linspace(0, 1, num_approximation_points)\n",
    "\n",
    "# Compute geodesics for horizontal and vertical borders\n",
    "geodesics2plot_horizontal = horizontal_geodesics(t).detach()\n",
    "geodesics2plot_vertical = vertical_geodesics(t).detach()\n",
    "p, geodesics2plot_horizontal, geodesics2plot_vertical = plot_grid(geodesics2plot_horizontal,geodesics2plot_vertical, show_data=True)\n",
    "\n",
    "p.show()"
   ]
  },
  {
   "cell_type": "code",
   "execution_count": null,
   "metadata": {},
   "outputs": [],
   "source": [
    "# curvature along geodesics (not used yet)\n",
    "#scalar_curvature_on_geodesics_bvp = ricci_regularization.Sc_jacfwd_vmap(geodesics2plot_horizontal.reshape(-1,2),function=torus_ae.decoder_torus)\n",
    "#scalar_curvature_on_geodesics_bvp = scalar_curvature_on_geodesics_bvp.reshape(num_geodesics,num_approximation_points).detach()"
   ]
  },
  {
   "cell_type": "code",
   "execution_count": null,
   "metadata": {},
   "outputs": [],
   "source": [
    "plt.figure(dpi=300,figsize=(9,9))\n",
    "plt.scatter(encoded_points_no_grad[:,0],encoded_points_no_grad[:,1],\n",
    "            alpha=0.6, c = color_array,cmap = my_cmap)\n",
    "#plt.title(f\"Geodesic grid on MNIST with {k} labels with $\\lambda_{{\\mathrm{{curv}}}}={curv_w}$\")\n",
    "for i in range(num_geodesics):\n",
    "    plt.plot(geodesics2plot_horizontal[i,:,0],geodesics2plot_horizontal[i,:,1],c=\"black\",linewidth=2.5)\n",
    "    plt.plot(geodesics2plot_vertical[i,:,0],geodesics2plot_vertical[i,:,1],c=\"black\",linewidth=2.5)\n",
    "plt.xlim(-torch.pi,torch.pi)\n",
    "plt.ylim(-torch.pi,torch.pi)\n",
    "if violent_saving == True:\n",
    "    plt.savefig(f'{Path_pictures}/multiple_geodesics_{experiment_name}_{num_geodesics}.pdf',bbox_inches='tight',format='pdf')\n",
    "    #plt.savefig(f'{Path_pictures}/multiple_geodesics_{experiment_name}_{num_geodesics}.jpg',bbox_inches='tight',format='jpeg',dpi=400)\n",
    "plt.show()"
   ]
  },
  {
   "cell_type": "markdown",
   "metadata": {},
   "source": [
    "# 3. Logarithmic map: demo"
   ]
  },
  {
   "cell_type": "markdown",
   "metadata": {},
   "source": [
    "$log_{p_0} (p_1) = v, \\ $ where $\\gamma$ is the geodesic, s.t. $\\gamma(0) = p_0$ and $\\gamma(1) = p_1$ and $v = \\dot \\gamma(0), \\ \\|v\\| = $ length of the geodesic. "
   ]
  },
  {
   "cell_type": "code",
   "execution_count": null,
   "metadata": {},
   "outputs": [],
   "source": [
    "p0"
   ]
  },
  {
   "cell_type": "code",
   "execution_count": null,
   "metadata": {},
   "outputs": [],
   "source": [
    "p1"
   ]
  },
  {
   "cell_type": "code",
   "execution_count": null,
   "metadata": {},
   "outputs": [],
   "source": [
    "geod,_ = model.connecting_geodesic(p0,p1)"
   ]
  },
  {
   "cell_type": "markdown",
   "metadata": {},
   "source": [
    "Checking that $log_{p_0} (p_1) = \\dot \\gamma(0)$"
   ]
  },
  {
   "cell_type": "code",
   "execution_count": null,
   "metadata": {},
   "outputs": [],
   "source": [
    "model.logmap(p0.unsqueeze(0).detach(),p1.unsqueeze(0).detach())"
   ]
  },
  {
   "cell_type": "code",
   "execution_count": null,
   "metadata": {},
   "outputs": [],
   "source": [
    "geod.deriv(torch.zeros(1))"
   ]
  },
  {
   "cell_type": "markdown",
   "metadata": {},
   "source": [
    "# 4. Grid of geodesics in a logarithmic chart"
   ]
  },
  {
   "cell_type": "code",
   "execution_count": null,
   "metadata": {},
   "outputs": [],
   "source": [
    "# choosing base point for logarithmic map\n",
    "#base_point = torch.tensor([-0.5,-0.8]).unsqueeze(0)"
   ]
  },
  {
   "cell_type": "code",
   "execution_count": null,
   "metadata": {},
   "outputs": [],
   "source": [
    "# find the base point for logarithmic chart at the crossing of central geogesics\n",
    "def find_closest_points(A, B):\n",
    "    # A is of shape (N, 2), B is of shape (M, 2)\n",
    "    \n",
    "    # Compute the pairwise differences between points in A and B\n",
    "    diff = A[:, None, :] - B[None, :, :]  # Shape: (N, M, 2)\n",
    "    \n",
    "    # Compute the squared Euclidean distances\n",
    "    dist_squared = torch.sum(diff ** 2, dim=-1)  # Shape: (N, M)\n",
    "    \n",
    "    # Find the indices of the minimum distance\n",
    "    min_dist_idx = torch.argmin(dist_squared)\n",
    "    \n",
    "    # Convert the flat index to row and column indices\n",
    "    min_row, min_col = divmod(min_dist_idx.item(), B.shape[0])\n",
    "    \n",
    "    # Return the closest points and their distance\n",
    "    return A[min_row], B[min_col], torch.sqrt(dist_squared[min_row, min_col])"
   ]
  },
  {
   "cell_type": "code",
   "execution_count": null,
   "metadata": {},
   "outputs": [],
   "source": [
    "central_index = num_geodesics//2\n",
    "num_approximation_points = 100\n",
    "t = torch.linspace(0.,1.,num_approximation_points)\n",
    "\n",
    "# recompute geodesics for horizontal and vertical borders\n",
    "geodesics2plot_horizontal = horizontal_geodesics(t).detach()\n",
    "geodesics2plot_vertical = vertical_geodesics(t).detach()\n",
    "\n",
    "base_point,_,_ = find_closest_points(geodesics2plot_vertical[central_index],geodesics2plot_horizontal[central_index])\n",
    "print(\"base point:\",base_point)"
   ]
  },
  {
   "cell_type": "code",
   "execution_count": null,
   "metadata": {},
   "outputs": [],
   "source": [
    "# this takes 38 secs for num_geod=12 and num_approximation_points = 20 \n",
    "\n",
    "num_approximation_points = 20\n",
    "t = torch.linspace(0.,1.,num_approximation_points)\n",
    "\n",
    "# recompute geodesics for horizontal and vertical borders\n",
    "geodesics2plot_horizontal = horizontal_geodesics(t).detach()\n",
    "geodesics2plot_vertical = vertical_geodesics(t).detach()\n",
    "\n",
    "\n",
    "horizontal_geodesics2plot_logmap = model.logmap(base_point.repeat(num_geodesics*num_approximation_points,1),geodesics2plot_horizontal.reshape(-1,2))\n",
    "vertical_geodesics2plot_logmap = model.logmap(base_point.repeat(num_geodesics*num_approximation_points,1),geodesics2plot_vertical.reshape(-1,2))"
   ]
  },
  {
   "cell_type": "code",
   "execution_count": null,
   "metadata": {},
   "outputs": [],
   "source": [
    "horizontal_geodesics2plot_logmap = horizontal_geodesics2plot_logmap.reshape(num_geodesics,num_approximation_points,-1)\n",
    "vertical_geodesics2plot_logmap = vertical_geodesics2plot_logmap.reshape(num_geodesics,num_approximation_points,-1)"
   ]
  },
  {
   "cell_type": "code",
   "execution_count": null,
   "metadata": {},
   "outputs": [],
   "source": [
    "# central cross of base geodesics\n",
    "\"\"\"\n",
    "left_base = geodesics2plot_horizontal[num_geodesics//2][0].unsqueeze(0)\n",
    "right_base = geodesics2plot_horizontal[num_geodesics//2][-1].unsqueeze(0)\n",
    "top_base = geodesics2plot_vertical[num_geodesics//2][-1].unsqueeze(0)\n",
    "bottom_base = geodesics2plot_vertical[num_geodesics//2][0].unsqueeze(0)\n",
    "print(f\"Left {left_base}, top {top_base}, right {right_base}, bottom {bottom_base}\")\n",
    "base_geod,_ = model.connecting_geodesic(base_point.repeat(4,1), torch.cat((left_base,top_base,right_base,bottom_base)))\n",
    "base_geod_points = base_geod(t).detach()\n",
    "# takes 5 secs for num_approximation_points = 20\n",
    "base_geod2plot_logmap = model.logmap(base_point.repeat(4*num_approximation_points,1),base_geod_points.reshape(-1,2))\n",
    "\n",
    "base_geod2plot_logmap = base_geod2plot_logmap.reshape(4,num_approximation_points,2)\n",
    "base_point_x = base_point.squeeze()[0]\n",
    "base_point_y = base_point.squeeze()[1]\n",
    "\"\"\""
   ]
  },
  {
   "cell_type": "code",
   "execution_count": null,
   "metadata": {},
   "outputs": [],
   "source": [
    "plt.figure(dpi=300)\n",
    "#plt.title(f\"Geodesic grid in $T_{{p_0}} M$ after log map with base point $p_0$, \\n experiment # {exp_number} with $\\lambda_{{\\mathrm{{curv}}}}={curv_w}$\")\n",
    "for i in range(num_geodesics):\n",
    "    color = \"orange\"\n",
    "    if i == central_index:\n",
    "        color = \"red\"\n",
    "    plt.plot(horizontal_geodesics2plot_logmap[i,:,0],horizontal_geodesics2plot_logmap[i,:,1],c=color)\n",
    "    plt.plot(vertical_geodesics2plot_logmap[i,:,0],vertical_geodesics2plot_logmap[i,:,1],c=color)\n",
    "    #plt.scatter(horizontal_geodesics2plot_logmap[i,:,0], horizontal_geodesics2plot_logmap[i,:,1])\n",
    "    #plt.scatter(vertical_geodesics2plot_logmap[i,:,0], vertical_geodesics2plot_logmap[i,:,1],c=\"black\")\n",
    "# base \"cross\" of geodesics\n",
    "#for j in range(4):\n",
    "#    plt.plot(base_geod2plot_logmap[j,:,0],base_geod2plot_logmap[j,:,1],c=\"red\",label=\"Geodesics through base point\" if j==0 else \"\")\n",
    "#plt.scatter(base_point[:,0],base_point[:,1],marker = \"*\",c=\"blue\",s = 120,label = f\"Base point $p_0$ = ({base_point_x:.1f}, {base_point_y:.1f})\",zorder = 3)\n",
    "plt.legend()\n",
    "if violent_saving == True:\n",
    "    plt.savefig(f'{Path_pictures}/geodesic_grid_logmap_{experiment_name}_{num_geodesics}.pdf',bbox_inches='tight',format='pdf')\n",
    "    #plt.savefig(f'{Path_pictures}/geodesic_grid_logmap_exp{exp_number}_{num_geodesics}.jpg',bbox_inches='tight',format='jpeg',dpi=400)\n",
    "plt.show()"
   ]
  },
  {
   "cell_type": "markdown",
   "metadata": {},
   "source": [
    "# break here"
   ]
  },
  {
   "cell_type": "code",
   "execution_count": null,
   "metadata": {},
   "outputs": [],
   "source": [
    "lo"
   ]
  },
  {
   "cell_type": "markdown",
   "metadata": {},
   "source": [
    "# 5. Geodesic shooting via Runge-Kutta."
   ]
  },
  {
   "cell_type": "code",
   "execution_count": null,
   "metadata": {},
   "outputs": [],
   "source": [
    "def geod_vect(x, dxdt):\n",
    "    \"\"\"\n",
    "    Computes the geodesic vector field on a manifold given initial positions and velocities.\n",
    "\n",
    "    Parameters:\n",
    "    - x (tensor): Initial position array.\n",
    "    - dxdt (tensor): Initial velocity array.\n",
    "\n",
    "    Returns:\n",
    "    - dudt (tensor): Rate of change of positions.\n",
    "    - dvdt (tensor): Rate of change of velocities.\n",
    "    \"\"\"\n",
    "    u = x  # Initial position\n",
    "    v = dxdt  # Initial velocity\n",
    "    dudt = v  # Rate of change of positions is velocity\n",
    "\n",
    "    n = v.shape[0]  # Number of elements in velocity array\n",
    "    dvdt = torch.zeros(n, 2)  # Initialize rate of change of velocities\n",
    "\n",
    "    # Compute Christoffel symbols and update velocities\n",
    "    Ch_at_u = ricci_regularization.Ch_jacfwd_vmap(u, function=torus_ae.decoder_torus)\n",
    "    for l in range(2):\n",
    "        for i in range(2):\n",
    "            for j in range(2):\n",
    "                dvdt[:, l] -= Ch_at_u[:, l, i, j] * v[:, i] * v[:, j]\n",
    "\n",
    "    return dudt, dvdt\n",
    "\n",
    "\n",
    "def rungekutta_vect(f, initial_point_array, initial_speed_array, t, args=()):\n",
    "    \"\"\"\n",
    "    Implements the Runge-Kutta method for solving ordinary differential equations (ODEs).\n",
    "\n",
    "    Parameters:\n",
    "    - f (function): Function defining the ODE system.\n",
    "    - initial_point_array (tensor): Initial positions.\n",
    "    - initial_speed_array (tensor): Initial velocities.\n",
    "    - t (array-like): Array of time points.\n",
    "    - args (tuple, optional): Additional arguments for the ODE function `f`.\n",
    "\n",
    "    Returns:\n",
    "    - x (tensor): Array of positions over time.\n",
    "    - dxdt (tensor): Array of velocities over time.\n",
    "    \"\"\"\n",
    "    n = len(t)  # Number of time steps\n",
    "    x = torch.zeros((n, *tuple(initial_point_array.shape)))  # Initialize position array\n",
    "    dxdt = torch.zeros((n, *tuple(initial_speed_array.shape)))  # Initialize velocity array\n",
    "\n",
    "    x[0] = initial_point_array  # Set initial position\n",
    "    dxdt[0] = initial_speed_array  # Set initial velocity\n",
    "\n",
    "    # Iterate through time steps and apply Runge-Kutta method\n",
    "    for i in range(n - 1):\n",
    "        dudt, dvdt = f(x[i], dxdt[i], *args)  # Compute derivatives\n",
    "        dt = t[i+1] - t[i]  # Time step size\n",
    "        x[i+1] = x[i] + dt * dudt  # Update positions\n",
    "        dxdt[i+1] = dxdt[i] + dt * dvdt  # Update velocities\n",
    "\n",
    "    return x, dxdt\n",
    "\n"
   ]
  },
  {
   "cell_type": "code",
   "execution_count": null,
   "metadata": {},
   "outputs": [],
   "source": [
    "#from torch.nn.functional import normalize # if one needs to normalize initial speeds\n",
    "\n",
    "num_approximation_points = 101 # how good the approximation is\n",
    "max_parameter_value = 1 #3 # how far to go\n",
    "time_array = torch.linspace(0, max_parameter_value, num_approximation_points)\n",
    "\n",
    "#num_geodesics = 20\n",
    "\n",
    "starting_points = torch.tensor([-0.,0.]).repeat(num_geodesics,1) # common starting point\n",
    "#starting_points = p0.repeat(num_geodesics,1) # common starting point\n",
    "\n",
    "maxtangent = 2 # max slope of geodesics \n",
    "starting_speeds = torch.cat([torch.tensor([1.,0. + k]) for k in torch.linspace(-maxtangent,maxtangent,num_geodesics) ]).reshape(num_geodesics,2)\n",
    "#starting_speeds = c.deriv(torch.zeros(1)).reshape(num_geodesics,2)\n",
    "#starting_speeds = normalize(starting_speeds) #make norms of all speeds equal\n",
    "\n",
    "geodesics2plot,_ = rungekutta_vect(f=geod_vect,initial_point_array=starting_points,\n",
    "                                   initial_speed_array=starting_speeds,t=time_array)\n",
    "geodesics2plot = geodesics2plot.detach()"
   ]
  },
  {
   "cell_type": "code",
   "execution_count": null,
   "metadata": {},
   "outputs": [],
   "source": [
    "scalar_curvature_on_geodesics = ricci_regularization.Sc_jacfwd_vmap(geodesics2plot.reshape(-1,2),function=torus_ae.decoder_torus)\n",
    "scalar_curvature_on_geodesics = scalar_curvature_on_geodesics.reshape(num_approximation_points,num_geodesics).detach()"
   ]
  },
  {
   "cell_type": "code",
   "execution_count": null,
   "metadata": {},
   "outputs": [],
   "source": [
    "plt.scatter(encoded_points_no_grad[:,0],encoded_points_no_grad[:,1],c = color_array,cmap=ricci_regularization.discrete_cmap(2,\"jet\"))\n",
    "for i in range(num_geodesics):\n",
    "    #plt.scatter(geodesics2plot[:,i,0],geodesics2plot[:,i,1],c=time_array,cmap=\"jet\")\n",
    "    plt.scatter(geodesics2plot[:,i,0],geodesics2plot[:,i,1],c=scalar_curvature_on_geodesics[:,i],cmap=\"viridis\",norm=matplotlib.colors.SymLogNorm(linthresh=1e-2))\n",
    "    plt.plot(geodesics2plot[:,i,0],geodesics2plot[:,i,1],c=\"black\")\n",
    "plt.colorbar(label=\"scalar curvature along geodesics\")\n",
    "plt.show()"
   ]
  },
  {
   "cell_type": "markdown",
   "metadata": {},
   "source": [
    "## Reconstructing geodesics from logarithmic charts by constructing logarithmic maps via geodesic shooting (solving ODE with initial conditions)  with Runge-Kutta method"
   ]
  },
  {
   "cell_type": "code",
   "execution_count": null,
   "metadata": {},
   "outputs": [],
   "source": [
    "#points,_ = rungekutta_vect(geod_vect,base_point.repeat(200,1),horizontal_geodesics2plot_logmap.reshape(200,2),t=time_array)\n",
    "num_recon_points_on_all_geodesics = horizontal_geodesics2plot_logmap.reshape(-1,2).shape[0]\n",
    "points,_ = rungekutta_vect(geod_vect,base_point.repeat(num_recon_points_on_all_geodesics,1),horizontal_geodesics2plot_logmap.reshape(-1,2),t=time_array)"
   ]
  },
  {
   "cell_type": "code",
   "execution_count": null,
   "metadata": {},
   "outputs": [],
   "source": [
    "points = points.reshape(-1,num_geodesics,num_approximation_points,2)\n",
    "points = points.detach()"
   ]
  },
  {
   "cell_type": "code",
   "execution_count": null,
   "metadata": {},
   "outputs": [],
   "source": [
    "plt.title(\"Log map verification: reconstructing geodesics in the latent space \\nfrom the log. chart using exponential map via geodesics shooting \\nwith Runge-Kutta method\")\n",
    "for i in range(num_geodesics):\n",
    "    plt.plot(points[-1,i,:,0], points[-1,i,:,1],c=\"blue\",label=\"Reconstructed geodesics\" if i==0 else \"\")\n",
    "    plt.plot(geodesics2plot_horizontal[i,:,0],geodesics2plot_horizontal[i,:,1],c=\"orange\", label=\"Original geodesics\" if i==0 else \"\")\n",
    "plt.legend(loc=\"lower right\")\n",
    "plt.xlim(-torch.pi,torch.pi)\n",
    "plt.ylim(-torch.pi,torch.pi)\n",
    "plt.show()"
   ]
  },
  {
   "cell_type": "markdown",
   "metadata": {},
   "source": [
    "# 6. Geodesic length ratio benchmark. Straight lines vs geodesics in a logarithmic chart."
   ]
  },
  {
   "cell_type": "code",
   "execution_count": null,
   "metadata": {},
   "outputs": [],
   "source": [
    "num_points = 20\n",
    "vectors = horizontal_geodesics2plot_logmap[:,-1,:]-horizontal_geodesics2plot_logmap[:,0,:]"
   ]
  },
  {
   "cell_type": "code",
   "execution_count": null,
   "metadata": {},
   "outputs": [],
   "source": [
    "t = torch.linspace(0,1,num_points)"
   ]
  },
  {
   "cell_type": "code",
   "execution_count": null,
   "metadata": {},
   "outputs": [],
   "source": [
    "straight_lines = horizontal_geodesics2plot_logmap[:,0,:] + torch.tensordot(t.unsqueeze(0),vectors,dims=0).reshape(num_points,num_geodesics,2)"
   ]
  },
  {
   "cell_type": "code",
   "execution_count": null,
   "metadata": {},
   "outputs": [],
   "source": [
    "for i in range(num_geodesics):\n",
    "    plt.plot(horizontal_geodesics2plot_logmap[i,:,0],horizontal_geodesics2plot_logmap[i,:,1],c=\"orange\")\n",
    "    plt.plot(straight_lines[:,i,0],straight_lines[:,i,1],c=\"black\")"
   ]
  },
  {
   "cell_type": "code",
   "execution_count": null,
   "metadata": {},
   "outputs": [],
   "source": [
    "geodesic_lengths = model.curve_length(horizontal_geodesics(t))\n",
    "print(f\"geodesic lengths: {geodesic_lengths}\")"
   ]
  },
  {
   "cell_type": "code",
   "execution_count": null,
   "metadata": {},
   "outputs": [],
   "source": [
    "exp_base_point_x_i,_ = rungekutta_vect(f=geod_vect,initial_point_array=base_point.repeat(num_points*num_geodesics,1),\n",
    "                    initial_speed_array=straight_lines.reshape(-1,2), t=time_array)"
   ]
  },
  {
   "cell_type": "code",
   "execution_count": null,
   "metadata": {},
   "outputs": [],
   "source": [
    "y = exp_base_point_x_i[-1].reshape(num_points, num_geodesics, 2).detach()\n",
    "y.shape"
   ]
  },
  {
   "cell_type": "code",
   "execution_count": null,
   "metadata": {},
   "outputs": [],
   "source": [
    "plt.title(\"Geodesics and straight lines in logmap\")\n",
    "for i in range(num_geodesics):\n",
    "    plt.scatter(y[:,i,0],y[:,i,1])\n",
    "    #plt.plot(straight_lines[:,i,0],straight_lines[:,i,1],c=\"black\")"
   ]
  },
  {
   "cell_type": "code",
   "execution_count": null,
   "metadata": {},
   "outputs": [],
   "source": [
    "geodesics_y_i,_ = model.connecting_geodesic(y[:-1].reshape(-1,2), y[1:].reshape(-1,2))"
   ]
  },
  {
   "cell_type": "code",
   "execution_count": null,
   "metadata": {},
   "outputs": [],
   "source": [
    "log_straight_lines_length_approx = model.curve_length(geodesics_y_i(t)).reshape(num_points-1,num_geodesics).sum(dim = 0)\n",
    "print(f\"straight_lines_length_approx: {log_straight_lines_length_approx}\")"
   ]
  },
  {
   "cell_type": "code",
   "execution_count": null,
   "metadata": {},
   "outputs": [],
   "source": [
    "log_straight_lines_length_approx / geodesic_lengths"
   ]
  },
  {
   "cell_type": "code",
   "execution_count": null,
   "metadata": {},
   "outputs": [],
   "source": [
    "geodesic_lengths"
   ]
  },
  {
   "cell_type": "code",
   "execution_count": null,
   "metadata": {},
   "outputs": [],
   "source": [
    "geod_length_ratio = (geodesic_lengths/log_straight_lines_length_approx).mean().item()\n",
    "print(f\"geodesic length ratio:\\n{geod_length_ratio}\")"
   ]
  },
  {
   "cell_type": "code",
   "execution_count": null,
   "metadata": {},
   "outputs": [],
   "source": [
    "dict = {\"geod_length_ratio\":geod_length_ratio}"
   ]
  },
  {
   "cell_type": "code",
   "execution_count": null,
   "metadata": {},
   "outputs": [],
   "source": [
    "if violent_saving == True:\n",
    "    with open(f'{Path_pictures}/geodesic_length_ratio_{experiment_name}.json', 'w') as json_file:\n",
    "        json.dump(dict, json_file, indent=4)"
   ]
  },
  {
   "cell_type": "markdown",
   "metadata": {},
   "source": [
    "# 7. Geodesic length ratio for random multiple geodesics and different logmap base points."
   ]
  },
  {
   "cell_type": "code",
   "execution_count": null,
   "metadata": {},
   "outputs": [],
   "source": [
    "torch.manual_seed(0)\n",
    "\n",
    "num_approximation_points = 20\n",
    "t = torch.linspace(0,1,num_approximation_points)\n",
    "\n",
    "num_geodesics = 7\n",
    "#selecting geodesic start/end points and log map base points randomly\n",
    "random_starting_points = torch.pi*(torch.rand(num_geodesics,2)-0.5)\n",
    "random_end_points = torch.pi*(torch.rand(num_geodesics,2)-0.5)\n",
    "base_points = torch.pi*(torch.rand(num_geodesics,2)-0.5)\n",
    "\n",
    "random_geodesics, success = model.connecting_geodesic(random_starting_points, random_end_points)\n",
    "random_geodesics2plot = random_geodesics(t).detach()"
   ]
  },
  {
   "cell_type": "code",
   "execution_count": null,
   "metadata": {},
   "outputs": [],
   "source": [
    "random_geodesics2plot.shape"
   ]
  },
  {
   "cell_type": "code",
   "execution_count": null,
   "metadata": {},
   "outputs": [],
   "source": [
    "plt.title(\"Random geodesics and basepoints\")\n",
    "for i in range(num_geodesics):\n",
    "    plt.scatter(base_points[i,0],base_points[i,1])\n",
    "    plt.plot(random_geodesics2plot[i,:,0],random_geodesics2plot[i,:,1])\n",
    "plt.xlim(-torch.pi, torch.pi)\n",
    "plt.ylim(-torch.pi, torch.pi)\n",
    "plt.show()"
   ]
  },
  {
   "cell_type": "code",
   "execution_count": null,
   "metadata": {},
   "outputs": [],
   "source": [
    "random_geodesics2plot_logmap = model.logmap(base_points.repeat(1,num_approximation_points).reshape(num_approximation_points*num_geodesics,2),random_geodesics2plot.reshape(num_approximation_points*num_geodesics,2))\n",
    "random_geodesics2plot_logmap = random_geodesics2plot_logmap.reshape(num_geodesics,num_approximation_points,-1)"
   ]
  },
  {
   "cell_type": "code",
   "execution_count": null,
   "metadata": {},
   "outputs": [],
   "source": [
    "model.logmap(base_points,base_points)"
   ]
  },
  {
   "cell_type": "code",
   "execution_count": null,
   "metadata": {},
   "outputs": [],
   "source": [
    "random_geodesic_lengths = model.curve_length(random_geodesics(t))\n",
    "print(f\"geodesic lengths: {random_geodesic_lengths}\")"
   ]
  },
  {
   "cell_type": "code",
   "execution_count": null,
   "metadata": {},
   "outputs": [],
   "source": [
    "num_points = 10 #number of intermediate poits on an image of a  a geodesic in log map\n",
    "\n",
    "vectors = random_geodesics2plot_logmap[:,-1,:]-random_geodesics2plot_logmap[:,0,:]\n",
    "t = torch.linspace(0,1,num_points)\n",
    "straight_lines = random_geodesics2plot_logmap[:,0,:] + torch.tensordot(t.unsqueeze(0),vectors,dims=0).reshape(num_points,num_geodesics,2)"
   ]
  },
  {
   "cell_type": "code",
   "execution_count": null,
   "metadata": {},
   "outputs": [],
   "source": [
    "plt.title(\"Geodesics and straight lines in logmap\")\n",
    "for i in range(num_geodesics):\n",
    "    plt.plot(random_geodesics2plot_logmap[i,:,0],random_geodesics2plot_logmap[i,:,1],c=\"orange\")\n",
    "    plt.plot(straight_lines[:,i,0],straight_lines[:,i,1],c=\"black\")"
   ]
  },
  {
   "cell_type": "code",
   "execution_count": null,
   "metadata": {},
   "outputs": [],
   "source": [
    "exp_base_point_x_i,_ = rungekutta_vect(f=geod_vect,initial_point_array=base_points.repeat(num_points,1).reshape(num_points*num_geodesics,2),\n",
    "                    initial_speed_array=straight_lines.reshape(-1,2), t=time_array)\n",
    "y = exp_base_point_x_i[-1].reshape(num_points,num_geodesics, 2)\n",
    "y = y.detach()"
   ]
  },
  {
   "cell_type": "code",
   "execution_count": null,
   "metadata": {},
   "outputs": [],
   "source": [
    "geodesics_y_i,_ = model.connecting_geodesic(y[:-1].reshape(-1,2), y[1:].reshape(-1,2))\n",
    "geodesics_y_i2plot = geodesics_y_i(t).reshape((num_points-1),num_geodesics,num_points,2).detach()"
   ]
  },
  {
   "cell_type": "code",
   "execution_count": null,
   "metadata": {},
   "outputs": [],
   "source": [
    "plt.title(\"Images of straight lines in logmap through exp maps with appropriate basepoints \")\n",
    "for i in range(num_geodesics):\n",
    "    plt.plot(y[:,i,0],y[:,i,1])\n",
    "    plt.scatter(y[:,i,0],y[:,i,1])\n",
    "    #plt.plot(geodesics_y_i2plot[:,i,:,0],geodesics_y_i2plot[:,i,:,1],c=\"black\")\n",
    "    #plt.plot(straight_lines[:,i,0],straight_lines[:,i,1],c=\"black\")"
   ]
  },
  {
   "cell_type": "code",
   "execution_count": null,
   "metadata": {},
   "outputs": [],
   "source": [
    "log_straight_lines_length_approx = model.curve_length(geodesics_y_i(t)).reshape(num_points-1,num_geodesics).sum(dim = 0)\n",
    "print(f\"straight_lines_length_approx: {log_straight_lines_length_approx}\")"
   ]
  },
  {
   "cell_type": "code",
   "execution_count": null,
   "metadata": {},
   "outputs": [],
   "source": [
    "random_geodesic_lengths/log_straight_lines_length_approx"
   ]
  },
  {
   "cell_type": "code",
   "execution_count": null,
   "metadata": {},
   "outputs": [],
   "source": [
    "random_geod_length_ratio = (random_geodesic_lengths/log_straight_lines_length_approx).mean().item()\n",
    "print(f\"geodesic length ratio:\\n{random_geod_length_ratio}\")"
   ]
  },
  {
   "cell_type": "code",
   "execution_count": null,
   "metadata": {},
   "outputs": [],
   "source": [
    "fig,(ax1,ax2) = plt.subplots(ncols=2,figsize=(12,6))\n",
    "fig.suptitle(f\"Experiment # {exp_number} with $\\lambda_{{\\mathrm{{curv}}}}={curv_w}.$\")\n",
    "ax1.set_title(\"Random geodesics and basepoints\")\n",
    "ax2.set_title(\"Images of these geodesics through logmaps \\n w.r.t. corresponding base points\")\n",
    "for i in range(num_geodesics):\n",
    "    p = ax1.plot(random_geodesics2plot[i,:,0],random_geodesics2plot[i,:,1])\n",
    "    automatic_color = p[-1].get_color()  \n",
    "    ax1.scatter(base_points[i,0],base_points[i,1],c = automatic_color)\n",
    "    ax2.scatter(random_geodesics2plot_logmap[i,:,0],random_geodesics2plot_logmap[i,:,1],c = automatic_color)\n",
    "    ax2.plot(random_geodesics2plot_logmap[i,:,0],random_geodesics2plot_logmap[i,:,1],c = automatic_color)\n",
    "fig.text(0.1,0,f\"Geodesic length ratio:{random_geod_length_ratio:.4f}\")\n",
    "if violent_saving == True:\n",
    "    plt.savefig(f'{Path_pictures}/random_geodesics_exp{exp_number}.pdf',bbox_inches='tight',format='pdf')\n",
    "plt.show()"
   ]
  },
  {
   "cell_type": "code",
   "execution_count": null,
   "metadata": {},
   "outputs": [],
   "source": [
    "# tha accuracy here has to be less then the threshehold in the algorithm\n",
    "dict = {\"geod_length_ratio\":random_geod_length_ratio}\n",
    "if violent_saving == True:\n",
    "    with open(f'{Path_pictures}/random_geodesic_length_ratio_exp{exp_number}.json', 'w') as json_file:\n",
    "        json.dump(dict, json_file, indent=4)"
   ]
  },
  {
   "cell_type": "code",
   "execution_count": null,
   "metadata": {},
   "outputs": [],
   "source": [
    "from pypdf import PdfWriter\n",
    "build_report = False\n",
    "if build_report == True:\n",
    "    pdfs = [f'{Path_pictures}/multiple_geodesics_exp{exp_number}.pdf',f'{Path_pictures}/geodesic_grid_logmap_exp{exp_number}.pdf',f\"{Path_pictures}/random_geodesics_exp{exp_number}.pdf\"]\n",
    "\n",
    "    merger = PdfWriter()\n",
    "\n",
    "    for pdf in pdfs:\n",
    "        merger.append(pdf)\n",
    "\n",
    "    merger.write(f\"{Path_pictures}/report_exp_{exp_number}.pdf\")\n",
    "    merger.close()"
   ]
  },
  {
   "cell_type": "markdown",
   "metadata": {},
   "source": [
    "# 8. Frechet mean slow, (via a Sturm-like method)."
   ]
  },
  {
   "cell_type": "code",
   "execution_count": null,
   "metadata": {},
   "outputs": [],
   "source": [
    "num_cluster_points = 3\n",
    "cluster = torch.pi*(torch.rand(num_cluster_points,2)-0.5)\n",
    "plt.scatter(cluster[:,0],cluster[:,1])\n",
    "plt.show()"
   ]
  },
  {
   "cell_type": "code",
   "execution_count": null,
   "metadata": {},
   "outputs": [],
   "source": [
    "frechet_mean = cluster[0]\n",
    "for i in range(1,num_cluster_points):\n",
    "    geodesic,_ = model.connecting_geodesic(frechet_mean, cluster[i])\n",
    "    frechet_mean = geodesic(torch.tensor([1 / (i + 1)]))\n",
    "frechet_mean = frechet_mean.detach()\n",
    "print(\"frechet_mean:\", frechet_mean)"
   ]
  },
  {
   "cell_type": "code",
   "execution_count": null,
   "metadata": {},
   "outputs": [],
   "source": [
    "frechet_mean = frechet_mean.squeeze()\n",
    "plt.scatter(cluster[:,0],cluster[:,1])\n",
    "plt.scatter(frechet_mean[0],frechet_mean[1], c = \"red\",marker = \"*\",s=200)\n",
    "plt.show()"
   ]
  }
 ],
 "metadata": {
  "kernelspec": {
   "display_name": ".venv_ricci2024",
   "language": "python",
   "name": "python3"
  },
  "language_info": {
   "codemirror_mode": {
    "name": "ipython",
    "version": 3
   },
   "file_extension": ".py",
   "mimetype": "text/x-python",
   "name": "python",
   "nbconvert_exporter": "python",
   "pygments_lexer": "ipython3",
   "version": "3.10.12"
  }
 },
 "nbformat": 4,
 "nbformat_minor": 2
}
