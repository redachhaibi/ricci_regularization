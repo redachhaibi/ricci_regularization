{
 "cells": [
  {
   "cell_type": "markdown",
   "metadata": {},
   "source": [
    "# Loading weights"
   ]
  },
  {
   "cell_type": "code",
   "execution_count": null,
   "metadata": {},
   "outputs": [],
   "source": [
    "from tqdm.notebook import tqdm\n",
    "import torch\n",
    "import ricci_regularization\n",
    "import matplotlib.pyplot as plt\n",
    "import matplotlib\n",
    "import stochman\n",
    "from stochman.manifold import EmbeddedManifold\n",
    "from stochman.curves import CubicSpline\n",
    "\n",
    "experiment_json = f'../experiments/MNIST_torus_AEexp34.json' # no curv_pen\n",
    "\n",
    "#experiment_json = f'../experiments/MNIST01_torus_AEexp7.json'\n",
    "mydict = ricci_regularization.get_dataloaders_tuned_nn(Path_experiment_json=experiment_json)"
   ]
  },
  {
   "cell_type": "code",
   "execution_count": null,
   "metadata": {},
   "outputs": [],
   "source": [
    "torus_ae = mydict[\"tuned_neural_network\"]\n",
    "test_loader = mydict[\"test_loader\"]\n",
    "json_cofig = mydict[\"json_config\"]\n",
    "Path_pictures = json_cofig[\"Path_pictures\"]\n",
    "exp_number = json_cofig[\"experiment_number\"]\n",
    "curv_w = json_cofig[\"losses\"][\"curv_w\"]"
   ]
  },
  {
   "cell_type": "code",
   "execution_count": null,
   "metadata": {},
   "outputs": [],
   "source": [
    "D = 784\n",
    "k = json_cofig[\"dataset\"][\"parameters\"][\"k\"]\n",
    "#zlist = []\n",
    "torus_ae.cpu()\n",
    "colorlist = []\n",
    "enc_list = []\n",
    "feature_space_encoding_list = []\n",
    "input_dataset_list = []\n",
    "recon_dataset_list = []\n",
    "for (data, labels) in tqdm( test_loader, position=0 ):\n",
    "#for (data, labels) in tqdm( train_loader, position=0 ):\n",
    "    input_dataset_list.append(data)\n",
    "    recon_dataset_list.append(torus_ae(data)[0])\n",
    "    feature_space_encoding_list.append(torus_ae.encoder_torus(data.view(-1,D)))\n",
    "    #zlist.append(vae(data)[1])\n",
    "    enc_list.append(torus_ae.encoder2lifting(data.view(-1,D)))\n",
    "    colorlist.append(labels) "
   ]
  },
  {
   "cell_type": "code",
   "execution_count": null,
   "metadata": {},
   "outputs": [],
   "source": [
    "#x = torch.cat(zlist)\n",
    "#enc = circle2anglevectorized(x).detach()\n",
    "input_dataset = torch.cat(input_dataset_list)\n",
    "recon_dataset = torch.cat(recon_dataset_list)\n",
    "encoded_points = torch.cat(enc_list)\n",
    "feature_space_encoding = torch.cat(feature_space_encoding_list)\n",
    "encoded_points_no_grad = encoded_points.detach()\n",
    "color_array = torch.cat(colorlist).detach()"
   ]
  },
  {
   "cell_type": "code",
   "execution_count": null,
   "metadata": {},
   "outputs": [],
   "source": [
    "plt.scatter(encoded_points_no_grad[:,0],encoded_points_no_grad[:,1],c = color_array,cmap=ricci_regularization.discrete_cmap(k,\"jet\"))\n",
    "plt.show()"
   ]
  },
  {
   "cell_type": "markdown",
   "metadata": {},
   "source": [
    "# Geodesic bvp on latent space with Stochman "
   ]
  },
  {
   "cell_type": "code",
   "execution_count": null,
   "metadata": {},
   "outputs": [],
   "source": [
    "from stochman.manifold import EmbeddedManifold"
   ]
  },
  {
   "cell_type": "code",
   "execution_count": null,
   "metadata": {},
   "outputs": [],
   "source": [
    "# geodesics are computed minimizing \"energy\" in the embedding of the manifold,\n",
    "# So no need to compute the Pullback metric. and thus the algorithm is fast\n",
    "class Autoencoder(EmbeddedManifold):\n",
    "    def embed(self, c, jacobian = False):\n",
    "        return torus_ae.decoder_torus(c)"
   ]
  },
  {
   "cell_type": "code",
   "execution_count": null,
   "metadata": {},
   "outputs": [],
   "source": [
    "#selected_labels = json_cofig[\"dataset\"][\"selected_labels\"]"
   ]
  },
  {
   "cell_type": "code",
   "execution_count": null,
   "metadata": {},
   "outputs": [],
   "source": [
    "model = Autoencoder()\n",
    "torch.manual_seed(0)\n",
    "\n",
    "t = torch.linspace(0.,1.,100)\n",
    "\n",
    "# p0 and p1 can be chosen anywhere on R^2 with 2\\pi periodic metric \n",
    "p0 = torch.tensor([-1.4,-1.]) #+11*torch.pi\n",
    "p1 = torch.tensor([-1.5,-1.]) #+ 11*torch.pi\n",
    "# find a pair of points with different labels (first in test loader) \n",
    "#p0 = encoded_points[torch.where(color_array==selected_labels[0])][0].detach()\n",
    "#p1 = encoded_points[torch.where(color_array==selected_labels[1])][0].detach()\n",
    "print(f\"start:{p0}, \\n end {p1}\")\n",
    "c, success = model.connecting_geodesic(p0, p1) # here the parameter t in c(t)should be a torch.tensor\n",
    "print(\"Success:\",success.item(),\"\\n length\",model.curve_length(c(t)).item())"
   ]
  },
  {
   "cell_type": "code",
   "execution_count": null,
   "metadata": {},
   "outputs": [],
   "source": [
    "points_on_geodesic = c(t).detach()"
   ]
  },
  {
   "cell_type": "code",
   "execution_count": null,
   "metadata": {},
   "outputs": [],
   "source": [
    "straight_line = CubicSpline(p0,p1)\n",
    "straight_line_points2plot = straight_line(t).detach()\n",
    "\n",
    "geod_length = model.curve_length(c(t)).item()\n",
    "straight_line_length = model.curve_length(straight_line(t)).item()"
   ]
  },
  {
   "cell_type": "code",
   "execution_count": null,
   "metadata": {},
   "outputs": [],
   "source": [
    "plt.title(\"Geodesic bvp\")\n",
    "plt.scatter(encoded_points_no_grad[:,0],encoded_points_no_grad[:,1],c = color_array,cmap=ricci_regularization.discrete_cmap(k,\"jet\"))\n",
    "plt.plot(points_on_geodesic[:,0],points_on_geodesic[:,1],c=\"orange\",label=f\"geodesic.\\nLength:{geod_length:.3f}\")\n",
    "plt.plot(straight_line_points2plot[:,0],straight_line_points2plot[:,1],c=\"green\",label=f\"straight.\\nLength:{straight_line_length:.3f}\")\n",
    "plt.legend()\n",
    "#plt.savefig(f'{Path_pictures}/geodesic_vs_straight.pdf',bbox_inches='tight',format='pdf')\n",
    "plt.show()"
   ]
  },
  {
   "cell_type": "markdown",
   "metadata": {},
   "source": [
    "# Geodesic shooting"
   ]
  },
  {
   "cell_type": "code",
   "execution_count": null,
   "metadata": {},
   "outputs": [],
   "source": [
    "def geod_vect(x,dxdt):\n",
    "    u = x\n",
    "    v = dxdt\n",
    "    dudt = v\n",
    "    n = v.shape[0]\n",
    "    dvdt = torch.zeros(n,2)\n",
    "    Ch_at_u = ricci_regularization.Ch_jacfwd_vmap(u,function=torus_ae.decoder_torus,device=torch.device(\"cpu\"))\n",
    "    for l in range(2):\n",
    "        for i in range(2):\n",
    "            for j in range(2):\n",
    "                dvdt[:,l] -= Ch_at_u[:,l,i,j] * v[:,i] * v[:,j]\n",
    "    return dudt, dvdt\n",
    "\n",
    "def rungekutta_vect(f, initial_point_array, initial_speed_array, t, args=()):\n",
    "    n = len(t)\n",
    "    #num_geodesics = initial_point_array.shape[0]\n",
    "    x = torch.zeros((n, *tuple(initial_point_array.shape)))\n",
    "    dxdt = torch.zeros((n, *tuple(initial_speed_array.shape)))\n",
    "    x[0] = initial_point_array\n",
    "    dxdt[0] = initial_speed_array\n",
    "    #with torch.no_grad():\n",
    "    #    curve_length = torch.zeros(num_geodesics)\n",
    "    for i in range(n - 1):\n",
    "        dudt, dvdt = f(x[i], dxdt[i], *args)\n",
    "        \n",
    "        #print()\n",
    "        x[i+1] = x[i] + (t[i+1] - t[i])*dudt\n",
    "        dxdt[i+1] = dxdt[i] + (t[i+1] - t[i])*dvdt\n",
    "        \n",
    "        \n",
    "        #dxdt_length = torch.sqrt(((dxdt[i].unsqueeze(-2))@metric@(dxdt[i].unsqueeze(-1))).squeeze())\n",
    "        #curve_length =+ dxdt_length\n",
    "    return x, dxdt\n",
    "    #return x, dxdt,curve_length\n",
    "# x is of shape [num_grid_points,num_geodesics,dimension=2]"
   ]
  },
  {
   "cell_type": "code",
   "execution_count": null,
   "metadata": {},
   "outputs": [],
   "source": [
    "from torch.nn.functional import normalize\n",
    "\n",
    "num_approximation_points = 101 # how good the approximation is\n",
    "max_parameter_value = 1 #3 # how far to go\n",
    "time_array = torch.linspace(0, max_parameter_value, num_approximation_points)\n",
    "\n",
    "num_geodesics = 200\n",
    "\n",
    "#starting_points = torch.tensor([-2.,0.]).repeat(num_geodesics,1) # common starting point\n",
    "starting_points = p0.repeat(num_geodesics,1) # common starting point\n",
    "\n",
    "maxtangent = 2 # max slope of geodesics \n",
    "starting_speeds = torch.cat([torch.tensor([1.,0. + k]) for k in torch.linspace(-maxtangent,maxtangent,num_geodesics) ]).reshape(num_geodesics,2)\n",
    "#starting_speeds = c.deriv(torch.zeros(1)).reshape(num_geodesics,2)\n",
    "#starting_speeds = normalize(starting_speeds) #make norms of all speeds equal\n",
    "\n",
    "geodesics2plot,_ = rungekutta_vect(f=geod_vect,initial_point_array=starting_points,\n",
    "                                   initial_speed_array=starting_speeds,t=time_array)\n",
    "geodesics2plot = geodesics2plot.detach()"
   ]
  },
  {
   "cell_type": "code",
   "execution_count": null,
   "metadata": {},
   "outputs": [],
   "source": [
    "#scalar_curvature_on_geodesics = ricci_regularization.Sc_jacfwd_vmap(geodesics2plot.reshape(-1,2),function=torus_ae.decoder_torus,device=torch.device(\"cpu\"))\n",
    "#scalar_curvature_on_geodesics = scalar_curvature_on_geodesics.reshape(num_approximation_points,num_geodesics).detach()"
   ]
  },
  {
   "cell_type": "code",
   "execution_count": null,
   "metadata": {},
   "outputs": [],
   "source": [
    "plt.scatter(encoded_points_no_grad[:,0],encoded_points_no_grad[:,1],c = color_array,cmap=ricci_regularization.discrete_cmap(2,\"jet\"))\n",
    "for i in range(num_geodesics):\n",
    "    #plt.scatter(geodesics2plot[:,i,0],geodesics2plot[:,i,1],c=time_array,cmap=\"jet\")\n",
    "    #plt.scatter(geodesics2plot[:,i,0],geodesics2plot[:,i,1],c=scalar_curvature_on_geodesics[:,i],cmap=\"viridis\",norm=matplotlib.colors.SymLogNorm(linthresh=1e-2))\n",
    "    plt.plot(geodesics2plot[:,i,0],geodesics2plot[:,i,1],c=\"black\")\n",
    "#plt.colorbar(label=\"scalar curvature along geodesics\")\n",
    "plt.show()"
   ]
  },
  {
   "cell_type": "markdown",
   "metadata": {},
   "source": [
    "# Geodesic bvp for several geodesics"
   ]
  },
  {
   "cell_type": "code",
   "execution_count": null,
   "metadata": {},
   "outputs": [],
   "source": [
    "num_geodesics = 10\n",
    "\n",
    "x_left = -torch.pi/2#-torch.pi #-2.0\n",
    "y_bottom = -torch.pi/2#-torch.pi #-2.0\n",
    "\n",
    "x_size = -x_left*2#2*torch.pi # 4.\n",
    "y_size = -y_bottom*2#2*torch.pi #4. # max shift of geodesics \n",
    "\n",
    "x_right = x_left + x_size\n",
    "y_top = y_bottom + y_size\n",
    "\n",
    "starting_points = torch.cat([torch.tensor([x_left,y_bottom + k]) for k in torch.linspace(0,y_size,num_geodesics) ]).reshape(num_geodesics,2)\n",
    "end_points = torch.cat([torch.tensor([x_right,y_bottom + k]) for k in torch.linspace(0,y_size,num_geodesics) ]).reshape(num_geodesics,2)\n",
    "\n",
    "starting_points_vertical = torch.cat([torch.tensor([x_left +k, y_bottom]) for k in torch.linspace(0,y_size,num_geodesics) ]).reshape(num_geodesics,2)\n",
    "end_points_vertical = torch.cat([torch.tensor([x_left + k, y_top]) for k in torch.linspace(0,y_size,num_geodesics) ]).reshape(num_geodesics,2)"
   ]
  },
  {
   "cell_type": "code",
   "execution_count": null,
   "metadata": {},
   "outputs": [],
   "source": [
    "horizontal_geodesicts, success = model.connecting_geodesic(starting_points, end_points)\n",
    "vertical_geodesicts, success = model.connecting_geodesic(starting_points_vertical, end_points_vertical)\n",
    "print(\"Success:\", success.item())"
   ]
  },
  {
   "cell_type": "code",
   "execution_count": null,
   "metadata": {},
   "outputs": [],
   "source": [
    "num_approximation_points = 20\n",
    "t = torch.linspace(0,1,num_approximation_points)"
   ]
  },
  {
   "cell_type": "code",
   "execution_count": null,
   "metadata": {},
   "outputs": [],
   "source": [
    "geodesics2plot_horisontal = horizontal_geodesicts(t).detach()\n",
    "geodesics2plot_vertical = vertical_geodesicts(t).detach()"
   ]
  },
  {
   "cell_type": "code",
   "execution_count": null,
   "metadata": {},
   "outputs": [],
   "source": [
    "scalar_curvature_on_geodesics_bvp = ricci_regularization.Sc_jacfwd_vmap(geodesics2plot_horisontal.reshape(-1,2),function=torus_ae.decoder_torus,device=torch.device(\"cpu\"))\n",
    "scalar_curvature_on_geodesics_bvp = scalar_curvature_on_geodesics_bvp.reshape(num_geodesics,num_approximation_points).detach()"
   ]
  },
  {
   "cell_type": "code",
   "execution_count": null,
   "metadata": {},
   "outputs": [],
   "source": [
    "plt.figure(dpi=300)\n",
    "plt.scatter(encoded_points_no_grad[:,0],encoded_points_no_grad[:,1],c = color_array,cmap=ricci_regularization.discrete_cmap(k,\"jet\"))\n",
    "plt.title(f\"Geodesic grid on MNIST with {k} labels with $\\lambda_{{\\mathrm{{curv}}}}={curv_w}$\")\n",
    "for i in range(num_geodesics):\n",
    "    plt.plot(geodesics2plot_horisontal[i,:,0],geodesics2plot_horisontal[i,:,1],c=\"black\")\n",
    "    plt.plot(geodesics2plot_vertical[i,:,0],geodesics2plot_vertical[i,:,1],c=\"black\")\n",
    "plt.xlim(-torch.pi,torch.pi)\n",
    "plt.ylim(-torch.pi,torch.pi)\n",
    "plt.savefig(f'{Path_pictures}/multiple_geodesics_exp{exp_number}.pdf',bbox_inches='tight',format='pdf')\n",
    "plt.show()"
   ]
  },
  {
   "cell_type": "markdown",
   "metadata": {},
   "source": [
    "# Logarithmic map"
   ]
  },
  {
   "cell_type": "markdown",
   "metadata": {},
   "source": [
    "$log_{p_0} (p_1) = v, \\ $ where $\\gamma$ is the geodesic, s.t. $\\gamma(0) = p_0$ and $\\gamma(1) = p_1$ and $v = \\dot \\gamma(0), \\ \\|v\\| = $ length of the geodesic. "
   ]
  },
  {
   "cell_type": "code",
   "execution_count": null,
   "metadata": {},
   "outputs": [],
   "source": [
    "geod,_ = model.connecting_geodesic(p0,p1)"
   ]
  },
  {
   "cell_type": "code",
   "execution_count": null,
   "metadata": {},
   "outputs": [],
   "source": [
    "model.logmap(p0.unsqueeze(0).detach(),p1.unsqueeze(0).detach())"
   ]
  },
  {
   "cell_type": "code",
   "execution_count": null,
   "metadata": {},
   "outputs": [],
   "source": [
    "geod.deriv(torch.zeros(1))"
   ]
  },
  {
   "cell_type": "code",
   "execution_count": null,
   "metadata": {},
   "outputs": [],
   "source": [
    "p2 = torch.rand(2)\n",
    "p3 = torch.rand(2)\n",
    "#p2 = encoded_points[torch.where(color_array==selected_labels[0])][1].detach()\n",
    "#p3 = encoded_points[torch.where(color_array==selected_labels[1])][1].detach()"
   ]
  },
  {
   "cell_type": "code",
   "execution_count": null,
   "metadata": {},
   "outputs": [],
   "source": [
    "geod,_ = model.connecting_geodesic(p0,p1)\n",
    "new_geod,_ = model.connecting_geodesic(p2,p3)"
   ]
  },
  {
   "cell_type": "code",
   "execution_count": null,
   "metadata": {},
   "outputs": [],
   "source": [
    "num_points_on_new_geod = 20\n",
    "points_on_geod = geod(torch.linspace(0,1,num_points_on_new_geod))\n",
    "points_on_geod = points_on_geod.detach()\n",
    "\n",
    "points_on_new_geod = new_geod(torch.linspace(0,1,num_points_on_new_geod))\n",
    "points_on_new_geod = points_on_new_geod.detach()"
   ]
  },
  {
   "cell_type": "code",
   "execution_count": null,
   "metadata": {},
   "outputs": [],
   "source": [
    "geod_p0_p1_log_at_p0 = model.logmap(p0.repeat(num_points_on_new_geod,1).detach(),points_on_geod)\n",
    "geod_p2_p3_log_at_p0 = model.logmap(p0.repeat(num_points_on_new_geod,1).detach(),points_on_new_geod)"
   ]
  },
  {
   "cell_type": "code",
   "execution_count": null,
   "metadata": {},
   "outputs": [],
   "source": [
    "p0"
   ]
  },
  {
   "cell_type": "code",
   "execution_count": null,
   "metadata": {},
   "outputs": [],
   "source": [
    "p0_logmap = model.logmap(p0.unsqueeze(0), p0.unsqueeze(0)).squeeze()\n",
    "p1_logmap = model.logmap(p0.unsqueeze(0), p1.unsqueeze(0)).squeeze()\n",
    "p2_logmap = model.logmap(p0.unsqueeze(0), p2.unsqueeze(0)).squeeze()\n",
    "p3_logmap = model.logmap(p0.unsqueeze(0), p3.unsqueeze(0)).squeeze()"
   ]
  },
  {
   "cell_type": "code",
   "execution_count": null,
   "metadata": {},
   "outputs": [],
   "source": [
    "plt.title(\"Two geodesics connecting $p_0$ and $p_1$, $p_2$ and $p_3$ \\n after log map with base point $p_0$\")\n",
    "plt.scatter(geod_p0_p1_log_at_p0[:,0],geod_p0_p1_log_at_p0[:,1],c=\"red\")\n",
    "plt.plot(geod_p0_p1_log_at_p0[:,0],geod_p0_p1_log_at_p0[:,1],c=\"red\")\n",
    "plt.scatter(geod_p2_p3_log_at_p0[:,0],geod_p2_p3_log_at_p0[:,1])\n",
    "plt.plot(geod_p2_p3_log_at_p0[:,0],geod_p2_p3_log_at_p0[:,1])\n",
    "plt.scatter(p0_logmap[0],p0_logmap[1],marker = \"*\",c=\"blue\",s = 120,label = f\"Base point $p_0$\",zorder = 3)\n",
    "plt.scatter(p1_logmap[0],p1_logmap[1],marker = \"*\",c=\"green\",s = 120,label = f\"$p_1$\",zorder = 3)\n",
    "plt.scatter(p2_logmap[0],p2_logmap[1],marker = \"*\",c=\"magenta\",s = 120,label = f\"$p_2$\",zorder = 3)\n",
    "plt.scatter(p3_logmap[0],p3_logmap[1],marker = \"*\",c=\"yellow\",s = 120,label = f\"$p_3$\",zorder = 3)\n",
    "plt.legend()\n",
    "plt.show()"
   ]
  },
  {
   "cell_type": "markdown",
   "metadata": {},
   "source": [
    "# Grid of geodesics in log map"
   ]
  },
  {
   "cell_type": "code",
   "execution_count": null,
   "metadata": {},
   "outputs": [],
   "source": [
    "# choosing base point for logarithmic map\n",
    "base_point = torch.tensor([0.,0.]).unsqueeze(0)"
   ]
  },
  {
   "cell_type": "code",
   "execution_count": null,
   "metadata": {},
   "outputs": [],
   "source": [
    "num_geodesics = 10\n",
    "num_approximation_points = 20\n",
    "\n",
    "horizontal_geodesics2plot_logmap = model.logmap(base_point.repeat(num_geodesics*num_approximation_points,1),geodesics2plot_horisontal.reshape(-1,2))\n",
    "vertical_geodesics2plot_logmap = model.logmap(base_point.repeat(num_geodesics*num_approximation_points,1),geodesics2plot_vertical.reshape(-1,2))"
   ]
  },
  {
   "cell_type": "code",
   "execution_count": null,
   "metadata": {},
   "outputs": [],
   "source": [
    "horizontal_geodesics2plot_logmap = horizontal_geodesics2plot_logmap.reshape(num_geodesics,num_approximation_points,-1)\n",
    "vertical_geodesics2plot_logmap = vertical_geodesics2plot_logmap.reshape(num_geodesics,num_approximation_points,-1)"
   ]
  },
  {
   "cell_type": "code",
   "execution_count": null,
   "metadata": {},
   "outputs": [],
   "source": [
    "left_base = base_point - torch.tensor([x_size/2,0.])\n",
    "right_base = base_point + torch.tensor([x_size/2,0.])\n",
    "top_base = base_point + torch.tensor([0., y_size/2])\n",
    "bottom_base = base_point - torch.tensor([0., y_size/2])\n",
    "print(f\"Left {left_base}, top {top_base}, right {right_base}, bottom {bottom_base}\")"
   ]
  },
  {
   "cell_type": "code",
   "execution_count": null,
   "metadata": {},
   "outputs": [],
   "source": [
    "base_geod,_ = model.connecting_geodesic(base_point.repeat(4,1), torch.cat((left_base,top_base,right_base,bottom_base)))"
   ]
  },
  {
   "cell_type": "code",
   "execution_count": null,
   "metadata": {},
   "outputs": [],
   "source": [
    "base_geod_points = base_geod(t).detach()"
   ]
  },
  {
   "cell_type": "code",
   "execution_count": null,
   "metadata": {},
   "outputs": [],
   "source": [
    "base_geod2plot_logmap = model.logmap(base_point.repeat(4*num_approximation_points,1),base_geod_points.reshape(-1,2))"
   ]
  },
  {
   "cell_type": "code",
   "execution_count": null,
   "metadata": {},
   "outputs": [],
   "source": [
    "base_geod2plot_logmap = base_geod2plot_logmap.reshape(4,num_approximation_points,2)\n",
    "base_point_x = base_point.squeeze()[0]\n",
    "base_point_y = base_point.squeeze()[1]"
   ]
  },
  {
   "cell_type": "code",
   "execution_count": null,
   "metadata": {},
   "outputs": [],
   "source": [
    "plt.figure(dpi=300)\n",
    "plt.title(f\"Geodesic grid in $T_{{p_0}} M$ after log map with base point $p_0$, \\n experiment # {exp_number} with $\\lambda_{{\\mathrm{{curv}}}}={curv_w}$\")\n",
    "for i in range(num_geodesics):\n",
    "    plt.plot(horizontal_geodesics2plot_logmap[i,:,0],horizontal_geodesics2plot_logmap[i,:,1],c=\"orange\")\n",
    "    plt.plot(vertical_geodesics2plot_logmap[i,:,0],vertical_geodesics2plot_logmap[i,:,1],c=\"orange\")\n",
    "    plt.scatter(horizontal_geodesics2plot_logmap[i,:,0], horizontal_geodesics2plot_logmap[i,:,1])\n",
    "    plt.scatter(vertical_geodesics2plot_logmap[i,:,0], vertical_geodesics2plot_logmap[i,:,1],c=\"black\")\n",
    "plt.plot(base_geod2plot_logmap[3,:,0],base_geod2plot_logmap[3,:,1],c=\"red\",label=\"Geodesics through base point\")\n",
    "for j in range(3):\n",
    "    plt.plot(base_geod2plot_logmap[j,:,0],base_geod2plot_logmap[j,:,1],c=\"red\")\n",
    "plt.scatter(base_point[:,0],base_point[:,1],marker = \"*\",c=\"blue\",s = 120,label = f\"Base point $p_0$ = ({base_point_x}, {base_point_y})\",zorder = 3)\n",
    "plt.legend()\n",
    "plt.savefig(f'{Path_pictures}/geodesic_grid_logmap_exp{exp_number}.pdf',bbox_inches='tight',format='pdf')\n",
    "plt.show()"
   ]
  },
  {
   "cell_type": "markdown",
   "metadata": {},
   "source": [
    "# Reconstructing geodesics"
   ]
  },
  {
   "cell_type": "code",
   "execution_count": null,
   "metadata": {},
   "outputs": [],
   "source": [
    "points,_ = rungekutta_vect(geod_vect,base_point.repeat(200,1),horizontal_geodesics2plot_logmap.reshape(200,2),t=time_array)"
   ]
  },
  {
   "cell_type": "code",
   "execution_count": null,
   "metadata": {},
   "outputs": [],
   "source": [
    "points = points.reshape(-1,num_geodesics,num_approximation_points,2)\n",
    "points = points.detach()"
   ]
  },
  {
   "cell_type": "code",
   "execution_count": null,
   "metadata": {},
   "outputs": [],
   "source": [
    "for i in range(num_geodesics):\n",
    "    plt.plot(points[-1,i,:,0], points[-1,i,:,1],c=\"blue\")\n",
    "    plt.plot(geodesics2plot_horisontal[i,:,0],geodesics2plot_horisontal[i,:,1],c=\"orange\")\n",
    "plt.show()"
   ]
  },
  {
   "cell_type": "markdown",
   "metadata": {},
   "source": [
    "# straight lines in logmap"
   ]
  },
  {
   "cell_type": "code",
   "execution_count": null,
   "metadata": {},
   "outputs": [],
   "source": [
    "num_points = 20\n",
    "vectors = horizontal_geodesics2plot_logmap[:,-1,:]-horizontal_geodesics2plot_logmap[:,0,:]"
   ]
  },
  {
   "cell_type": "code",
   "execution_count": null,
   "metadata": {},
   "outputs": [],
   "source": [
    "t = torch.linspace(0,1,num_points)"
   ]
  },
  {
   "cell_type": "code",
   "execution_count": null,
   "metadata": {},
   "outputs": [],
   "source": [
    "straight_lines = horizontal_geodesics2plot_logmap[:,0,:] + torch.tensordot(t.unsqueeze(0),vectors,dims=0).reshape(num_points,num_geodesics,2)"
   ]
  },
  {
   "cell_type": "code",
   "execution_count": null,
   "metadata": {},
   "outputs": [],
   "source": [
    "for i in range(num_geodesics):\n",
    "    plt.plot(horizontal_geodesics2plot_logmap[i,:,0],horizontal_geodesics2plot_logmap[i,:,1],c=\"orange\")\n",
    "    plt.plot(straight_lines[:,i,0],straight_lines[:,i,1],c=\"black\")"
   ]
  },
  {
   "cell_type": "code",
   "execution_count": null,
   "metadata": {},
   "outputs": [],
   "source": [
    "geodesic_lengths = model.curve_length(horizontal_geodesicts(t))\n",
    "print(f\"geodesic lengths: {geodesic_lengths}\")"
   ]
  },
  {
   "cell_type": "code",
   "execution_count": null,
   "metadata": {},
   "outputs": [],
   "source": [
    "exp_base_point_x_i,_ = rungekutta_vect(f=geod_vect,initial_point_array=base_point.repeat(num_points*num_geodesics,1),\n",
    "                    initial_speed_array=straight_lines.reshape(-1,2), t=time_array)"
   ]
  },
  {
   "cell_type": "code",
   "execution_count": null,
   "metadata": {},
   "outputs": [],
   "source": [
    "y = exp_base_point_x_i[-1].reshape(num_points, num_geodesics, 2).detach()\n",
    "y.shape"
   ]
  },
  {
   "cell_type": "code",
   "execution_count": null,
   "metadata": {},
   "outputs": [],
   "source": [
    "plt.title(\"Geodesics and straight lines in logmap\")\n",
    "for i in range(num_geodesics):\n",
    "    plt.scatter(y[:,i,0],y[:,i,1])\n",
    "    #plt.plot(straight_lines[:,i,0],straight_lines[:,i,1],c=\"black\")"
   ]
  },
  {
   "cell_type": "code",
   "execution_count": null,
   "metadata": {},
   "outputs": [],
   "source": [
    "geodesics_y_i,_ = model.connecting_geodesic(y[:-1].reshape(-1,2), y[1:].reshape(-1,2))"
   ]
  },
  {
   "cell_type": "code",
   "execution_count": null,
   "metadata": {},
   "outputs": [],
   "source": [
    "log_straight_lines_length_approx = model.curve_length(geodesics_y_i(t)).reshape(num_points-1,num_geodesics).sum(dim = 0)\n",
    "print(f\"straight_lines_length_approx: {log_straight_lines_length_approx}\")"
   ]
  },
  {
   "cell_type": "code",
   "execution_count": null,
   "metadata": {},
   "outputs": [],
   "source": [
    "geodesic_lengths/log_straight_lines_length_approx"
   ]
  },
  {
   "cell_type": "code",
   "execution_count": null,
   "metadata": {},
   "outputs": [],
   "source": [
    "geod_length_ratio = (geodesic_lengths/log_straight_lines_length_approx).mean().item()\n",
    "print(f\"geodesic length ratio:\\n{geod_length_ratio}\")"
   ]
  },
  {
   "cell_type": "code",
   "execution_count": null,
   "metadata": {},
   "outputs": [],
   "source": [
    "dict = {\"geod_length_ratio\":geod_length_ratio}"
   ]
  },
  {
   "cell_type": "code",
   "execution_count": null,
   "metadata": {},
   "outputs": [],
   "source": [
    "import json\n",
    "with open(f'{Path_pictures}/geodesic_length_ratio_exp{exp_number}.json', 'w') as json_file:\n",
    "    json.dump(dict, json_file, indent=4)"
   ]
  },
  {
   "cell_type": "markdown",
   "metadata": {},
   "source": [
    "# Random multiple geodesics and different logmap base points"
   ]
  },
  {
   "cell_type": "code",
   "execution_count": null,
   "metadata": {},
   "outputs": [],
   "source": [
    "torch.manual_seed(0)\n",
    "\n",
    "num_approximation_points = 20\n",
    "t = torch.linspace(0,1,num_approximation_points)\n",
    "\n",
    "num_geodesics = 7\n",
    "#selecting geodesic start/end points and log map base points randomly\n",
    "random_starting_points = torch.pi*(torch.rand(num_geodesics,2)-0.5)\n",
    "random_end_points = torch.pi*(torch.rand(num_geodesics,2)-0.5)\n",
    "base_points = torch.pi*(torch.rand(num_geodesics,2)-0.5)\n",
    "\n",
    "random_geodesicts, success = model.connecting_geodesic(random_starting_points, random_end_points)\n",
    "random_geodesicts2plot = random_geodesicts(t).detach()"
   ]
  },
  {
   "cell_type": "code",
   "execution_count": null,
   "metadata": {},
   "outputs": [],
   "source": [
    "random_geodesicts2plot.shape"
   ]
  },
  {
   "cell_type": "code",
   "execution_count": null,
   "metadata": {},
   "outputs": [],
   "source": [
    "plt.title(\"Random geodesics and basepoints\")\n",
    "for i in range(num_geodesics):\n",
    "    plt.scatter(base_points[i,0],base_points[i,1])\n",
    "    plt.plot(random_geodesicts2plot[i,:,0],random_geodesicts2plot[i,:,1])\n",
    "plt.xlim(-torch.pi, torch.pi)\n",
    "plt.ylim(-torch.pi, torch.pi)\n",
    "plt.show()"
   ]
  },
  {
   "cell_type": "code",
   "execution_count": null,
   "metadata": {},
   "outputs": [],
   "source": [
    "random_geodesics2plot_logmap = model.logmap(base_points.repeat(1,num_approximation_points).reshape(num_approximation_points*num_geodesics,2),random_geodesicts2plot.reshape(num_approximation_points*num_geodesics,2))\n",
    "random_geodesics2plot_logmap = random_geodesics2plot_logmap.reshape(num_geodesics,num_approximation_points,-1)"
   ]
  },
  {
   "cell_type": "code",
   "execution_count": null,
   "metadata": {},
   "outputs": [],
   "source": [
    "model.logmap(base_points,base_points)"
   ]
  },
  {
   "cell_type": "code",
   "execution_count": null,
   "metadata": {},
   "outputs": [],
   "source": [
    "random_geodesic_lengths = model.curve_length(random_geodesicts(t))\n",
    "print(f\"geodesic lengths: {random_geodesic_lengths}\")"
   ]
  },
  {
   "cell_type": "code",
   "execution_count": null,
   "metadata": {},
   "outputs": [],
   "source": [
    "num_points = 10 #number of intermediate poits on an image of a  a geodesic in log map\n",
    "\n",
    "vectors = random_geodesics2plot_logmap[:,-1,:]-random_geodesics2plot_logmap[:,0,:]\n",
    "t = torch.linspace(0,1,num_points)\n",
    "straight_lines = random_geodesics2plot_logmap[:,0,:] + torch.tensordot(t.unsqueeze(0),vectors,dims=0).reshape(num_points,num_geodesics,2)"
   ]
  },
  {
   "cell_type": "code",
   "execution_count": null,
   "metadata": {},
   "outputs": [],
   "source": [
    "plt.title(\"Geodesics and straight lines in logmap\")\n",
    "for i in range(num_geodesics):\n",
    "    plt.plot(random_geodesics2plot_logmap[i,:,0],random_geodesics2plot_logmap[i,:,1],c=\"orange\")\n",
    "    plt.plot(straight_lines[:,i,0],straight_lines[:,i,1],c=\"black\")"
   ]
  },
  {
   "cell_type": "code",
   "execution_count": null,
   "metadata": {},
   "outputs": [],
   "source": [
    "exp_base_point_x_i,_ = rungekutta_vect(f=geod_vect,initial_point_array=base_points.repeat(num_points,1).reshape(num_points*num_geodesics,2),\n",
    "                    initial_speed_array=straight_lines.reshape(-1,2), t=time_array)\n",
    "y = exp_base_point_x_i[-1].reshape(num_points,num_geodesics, 2)\n",
    "y = y.detach()"
   ]
  },
  {
   "cell_type": "code",
   "execution_count": null,
   "metadata": {},
   "outputs": [],
   "source": [
    "geodesics_y_i,_ = model.connecting_geodesic(y[:-1].reshape(-1,2), y[1:].reshape(-1,2))\n",
    "geodesics_y_i2plot = geodesics_y_i(t).reshape((num_points-1),num_geodesics,num_points,2).detach()"
   ]
  },
  {
   "cell_type": "code",
   "execution_count": null,
   "metadata": {},
   "outputs": [],
   "source": [
    "plt.title(\"Images of straight lines in logmap through exp maps with appropriate basepoints \")\n",
    "for i in range(num_geodesics):\n",
    "    plt.plot(y[:,i,0],y[:,i,1])\n",
    "    plt.scatter(y[:,i,0],y[:,i,1])\n",
    "    #plt.plot(geodesics_y_i2plot[:,i,:,0],geodesics_y_i2plot[:,i,:,1],c=\"black\")\n",
    "    #plt.plot(straight_lines[:,i,0],straight_lines[:,i,1],c=\"black\")"
   ]
  },
  {
   "cell_type": "code",
   "execution_count": null,
   "metadata": {},
   "outputs": [],
   "source": [
    "log_straight_lines_length_approx = model.curve_length(geodesics_y_i(t)).reshape(num_points-1,num_geodesics).sum(dim = 0)\n",
    "print(f\"straight_lines_length_approx: {log_straight_lines_length_approx}\")"
   ]
  },
  {
   "cell_type": "code",
   "execution_count": null,
   "metadata": {},
   "outputs": [],
   "source": [
    "random_geodesic_lengths/log_straight_lines_length_approx"
   ]
  },
  {
   "cell_type": "code",
   "execution_count": null,
   "metadata": {},
   "outputs": [],
   "source": [
    "random_geod_length_ratio = (random_geodesic_lengths/log_straight_lines_length_approx).mean().item()\n",
    "print(f\"geodesic length ratio:\\n{random_geod_length_ratio}\")"
   ]
  },
  {
   "cell_type": "code",
   "execution_count": null,
   "metadata": {},
   "outputs": [],
   "source": [
    "fig,(ax1,ax2) = plt.subplots(ncols=2,figsize=(12,6))\n",
    "fig.suptitle(f\"Experiment # {exp_number} with $\\lambda_{{\\mathrm{{curv}}}}={curv_w}.$\")\n",
    "ax1.set_title(\"Random geodesics and basepoints\")\n",
    "ax2.set_title(\"Images of these geodesics through logmaps \\n w.r.t. corresponding base points\")\n",
    "for i in range(num_geodesics):\n",
    "    p = ax1.plot(random_geodesicts2plot[i,:,0],random_geodesicts2plot[i,:,1])\n",
    "    automatic_color = p[-1].get_color()  \n",
    "    ax1.scatter(base_points[i,0],base_points[i,1],c = automatic_color)\n",
    "    ax2.scatter(random_geodesics2plot_logmap[i,:,0],random_geodesics2plot_logmap[i,:,1],c = automatic_color)\n",
    "    ax2.plot(random_geodesics2plot_logmap[i,:,0],random_geodesics2plot_logmap[i,:,1],c = automatic_color)\n",
    "fig.text(0.1,0,f\"Geodesic length ratio:{random_geod_length_ratio:.4f}\")\n",
    "plt.savefig(f'{Path_pictures}/random_geodesics_exp{exp_number}.pdf',bbox_inches='tight',format='pdf')\n",
    "plt.show()"
   ]
  },
  {
   "cell_type": "code",
   "execution_count": null,
   "metadata": {},
   "outputs": [],
   "source": [
    "# tha accuracy here has to be less then the threshehold in the algorithm\n",
    "dict = {\"geod_length_ratio\":random_geod_length_ratio}\n",
    "\n",
    "import json\n",
    "with open(f'{Path_pictures}/random_geodesic_length_ratio_exp{exp_number}.json', 'w') as json_file:\n",
    "    json.dump(dict, json_file, indent=4)"
   ]
  },
  {
   "cell_type": "code",
   "execution_count": null,
   "metadata": {},
   "outputs": [],
   "source": [
    "from pypdf import PdfWriter\n",
    "build_report = True\n",
    "if build_report == True:\n",
    "    pdfs = [f'{Path_pictures}/multiple_geodesics_exp{exp_number}.pdf',f'{Path_pictures}/geodesic_grid_logmap_exp{exp_number}.pdf',f\"{Path_pictures}/random_geodesics_exp{exp_number}.pdf\"]\n",
    "\n",
    "    merger = PdfWriter()\n",
    "\n",
    "    for pdf in pdfs:\n",
    "        merger.append(pdf)\n",
    "\n",
    "    merger.write(f\"{Path_pictures}/report_exp_{exp_number}.pdf\")\n",
    "    merger.close()"
   ]
  },
  {
   "cell_type": "markdown",
   "metadata": {},
   "source": [
    "# Frechet mean"
   ]
  },
  {
   "cell_type": "code",
   "execution_count": null,
   "metadata": {},
   "outputs": [],
   "source": [
    "num_cluster_points = 3\n",
    "cluster = torch.pi*(torch.rand(num_cluster_points,2)-0.5)\n",
    "plt.scatter(cluster[:,0],cluster[:,1])\n",
    "plt.show()"
   ]
  },
  {
   "cell_type": "code",
   "execution_count": null,
   "metadata": {},
   "outputs": [],
   "source": [
    "frechet_mean = cluster[0]\n",
    "for i in range(1,num_cluster_points):\n",
    "    geodesic,_ = model.connecting_geodesic(frechet_mean, cluster[i])\n",
    "    frechet_mean = geodesic(torch.tensor([1 / (i + 1)]))\n",
    "frechet_mean = frechet_mean.detach()\n",
    "print(\"frechet_mean:\", frechet_mean)"
   ]
  },
  {
   "cell_type": "code",
   "execution_count": null,
   "metadata": {},
   "outputs": [],
   "source": [
    "frechet_mean = frechet_mean.squeeze()\n",
    "plt.scatter(cluster[:,0],cluster[:,1])\n",
    "plt.scatter(frechet_mean[0],frechet_mean[1], c = \"red\",marker = \"*\",s=200)\n",
    "plt.show()"
   ]
  }
 ],
 "metadata": {
  "kernelspec": {
   "display_name": ".venv_ricci2024",
   "language": "python",
   "name": "python3"
  },
  "language_info": {
   "codemirror_mode": {
    "name": "ipython",
    "version": 3
   },
   "file_extension": ".py",
   "mimetype": "text/x-python",
   "name": "python",
   "nbconvert_exporter": "python",
   "pygments_lexer": "ipython3",
   "version": "3.10.12"
  }
 },
 "nbformat": 4,
 "nbformat_minor": 2
}
