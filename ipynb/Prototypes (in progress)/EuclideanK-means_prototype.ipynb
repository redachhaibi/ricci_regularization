{
 "cells": [
  {
   "cell_type": "markdown",
   "metadata": {},
   "source": [
    "NB! Geomstats package is required.\n",
    "\n",
    "The latent space of the AE is topologically a $d-$ dimensional torus $\\mathcal{T}^d$, i.e. it can be considered as a periodic box $[-\\pi, \\pi]^d$. \n",
    "\n",
    "The notebook includes 3 K-means clustering applications.\n",
    "1) For input data (uses skit.learn K-means see https://scikit-learn.org/stable/modules/generated/sklearn.cluster.KMeans.html)\n",
    "2) For output data of the AE (also uses skit.learn K-means)\n",
    "3) The torus latent space of the AE with Euclidean metric (uses geomstats package, see https://geomstats.github.io/notebooks/07_practical_methods__riemannian_kmeans.html#)\n",
    "\n",
    "In this notebook data is the part of MNIST dataset with 2 selected labels (5 and 8).\n",
    "\n",
    "F-scores (see https://en.wikipedia.org/wiki/F-score) of clusterizations vs ground truth labels are comuted. The efficiency of clusterization are computed.\n",
    "\n",
    "The contents of the notebook are:\n",
    "\n",
    "1) Setting hyperparameters, dataset loading, plotting embedded data for a pre-trained AE.\n",
    "2) Geomstats K-means: Euclidean metric on torus latent space\n",
    "3) K-means in input data space\n",
    "4) K-means in a output data space\n",
    "5) F-scores comparison"
   ]
  },
  {
   "cell_type": "code",
   "execution_count": null,
   "metadata": {},
   "outputs": [],
   "source": [
    "# prerequisites\n",
    "%matplotlib inline\n",
    "import sklearn\n",
    "from sklearn.cluster import KMeans\n",
    "import matplotlib.pyplot as plt\n",
    "import torch\n",
    "import yaml,os, ricci_regularization, json\n",
    "import numpy as np\n",
    "from tqdm.notebook import tqdm"
   ]
  },
  {
   "cell_type": "markdown",
   "metadata": {},
   "source": [
    "# 1. Setting hyperparameters, dataset loading, plotting embedded data for a pre-trained AE."
   ]
  },
  {
   "cell_type": "code",
   "execution_count": null,
   "metadata": {},
   "outputs": [],
   "source": [
    "k_means_setup_number = 0\n",
    "pretrained_AE_setting_name = 'MNIST_Setting_3_exp5'\n",
    "Path_clustering_setup = f\"../experiments/{pretrained_AE_setting_name}/K_means_setup_{k_means_setup_number}\"\n",
    "Path_experiment = f'../experiments/{pretrained_AE_setting_name}_config.yaml'\n",
    "mode = \"selected_points\" # clustering only selected points\n",
    "#mode = \"all_points\""
   ]
  },
  {
   "cell_type": "code",
   "execution_count": null,
   "metadata": {},
   "outputs": [],
   "source": [
    "with open(Path_clustering_setup + f\"/params.json\", \"r\") as f_Riemannian:\n",
    "    Riemannian_k_means_params = json.load(f_Riemannian)\n",
    "encoded_points_to_cluster = torch.tensor(Riemannian_k_means_params[\"encoded_points\"])\n",
    "K = Riemannian_k_means_params[\"K\"]\n",
    "N = Riemannian_k_means_params[\"N\"]\n",
    "selected_labels = Riemannian_k_means_params[\"selected_labels\"]\n",
    "ground_truth_labels = Riemannian_k_means_params[\"ground_truth_labels\"]"
   ]
  },
  {
   "cell_type": "markdown",
   "metadata": {},
   "source": [
    "## Plots"
   ]
  },
  {
   "cell_type": "code",
   "execution_count": null,
   "metadata": {},
   "outputs": [],
   "source": [
    "\"\"\"\n",
    "plt.figure(figsize=(8, 6))\n",
    "plt.title(\"Encoded points selected for clustering colored by ground truth labels\")\n",
    "plt.scatter(encoded_points_to_cluster[:,0],encoded_points_to_cluster[:,1], c=ground_truth_labels, marker='o', edgecolor='none', cmap=ricci_regularization.discrete_cmap(K, 'jet'))\n",
    "plt.colorbar(ticks=range(K))\n",
    "plt.grid(True)\n",
    "#plt.savefig(f\"{Path_pictures}/latent_space.pdf\",format=\"pdf\")\n",
    "\"\"\""
   ]
  },
  {
   "cell_type": "markdown",
   "metadata": {},
   "source": [
    "# 2. Geomstats K-means: Euclidean metric on torus latent space"
   ]
  },
  {
   "cell_type": "code",
   "execution_count": null,
   "metadata": {},
   "outputs": [],
   "source": [
    "#this adds an environmental variable\n",
    "#%env GEOMSTATS_BACKEND=pytorch\n",
    "\n",
    "import geomstats.backend as gs\n",
    "import geomstats.visualization as visualization\n",
    "from geomstats.geometry.hypersphere import Hypersphere\n",
    "from geomstats.learning.kmeans import RiemannianKMeans"
   ]
  },
  {
   "cell_type": "code",
   "execution_count": null,
   "metadata": {},
   "outputs": [],
   "source": [
    "circumference1 = Hypersphere(dim=1)\n",
    "circumference2 = Hypersphere(dim=1)"
   ]
  },
  {
   "cell_type": "markdown",
   "metadata": {},
   "source": [
    "Building torus as a product $\\mathcal{T} = \\mathcal{S}^1 \\times \\mathcal{S}^1$ "
   ]
  },
  {
   "cell_type": "code",
   "execution_count": null,
   "metadata": {},
   "outputs": [],
   "source": [
    "from geomstats.geometry.product_manifold import ProductManifold\n",
    "torus = ProductManifold((circumference1,circumference2))"
   ]
  },
  {
   "cell_type": "markdown",
   "metadata": {},
   "source": [
    "Putting MNIST data on torus"
   ]
  },
  {
   "cell_type": "code",
   "execution_count": null,
   "metadata": {},
   "outputs": [],
   "source": [
    "circ_1_coordinates = torus.factors[0].intrinsic_to_extrinsic_coords(encoded_points_to_cluster[:,0]).reshape(2,-1).T\n",
    "circ_2_coordinates = torus.factors[1].intrinsic_to_extrinsic_coords(encoded_points_to_cluster[:,1]).reshape(2,-1).T\n",
    "MNIST_data_on_torus_4d = np.concatenate((circ_1_coordinates,circ_2_coordinates),axis = 1).reshape(-1,2,2) # cos\\phi, sin \\phi, cos \\psi, sin \\psi"
   ]
  },
  {
   "cell_type": "code",
   "execution_count": null,
   "metadata": {},
   "outputs": [],
   "source": [
    "kmeans = RiemannianKMeans(torus, K, tol=1e-3) # in geomstats it is called Riemannian K-means, but it is Euclidean on the chosen local chart of the torus\n",
    "kmeans.fit(MNIST_data_on_torus_4d)\n",
    "kmeans_latent_space_euclidean_labels = kmeans.labels_\n",
    "cluster_centers = kmeans.centroids_# kmeans.cluster_centers_"
   ]
  },
  {
   "cell_type": "code",
   "execution_count": null,
   "metadata": {},
   "outputs": [],
   "source": [
    "ricci_regularization.RiemannianKmeansTools.manifold_plot_selected_labels(encoded_points2plot=encoded_points_to_cluster,\n",
    "        encoded_points_labels=kmeans_latent_space_euclidean_labels,\n",
    "        selected_labels=selected_labels,\n",
    "        plot_title=\"Encoded points colored by Euclidean K-means via geomstats\",\n",
    "        save_plot=False)"
   ]
  },
  {
   "cell_type": "markdown",
   "metadata": {},
   "source": [
    "## Saving the results"
   ]
  },
  {
   "cell_type": "code",
   "execution_count": null,
   "metadata": {},
   "outputs": [],
   "source": [
    "# Define experiment parameters\n",
    "params = {\n",
    "    \"K\": K,  # Number of clusters\n",
    "    \"N\": N,  # Number of points to be clustered\n",
    "    \"selected_labels\": selected_labels,  # Labels used for clustering\n",
    "    \n",
    "    \"ground_truth_labels\": ground_truth_labels,\n",
    "    \"Euclidean_k_means_labels\": kmeans_latent_space_euclidean_labels.tolist(),\n",
    "    \"encoded_points\": encoded_points_to_cluster.tolist()\n",
    "}\n",
    "\n",
    "# Save to JSON file\n",
    "saving_path_parameters = f\"{Path_clustering_setup}/Euclidean_k_means_params.json\"\n",
    "with open(saving_path_parameters, \"w\") as f:\n",
    "    json.dump(params, f, indent=4)\n",
    "\n",
    "print(f\"Parameters saved to {saving_path_parameters}\")"
   ]
  },
  {
   "cell_type": "code",
   "execution_count": null,
   "metadata": {},
   "outputs": [],
   "source": [
    "# stop here. Pieces of code below are yet to do\n",
    "raise Exception(\"Stopping point: Review output before proceeding.\")"
   ]
  },
  {
   "cell_type": "markdown",
   "metadata": {},
   "source": [
    "# 3. K-means in input data space"
   ]
  },
  {
   "cell_type": "markdown",
   "metadata": {},
   "source": [
    "# Data loading"
   ]
  },
  {
   "cell_type": "code",
   "execution_count": null,
   "metadata": {},
   "outputs": [],
   "source": [
    "# Read from JSON file\n",
    "with open(Path_clustering_setup + \"/params.json\", \"r\") as f:\n",
    "    json_config = json.load(f)\n",
    "\n",
    "# Print or use the params dictionary\n",
    "#print(json_config)\n",
    "K = json_config[\"K\"]\n",
    "with open(Path_experiment, 'r') as yaml_file:\n",
    "    yaml_config = yaml.load(yaml_file, Loader=yaml.FullLoader)\n",
    "\n",
    "experiment_name = yaml_config[\"experiment\"][\"name\"]\n",
    "Path_pictures = \"../experiments/\" + yaml_config[\"experiment\"][\"name\"] + f\"/Euclidean_K_means_setup_{k_means_setup_number}\"\n",
    "# Check and create directories based on configuration\n",
    "if not os.path.exists(Path_pictures):  # Check if the picture path does not exist\n",
    "    os.mkdir(Path_pictures)  # Create the directory for plots if not yet created\n",
    "    print(f\"Created directory: {Path_pictures}\")  # Print directory creation feedback\n",
    "else:\n",
    "    print(f\"Directiry already exists: {Path_pictures}\")\n",
    "\n",
    "# Load data loaders based on YAML configuration\n",
    "dict = ricci_regularization.DataLoaders.get_dataloaders(\n",
    "    dataset_config=yaml_config[\"dataset\"],\n",
    "    data_loader_config=yaml_config[\"data_loader_settings\"],\n",
    "    dtype=torch.float32\n",
    ")\n",
    "print(\"Experiment results loaded successfully.\")\n",
    "# Loading data\n",
    "train_loader = dict[\"train_loader\"]\n",
    "test_loader = dict[\"test_loader\"]\n",
    "test_dataset = dict.get(\"test_dataset\")  # Assuming 'test_dataset' is a key returned by get_dataloaders\n",
    "print(\"Data loaders created successfully.\")\n",
    "\n",
    "# Loading the pre-tained AE\n",
    "torus_ae, Path_ae_weights = ricci_regularization.DataLoaders.get_tuned_nn(config=yaml_config)\n",
    "print(\"AE weights loaded successfully.\")\n",
    "print(\"AE weights loaded from\", Path_ae_weights)"
   ]
  },
  {
   "cell_type": "code",
   "execution_count": null,
   "metadata": {},
   "outputs": [],
   "source": [
    "# the whole dataset\n",
    "D = yaml_config[\"architecture\"][\"input_dim\"]\n",
    "torus_ae.cpu()\n",
    "colorlist = []\n",
    "enc_list = []\n",
    "feature_space_encoding_list = []\n",
    "input_dataset_list = []\n",
    "recon_dataset_list = []\n",
    "for (data, labels) in tqdm( test_loader, position=0 ):\n",
    "#for (data, labels) in tqdm( train_loader, position=0 ):\n",
    "    input_dataset_list.append(data)\n",
    "    recon_dataset_list.append(torus_ae(data)[0])\n",
    "    feature_space_encoding_list.append(torus_ae.encoder_torus(data.view(-1,D)))\n",
    "    #zlist.append(vae(data)[1])\n",
    "    enc_list.append(torus_ae.encoder_to_lifting(data.view(-1,D)))\n",
    "    colorlist.append(labels) \n",
    "\n",
    "input_dataset = torch.cat(input_dataset_list)\n",
    "recon_dataset = torch.cat(recon_dataset_list)\n",
    "encoded_points = torch.cat(enc_list)\n",
    "feature_space_encoding = torch.cat(feature_space_encoding_list)\n",
    "encoded_points_no_grad = encoded_points.detach()\n",
    "color_array = torch.cat(colorlist).detach()"
   ]
  },
  {
   "cell_type": "code",
   "execution_count": null,
   "metadata": {},
   "outputs": [],
   "source": [
    "\"\"\"\n",
    "# picking only the selected part\n",
    "N = json_config[\"N\"]\n",
    "selected_labels = json_config[\"selected_labels\"]\n",
    "# we use some random N points of the test dataset that we will cluster\n",
    "# This could be done differently, e.g. by simply picking random points\n",
    "D = yaml_config[\"architecture\"][\"input_dim\"]\n",
    "d = yaml_config[\"architecture\"][\"latent_dim\"]\n",
    "\n",
    "# Extract data and ground truth labels of the subset\n",
    "all_data = test_dataset.data\n",
    "all_labels = test_dataset.targets\n",
    "mask = torch.isin(all_labels, torch.tensor(selected_labels)) # mask will be used to chose only labels in selected_labels\n",
    "# Filter dataset\n",
    "data_filtered = all_data[mask]\n",
    "labels_filtered = all_labels[mask]\n",
    "torch.manual_seed(0)\n",
    "indices = torch.randperm(len(data_filtered))[:N]  # Randomly shuffle and pick first N\n",
    "mnist_subset = data_filtered[indices]\n",
    "ground_truth_labels = labels_filtered[indices]\n",
    "\n",
    "# meaningless alternative \n",
    "#data = test_dataset.data\n",
    "#subset_indices = list(range(N))\n",
    "#mnist_subset = torch.utils.data.Subset(data, subset_indices)\n",
    "\n",
    "# constructing dataloader for the mnist_subset\n",
    "dataset_batch_size = 128\n",
    "dataloader = torch.utils.data.DataLoader(mnist_subset, batch_size=dataset_batch_size, shuffle=False)\n",
    "# encoding into latent space\n",
    "torus_ae.cpu()\n",
    "torus_ae.eval()\n",
    "\n",
    "# Encode samples into latent space\n",
    "encoded_points = []\n",
    "with torch.no_grad():  # No need to compute gradients\n",
    "    for images in dataloader:\n",
    "#        print(images.shape)\n",
    "        latent = torus_ae.encoder_to_lifting( (images.reshape(-1, D)).to(torch.float32) )  # Pass images through the encoder\n",
    "        encoded_points.append(latent)\n",
    "encoded_points = torch.cat(encoded_points)\n",
    "#filtering poins to choose N of them with labels in selected_labels\n",
    "#clusters can be unbalanced\n",
    "list_encoded_data_filtered = []\n",
    "list_labels_filtered = []\n",
    "for data,label in train_loader:\n",
    "    mask_batch = torch.isin(label, torch.tensor(selected_labels)) # mask will be used to chose only labels in selected_labels\n",
    "    data_filtered = data[mask_batch]\n",
    "    labels_filtered = label[mask_batch]\n",
    "    enc_images = torus_ae.encoder_to_lifting(data_filtered.reshape(-1, D)).detach()\n",
    "    list_encoded_data_filtered.append(enc_images)\n",
    "    list_labels_filtered.append(labels_filtered)\n",
    "    #print(labels_filtered)\n",
    "all_encoded_data_filtered = torch.cat(list_encoded_data_filtered)\n",
    "all_labels_filtered = torch.cat(list_labels_filtered)\n",
    "#randomly picking N points with selected labels\n",
    "torch.manual_seed(0)\n",
    "indices = torch.randperm(len(all_encoded_data_filtered))[:N]  # Randomly shuffle and pick first N\n",
    "encoded_points_selected = all_encoded_data_filtered[indices]\n",
    "ground_truth_labels_selected = all_labels_filtered[indices]\n",
    "\"\"\""
   ]
  },
  {
   "cell_type": "code",
   "execution_count": null,
   "metadata": {},
   "outputs": [],
   "source": [
    "# choosing the dataset to cluster\n",
    "if mode == \"selected_points\":\n",
    "    #ae_input_points2cluster = \n",
    "    encoded_points_to_cluster = encoded_points_selected\n",
    "    #ae_outpu_points2cluster = \n",
    "    ground_truth_labels = ground_truth_labels_selected\n",
    "# to be done\n",
    "#elif mode == \"all_labels\":\n",
    "#    encoded_points = encoded_points_no_grad\n"
   ]
  },
  {
   "cell_type": "code",
   "execution_count": null,
   "metadata": {},
   "outputs": [],
   "source": [
    "kmeans_input_space = KMeans(n_clusters=K, random_state=0, n_init=\"auto\").fit(input_dataset.reshape(-1,D).detach())\n",
    "kmeans_input_space_labels = kmeans_input_space.labels_\n",
    "print(f\"k-means clusterisation to {K} clusters\")"
   ]
  },
  {
   "cell_type": "code",
   "execution_count": null,
   "metadata": {},
   "outputs": [],
   "source": [
    "#plt.figure(figsize=(8, 6))\n",
    "fig,(ax1,ax2) = plt.subplots(2,1,figsize=(8, 12))\n",
    "p1 = ax1.scatter(encoded_points_no_grad[:,0],encoded_points_no_grad[:,1], c=kmeans_input_space_labels, marker='o', edgecolor='none', cmap=discrete_cmap(K, 'jet'))\n",
    "plt.colorbar(p1,ticks=range(K))\n",
    "ax1.title.set_text(f\"K-means clusterization on input data, K = {K}, \\n Euclidean metric in input space $R^D$\")\n",
    "ax1.grid(True)\n",
    "\n",
    "correcltly_detected_labels = abs(kmeans_input_space_labels - gt_labels)\n",
    "if correcltly_detected_labels.sum() < len(gt_labels)//2:\n",
    "    correcltly_detected_labels = np.logical_not(correcltly_detected_labels)\n",
    "\n",
    "p2 = ax2.scatter(encoded_points_no_grad[:,0],encoded_points_no_grad[:,1], c=correcltly_detected_labels, marker='o', edgecolor='none', cmap=plt.cm.get_cmap(\"viridis\", K))\n",
    "cbar = plt.colorbar(p2,ticks=[0.25,0.75])\n",
    "cbar.ax.set_yticklabels([\"incorrect\",\"correct\"]) \n",
    "ax1.title.set_text(f\"K-means clusterization on input data, K = {K}, \\n Euclidean metric in input space $R^D$\")\n",
    "ax1.grid(True)\n",
    "if violent_saving == True:\n",
    "    plt.savefig(f\"{Path_pictures}/Kmeans_input_space.pdf\",format=\"pdf\")"
   ]
  },
  {
   "cell_type": "markdown",
   "metadata": {},
   "source": [
    "# 4. K-means in a output data space"
   ]
  },
  {
   "cell_type": "code",
   "execution_count": null,
   "metadata": {},
   "outputs": [],
   "source": [
    "kmeans_recon_space = KMeans(n_clusters=K, random_state=0, n_init=\"auto\").fit(recon_dataset.detach())\n",
    "kmeans_recon_space_labels = kmeans_recon_space.labels_\n",
    "print(f\"k-means clusterisation to {K} clusters\")"
   ]
  },
  {
   "cell_type": "code",
   "execution_count": null,
   "metadata": {},
   "outputs": [],
   "source": [
    "plt.figure(figsize=(8, 6))\n",
    "\n",
    "plt.scatter(encoded_points_no_grad[:,0],encoded_points_no_grad[:,1], c=kmeans_recon_space_labels, marker='o', edgecolor='none', cmap=discrete_cmap(K, 'jet'))\n",
    "plt.colorbar(ticks=range(K))\n",
    "plt.title(f\"K-means clusterization on reconstructed data, K = {K}, \\n Euclidean metric in output space $R^D$\")\n",
    "plt.grid(True)\n",
    "if violent_saving == True:\n",
    "    plt.savefig(f\"{Path_pictures}/Kmeans_latent_space.pdf\",format=\"pdf\")"
   ]
  },
  {
   "cell_type": "markdown",
   "metadata": {},
   "source": [
    "# 5. F-score comparison"
   ]
  },
  {
   "cell_type": "code",
   "execution_count": null,
   "metadata": {},
   "outputs": [],
   "source": [
    "kmeans_latent_space_euclidean_permuted_labels = abs(kmeans_latent_space_euclidean_labels - 1)\n",
    "kmeans_recon_space_permuted_labels = abs(kmeans_recon_space_labels - 1)\n",
    "\n",
    "kmeans_input_space_permuted_labels = abs(kmeans_input_space_labels - 1)"
   ]
  },
  {
   "cell_type": "code",
   "execution_count": null,
   "metadata": {},
   "outputs": [],
   "source": [
    "\n",
    "\n",
    "F_score_latent_space_eucl = max(sklearn.metrics.f1_score(gt_labels,kmeans_latent_space_euclidean_labels),\n",
    "              sklearn.metrics.f1_score(gt_labels,kmeans_latent_space_euclidean_permuted_labels))\n",
    "\n",
    "F_score_input_space_eucl = max(sklearn.metrics.f1_score(gt_labels,kmeans_input_space_labels),\n",
    "              sklearn.metrics.f1_score(gt_labels,kmeans_input_space_permuted_labels))\n",
    "\n",
    "F_score_recon_space_eucl = max(sklearn.metrics.f1_score(gt_labels,kmeans_recon_space_labels),\n",
    "              sklearn.metrics.f1_score(gt_labels,kmeans_recon_space_permuted_labels))\n",
    "curv_w = json_config[\"losses\"][\"curv_w\"]\n",
    "print(f\"Curvature penalization weight: {curv_w}\")\n",
    "print(f\"F-score Euclidean k-means in latent space vs ground truth: \\n{F_score_latent_space_eucl}\")\n",
    "print(f\"F-score Euclidean k-means in input data space vs ground truth: \\n{F_score_input_space_eucl}\")\n",
    "print(f\"F-score Euclidean k-means in reconstructed data space vs ground truth: \\n{F_score_recon_space_eucl}\")"
   ]
  },
  {
   "cell_type": "code",
   "execution_count": null,
   "metadata": {},
   "outputs": [],
   "source": [
    "dict = {\n",
    "    \"curv_w\" : curv_w,\n",
    "    \"labels\": selected_labels,\n",
    "    \"F-score Euclidean k-means in latent space vs ground truth\" : F_score_latent_space_eucl,\n",
    "    \"F-score Euclidean k-means in reconstructed data space vs ground truth\" : F_score_recon_space_eucl,\n",
    "    \"F-score Euclidean k-means in input data space vs ground truth\" : F_score_input_space_eucl\n",
    "}\n",
    "with open(f'{Path_pictures}/K-means_exp{experiment_number}.json', 'w') as json_file:\n",
    "    json.dump(dict, json_file, indent=4)"
   ]
  }
 ],
 "metadata": {
  "kernelspec": {
   "display_name": ".venv_ricci2024",
   "language": "python",
   "name": "python3"
  },
  "language_info": {
   "codemirror_mode": {
    "name": "ipython",
    "version": 3
   },
   "file_extension": ".py",
   "mimetype": "text/x-python",
   "name": "python",
   "nbconvert_exporter": "python",
   "pygments_lexer": "ipython3",
   "version": "3.10.12"
  }
 },
 "nbformat": 4,
 "nbformat_minor": 2
}
