{
 "cells": [
  {
   "cell_type": "markdown",
   "metadata": {},
   "source": [
    "# Optimizing scalar curvature computation via jacfwd"
   ]
  },
  {
   "cell_type": "code",
   "execution_count": null,
   "metadata": {},
   "outputs": [],
   "source": [
    "import matplotlib.pyplot as plt # plotting library\n",
    "import numpy as np # this module is useful to work with numerical arrays\n",
    "import torch\n",
    "import ricci_regularization\n",
    "from torch.func import vmap, jacfwd\n",
    "import functools"
   ]
  },
  {
   "cell_type": "code",
   "execution_count": null,
   "metadata": {},
   "outputs": [],
   "source": [
    "torch.manual_seed(0)\n",
    "Path_pictures = \"../../experiments\"\n",
    "dtype = torch.float32\n",
    "d = 2\n",
    "torus_ae = ricci_regularization.Architectures.TorusAE(\n",
    "        x_dim=784,\n",
    "        h_dim1=512,\n",
    "        h_dim2=256,\n",
    "        z_dim=d,\n",
    "        dtype=dtype\n",
    "    )"
   ]
  },
  {
   "cell_type": "code",
   "execution_count": null,
   "metadata": {},
   "outputs": [],
   "source": [
    "decoder = torus_ae.decoder_torus"
   ]
  },
  {
   "cell_type": "markdown",
   "metadata": {},
   "source": [
    "# curvature computation breakdown"
   ]
  },
  {
   "cell_type": "code",
   "execution_count": null,
   "metadata": {},
   "outputs": [],
   "source": [
    "N = 1000\n",
    "points = torch.rand(N, 2)"
   ]
  },
  {
   "cell_type": "code",
   "execution_count": null,
   "metadata": {},
   "outputs": [],
   "source": [
    "ricci_regularization.Sc_jacfwd_vmap(points, function = decoder)"
   ]
  },
  {
   "cell_type": "code",
   "execution_count": null,
   "metadata": {},
   "outputs": [],
   "source": [
    "ricci_regularization.Ch_der_jacfwd_vmap(points, function = decoder)"
   ]
  },
  {
   "cell_type": "code",
   "execution_count": null,
   "metadata": {},
   "outputs": [],
   "source": [
    "ricci_regularization.Ch_jacfwd_vmap(points, function = decoder)"
   ]
  },
  {
   "cell_type": "code",
   "execution_count": null,
   "metadata": {},
   "outputs": [],
   "source": [
    "ricci_regularization.metric_jacfwd_vmap(points, function = decoder)"
   ]
  },
  {
   "cell_type": "markdown",
   "metadata": {},
   "source": [
    "# A faster way? getting rid of recursive hell"
   ]
  },
  {
   "cell_type": "code",
   "execution_count": null,
   "metadata": {},
   "outputs": [],
   "source": [
    "# inspiration computing Ch and Ch_der simultanuously using flag has_aux\n",
    "def foo(x):\n",
    "    #result = functools.partial(ricci_regularization.Ch_jacfwd, function=decoder) ( x )\n",
    "    result = ricci_regularization.Ch_jacfwd(x, function=decoder)\n",
    "    bla = torch.tensor([5.])\n",
    "    return result, (result, bla)"
   ]
  },
  {
   "cell_type": "code",
   "execution_count": null,
   "metadata": {},
   "outputs": [],
   "source": [
    "jacobian_f, f_x = vmap(jacfwd(foo, has_aux=True))( points )"
   ]
  },
  {
   "cell_type": "code",
   "execution_count": null,
   "metadata": {},
   "outputs": [],
   "source": [
    "print(jacobian_f.shape)\n",
    "print(f_x[0].shape)\n",
    "print(f_x[1].shape)"
   ]
  },
  {
   "cell_type": "code",
   "execution_count": null,
   "metadata": {},
   "outputs": [],
   "source": [
    "# real thing\n",
    "def metric_jacfwd(u, function, latent_space_dim=2):\n",
    "    # here u is one point!\n",
    "    u = u.reshape(-1,latent_space_dim)\n",
    "    jac = torch.func.jacfwd(function)(u)\n",
    "    jac = jac.reshape(-1,latent_space_dim)\n",
    "    metric = torch.matmul(jac.T,jac)\n",
    "    return metric\n",
    "\n",
    "# this function is auxiliary in computing metric and its derivatives later\n",
    "# as one needs to output both the result and its derivative simultanuousely \n",
    "def aux_func_metric(x, function):\n",
    "    g = metric_jacfwd( x, function=function)\n",
    "    return g, g\n",
    "\n",
    "# this also not vectorized\n",
    "def Ch_g_g_inv_jacfwd (u, function, eps = 0.0):\n",
    "    # compute metric and its derivatives at a batch of points\n",
    "    dg, g = jacfwd( functools.partial(aux_func_metric, function=function),\n",
    "                         has_aux=True)( u )\n",
    "    # compute inverse of metric with some regularization param eps    \n",
    "    d = g.shape[0]\n",
    "    device = g.device\n",
    "    g_inv = torch.inverse(g + eps*torch.eye(d,device=device))\n",
    "    # compute Christoffel symbols\n",
    "    Ch = 0.5*(torch.einsum('im,mkl->ikl',g_inv,dg)+\n",
    "              torch.einsum('im,mlk->ikl',g_inv,dg)-\n",
    "              torch.einsum('im,klm->ikl',g_inv,dg)\n",
    "              )\n",
    "    return Ch, g, g_inv\n",
    "\n",
    "def aux_func(x,function, eps=0.0):\n",
    "    Ch, g, g_inv = Ch_g_g_inv_jacfwd( x, function=function, eps=eps)\n",
    "    return Ch, (Ch, g, g_inv)\n",
    "#dCh, (Ch, g_inv) = vmap(jacfwd(functools.partial( aux_func, function=decoder, eps=0. ),\n",
    "#                            has_aux=True))( points )\n",
    "\n",
    "# this also not vectorized\n",
    "def Sc_jacfwd (u, function, eps = 0.0):\n",
    "    # compute Christoffel symbols and derivatives and inverse of metric\n",
    "    dCh, (Ch, g, g_inv) = jacfwd(functools.partial( aux_func, function=function, eps=eps),\n",
    "                            has_aux=True)( u )\n",
    "    \n",
    "    Riemann = torch.einsum(\"iljk->ijkl\",dCh) - torch.einsum(\"ikjl->ijkl\",dCh)\n",
    "    Riemann += torch.einsum(\"ikp,plj->ijkl\", Ch, Ch) - torch.einsum(\"ilp,pkj->ijkl\", Ch, Ch)\n",
    "    \n",
    "    Ricci = torch.einsum(\"cacb->ab\",Riemann)\n",
    "    Sc = torch.einsum('ab,ab',g_inv,Ricci)\n",
    "    return Sc\n",
    "\n",
    "# vectorization\n",
    "Sc_jacfwd_vmap = torch.func.vmap(Sc_jacfwd)"
   ]
  },
  {
   "cell_type": "code",
   "execution_count": null,
   "metadata": {},
   "outputs": [],
   "source": [
    "ricci_regularization.curvature_loss_jacfwd(points, function=decoder)"
   ]
  },
  {
   "cell_type": "code",
   "execution_count": null,
   "metadata": {},
   "outputs": [],
   "source": [
    "N = 5000\n",
    "points = torch.rand(N, 2)"
   ]
  },
  {
   "cell_type": "code",
   "execution_count": null,
   "metadata": {},
   "outputs": [],
   "source": [
    "Sc_jacfwd_new_vmap(points, function=decoder)"
   ]
  },
  {
   "cell_type": "code",
   "execution_count": null,
   "metadata": {},
   "outputs": [],
   "source": [
    "ricci_regularization.Sc_jacfwd_vmap(points, function = decoder)"
   ]
  }
 ],
 "metadata": {
  "kernelspec": {
   "display_name": ".venv_ricci2024",
   "language": "python",
   "name": "python3"
  },
  "language_info": {
   "codemirror_mode": {
    "name": "ipython",
    "version": 3
   },
   "file_extension": ".py",
   "mimetype": "text/x-python",
   "name": "python",
   "nbconvert_exporter": "python",
   "pygments_lexer": "ipython3",
   "version": "3.10.12"
  }
 },
 "nbformat": 4,
 "nbformat_minor": 2
}
