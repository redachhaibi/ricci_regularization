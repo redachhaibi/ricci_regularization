{
 "cells": [
  {
   "cell_type": "code",
   "execution_count": null,
   "metadata": {},
   "outputs": [],
   "source": [
    "import torch\n",
    "from ricci_regularization import RiemannianKmeansTools"
   ]
  },
  {
   "cell_type": "code",
   "execution_count": null,
   "metadata": {},
   "outputs": [],
   "source": [
    "point_1 = torch.tensor([0.,0.])\n",
    "point_2 = torch.pi + torch.tensor([0.,0.])\n",
    "print(\"point 1:\", point_1)\n",
    "print(\"point 2:\", point_2)"
   ]
  },
  {
   "cell_type": "code",
   "execution_count": null,
   "metadata": {},
   "outputs": [],
   "source": [
    "labels = torch.tensor([0, 1])\n",
    "points = torch.cat([point_1.unsqueeze(0),point_2.unsqueeze(0)])\n",
    "print(\"points:\\n\",points)\n",
    "print(\"labels:\",labels)"
   ]
  },
  {
   "cell_type": "code",
   "execution_count": null,
   "metadata": {},
   "outputs": [],
   "source": [
    "grid_labels_smooth, grid_labels = RiemannianKmeansTools.plot_knn_decision_boundary(encoded_points=points,\n",
    "        contour_levels_count=5, labels_for_coloring=labels,save_plot=False,plot_title=\"Voronoi's cells\",\n",
    "        interpolation_method=\"nearest\",neighbours_number=1)"
   ]
  },
  {
   "cell_type": "code",
   "execution_count": null,
   "metadata": {},
   "outputs": [],
   "source": [
    "grid_labels.max()"
   ]
  },
  {
   "cell_type": "code",
   "execution_count": null,
   "metadata": {},
   "outputs": [],
   "source": [
    "import matplotlib.pyplot as plt\n",
    "plt.hist(grid_labels_smooth, bins=5)\n",
    "plt.show()"
   ]
  },
  {
   "cell_type": "code",
   "execution_count": null,
   "metadata": {},
   "outputs": [],
   "source": [
    "RiemannianKmeansTools.plot_knn_decision_boundary_nonsmooth(encoded_points=points,\n",
    "        labels_for_coloring=labels,save_plot=False,plot_title=\"Voronoi's cells\",neighbours_number=1)"
   ]
  }
 ],
 "metadata": {
  "kernelspec": {
   "display_name": ".venv_ricci2024",
   "language": "python",
   "name": "python3"
  },
  "language_info": {
   "codemirror_mode": {
    "name": "ipython",
    "version": 3
   },
   "file_extension": ".py",
   "mimetype": "text/x-python",
   "name": "python",
   "nbconvert_exporter": "python",
   "pygments_lexer": "ipython3",
   "version": "3.10.12"
  }
 },
 "nbformat": 4,
 "nbformat_minor": 2
}
