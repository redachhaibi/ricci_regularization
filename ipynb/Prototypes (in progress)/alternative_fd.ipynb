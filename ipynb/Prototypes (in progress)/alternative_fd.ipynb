{
 "cells": [
  {
   "cell_type": "markdown",
   "metadata": {},
   "source": [
    "# Another approach to f.d"
   ]
  },
  {
   "cell_type": "markdown",
   "metadata": {},
   "source": [
    "alternative way of computing dg"
   ]
  },
  {
   "cell_type": "code",
   "execution_count": null,
   "metadata": {},
   "outputs": [
    {
     "ename": "NameError",
     "evalue": "name 'diff_by_x' is not defined",
     "output_type": "error",
     "traceback": [
      "\u001b[0;31m---------------------------------------------------------------------------\u001b[0m\n",
      "\u001b[0;31mNameError\u001b[0m                                 Traceback (most recent call last)\n",
      "Cell \u001b[0;32mIn[22], line 7\u001b[0m\n",
      "\u001b[1;32m      5\u001b[0m hx \u001b[38;5;241m=\u001b[39m \u001b[38;5;241m1\u001b[39m\u001b[38;5;241m/\u001b[39mnumsteps\n",
      "\u001b[1;32m      6\u001b[0m hy \u001b[38;5;241m=\u001b[39m \u001b[38;5;241m1\u001b[39m\u001b[38;5;241m/\u001b[39mnumsteps\n",
      "\u001b[0;32m----> 7\u001b[0m dpsidx \u001b[38;5;241m=\u001b[39m \u001b[43mdiff_by_x\u001b[49m(psi, hx)\n",
      "\u001b[1;32m      8\u001b[0m dpsidy \u001b[38;5;241m=\u001b[39m diff_by_y(psi, numsteps, hy)\n",
      "\u001b[1;32m     10\u001b[0m dpsidx_second \u001b[38;5;241m=\u001b[39m diff_by_x(dpsidx, hx)\n",
      "\n",
      "\u001b[0;31mNameError\u001b[0m: name 'diff_by_x' is not defined"
     ]
    }
   ],
   "source": [
    "# f_linear = torch.nn.Linear(2,784)\n",
    "#psi = f_linear(tgrid)\n",
    "psi = decoder(tgrid)\n",
    "\n",
    "hx = 1/numsteps\n",
    "hy = 1/numsteps\n",
    "dpsidx = diff_by_x(psi, hx)\n",
    "dpsidy = diff_by_y(psi, numsteps, hy)\n",
    "\n",
    "dpsidx_second = diff_by_x(dpsidx, hx)\n",
    "\n",
    "dpsidx_dy = diff_by_y(dpsidx, numsteps, hy)\n",
    "dpsidy_second = diff_by_y(dpsidy, numsteps, hy)"
   ]
  },
  {
   "cell_type": "code",
   "execution_count": null,
   "metadata": {},
   "outputs": [],
   "source": [
    "dot_vmap = torch.func.vmap(torch.dot)\n",
    "dg_11_dx = 2 * dot_vmap(dpsidx_second, dpsidx)\n",
    "dg_12_dx = dot_vmap(dpsidx_second, dpsidy) + dot_vmap(dpsidx_dy, dpsidx)\n",
    "dg_22_dx = 2 * dot_vmap(dpsidx_dy, dpsidy)\n",
    "\n",
    "dg_dx = torch.cat( (dg_11_dx.unsqueeze(1), dg_12_dx.unsqueeze(1),\n",
    "                    dg_12_dx.unsqueeze(1), dg_22_dx.unsqueeze(1)), dim=1) \n",
    "dg_dx = dg_dx.reshape(numsteps*numsteps, 2, 2)"
   ]
  },
  {
   "cell_type": "markdown",
   "metadata": {},
   "source": [
    "Verification"
   ]
  },
  {
   "cell_type": "code",
   "execution_count": null,
   "metadata": {},
   "outputs": [],
   "source": [
    "dg_dx[202]"
   ]
  },
  {
   "cell_type": "code",
   "execution_count": null,
   "metadata": {},
   "outputs": [],
   "source": [
    "Frob_dg = dg_jacfwd.reshape(numsteps*numsteps, -1).norm(dim=-1).view(numsteps,numsteps)\n",
    "\n",
    "# Create the ticks for the axes (3 ticks between the borders)\n",
    "num_ticks = 5  # 3 between borders + 2 borders\n",
    "ticks = np.linspace(-size/2, size/2, num_ticks)\n",
    "tick_labels = [f'{tick:.2f}' for tick in ticks]  # Formatting tick labels for clarity\n",
    "\n",
    "# Plotting the colormap\n",
    "plt.figure(figsize=(6, 6))  # Square figure\n",
    "plt.imshow(Frob_dg.detach(), cmap='viridis', origin='lower', extent=[-size/2, size/2, -size/2, size/2])\n",
    "plt.colorbar(label='Frobenius norm of dg', shrink = 0.7)\n",
    "\n",
    "# Set ticks and labels for both axes\n",
    "plt.xticks(ticks=ticks, labels=tick_labels)\n",
    "plt.yticks(ticks=ticks, labels=tick_labels)\n",
    "\n",
    "# Set axis labels and title\n",
    "plt.title('Finite differences: Frobenius norm of metric on a grid')\n",
    "plt.xlabel('X Axis')\n",
    "plt.ylabel('Y Axis')\n",
    "\n",
    "plt.grid(False)  # Disable grid lines on the plot\n",
    "plt.show()\n"
   ]
  },
  {
   "cell_type": "code",
   "execution_count": null,
   "metadata": {},
   "outputs": [],
   "source": [
    "dg_dx_fd_no_borders = dg_dx_fd.reshape(numsteps, numsteps, -1)[2:-2,2:-2]\n",
    "dg_dx_fd_no_borders = dg_dx_fd_no_borders.reshape(-1, 2, 2)\n",
    "dg_dx_fd_no_borders_norms = dg_dx_fd_no_borders.norm(dim=(1,2)).detach()"
   ]
  },
  {
   "cell_type": "code",
   "execution_count": null,
   "metadata": {},
   "outputs": [],
   "source": [
    "plt.hist(dg_dx_fd_no_borders_norms, bins = 30)\n",
    "plt.show"
   ]
  },
  {
   "cell_type": "code",
   "execution_count": null,
   "metadata": {},
   "outputs": [],
   "source": [
    "## This is old \n",
    "# derivatives of the metric on a grid derived from d\\Psi\n",
    "def dg_grid (grid): #dg\n",
    "    \n",
    "    numsteps = int(np.sqrt(grid.shape[0]))\n",
    "    \n",
    "    hx = float(abs((grid[numsteps**2 - 1] - grid[0])[0]))/(numsteps - 1)\n",
    "    hy = float(abs((grid[numsteps**2 - 1] - grid[0])[1]))/(numsteps - 1)\n",
    "\n",
    "    latent = grid\n",
    "    #latent = latent.to(device)\n",
    "    psi = decoder(latent)\n",
    "    \n",
    "    dpsidx = diff_by_x(psi, hx)\n",
    "    dpsidy = diff_by_y(psi, numsteps, hy)\n",
    "\n",
    "    dpsidx_second = diff_by_x(dpsidx, hx)\n",
    "    \n",
    "    dpsidx_dy = diff_by_y(dpsidx, numsteps, hy)\n",
    "    dpsidy_second = diff_by_y(dpsidy, numsteps, hy)\n",
    "    \n",
    "    \n",
    "\n",
    "    return metric_der\n",
    "    \"\"\"\n",
    "    dgdx = torch.cat((2*(dpsidx*dpsidx_second).sum((1,2,3)),(dpsidx_second * dpsidy + dpsidx * dpsidx_dy).sum((1,2,3)),\n",
    "                      (dpsidx_second * dpsidy + dpsidx * dpsidx_dy).sum((1,2,3)),2*(dpsidy * dpsidx_dy).sum((1,2,3))),0)\n",
    "    dgdy = torch.cat((2*(dpsidx*dpsidx_dy).sum((1,2,3)),(dpsidy_second * dpsidx + dpsidy * dpsidx_dy).sum((1,2,3)),\n",
    "                      (dpsidy_second * dpsidx + dpsidy * dpsidx_dy).sum((1,2,3)),2*(dpsidy*dpsidy_second).sum((1,2,3))),0)\n",
    "    metric_der = torch.cat((dgdx, dgdy), 0)\n",
    "    metric = metric_der\n",
    "    \n",
    "    metric = metric.view(8, numsteps*numsteps)\n",
    "    metric = metric.transpose(0, 1)\n",
    "    metric = metric.view(numsteps*numsteps, 2, 4)\n",
    "    metric = metric.view(numsteps*numsteps, 2, 2, 2)\n",
    "    \n",
    "    return metric\n",
    "    \"\"\""
   ]
  },
  {
   "cell_type": "code",
   "execution_count": null,
   "metadata": {},
   "outputs": [],
   "source": [
    "# compute the grid of metric derivatives\n",
    "with torch.no_grad():\n",
    "    metric_der = dg_grid(tgrid)\n",
    "    #metric_der = specific_metric_der(tgrid)\n"
   ]
  },
  {
   "cell_type": "code",
   "execution_count": null,
   "metadata": {},
   "outputs": [],
   "source": [
    "metric_der.shape"
   ]
  },
  {
   "cell_type": "code",
   "execution_count": null,
   "metadata": {},
   "outputs": [],
   "source": [
    "#This means that we can simultanuousely invert all the matrices over the grid\n",
    "torch.equal(torch.inverse(metric[0]),torch.inverse(metric)[0])"
   ]
  },
  {
   "cell_type": "code",
   "execution_count": null,
   "metadata": {},
   "outputs": [],
   "source": [
    "#this is the inverse of the metric on a grid\n",
    "metric_inv = torch.inverse(metric)"
   ]
  },
  {
   "cell_type": "markdown",
   "metadata": {},
   "source": [
    "# Christoffel symbols "
   ]
  },
  {
   "cell_type": "code",
   "execution_count": null,
   "metadata": {},
   "outputs": [],
   "source": [
    "#Christoffel symbols on a grid\n",
    "def Ch_grid(grid, metric_inv=metric_inv, metric_der=metric_der):\n",
    "    #x = grid[:,0]\n",
    "    #y = grid[:, 1]\n",
    "    n = grid.shape[0]\n",
    "    Ch = torch.zeros((n, 2,2,2))\n",
    "    for i in range(2):\n",
    "        for j in range(2):\n",
    "            for l in range(2):\n",
    "                for k in range(2):\n",
    "                    #Ch^l_ij\n",
    "                    Ch[:,l,i,j] += 0.5 * metric_inv[:,l,k] * (metric_der[:,i,k,j] + metric_der[:,j,i,k] - metric_der[:,k,i,j]) \n",
    "                    \n",
    "                    #Ch[l,i,j] += 0.5 * g_inv(grid)[l,k] * (dg(grid)[i,k,j] + dg(grid)[j,i,k] - dg(grid)[k,i,j]) #Ch^l_ij\n",
    "    return Ch"
   ]
  },
  {
   "cell_type": "code",
   "execution_count": null,
   "metadata": {},
   "outputs": [],
   "source": [
    "#checking Christoffel on a grid\n",
    "Ch_grid(tgrid).shape"
   ]
  },
  {
   "cell_type": "markdown",
   "metadata": {},
   "source": [
    "Derivatives of Christoffel symbols on a grid"
   ]
  },
  {
   "cell_type": "code",
   "execution_count": null,
   "metadata": {},
   "outputs": [],
   "source": [
    "#derivatives of Christoffel symbols on a grid\n",
    "def Ch_der_grid(grid,metric_inv=metric_inv, metric_der=metric_der):\n",
    "    n = grid.shape[0]\n",
    "\n",
    "    numsteps = int(np.sqrt(grid.shape[0]))\n",
    "    hx = float(abs((grid[numsteps**2 - 1] - grid[0])[0]))/(numsteps - 1)\n",
    "    hy = float(abs((grid[numsteps**2 - 1] - grid[0])[1]))/(numsteps - 1)\n",
    "    \n",
    "    Chdx = diff_by_x(Ch_grid(grid,metric_inv, metric_der), numsteps, hx)\n",
    "    Chdy = diff_by_y(Ch_grid(grid,metric_inv, metric_der), numsteps, hy)\n",
    "    Chder = torch.cat((Chdx, Chdy), -1)\n",
    "    Chder = Chder.view(n,2,2,2,2)\n",
    "    Chder = Chder.transpose(-1,-2)\n",
    "    return Chder\n",
    "\n"
   ]
  },
  {
   "cell_type": "code",
   "execution_count": null,
   "metadata": {},
   "outputs": [],
   "source": [
    "Ch_der_grid(tgrid).shape"
   ]
  },
  {
   "cell_type": "code",
   "execution_count": null,
   "metadata": {},
   "outputs": [],
   "source": [
    "# Riemann curvature tensor (3,1)\n",
    "def Riem_old(grid,metric_inv=metric_inv, metric_der=metric_der):\n",
    "    n = grid.shape[0]\n",
    "    Ch = Ch_grid(grid,metric_inv, metric_der)\n",
    "    Ch_der = Ch_der_grid(grid,metric_inv, metric_der)\n",
    "\n",
    "    Riem = torch.zeros(n, 2, 2, 2, 2)\n",
    "    for i in range(2):\n",
    "        for j in range(2):\n",
    "            for k in range(2):\n",
    "                for l in range(2):                    \n",
    "                    Riem[:, i, j, k, l] = Ch_der[:, i, l, j, k] - Ch_der[:, i, k, j, l] \n",
    "                    for p in range(2):\n",
    "                        Riem[:, i, j, k, l] += (Ch[:, i, k, p]*Ch[:, p, l, j] - Ch[:, i, l, p]*Ch[:, p, k, j])\n",
    "    return Riem\n",
    "\n"
   ]
  },
  {
   "cell_type": "code",
   "execution_count": null,
   "metadata": {},
   "outputs": [],
   "source": [
    "# Riemann curvature tensor (3,1)\n",
    "def Riem(grid,metric_inv=metric_inv, metric_der=metric_der):\n",
    "    Ch = Ch_grid(grid,metric_inv, metric_der)\n",
    "    Ch_der = Ch_der_grid(grid,metric_inv, metric_der)\n",
    "\n",
    "    Riem = torch.einsum(\"tiljk->tijkl\",Ch_der) - torch.einsum(\"tikjl->tijkl\",Ch_der)\n",
    "    Riem += torch.einsum(\"tikp,tplj->tijkl\", Ch, Ch) - torch.einsum(\"tilp,tpkj->tijkl\", Ch, Ch)\n",
    "    return Riem\n"
   ]
  },
  {
   "cell_type": "code",
   "execution_count": null,
   "metadata": {},
   "outputs": [],
   "source": [
    "Riem(tgrid)"
   ]
  },
  {
   "cell_type": "code",
   "execution_count": null,
   "metadata": {},
   "outputs": [],
   "source": [
    "#Scew symmetry check\n",
    "torch.equal(Riem(tgrid)[:,0,0,0,1], - Riem(tgrid)[:,0,0,1,0])\n"
   ]
  },
  {
   "cell_type": "code",
   "execution_count": null,
   "metadata": {},
   "outputs": [],
   "source": [
    "Riem_old(tgrid)"
   ]
  },
  {
   "cell_type": "code",
   "execution_count": null,
   "metadata": {},
   "outputs": [],
   "source": [
    "SlowRiemann = Riem_old(tgrid)\n",
    "FastRiemann = Riem(tgrid)\n",
    "torch.equal(SlowRiemann, FastRiemann)"
   ]
  },
  {
   "cell_type": "code",
   "execution_count": null,
   "metadata": {},
   "outputs": [],
   "source": [
    "(abs(SlowRiemann-FastRiemann)).max()"
   ]
  },
  {
   "cell_type": "code",
   "execution_count": null,
   "metadata": {},
   "outputs": [],
   "source": [
    "# Ricci curvature tensor via Riemann\n",
    "# R_ab = Riem^c_acb\n",
    "def Ric_old(grid,metric_inv=metric_inv, metric_der=metric_der):\n",
    "    n = grid.shape[0]\n",
    "    Ric = torch.zeros(n, 2, 2)\n",
    "    Riemann = Riem(grid,metric_inv, metric_der)\n",
    "\n",
    "    for a in range(2):\n",
    "        for b in range(2):\n",
    "            for c in range(2):\n",
    "                Ric[:, a, b] += Riemann[:, c, a, c, b]\n",
    "    return Ric\n",
    "    # takes 2.5 secs on 100 by 100 grid"
   ]
  },
  {
   "cell_type": "code",
   "execution_count": null,
   "metadata": {},
   "outputs": [],
   "source": [
    "def Ric(grid,metric_inv=metric_inv, metric_der=metric_der):\n",
    "    Riemann = Riem(grid,metric_inv, metric_der)\n",
    "    Ric = torch.einsum(\"tcacb->tab\",Riemann)\n",
    "    return Ric"
   ]
  },
  {
   "cell_type": "code",
   "execution_count": null,
   "metadata": {},
   "outputs": [],
   "source": [
    "FastRicci = Ric(tgrid)"
   ]
  },
  {
   "cell_type": "code",
   "execution_count": null,
   "metadata": {},
   "outputs": [],
   "source": [
    "SlowRicci = Ric_old(tgrid)"
   ]
  },
  {
   "cell_type": "code",
   "execution_count": null,
   "metadata": {},
   "outputs": [],
   "source": [
    "torch.equal(SlowRicci, FastRicci)"
   ]
  },
  {
   "cell_type": "code",
   "execution_count": null,
   "metadata": {},
   "outputs": [],
   "source": [
    "# Scalar curvature tensor via Riemann and Ricci\n",
    "# R_ab = Riem^c_acb\n",
    "# R = g^ij * R_ij\n",
    "def Sc_old(grid,metric_inv=metric_inv, metric_der=metric_der):\n",
    "    Riemann = Riem_old(grid,metric_inv, metric_der)\n",
    "    n = grid.shape[0]\n",
    "    Sc = torch.zeros(n)\n",
    "    Ric = torch.zeros(n, 2, 2)\n",
    "    \n",
    "    for a in range(2):\n",
    "        for b in range(2):\n",
    "            for c in range(2):\n",
    "                Ric[:, a, b] += Riemann[:, c, a, c, b]\n",
    "    Sc = metric_inv*Ric\n",
    "    Sc = torch.sum(Sc,(1,2))\n",
    "    return Sc"
   ]
  },
  {
   "cell_type": "code",
   "execution_count": null,
   "metadata": {},
   "outputs": [],
   "source": [
    "def Sc(grid,metric_inv=metric_inv, metric_der=metric_der):\n",
    "    Ricci = Ric(grid,metric_inv, metric_der)\n",
    "    #Sc = metric_inv * Ricci\n",
    "    #Sc = torch.sum(Sc,(1,2))\n",
    "    Sc = torch.einsum(\"tij,tij->t\", metric_inv, Ricci)\n",
    "    return Sc"
   ]
  },
  {
   "cell_type": "code",
   "execution_count": null,
   "metadata": {},
   "outputs": [],
   "source": [
    "Scalar_curvature_grid = Sc(tgrid)"
   ]
  },
  {
   "cell_type": "code",
   "execution_count": null,
   "metadata": {},
   "outputs": [],
   "source": [
    "\n",
    "Scalar_curvature_grid_old = Sc_old(tgrid)"
   ]
  },
  {
   "cell_type": "code",
   "execution_count": null,
   "metadata": {},
   "outputs": [],
   "source": [
    "(abs(Scalar_curvature_grid_old-Scalar_curvature_grid)).max()"
   ]
  },
  {
   "cell_type": "markdown",
   "metadata": {},
   "source": [
    "# Scalar curvature heatmap"
   ]
  },
  {
   "cell_type": "code",
   "execution_count": null,
   "metadata": {},
   "outputs": [],
   "source": [
    "def make_Sc_curv_plot (grid = tgrid):\n",
    "    Scalar_curvature_grid = Sc(tgrid)\n",
    "    # Fast computation of Frobenious norm on the grid without borders\n",
    "    Scalar_curv = Scalar_curvature_grid.view(numsteps,numsteps)\n",
    "    #Scalar_curv_check = Scalar_curv[30:-30,30:-30].transpose(0,1)\n",
    "    Scalar_curv = Scalar_curv[2:-2,2:-2].transpose(0,1)\n",
    "\n",
    "    \n",
    "    #Heat map of the Scalar curvature\n",
    "    h = plt.contourf(xs[2:-2], ys[2:-2], Scalar_curv)\n",
    "    #h = plt.contourf(xs[30:-30], ys[30:-30], Scalar_curv_check)\n",
    "    plt.title('Heat map of the Scalar curvature ')\n",
    "    plt.xlabel( \"x coordinate\")\n",
    "    plt.ylabel( \"y coordinate\")\n",
    "    plt.axis('scaled')\n",
    "    #plt.xlim(-1.5,1.5)\n",
    "    #plt.ylim(-1.5,1.5)\n",
    "\n",
    "    plt.colorbar()\n",
    "    plt.show()\n",
    "    return"
   ]
  },
  {
   "cell_type": "code",
   "execution_count": null,
   "metadata": {},
   "outputs": [],
   "source": [
    "make_Sc_curv_plot(tgrid)"
   ]
  },
  {
   "cell_type": "markdown",
   "metadata": {},
   "source": [
    "Simplified energy functional computation: $F_{new}(g) = \\int_{M}  R^{2} d\\mu$"
   ]
  },
  {
   "cell_type": "code",
   "execution_count": null,
   "metadata": {},
   "outputs": [],
   "source": [
    "def curv_func(metric = metric, grid = tgrid):\n",
    "    metric_no_border = metric.reshape(numsteps, numsteps,2,2)[2:-2,2:-2]\n",
    "    det_metric_no_border = torch.det(metric_no_border)\n",
    "    det_sqrt = torch.sqrt(det_metric_no_border)\n",
    "    #grid = tgrid\n",
    "    Scalar_curvature_grid = Sc(grid)\n",
    "    # Fast computation of Frobenious norm on the grid without borders\n",
    "    Scalar_curv = Scalar_curvature_grid.view(numsteps,numsteps)\n",
    "    #Scalar_curv_check = Scalar_curv[30:-30,30:-30].transpose(0,1)\n",
    "    Scalar_curv = Scalar_curv[2:-2,2:-2].transpose(0,1)\n",
    "\n",
    "    hx = float(abs((grid[numsteps**2 - 1] - grid[0])[0]))/(numsteps - 1)\n",
    "    hy = float(abs((grid[numsteps**2 - 1] - grid[0])[1]))/(numsteps - 1)\n",
    "\n",
    "    F_new = (det_sqrt*torch.square(Scalar_curv)*hx*hy).sum()\n",
    "    print(F_new)\n",
    "    return\n",
    "\n",
    "curv_func(metric, tgrid)"
   ]
  },
  {
   "cell_type": "code",
   "execution_count": null,
   "metadata": {},
   "outputs": [],
   "source": [
    "#no curvature ~240\n",
    "#1 epoch with curvature ~66\n",
    "#10 epochs with curvature ~56"
   ]
  },
  {
   "cell_type": "markdown",
   "metadata": {},
   "source": [
    "# Geodesics"
   ]
  },
  {
   "cell_type": "code",
   "execution_count": null,
   "metadata": {},
   "outputs": [],
   "source": [
    "# This is used for making a piecewise constant metric from its evaluation on a grid\n",
    "def find_nearest_index (grid, u):\n",
    "    index = int(torch.min(abs(grid - u),0).indices.sum())\n",
    "    #index = int((((u - tgrid[0])*numsteps/size).floor()*torch.tensor([1.,numsteps])).sum()) #thisd could be faster\n",
    "    return index"
   ]
  },
  {
   "cell_type": "code",
   "execution_count": null,
   "metadata": {},
   "outputs": [],
   "source": [
    "#computing geodesics...\n",
    "# y = [u , v]\n",
    "# v := dot(u)\n",
    "# dot(v)^l = Ch^l_ij * v^i * v^j\n",
    "def geod(y, t):\n",
    "    #u, v = y\n",
    "    u = y[0:2:]\n",
    "    v = y[2::]\n",
    "    dudt = v\n",
    "    #dvdt = torch.zeros(2)\n",
    "    dvdt = np.zeros(2)\n",
    "    u = torch.from_numpy(u)\n",
    "    for l in range(2):\n",
    "        for i in range(2):\n",
    "            for j in range(2):\n",
    "                dvdt[l] -= (Ch(u)[l,i,j]).numpy() * v[i] * v[j]\n",
    "    dydt = np.concatenate((dudt, dvdt))\n",
    "    #dydt = torch.cat((dudt, dvdt),0)\n",
    "    return dydt"
   ]
  },
  {
   "cell_type": "markdown",
   "metadata": {},
   "source": [
    "## Vectorized computation of geodesics (with a loop in find_indices)"
   ]
  },
  {
   "cell_type": "code",
   "execution_count": null,
   "metadata": {},
   "outputs": [],
   "source": [
    "# this could be done faster\n",
    "def find_nearest_indices (grid, u):\n",
    "    #this could be done more efficiently\n",
    "    n = u.shape[0]\n",
    "    indices = torch.zeros(n)\n",
    "    for i in range(n):\n",
    "        indices[i] = find_nearest_index(grid, u[i])\n",
    "    indices = indices.to(torch.int64) # just some magic to make it work\n",
    "    return indices"
   ]
  },
  {
   "cell_type": "code",
   "execution_count": null,
   "metadata": {},
   "outputs": [],
   "source": [
    "find_nearest_index(tgrid, torch.tensor([0.5,0.3]))"
   ]
  },
  {
   "cell_type": "code",
   "execution_count": null,
   "metadata": {},
   "outputs": [],
   "source": [
    "#evaluation of the piecewise constant inverse of g\n",
    "def g_inv_vect (grid, u): #inverse metric\n",
    "    #index = find_nearest_index(tgrid, u)\n",
    "    indices = find_nearest_indices(grid, u)\n",
    "    #A = metric[index]\n",
    "    A = torch.index_select(metric, 0, indices)\n",
    "    g_inv = torch.inverse(A)\n",
    "    return g_inv"
   ]
  },
  {
   "cell_type": "code",
   "execution_count": null,
   "metadata": {},
   "outputs": [],
   "source": [
    "#g_inv_vect(tgrid, check)"
   ]
  },
  {
   "cell_type": "code",
   "execution_count": null,
   "metadata": {},
   "outputs": [],
   "source": [
    "#evaluation of the piecewise constant derivatives of g\n",
    "def dg_vect (grid, u): #dg\n",
    "    #index = find_nearest_index(uniform_grid, u)\n",
    "    indices = find_nearest_indices(grid, u)\n",
    "    g = torch.index_select(metric_der, 0, indices)\n",
    "    return g"
   ]
  },
  {
   "cell_type": "code",
   "execution_count": null,
   "metadata": {},
   "outputs": [],
   "source": [
    "#dg_vect(tgrid, check)"
   ]
  },
  {
   "cell_type": "code",
   "execution_count": null,
   "metadata": {},
   "outputs": [],
   "source": [
    "#Christoffel symbols at a vector of n points. u has shape (n, x, y)\n",
    "def Ch_vect(grid, u):\n",
    "    n = u.shape[0]\n",
    "    Ch = torch.zeros((n,2,2,2))\n",
    "    for i in range(2):\n",
    "        for j in range(2):\n",
    "            for l in range(2):\n",
    "                for k in range(2):\n",
    "                    Ch[:,l,i,j] += 0.5 * g_inv_vect(grid, u)[:,l,k] * (dg_vect(grid, u)[:,i,k,j] + dg_vect(grid, u)[:,j,i,k] - dg_vect(grid, u)[:,k,i,j]) #Ch^l_ij\n",
    "    return Ch"
   ]
  },
  {
   "cell_type": "code",
   "execution_count": null,
   "metadata": {},
   "outputs": [],
   "source": [
    "#Ch_vect(tgrid, check)"
   ]
  },
  {
   "cell_type": "code",
   "execution_count": null,
   "metadata": {},
   "outputs": [],
   "source": [
    "#Ch(check[1])\n",
    "# just to check there is no mistake in vectorized vertion Ch_vect"
   ]
  },
  {
   "cell_type": "code",
   "execution_count": null,
   "metadata": {},
   "outputs": [],
   "source": [
    "#  Ch_vect still exploits the loop in find_indices\n",
    "#Ch_vect(tgrid,tgrid)"
   ]
  },
  {
   "cell_type": "code",
   "execution_count": null,
   "metadata": {},
   "outputs": [],
   "source": [
    "#computing geodesics...\n",
    "# y has shape num of points, u, v\n",
    "# v := dot(u)\n",
    "# dot(v)^l = Ch^l_ij * v^i * v^j\n",
    "def geod(y, t):\n",
    "    #u, v = y\n",
    "    n = y.shape[0]\n",
    "    u = y[: , 0:2:]\n",
    "    v = y[: , 2::]\n",
    "    dudt = v\n",
    "    dvdt = torch.zeros(n, 2)\n",
    "    for l in range(2):\n",
    "        for i in range(2):\n",
    "            for j in range(2):\n",
    "                dvdt[:, l] -= Ch_vect(tgrid, u)[:, l,i,j] * v[:, i] * v[:, j] #here we use Ch_vect instead od Ch\n",
    "    dydt = torch.cat((dudt.T, dvdt.T)).T\n",
    "    # dydt = np.concatenate((dudt, dvdt))\n",
    "    return dydt"
   ]
  },
  {
   "cell_type": "code",
   "execution_count": null,
   "metadata": {},
   "outputs": [],
   "source": [
    "def rungekutta_new(f, y0, t, args=()):\n",
    "    nt = len(t) # number of steps in time\n",
    "    # len(y0[0]) is the number of initial conditions\n",
    "    # len(y0[1]) is the dimention of the state space. In our case it is 4 \n",
    "    y = torch.zeros((nt, y0.shape[0],y0.shape[1]))\n",
    "    y[0,:,:] = y0\n",
    "    for i in range(nt - 1):\n",
    "        y[i+1,:,:] = y[i,:,:] + (t[i+1] - t[i])*f(y[i,:,:], t[i], *args)\n",
    "        print(y[i,:,:])\n",
    "    return y"
   ]
  },
  {
   "cell_type": "code",
   "execution_count": null,
   "metadata": {},
   "outputs": [],
   "source": [
    "zoom = 1\n",
    "\n",
    "# Let us start at random points u with the same speed v\n",
    "# we want to draw m geodesics\n",
    "m = 10\n",
    "v = torch.tensor([0.00, 0.00,1.00])/zoom\n",
    "v = v.repeat(m,1)\n",
    "u = torch.rand(m,1)/zoom\n",
    "#unorm = u.norm(dim=1)\n",
    "#u = (u.T/unorm).T\n",
    "\n",
    "RandStartComSpeed = torch.cat((u,v),1)\n",
    "RandStartComSpeed"
   ]
  },
  {
   "cell_type": "code",
   "execution_count": null,
   "metadata": {},
   "outputs": [],
   "source": [
    "t = torch.linspace(0, 1, steps = 21)\n",
    "sol3 = rungekutta_new(geod, RandStartComSpeed, t)"
   ]
  },
  {
   "cell_type": "code",
   "execution_count": null,
   "metadata": {},
   "outputs": [],
   "source": [
    "plt.plot(sol3[:15, :, 0], sol3[:15, :, 1]) #geodesics are shortened by step 15 because of border effects\n",
    "plt.title( \"Plots of geodesics with rnd ititial point and common initial speed\")\n",
    "plt.xlabel( \"x coordinate\")\n",
    "plt.ylabel( \"y coordinate\")\n",
    "plt.grid()"
   ]
  },
  {
   "cell_type": "markdown",
   "metadata": {},
   "source": [
    "# Scalar curvature and geodesics on one plot"
   ]
  },
  {
   "cell_type": "code",
   "execution_count": null,
   "metadata": {},
   "outputs": [],
   "source": [
    "# Let us start at different initial points u with the same speed v\n",
    "# we want to draw m geodesics\n",
    "m = 15 #number of geodesics\n",
    "#v = torch.tensor([0.00, 0.00,1.00])\n",
    "v = torch.tensor([0.00, 0.00,1.00/zoom])\n",
    "v = v.repeat(m,1)\n",
    "#u = torch.rand(m,1)\n",
    "#u = torch.linspace(0.01,1.51,steps=m).reshape(15,1)\n",
    "u = torch.linspace(0.01,(m/10+0.01)/zoom,steps=m).reshape(15,1)\n",
    "#unorm = u.norm(dim=1)\n",
    "#u = (u.T/unorm).T\n",
    "\n",
    "RandStartComSpeed2 = torch.cat((u,v),1)\n",
    "RandStartComSpeed2"
   ]
  },
  {
   "cell_type": "code",
   "execution_count": null,
   "metadata": {},
   "outputs": [],
   "source": [
    "t = torch.linspace(0, 1, steps = 41)\n",
    "sol4 = rungekutta_new(geod, RandStartComSpeed2, t)"
   ]
  },
  {
   "cell_type": "code",
   "execution_count": null,
   "metadata": {},
   "outputs": [],
   "source": [
    "#Scalar curvature and geodesics\n",
    "h = plt.contourf(xs[2:-2], ys[2:-2], Scalar_curv)\n",
    "plt.plot(sol4[:, :, 0], sol4[:, :, 1]) #geodesics are shortened by step 30 because of border effects\n",
    "plt.title('Scalar curvature and geodesics')\n",
    "plt.xlabel( \"x coordinate\")\n",
    "plt.ylabel( \"y coordinate\")\n",
    "plt.axis('scaled')\n",
    "plt.xlim(0,1.75/zoom)\n",
    "plt.ylim(0,1.25/zoom)\n",
    "plt.colorbar(label=\"Scalar curvature\")\n",
    "plt.show()"
   ]
  },
  {
   "cell_type": "markdown",
   "metadata": {},
   "source": [
    "# Evolution of the curvature under the discretization of the Ricci flow"
   ]
  },
  {
   "cell_type": "markdown",
   "metadata": {},
   "source": [
    "#### $g_{i+1} = g_i - 2Ric \\cdot dt$"
   ]
  },
  {
   "cell_type": "code",
   "execution_count": null,
   "metadata": {},
   "outputs": [],
   "source": [
    "# g(t_i+1)\n",
    "dt = 0.1 # size of one step\n",
    "steps = 10 # number of evolution steps"
   ]
  },
  {
   "cell_type": "code",
   "execution_count": null,
   "metadata": {},
   "outputs": [],
   "source": [
    "def metric_der_not_using_decoder(grid=tgrid,metric=metric):\n",
    "    # compute step sizes\n",
    "    grid = tgrid\n",
    "    numsteps = int(np.sqrt(grid.shape[0]))\n",
    "        \n",
    "    hx = float(abs((grid[numsteps**2 - 1] - grid[0])[0]))/(numsteps - 1)\n",
    "    hy = float(abs((grid[numsteps**2 - 1] - grid[0])[1]))/(numsteps - 1)\n",
    "\n",
    "    dgdx = diff_by_x(metric, numsteps, hx)\n",
    "    dgdy = diff_by_y(metric, numsteps, hy)\n",
    "\n",
    "    metric_der = torch.cat((dgdx, dgdy), -1)\n",
    "    metric_der = metric_der.view(numsteps*numsteps, 2, 2, 2)\n",
    "    metric_der = metric_der.transpose(-1,-2)\n",
    "\n",
    "    #metric_der = torch.cat((dgdx, dgdy), 0)\n",
    "    #metric_der = metric_der.view(8, numsteps*numsteps)\n",
    "    #metric_der = metric_der.transpose(0, 1)\n",
    "    #metric_der = metric_der.view(numsteps*numsteps, 2, 4)\n",
    "    #metric_der = metric_der.view(numsteps*numsteps, 2, 2, 2)\n",
    "    return metric_der"
   ]
  },
  {
   "cell_type": "code",
   "execution_count": null,
   "metadata": {},
   "outputs": [],
   "source": [
    "metric_der_not_using_decoder().shape"
   ]
  },
  {
   "cell_type": "code",
   "execution_count": null,
   "metadata": {},
   "outputs": [],
   "source": [
    "metric_der.shape"
   ]
  },
  {
   "cell_type": "markdown",
   "metadata": {},
   "source": [
    "#### the computation of metric derivatives to be fixed!! "
   ]
  },
  {
   "cell_type": "code",
   "execution_count": null,
   "metadata": {},
   "outputs": [],
   "source": [
    "torch.equal(metric_der_not_using_decoder(), metric_der)"
   ]
  },
  {
   "cell_type": "code",
   "execution_count": null,
   "metadata": {},
   "outputs": [],
   "source": [
    "torch.max(metric_der_not_using_decoder() - metric_der)"
   ]
  },
  {
   "cell_type": "code",
   "execution_count": null,
   "metadata": {},
   "outputs": [],
   "source": [
    "# compute the metric of the latent space and take it as initial condition\n",
    "with torch.no_grad():\n",
    "    metric = g(tgrid)\n",
    "g_array = []\n",
    "g_array.append(metric) # g_0 = metric\n",
    "# we need to recompute metric_der and metric after every evo step\n",
    "# let us compute evoluation of the metric\n",
    "for i in range(steps):\n",
    "    Ricci_tensor = Ric(tgrid, metric_inv, metric_der_not_using_decoder(tgrid,g_array[i]))\n",
    "    g_new = g_array[i] - 2*Ricci_tensor*dt\n",
    "    g_array.append(g_new)\n",
    "    "
   ]
  },
  {
   "cell_type": "code",
   "execution_count": null,
   "metadata": {},
   "outputs": [],
   "source": [
    "# it seems to blow up!\n",
    "# probably there is an error in metric_der computation"
   ]
  }
 ],
 "metadata": {
  "language_info": {
   "name": "python"
  }
 },
 "nbformat": 4,
 "nbformat_minor": 2
}
