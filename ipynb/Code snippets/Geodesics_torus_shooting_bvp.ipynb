{
 "cells": [
  {
   "cell_type": "markdown",
   "metadata": {},
   "source": [
    "NB! Stochman pachage is required.\n",
    "Type: pip install stochman\n",
    "\n",
    "The latent space of the AE is topologically a $ 2 $-dimensional torus $\\mathcal{T}^2$, i.e., it can be considered as a periodic box $[-\\pi, \\pi]^2$. We define a Riemannian metric on the latent space as the pull-back of the Euclidean metric in the output space $\\mathbb{R}^D$ by the decoder function $\\Psi$ of the AE:\n",
    "\\begin{equation}\n",
    "    g = \\nabla \\Psi^* \\nabla \\Psi \\ ,\n",
    "\\end{equation}\n",
    "\n",
    "Let $( M, g )$ be a Riemannian manifold.\n",
    "\n",
    "In this notebook we consider two different ways of finding geodesics:\n",
    "\n",
    "1) Geodesic shooting.\n",
    "\n",
    "Given a points $ p\\in M $ and a vector $v\\in T_p M$, a geodesic starting from the point $p$ with speed $v$ is the curve $\\gamma : [0,1] \\to M $ such that:\n",
    "\\begin{equation}\n",
    "%\\label{eq:geodesic_eq}\n",
    "\\begin{aligned}\n",
    "    \\gamma(0) &= p \\ , \\\\\n",
    "    \\gamma'(0) &= v \\ , \\\\\n",
    "    \\nabla_{\\dot{\\gamma}} \\dot{\\gamma} &= 0 \\ .\n",
    "\\end{aligned}\n",
    "\\end{equation}\n",
    "where $ \\nabla $ is the Levi-Civita connection associated with $ g $.\n",
    "\n",
    "In local coordinates $ (x^1, x^2, \\ldots, x^n) $, the geodesic equation is:\n",
    "\\begin{align}\n",
    "    \\frac{d^2 x^i}{dt^2} + \\Gamma^i_{jk} \\frac{dx^j}{dt} \\frac{dx^k}{dt} = 0 \\ ,\n",
    "\\end{align}\n",
    "where $ \\Gamma^i_{jk} $ are the Christoffel symbols.\n",
    "\n",
    "2) Geodesic boundarry value problem (b.v.p.).\n",
    "\n",
    "Given points $ p, q \\in M $, find a curve $\\gamma : [0,1] \\to M $ such that:\n",
    "\\begin{equation}\n",
    "%\\label{eq:geodesic_eq}\n",
    "\\begin{aligned}\n",
    "    \\gamma(0) &= p \\ , \\\\\n",
    "    \\gamma(1) &= q \\ , \\\\\n",
    "    \\nabla_{\\dot{\\gamma}} \\dot{\\gamma} &= 0 \\ .\n",
    "\\end{aligned}\n",
    "\\end{equation}\n",
    "where $ \\nabla $ is the Levi-Civita connection associated with $ g $.\n",
    "\n",
    "The length functional $ L $ for a curve $ \\gamma $ is given by:\n",
    "\\begin{align*}\n",
    "    L[\\gamma] = \\int_0^1 \\sqrt{g_{\\gamma(t)}(\\dot{\\gamma}(t), \\dot{\\gamma}(t))} \\, dt\n",
    "\\end{align*}\n",
    "\n",
    "The energy functional $E$ for a curve $\\gamma$ is given by:\n",
    "\\begin{align*}\n",
    "E[\\gamma] = \\int_0^1 g_{\\gamma(t)}(\\dot{\\gamma}(t), \\dot{\\gamma}(t)) \\, dt \\quad \\text{(6)}\n",
    "\\end{align*}\n",
    "\n",
    "Geodesics are the curves that minimize the length functional $ L $ and also minimize the energy functional $ E $. In the Stochman package, geodesics connecting two points are found as minimizers of energy functionals. Technically, they are approximated by cubic splines through the solution of an optimization problem on the spline coefficients.\n",
    "\n"
   ]
  },
  {
   "cell_type": "markdown",
   "metadata": {},
   "source": [
    "# Geodesic shooting in the torus latent space on a local chart"
   ]
  },
  {
   "cell_type": "code",
   "execution_count": null,
   "metadata": {},
   "outputs": [],
   "source": [
    "from tqdm.notebook import tqdm\n",
    "import torch\n",
    "import ricci_regularization\n",
    "import matplotlib.pyplot as plt\n",
    "import matplotlib\n",
    "\n",
    "experiment_json = f'../../experiments/MNIST01_torus_AEexp7.json'\n",
    "mydict = ricci_regularization.get_dataloaders_tuned_nn(Path_experiment_json=experiment_json)"
   ]
  },
  {
   "cell_type": "code",
   "execution_count": null,
   "metadata": {},
   "outputs": [],
   "source": [
    "torus_ae = mydict[\"tuned_neural_network\"]\n",
    "test_loader = mydict[\"test_loader\"]"
   ]
  },
  {
   "cell_type": "code",
   "execution_count": null,
   "metadata": {},
   "outputs": [],
   "source": [
    "D = 784\n",
    "#zlist = []\n",
    "torus_ae.cpu()\n",
    "colorlist = []\n",
    "enc_list = []\n",
    "feature_space_encoding_list = []\n",
    "input_dataset_list = []\n",
    "recon_dataset_list = []\n",
    "for (data, labels) in tqdm( test_loader, position=0 ):\n",
    "#for (data, labels) in tqdm( train_loader, position=0 ):\n",
    "    input_dataset_list.append(data)\n",
    "    recon_dataset_list.append(torus_ae(data)[0])\n",
    "    feature_space_encoding_list.append(torus_ae.encoder_torus(data.view(-1,D)))\n",
    "    #zlist.append(vae(data)[1])\n",
    "    enc_list.append(torus_ae.encoder_to_lifting(data.view(-1,D)))\n",
    "    colorlist.append(labels) "
   ]
  },
  {
   "cell_type": "code",
   "execution_count": null,
   "metadata": {},
   "outputs": [],
   "source": [
    "#x = torch.cat(zlist)\n",
    "#enc = circle2anglevectorized(x).detach()\n",
    "input_dataset = torch.cat(input_dataset_list)\n",
    "recon_dataset = torch.cat(recon_dataset_list)\n",
    "encoded_points = torch.cat(enc_list)\n",
    "feature_space_encoding = torch.cat(feature_space_encoding_list)\n",
    "encoded_points_no_grad = encoded_points.detach()\n",
    "color_array = torch.cat(colorlist).detach()"
   ]
  },
  {
   "cell_type": "code",
   "execution_count": null,
   "metadata": {},
   "outputs": [],
   "source": [
    "plt.scatter(encoded_points_no_grad[:,0],encoded_points_no_grad[:,1],c = color_array,cmap=ricci_regularization.discrete_cmap(2,\"jet\"))\n",
    "plt.show()"
   ]
  },
  {
   "cell_type": "code",
   "execution_count": null,
   "metadata": {},
   "outputs": [],
   "source": [
    "def geod(x,dxdt):\n",
    "    u = x\n",
    "    v = dxdt\n",
    "    dudt = v\n",
    "    dvdt = torch.zeros(2)\n",
    "    Ch_at_u = ricci_regularization.Ch_jacfwd(u,function=torus_ae.decoder_torus,device=torch.device(\"cpu\"))\n",
    "    for l in range(2):\n",
    "        for i in range(2):\n",
    "            for j in range(2):\n",
    "                dvdt[l] -= Ch_at_u[l,i,j] * v[i] * v[j]\n",
    "    return dudt, dvdt\n",
    "\n",
    "def rungekutta1(f, initial_point, initial_speed, t, args=()):\n",
    "    n = len(t)\n",
    "    x = torch.zeros(n,len(initial_point))\n",
    "    dxdt = torch.zeros(n,len(initial_speed))\n",
    "    x[0] = initial_point\n",
    "    dxdt[0] = initial_speed\n",
    "    for i in range(n - 1):\n",
    "        dudt, dvdt = f(x[i], dxdt[i], *args)\n",
    "        x[i+1] = x[i] + (t[i+1] - t[i])*dudt\n",
    "        dxdt[i+1] = dxdt[i] + (t[i+1] - t[i])*dvdt\n",
    "        #print(type(t[i]))\n",
    "        #print (np.array(f(y[i], t[i], *args)))\n",
    "    return x, dxdt"
   ]
  },
  {
   "cell_type": "markdown",
   "metadata": {},
   "source": [
    "# Example"
   ]
  },
  {
   "cell_type": "code",
   "execution_count": null,
   "metadata": {},
   "outputs": [],
   "source": [
    "starting_point = torch.tensor([-2.1,0.0])\n",
    "tangent_vector = torch.tensor([1.0,-0.0])"
   ]
  },
  {
   "cell_type": "code",
   "execution_count": null,
   "metadata": {},
   "outputs": [],
   "source": [
    "geod(starting_point,tangent_vector)"
   ]
  },
  {
   "cell_type": "code",
   "execution_count": null,
   "metadata": {},
   "outputs": [],
   "source": [
    "num_approximation_points = 101 # how good the approximation is\n",
    "max_parameter_value = 3 # how far to go\n",
    "time_array = torch.linspace(0, max_parameter_value, num_approximation_points)\n",
    "points, velocities = rungekutta1(geod,initial_point=starting_point,\n",
    "                                 initial_speed=tangent_vector,t=time_array)\n",
    "points_no_grad = points.detach()\n",
    "\n",
    "end_point = points_no_grad[-1]\n",
    "end_speed = velocities[-1].detach()\n",
    "reverse_points, velocities = rungekutta1(geod,initial_point=end_point, initial_speed=-end_speed,t=time_array)\n",
    "reverse_points_no_grad = reverse_points.detach()"
   ]
  },
  {
   "cell_type": "markdown",
   "metadata": {},
   "source": [
    "## Geodesics"
   ]
  },
  {
   "cell_type": "code",
   "execution_count": null,
   "metadata": {},
   "outputs": [],
   "source": [
    "torch.set_printoptions(precision=2)\n",
    "plt.title(f\"Geodesic and its reverse: \\nstart_point:{starting_point},speed:{tangent_vector}, \\nend_point:{end_point},end_speed:{end_speed}\")\n",
    "plt.plot(points_no_grad[:,0], points_no_grad[:,1],c=\"green\")\n",
    "plt.plot(reverse_points_no_grad[:,0], reverse_points_no_grad[:,1],c=\"orange\")\n",
    "\n",
    "plt.show()"
   ]
  },
  {
   "cell_type": "markdown",
   "metadata": {},
   "source": [
    "## Geodesics and data in the latent space"
   ]
  },
  {
   "cell_type": "code",
   "execution_count": null,
   "metadata": {},
   "outputs": [],
   "source": [
    "torch.set_printoptions(precision=2)\n",
    "plt.title(f\"Geodesic and its reverse: \\nstart_point:{starting_point},speed:{tangent_vector}, \\nend_point:{end_point},end_speed:{end_speed}\")\n",
    "plt.plot(points_no_grad[:,0], points_no_grad[:,1],c=\"green\")\n",
    "plt.plot(reverse_points_no_grad[:,0], reverse_points_no_grad[:,1],c=\"orange\")\n",
    "# data on the background\n",
    "plt.scatter(encoded_points_no_grad[:,0],encoded_points_no_grad[:,1],c = color_array,cmap=ricci_regularization.discrete_cmap(2,\"jet\"))\n",
    "plt.show()"
   ]
  },
  {
   "cell_type": "markdown",
   "metadata": {},
   "source": [
    "# Shooting several geodesics"
   ]
  },
  {
   "cell_type": "code",
   "execution_count": null,
   "metadata": {},
   "outputs": [],
   "source": [
    "def geod_vect(x,dxdt):\n",
    "    u = x\n",
    "    v = dxdt\n",
    "    dudt = v\n",
    "    n = v.shape[0]\n",
    "    dvdt = torch.zeros(n,2)\n",
    "    Ch_at_u = ricci_regularization.Ch_jacfwd_vmap(u,function=torus_ae.decoder_torus,device=torch.device(\"cpu\"))\n",
    "    for l in range(2):\n",
    "        for i in range(2):\n",
    "            for j in range(2):\n",
    "                dvdt[:,l] -= Ch_at_u[:,l,i,j] * v[:,i] * v[:,j]\n",
    "    return dudt, dvdt\n",
    "\n",
    "def rungekutta_vect(f, initial_point_array, initial_speed_array, t, args=()):\n",
    "    n = len(t)\n",
    "    #num_geodesics = initial_point_array.shape[0]\n",
    "    x = torch.zeros((n, *tuple(initial_point_array.shape)))\n",
    "    dxdt = torch.zeros((n, *tuple(initial_speed_array.shape)))\n",
    "    x[0] = initial_point_array\n",
    "    dxdt[0] = initial_speed_array\n",
    "    for i in range(n - 1):\n",
    "        dudt, dvdt = f(x[i], dxdt[i], *args)\n",
    "        x[i+1] = x[i] + (t[i+1] - t[i])*dudt\n",
    "        dxdt[i+1] = dxdt[i] + (t[i+1] - t[i])*dvdt\n",
    "        #print(type(t[i]))\n",
    "        #print (np.array(f(y[i], t[i], *args)))\n",
    "    return x, dxdt\n",
    "# x is of shape [num_grid_points,num_geodesics,dimension=2]"
   ]
  },
  {
   "cell_type": "code",
   "execution_count": null,
   "metadata": {},
   "outputs": [],
   "source": [
    "from torch.nn.functional import normalize\n",
    "\n",
    "num_approximation_points = 101 # how good the approximation is\n",
    "max_parameter_value = 3 # how far to go\n",
    "time_array = torch.linspace(0, max_parameter_value, num_approximation_points)\n",
    "\n",
    "num_geodesics = 100\n",
    "\n",
    "starting_points = torch.tensor([-2.,0.]).repeat(num_geodesics,1) # common starting point\n",
    "maxtangent = 2 # max slope of geodesics \n",
    "starting_speeds = torch.cat([torch.tensor([1.,0. + k]) for k in torch.linspace(-maxtangent,maxtangent,num_geodesics) ]).reshape(num_geodesics,2)\n",
    "starting_speeds = normalize(starting_speeds) #make norms of all speeds equal\n",
    "\n",
    "geodesics2plot,_ = rungekutta_vect(f=geod_vect,initial_point_array=starting_points,\n",
    "                                   initial_speed_array=starting_speeds,t=time_array)\n",
    "geodesics2plot = geodesics2plot.detach()"
   ]
  },
  {
   "cell_type": "code",
   "execution_count": null,
   "metadata": {},
   "outputs": [],
   "source": [
    "scalar_curvature_on_geodesics = ricci_regularization.Sc_jacfwd_vmap(geodesics2plot.reshape(-1,2),function=torus_ae.decoder_torus,device=torch.device(\"cpu\"))\n",
    "scalar_curvature_on_geodesics = scalar_curvature_on_geodesics.reshape(num_approximation_points,num_geodesics).detach()"
   ]
  },
  {
   "cell_type": "code",
   "execution_count": null,
   "metadata": {},
   "outputs": [],
   "source": [
    "plt.scatter(encoded_points_no_grad[:,0],encoded_points_no_grad[:,1],c = color_array,cmap=ricci_regularization.discrete_cmap(2,\"jet\"))\n",
    "for i in range(num_geodesics):\n",
    "    #plt.scatter(geodesics2plot[:,i,0],geodesics2plot[:,i,1],c=time_array,cmap=\"jet\")\n",
    "    plt.scatter(geodesics2plot[:,i,0],geodesics2plot[:,i,1],c=scalar_curvature_on_geodesics[:,i],cmap=\"viridis\",norm=matplotlib.colors.SymLogNorm(linthresh=1e-2))\n",
    "    plt.plot(geodesics2plot[:,i,0],geodesics2plot[:,i,1],c=\"black\")\n",
    "plt.colorbar(label=\"scalar curvature along geodesics\")\n",
    "plt.show()"
   ]
  },
  {
   "cell_type": "markdown",
   "metadata": {},
   "source": [
    "# Geodesic bvp with Stochman"
   ]
  },
  {
   "cell_type": "code",
   "execution_count": null,
   "metadata": {},
   "outputs": [],
   "source": [
    "import torch\n",
    "from stochman.manifold import EmbeddedManifold"
   ]
  },
  {
   "cell_type": "code",
   "execution_count": null,
   "metadata": {},
   "outputs": [],
   "source": [
    "# geodesics are computed minimizing \"energy\" in the embedding of the manifold,\n",
    "# So no need to compute the Pullback metric. and thus the algorithm is fast\n",
    "class Autoencoder(EmbeddedManifold):\n",
    "    def embed(self, c, jacobian = False):\n",
    "        return torus_ae.decoder_torus(c)"
   ]
  },
  {
   "cell_type": "code",
   "execution_count": null,
   "metadata": {},
   "outputs": [],
   "source": [
    "model = Autoencoder()\n",
    "torch.manual_seed(0)\n",
    "#p0, p1 = torch.randn(1, 2), torch.randn(1, 2)\n",
    "p0 = torch.tensor([-2.,0.])\n",
    "p1 = torch.tensor([2.,0.])\n",
    "#print(f\"start:{p0}, \\n end {p1}\")\n",
    "c, _ = model.connecting_geodesic(p0, p1) # here the parameter t in c(t)should be a torch.tensor"
   ]
  },
  {
   "cell_type": "code",
   "execution_count": null,
   "metadata": {},
   "outputs": [],
   "source": [
    "t = torch.linspace(0.,1.,100)"
   ]
  },
  {
   "cell_type": "code",
   "execution_count": null,
   "metadata": {},
   "outputs": [],
   "source": [
    "points_on_geodesic = c(t).detach()"
   ]
  },
  {
   "cell_type": "code",
   "execution_count": null,
   "metadata": {},
   "outputs": [],
   "source": [
    "plt.title(\"Geodesic bvp\")\n",
    "plt.scatter(encoded_points_no_grad[:,0],encoded_points_no_grad[:,1],c = color_array,cmap=ricci_regularization.discrete_cmap(2,\"jet\"))\n",
    "plt.plot(points_on_geodesic[:,0],points_on_geodesic[:,1],c=\"orange\")\n",
    "plt.show()"
   ]
  },
  {
   "cell_type": "markdown",
   "metadata": {},
   "source": [
    "# Geodesic bvp for several geodesics"
   ]
  },
  {
   "cell_type": "code",
   "execution_count": null,
   "metadata": {},
   "outputs": [],
   "source": [
    "num_geodesics = 10\n",
    "\n",
    "x_left = -2.0\n",
    "x_right = 2.0\n",
    "y_left = 0.\n",
    "y_right = -2.\n",
    "\n",
    "y_size = 2 # max shift of geodesics \n",
    "starting_points = torch.cat([torch.tensor([x_left,y_left + k]) for k in torch.linspace(0,y_size,num_geodesics) ]).reshape(num_geodesics,2)\n",
    "end_points = torch.cat([torch.tensor([x_right,y_right + k]) for k in torch.linspace(0,y_size,num_geodesics) ]).reshape(num_geodesics,2)"
   ]
  },
  {
   "cell_type": "code",
   "execution_count": null,
   "metadata": {},
   "outputs": [],
   "source": [
    "c, success = model.connecting_geodesic(starting_points, end_points)\n",
    "print(\"Success:\", success.item())"
   ]
  },
  {
   "cell_type": "code",
   "execution_count": null,
   "metadata": {},
   "outputs": [],
   "source": [
    "num_approximation_points = 101\n",
    "t = torch.linspace(0,1,num_approximation_points)"
   ]
  },
  {
   "cell_type": "code",
   "execution_count": null,
   "metadata": {},
   "outputs": [],
   "source": [
    "geodesics2plot_bvp = c(t).detach()"
   ]
  },
  {
   "cell_type": "code",
   "execution_count": null,
   "metadata": {},
   "outputs": [],
   "source": [
    "scalar_curvature_on_geodesics_bvp = ricci_regularization.Sc_jacfwd_vmap(geodesics2plot_bvp.reshape(-1,2),function=torus_ae.decoder_torus,device=torch.device(\"cpu\"))\n",
    "scalar_curvature_on_geodesics_bvp = scalar_curvature_on_geodesics_bvp.reshape(num_geodesics,num_approximation_points).detach()"
   ]
  },
  {
   "cell_type": "code",
   "execution_count": null,
   "metadata": {},
   "outputs": [],
   "source": [
    "plt.scatter(encoded_points_no_grad[:,0],encoded_points_no_grad[:,1],c = color_array,cmap=ricci_regularization.discrete_cmap(2,\"jet\"))\n",
    "for i in range(num_geodesics):\n",
    "    #plt.scatter(geodesics2plot[:,i,0],geodesics2plot[:,i,1],c=time_array,cmap=\"jet\")\n",
    "    plt.scatter(geodesics2plot_bvp[i,:,0],geodesics2plot_bvp[i,:,1],c=scalar_curvature_on_geodesics_bvp[i,:],cmap=\"viridis\",norm=matplotlib.colors.SymLogNorm(linthresh=1e-2))\n",
    "    plt.plot(geodesics2plot_bvp[i,:,0],geodesics2plot_bvp[i,:,1],c=\"orange\")\n",
    "plt.colorbar(label=\"scalar curvature along geodesics\")\n",
    "plt.show()\n"
   ]
  }
 ],
 "metadata": {
  "kernelspec": {
   "display_name": ".venv_ricci2024",
   "language": "python",
   "name": "python3"
  },
  "language_info": {
   "codemirror_mode": {
    "name": "ipython",
    "version": 3
   },
   "file_extension": ".py",
   "mimetype": "text/x-python",
   "name": "python",
   "nbconvert_exporter": "python",
   "pygments_lexer": "ipython3",
   "version": "3.10.12"
  }
 },
 "nbformat": 4,
 "nbformat_minor": 2
}
