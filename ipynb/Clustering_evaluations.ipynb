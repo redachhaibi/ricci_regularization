{
 "cells": [
  {
   "cell_type": "markdown",
   "metadata": {},
   "source": [
    "This notebook computes F-measure and draws Desicion boundary via knn for a clustering result given in a json file"
   ]
  },
  {
   "cell_type": "code",
   "execution_count": null,
   "metadata": {},
   "outputs": [],
   "source": [
    "# minimal imports\n",
    "import torch, json\n",
    "from ricci_regularization import RiemannianKmeansTools"
   ]
  },
  {
   "cell_type": "code",
   "execution_count": null,
   "metadata": {},
   "outputs": [],
   "source": [
    "k_means_setup_number = 2\n",
    "pretrained_AE_setting_name = 'MNIST_Setting_1_exp2'\n",
    "knn_neighbours_count = 7\n",
    "point_size = 100\n",
    "background_opacity = 0.4\n",
    "colormap = 'jet'"
   ]
  },
  {
   "cell_type": "code",
   "execution_count": null,
   "metadata": {},
   "outputs": [],
   "source": [
    "Path_clustering_setup = f\"../experiments/{pretrained_AE_setting_name}/K_means_setup_{k_means_setup_number}\"\n",
    "with open(Path_clustering_setup + f\"/params.json\", \"r\") as f_Riemannian:\n",
    "    Riemannian_k_means_params = json.load(f_Riemannian)\n",
    "with open(Path_clustering_setup + f\"/Euclidean_k_means_params.json\", \"r\") as f_Euclidean:\n",
    "    Euclidean_k_means_params = json.load(f_Euclidean)\n",
    "contour_levels_count = Euclidean_k_means_params[\"K\"]+1 # should be k+1"
   ]
  },
  {
   "cell_type": "code",
   "execution_count": null,
   "metadata": {},
   "outputs": [],
   "source": [
    "ground_truth_labels = torch.tensor(Riemannian_k_means_params['ground_truth_labels'])\n",
    "# check that ground truth labels are saved correctly (are the same in both methods)\n",
    "assert torch.equal(ground_truth_labels,\n",
    "                    torch.tensor(Euclidean_k_means_params['ground_truth_labels']))\n",
    "\n",
    "labels_assigned_by_Euclidean_k_means = torch.tensor(Euclidean_k_means_params['Euclidean_k_means_labels'])\n",
    "labels_assigned_by_Riemannian_k_means = torch.tensor(Riemannian_k_means_params['Riemannian_k_means_labels'])\n",
    "encoded_points = torch.tensor(Riemannian_k_means_params['encoded_points'])\n",
    "assert torch.equal(encoded_points,\n",
    "                   torch.tensor(Euclidean_k_means_params['encoded_points']))\n",
    "selected_labels = Riemannian_k_means_params[\"selected_labels\"]"
   ]
  },
  {
   "cell_type": "markdown",
   "metadata": {},
   "source": [
    "# F_measure"
   ]
  },
  {
   "cell_type": "code",
   "execution_count": null,
   "metadata": {},
   "outputs": [],
   "source": [
    "f_measure = RiemannianKmeansTools.compute_f_measure(labels_assigned_by_Riemannian_k_means, \n",
    "            ground_truth_labels)\n",
    "print(\"F-measure Riemannian:\", f_measure)\n",
    "open(f\"{Path_clustering_setup}/f_measure_Riemannian.txt\", \"w\").write(str(f_measure))\n",
    "print(f\"F-measure Riemannian saved in {Path_clustering_setup}/f_measure_Riemannian.txt\")\n",
    "\n",
    "f_measure = RiemannianKmeansTools.compute_f_measure(labels_assigned_by_Euclidean_k_means, \n",
    "            ground_truth_labels)\n",
    "print(\"F-measure Euclidean:\", f_measure)\n",
    "open(f\"{Path_clustering_setup}/f_measure_Euclidean.txt\", \"w\").write(str(f_measure))\n",
    "print(f\"F-measure Euclidean saved in {Path_clustering_setup}/f_measure_Euclidean.txt\")"
   ]
  },
  {
   "cell_type": "markdown",
   "metadata": {},
   "source": [
    "# Voronoi cells"
   ]
  },
  {
   "cell_type": "code",
   "execution_count": null,
   "metadata": {},
   "outputs": [],
   "source": [
    "# labels by ground truth labels\n",
    "RiemannianKmeansTools.plot_knn_decision_boundary(encoded_points,\n",
    "        labels_for_coloring=ground_truth_labels,contour_levels_count=contour_levels_count,\n",
    "        neighbours_number=knn_neighbours_count, selected_labels=selected_labels,\n",
    "        saving_folder=Path_clustering_setup, cmap_background=colormap,cmap_points=colormap,\n",
    "        background_opacity = background_opacity, points_size = point_size,\n",
    "        plot_title= f\"Points in latent space colored by ground truth labels, \\nVoronoi's cells colored by {knn_neighbours_count}-NN.\",\n",
    "        file_saving_name=f\"Decision_boundary_ground_truth_labels_{pretrained_AE_setting_name}\")"
   ]
  },
  {
   "cell_type": "code",
   "execution_count": null,
   "metadata": {},
   "outputs": [],
   "source": [
    "# labels by the Riemannian clustering \n",
    "RiemannianKmeansTools.plot_knn_decision_boundary(encoded_points,\n",
    "        labels_for_coloring=labels_assigned_by_Riemannian_k_means, contour_levels_count=contour_levels_count,\n",
    "        neighbours_number=knn_neighbours_count, selected_labels=selected_labels,\n",
    "        points_size=point_size,background_opacity=background_opacity,\n",
    "        saving_folder=Path_clustering_setup, cmap_background=colormap,cmap_points=colormap,\n",
    "        plot_title= f\"Points in latent space colored by labels assigned by\\n Riemannian k-means, Voronoi's cells colored by {knn_neighbours_count}-NN.\",\n",
    "        file_saving_name=f\"Decision_boundary_Riemannian_k-means_labels_{pretrained_AE_setting_name}\")"
   ]
  },
  {
   "cell_type": "code",
   "execution_count": null,
   "metadata": {},
   "outputs": [],
   "source": [
    "# labels by the Euclidean clustering \n",
    "RiemannianKmeansTools.plot_knn_decision_boundary(encoded_points,\n",
    "        labels_for_coloring=labels_assigned_by_Euclidean_k_means, contour_levels_count=contour_levels_count,\n",
    "        neighbours_number=knn_neighbours_count, selected_labels=selected_labels,\n",
    "        points_size=point_size,background_opacity=background_opacity,\n",
    "        saving_folder=Path_clustering_setup, cmap_background=colormap,cmap_points=colormap,\n",
    "        plot_title= f\"Points in latent space colored by labels assigned by\\n Euclidean k-means, Voronoi's cells colored by {knn_neighbours_count}-NN.\",\n",
    "        file_saving_name=f\"Decision_boundary_Euclidean_k-means_labels_{pretrained_AE_setting_name}\")"
   ]
  }
 ],
 "metadata": {
  "kernelspec": {
   "display_name": ".venv_ricci2024",
   "language": "python",
   "name": "python3"
  },
  "language_info": {
   "codemirror_mode": {
    "name": "ipython",
    "version": 3
   },
   "file_extension": ".py",
   "mimetype": "text/x-python",
   "name": "python",
   "nbconvert_exporter": "python",
   "pygments_lexer": "ipython3",
   "version": "3.10.12"
  }
 },
 "nbformat": 4,
 "nbformat_minor": 2
}
