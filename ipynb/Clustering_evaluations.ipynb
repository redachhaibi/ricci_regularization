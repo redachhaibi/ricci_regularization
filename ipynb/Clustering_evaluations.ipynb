{
 "cells": [
  {
   "cell_type": "markdown",
   "metadata": {},
   "source": [
    "This notebook computes F-measure and draws Desicion boundary via knn for a clustering result given in a json file"
   ]
  },
  {
   "cell_type": "code",
   "execution_count": null,
   "metadata": {},
   "outputs": [],
   "source": [
    "# minimal imports\n",
    "import torch, yaml, os, json\n",
    "import ricci_regularization\n",
    "import matplotlib.pyplot as plt\n",
    "import numpy as np\n",
    "from ricci_regularization import RiemannianKmeansTools"
   ]
  },
  {
   "cell_type": "code",
   "execution_count": null,
   "metadata": {},
   "outputs": [],
   "source": [
    "k_means_setup_number = 2\n",
    "setting_name = \"Euclidean\" # \"Euclidean\" or \"Riemannian\"\n",
    "#setting_name = \"Riemannian\"\n",
    "knn_neighbours_count = 7"
   ]
  },
  {
   "cell_type": "code",
   "execution_count": null,
   "metadata": {},
   "outputs": [],
   "source": [
    "Path_clustering_setup = f\"../experiments/MNIST_Setting_3/K_means_setup_{k_means_setup_number}\"\n",
    "if setting_name == \"Riemannian\":\n",
    "    results_file_name = \"params.json\" # Riemannian setting\n",
    "elif setting_name == \"Euclidean\":\n",
    "    results_file_name = \"Euclidean_k_means_params.json\" # Euclidean setting\n",
    "# Read from JSON file\n",
    "with open(Path_clustering_setup + f\"/{results_file_name}\", \"r\") as f:\n",
    "    params = json.load(f)\n",
    "# Print or use the params dictionary\n",
    "#print(params)"
   ]
  },
  {
   "cell_type": "code",
   "execution_count": null,
   "metadata": {},
   "outputs": [],
   "source": [
    "ground_truth_labels = torch.tensor(params['ground_truth_labels'])\n",
    "labels_assigned_by_k_means = torch.tensor(params[f'{setting_name}_k_means_labels'])\n",
    "encoded_points = torch.tensor(params['encoded_points'])"
   ]
  },
  {
   "cell_type": "markdown",
   "metadata": {},
   "source": [
    "# F_measure"
   ]
  },
  {
   "cell_type": "code",
   "execution_count": null,
   "metadata": {},
   "outputs": [],
   "source": [
    "f_measure = RiemannianKmeansTools.compute_f_measure(labels_assigned_by_k_means, ground_truth_labels)\n",
    "print(\"F-measure\", f_measure)"
   ]
  },
  {
   "cell_type": "code",
   "execution_count": null,
   "metadata": {},
   "outputs": [],
   "source": [
    "open(f\"{Path_clustering_setup}/f_measure_{setting_name}.txt\", \"w\").write(str(f_measure))\n",
    "print(f\"f-measure saved in {Path_clustering_setup}/f_measure_{setting_name}.txt\")\n"
   ]
  },
  {
   "cell_type": "markdown",
   "metadata": {},
   "source": [
    "# Decision boundary"
   ]
  },
  {
   "cell_type": "code",
   "execution_count": null,
   "metadata": {},
   "outputs": [],
   "source": [
    "# by ground truth labels\n",
    "RiemannianKmeansTools.plot_knn_decision_boundary(encoded_points,\n",
    "        labels_for_coloring=ground_truth_labels,\n",
    "        neighbours_number=knn_neighbours_count,\n",
    "        saving_folder=Path_clustering_setup, \n",
    "        file_saving_name=f\"Decision_boundary_ground_truth_labels\")"
   ]
  },
  {
   "cell_type": "code",
   "execution_count": null,
   "metadata": {},
   "outputs": [],
   "source": [
    "# by the chosen clustering method\n",
    "RiemannianKmeansTools.plot_knn_decision_boundary(encoded_points,\n",
    "        labels_for_coloring=labels_assigned_by_k_means,\n",
    "        neighbours_number=knn_neighbours_count,\n",
    "        saving_folder=Path_clustering_setup, \n",
    "        file_saving_name=f\"Decision_boundary_{setting_name}_k-means_labels\")"
   ]
  }
 ],
 "metadata": {
  "kernelspec": {
   "display_name": ".venv_ricci2024",
   "language": "python",
   "name": "python3"
  },
  "language_info": {
   "codemirror_mode": {
    "name": "ipython",
    "version": 3
   },
   "file_extension": ".py",
   "mimetype": "text/x-python",
   "name": "python",
   "nbconvert_exporter": "python",
   "pygments_lexer": "ipython3",
   "version": "3.10.12"
  }
 },
 "nbformat": 4,
 "nbformat_minor": 2
}
