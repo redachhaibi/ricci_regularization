{
 "cells": [
  {
   "cell_type": "markdown",
   "id": "abb61206",
   "metadata": {},
   "source": [
    "NB! This is an old notebook. It contains a wrong (very unprecise) way of computing Scalar curvature of the latent space with f.d. formulas used for computing derivatives. Has to be redone!\n",
    "\n",
    "The autoencoder (AE) consists of the encoder $\\Phi$ and the decoder $\\Psi$.\n",
    "The latent space of the AE is $R^d$. We define a Riemannian metric in a local chart of the latent space as the pull-back of the Euclidean metric in the output space $R^D$ by the decoder function $\\Psi$ of the AE:\n",
    "\\begin{equation*}\n",
    "    g = \\nabla \\Psi ^* \\nabla \\Psi   \n",
    "\\end{equation*}.\n",
    "\n",
    "The notebook contains:\n",
    "1) Loading weights of a pre-trained convolutional AE and plotting its latent space: point plot and manifold plot. If \"violent_saving\" == True, plots are saved locally.\n",
    "2) Auxillary tensors involving higher order derivatives of the decoder $\\Psi$ are computed with f.d.: metric $g$ and its derivatives, Riemann tensor $R^{i}_{jkl}$, Ricci tensor $R_{ij}$ and scalar curvature.\n",
    "3) Geodesics shooting via Runge-Kutta approximation. A single plot with a scalar curvature heatmap and geodesics on it is constructed.\n",
    "4) Prototype of metric evolution by Ricci flow equation \n",
    "\n",
    "NB! by default the metric $g$ is the pull-back by the decoder as described above. But one can use any custom metric by manually setting it in \"specific_metric\" function, that computes the metric matrix at a point $u\\in \\mathbb{R}: \\ g(u)$ given the local coordinates of the point $u$ in the latent space."
   ]
  },
  {
   "cell_type": "code",
   "execution_count": null,
   "id": "358e1984",
   "metadata": {},
   "outputs": [],
   "source": [
    "import matplotlib.pyplot as plt # plotting library\n",
    "import numpy as np # this module is useful to work with numerical arrays\n",
    "import pandas as pd\n",
    "import torch\n",
    "import torchvision\n",
    "import ricci_regularization\n",
    "import yaml"
   ]
  },
  {
   "cell_type": "code",
   "execution_count": null,
   "id": "e8e71c81",
   "metadata": {},
   "outputs": [],
   "source": [
    "with open('../../experiments/MNIST_Setting_1_config.yaml', 'r') as yaml_file:\n",
    "#with open('../../experiments/MNIST01_exp7_config.yaml', 'r') as yaml_file:\n",
    "#with open('../../experiments/Swissroll_exp4_config.yaml', 'r') as yaml_file:\n",
    "    yaml_config = yaml.load(yaml_file, Loader=yaml.FullLoader)\n",
    "\n",
    "violent_saving = False # if False it will not save plots\n",
    "\n",
    "d = 2"
   ]
  },
  {
   "cell_type": "markdown",
   "id": "51c0cee7",
   "metadata": {},
   "source": [
    "# Loading data and nn weights"
   ]
  },
  {
   "cell_type": "code",
   "execution_count": null,
   "id": "3cdd2c74",
   "metadata": {},
   "outputs": [],
   "source": [
    "# Load data loaders based on YAML configuration\n",
    "dict = ricci_regularization.DataLoaders.get_dataloaders(\n",
    "    dataset_config=yaml_config[\"dataset\"],\n",
    "    data_loader_config=yaml_config[\"data_loader_settings\"]\n",
    ")\n",
    "train_loader = dict[\"train_loader\"]\n",
    "test_loader = dict[\"test_loader\"]\n",
    "test_dataset = dict.get(\"test_dataset\")  # Assuming 'test_dataset' is a key returned by get_dataloaders\n",
    "\n",
    "print(\"Data loaders created successfully.\")\n",
    "additional_path=\"../\""
   ]
  },
  {
   "cell_type": "code",
   "execution_count": null,
   "id": "2e1ec95a",
   "metadata": {},
   "outputs": [],
   "source": [
    "experiment_name = yaml_config[\"experiment\"][\"name\"]\n",
    "\n",
    "#Path_pictures = yaml_config[\"experiment\"][\"path\"]\n",
    "Path_pictures = additional_path + \"../experiments/\" + yaml_config[\"experiment\"][\"name\"]\n",
    "if violent_saving == True:\n",
    "    # Check and create directories based on configuration\n",
    "    if not os.path.exists(Path_pictures):  # Check if the picture path does not exist\n",
    "        os.mkdir(Path_pictures)  # Create the directory for plots if not yet created\n",
    "        print(f\"Created directory: {Path_pictures}\")  # Print directory creation feedback\n",
    "    else:\n",
    "        print(f\"Directiry already exists: {Path_pictures}\")\n",
    "\n",
    "curv_w = yaml_config[\"loss_settings\"][\"lambda_curv\"]\n",
    "\n",
    "dataset_name = yaml_config[\"dataset\"][\"name\"]\n",
    "D = yaml_config[\"architecture\"][\"input_dim\"]\n",
    "# D is the dimension of the dataset\n",
    "if dataset_name in [\"MNIST01\", \"Synthetic\"]:\n",
    "    # k from the JSON configuration file is the number of classes\n",
    "    #k = yaml_config[\"dataset\"][\"k\"]\n",
    "    k = len(yaml_config[\"dataset\"][\"selected_labels\"])\n",
    "    selected_labels = yaml_config[\"dataset\"][\"selected_labels\"]\n",
    "elif dataset_name == \"MNIST\":\n",
    "    k = 10\n",
    "print(\"Experiment name:\", experiment_name)\n",
    "print(\"Plots saved at:\", Path_pictures)"
   ]
  },
  {
   "cell_type": "code",
   "execution_count": null,
   "id": "ce47ec2e",
   "metadata": {},
   "outputs": [],
   "source": [
    "### Initialize the two networks\n",
    "\n",
    "torus_ae, Path_ae_weights = ricci_regularization.DataLoaders.get_tuned_nn(config=yaml_config, additional_path = additional_path)\n",
    "\n",
    "torus_ae = torus_ae.to(\"cpu\")\n",
    "\n",
    "print(f\"AE weights loaded successfully from {Path_ae_weights}.\")\n",
    "\n",
    "encoder = torus_ae.encoder_torus\n",
    "decoder = torus_ae.decoder_torus"
   ]
  },
  {
   "attachments": {},
   "cell_type": "markdown",
   "id": "d57b3499",
   "metadata": {},
   "source": [
    "# Metric on a grid via torch.roll"
   ]
  },
  {
   "cell_type": "code",
   "execution_count": null,
   "id": "5220ff57",
   "metadata": {},
   "outputs": [],
   "source": [
    "# Defining the scale of the grid which is numsteps \\times numsteps points\n",
    "\n",
    "numsteps = 100\n",
    "\n",
    "tgrid = ricci_regularization.FiniteDifferences.make_grid(numsteps= numsteps)"
   ]
  },
  {
   "cell_type": "code",
   "execution_count": null,
   "id": "61043027",
   "metadata": {},
   "outputs": [],
   "source": [
    "\n",
    "# takes 42 secs\n",
    "#numsteps_values = [10, 25, 50, 75, 100, 250, 500, 750, 1000]\n",
    "size = torch.pi / 10 # grid side size\n",
    "numsteps_values = [7, 15, 30, 50, 80, 160, 320]\n",
    "mse_errors = []\n",
    "mean_metric_frob_norm_values = []\n",
    "std_metric_frob_norm_values = []\n",
    "h_values = []\n",
    "for numsteps in numsteps_values:\n",
    "    grid = ricci_regularization.FiniteDifferences.make_grid(numsteps= numsteps, \n",
    "        xlim_left= -size/2, xlim_right= size/2, ylim_bottom= -size/2, ylim_top= size/2)\n",
    "    error = ricci_regularization.error_fd_jacfwd_on_grid(tensor_fd=ricci_regularization.metric_fd_grid(grid, function=decoder),\n",
    "                                             tensor_jacfwd=ricci_regularization.metric_jacfwd_vmap(grid, function=decoder),cut=1)\n",
    "    mse_errors.append(error.item())\n",
    "    #mse_errors.append(ricci_regularization.compute_error_metric_on_grid(numsteps, function=decoder).item())\n",
    "    h_values.append(1 / numsteps)\n",
    "\n",
    "# Create the plot\n",
    "plt.figure(figsize=(8, 6),dpi=300)\n",
    "plt.loglog(h_values, mse_errors, marker='o', linestyle='-', color='b', markersize=4)\n",
    "\n",
    "\n",
    "# Set grid for easier visualization\n",
    "#plt.grid(True, which=\"both\", ls=\"--\")\n",
    "plt.ylabel(\"Error\")\n",
    "plt.xlabel(\"Step h\")\n",
    "\n",
    "# Display the plot\n",
    "plt.title(r'Log-Log plot of step $h$ vs. MSE Error of metric $g$ .', fontsize=14)\n",
    "plt.savefig(Path_pictures+\"/metric_error_fd_jacfwd.pdf\", bbox_inches='tight', format = \"pdf\")\n",
    "plt.show()"
   ]
  },
  {
   "attachments": {},
   "cell_type": "markdown",
   "id": "084965d9",
   "metadata": {},
   "source": [
    "## Heatmap of frobenius norm of metric"
   ]
  },
  {
   "cell_type": "code",
   "execution_count": null,
   "id": "b07bfab7",
   "metadata": {},
   "outputs": [],
   "source": [
    "# Fast computation of Frobenious norm on the grid without borders\n",
    "numsteps= 100\n",
    "tgrid = ricci_regularization.FiniteDifferences.make_grid(numsteps= numsteps)\n",
    "\n",
    "metric = ricci_regularization.metric_fd_grid(tgrid, function=decoder)\n",
    "Newfrob = metric.norm(dim=(1,2)).view(numsteps,numsteps)\n",
    "Newfrob = Newfrob[1:-1,1:-1].transpose(0,1)"
   ]
  },
  {
   "cell_type": "code",
   "execution_count": null,
   "id": "3d7af76a",
   "metadata": {},
   "outputs": [],
   "source": [
    "\n",
    "# Create the ticks for the axes (3 ticks between the borders)\n",
    "num_ticks = 5  # 3 between borders + 2 borders\n",
    "ticks = np.linspace(-np.pi, np.pi, num_ticks)\n",
    "tick_labels = [f'{tick:.2f}' for tick in ticks]  # Formatting tick labels for clarity\n",
    "\n",
    "# Plotting the colormap\n",
    "plt.figure(figsize=(6, 6))  # Square figure\n",
    "plt.imshow(Newfrob.detach(), cmap='viridis', origin='lower', extent=[-np.pi, np.pi, -np.pi, np.pi])\n",
    "plt.colorbar(label='Frobenius norm of the metric', shrink = 0.7)\n",
    "\n",
    "# Set ticks and labels for both axes\n",
    "plt.xticks(ticks=ticks, labels=tick_labels)\n",
    "plt.yticks(ticks=ticks, labels=tick_labels)\n",
    "\n",
    "# Set axis labels and title\n",
    "plt.title('Finite differences: Frobenius norm of metric on a grid')\n",
    "plt.xlabel('X Axis')\n",
    "plt.ylabel('Y Axis')\n",
    "\n",
    "plt.grid(False)  # Disable grid lines on the plot\n",
    "plt.show()\n"
   ]
  },
  {
   "attachments": {},
   "cell_type": "markdown",
   "id": "80195e2b",
   "metadata": {},
   "source": [
    "# Derivatives of the metric: $d g$. Precision analysis"
   ]
  },
  {
   "cell_type": "code",
   "execution_count": null,
   "id": "fb898cf0",
   "metadata": {},
   "outputs": [],
   "source": [
    "numsteps= 100\n",
    "#size = 1.\n",
    "size = 2*torch.pi\n",
    "tgrid = ricci_regularization.FiniteDifferences.make_grid(numsteps= numsteps, \n",
    "        xlim_left= -size/2, xlim_right= size/2, ylim_bottom= -size/2, ylim_top= size/2)\n",
    "\n",
    "metric = ricci_regularization.metric_fd_grid(tgrid, function=decoder)"
   ]
  },
  {
   "cell_type": "code",
   "execution_count": null,
   "id": "1537ac4d",
   "metadata": {},
   "outputs": [],
   "source": [
    "dg_fd = ricci_regularization.metric_der_fd_grid(tgrid, decoder)\n",
    "dg_jacfwd = ricci_regularization.metric_der_jacfwd_vmap(tgrid, function = decoder)"
   ]
  },
  {
   "cell_type": "code",
   "execution_count": null,
   "id": "136be3e8",
   "metadata": {},
   "outputs": [],
   "source": [
    "ricci_regularization.error_fd_jacfwd_on_grid(dg_fd,dg_jacfwd, cut = 2)"
   ]
  },
  {
   "cell_type": "code",
   "execution_count": null,
   "id": "becc621e",
   "metadata": {},
   "outputs": [],
   "source": [
    "print(\"Step size:\", size/numsteps)"
   ]
  },
  {
   "cell_type": "markdown",
   "id": "40df8c9c",
   "metadata": {},
   "source": [
    "# Christoffel symbols"
   ]
  },
  {
   "cell_type": "code",
   "execution_count": null,
   "id": "127a0c2b",
   "metadata": {},
   "outputs": [],
   "source": [
    "\n",
    "dCh_fd = ricci_regularization.Ch_der_fd(tgrid, function=decoder)\n",
    "dCh_jacfwd = ricci_regularization.Ch_der_jacfwd_vmap(tgrid, function=decoder)"
   ]
  },
  {
   "cell_type": "code",
   "execution_count": null,
   "id": "4f0cd7a3",
   "metadata": {},
   "outputs": [],
   "source": [
    "# Error\n",
    "ricci_regularization.error_fd_jacfwd_on_grid(tensor_fd= dCh_fd,\n",
    "                                             tensor_jacfwd=dCh_jacfwd, cut=3)"
   ]
  },
  {
   "cell_type": "markdown",
   "id": "722de920",
   "metadata": {},
   "source": [
    "# Curvature precision"
   ]
  },
  {
   "cell_type": "code",
   "execution_count": null,
   "id": "c8e55552",
   "metadata": {},
   "outputs": [],
   "source": [
    "numsteps = 20\n",
    "size = torch.pi / 2\n",
    "#size = 2 * torch.pi\n",
    "tgrid7 = ricci_regularization.FiniteDifferences.make_grid(numsteps= 5* numsteps, \n",
    "        xlim_left= -size/2, xlim_right= size/2, ylim_bottom= -size/2, ylim_top= size/2)\n",
    "\n",
    "tgrid = ricci_regularization.FiniteDifferences.make_grid(numsteps= numsteps, \n",
    "        xlim_left= -size/2, xlim_right= size/2, ylim_bottom= -size/2, ylim_top= size/2)"
   ]
  },
  {
   "cell_type": "code",
   "execution_count": null,
   "id": "8f4de199",
   "metadata": {},
   "outputs": [],
   "source": [
    "# 0.3 secs for 100 by 100 grid\n",
    "Sc_fd = ricci_regularization.Sc_fd(tgrid7, function=decoder)"
   ]
  },
  {
   "cell_type": "code",
   "execution_count": null,
   "id": "33976322",
   "metadata": {},
   "outputs": [],
   "source": [
    "# 5.6 secs for 100 by 100 grid\n",
    "\n",
    "Sc_jacfwd = ricci_regularization.Sc_jacfwd_vmap(tgrid, function=decoder)"
   ]
  },
  {
   "cell_type": "code",
   "execution_count": null,
   "id": "bd19a7fd",
   "metadata": {},
   "outputs": [],
   "source": [
    "# Error\n",
    "Sc_error = ricci_regularization.error_fd_jacfwd_on_grid(tensor_fd= Sc_fd,\n",
    "                                             tensor_jacfwd=Sc_jacfwd, cut=3)"
   ]
  },
  {
   "cell_type": "code",
   "execution_count": null,
   "id": "52de7f92",
   "metadata": {},
   "outputs": [],
   "source": [
    "print(\"scalar curvature MSE error:\", Sc_error.item())"
   ]
  },
  {
   "cell_type": "code",
   "execution_count": null,
   "id": "fbd25177",
   "metadata": {},
   "outputs": [],
   "source": [
    "size = torch.pi / 5 # grid side size\n",
    "numsteps_values = [7, 15, 30, 50, 80, 160]\n",
    "mse_errors = []\n",
    "mean_curvature_values = []\n",
    "std_curvature_values = []\n",
    "h_values = []\n",
    "for numsteps in numsteps_values:\n",
    "    grid = ricci_regularization.FiniteDifferences.make_grid(numsteps= numsteps, \n",
    "        xlim_left= -size/2, xlim_right= size/2, ylim_bottom= -size/2, ylim_top= size/2)\n",
    "    linsize = (grid[numsteps-1] - grid[0]).norm()\n",
    "    h_values.append(linsize.item() / numsteps)\n",
    "\n",
    "    Sc_jacfwd = ricci_regularization.Sc_jacfwd_vmap(grid, function=decoder)\n",
    "    Sc_fd = ricci_regularization.Sc_fd(grid, function=decoder)\n",
    "\n",
    "    mean_curvature_values.append(torch.abs(Sc_jacfwd).mean().item())\n",
    "    std_curvature_values.append(torch.abs(Sc_jacfwd).std().item())\n",
    "\n",
    "    error = ricci_regularization.error_fd_jacfwd_on_grid(tensor_fd=Sc_jacfwd,\n",
    "                                             tensor_jacfwd=Sc_fd,\n",
    "                                             cut=3)\n",
    "    \n",
    "    del grid, Sc_jacfwd, Sc_fd\n",
    "    mse_errors.append(error.item())\n",
    "    del error"
   ]
  },
  {
   "cell_type": "code",
   "execution_count": null,
   "id": "c3bfa19e",
   "metadata": {},
   "outputs": [],
   "source": [
    "# Create the plot\n",
    "plt.figure(figsize=(8, 6), dpi=300)\n",
    "plt.loglog(h_values, mse_errors, marker='o', linestyle='-', color='b', markersize=4)\n",
    "plt.loglog(h_values, mean_curvature_values, marker='o', linestyle='-', label =\"mean value of $R$\",\n",
    "            color='r', markersize=4)\n",
    "plt.loglog(h_values, std_curvature_values, marker='o', linestyle='-', label =\"std of $R$\",\n",
    "            color='orange', markersize=4)\n",
    "\n",
    "# Set grid for easier visualization\n",
    "plt.ylabel(\"Error\")\n",
    "plt.xlabel(\"Step h\")\n",
    "plt.legend()\n",
    "\n",
    "# Set only major ticks at h_values (no minor ticks)\n",
    "ax = plt.gca()\n",
    "ax.set_xticks(h_values)  # Set x-axis major ticks to h_values\n",
    "ax.set_xticks([], minor=True)  # Disable minor ticks on the x-axis\n",
    "\n",
    "# Set custom x-axis tick labels and rotate them for better visibility\n",
    "ax.set_xticklabels([f\"{h:.3g}\" for h in h_values], rotation=45, ha='right')\n",
    "\n",
    "# Display the plot\n",
    "plt.title(r'Log-Log plot of step $h$ vs. MSE Error of scalar curvature $R$.', fontsize=14)\n",
    "plt.savefig(Path_pictures + \"/R_error_fd_jacfwd.pdf\", bbox_inches='tight', format=\"pdf\")\n",
    "plt.show()"
   ]
  },
  {
   "cell_type": "markdown",
   "id": "96d2eabc",
   "metadata": {},
   "source": [
    "# Using mini-grids + minimal verification"
   ]
  },
  {
   "cell_type": "code",
   "execution_count": null,
   "id": "2f906d8d",
   "metadata": {},
   "outputs": [],
   "source": [
    "def build_mini_grid(center: torch.Tensor, h: float = 1.0) -> torch.Tensor:\n",
    "    \"\"\"\n",
    "    Builds a 7x7 mini-grid around a given center tensor with step size h.\n",
    "\n",
    "    Args:\n",
    "        center (torch.Tensor): A tensor representing the center of the grid (2D point).\n",
    "        h (float): The step size between grid points. Default is 1.0.\n",
    "\n",
    "    Returns:\n",
    "        torch.Tensor: A 7x7 grid of shape (7, 7, 2) where each element is a coordinate.\n",
    "    \"\"\"\n",
    "    # Create a 7x7 grid of relative coordinates (i, j) scaled by step size h\n",
    "    offset = torch.arange(-3, 4) * h  # Relative offsets from the center (-3h, -2h, ..., 3h)\n",
    "    grid_x, grid_y = torch.meshgrid(offset, offset, indexing='ij')  # 7x7 grid for x and y\n",
    "    \n",
    "    # Stack the coordinates (x, y) together and add to the center\n",
    "    grid = torch.stack([grid_x, grid_y], dim=-1).float()  # Shape: (7, 7, 2)\n",
    "    \n",
    "    # Add the center coordinate to every point in the grid\n",
    "    mini_grid = grid + center.unsqueeze(0).unsqueeze(0)  # Broadcasting center to grid shape\n",
    "    \n",
    "    return mini_grid\n",
    "\n",
    "def build_mini_grid_batch(centers: torch.Tensor, h: float = 1.0) -> torch.Tensor:\n",
    "    \"\"\"\n",
    "    Builds a batch of mini-grids centered at the given batch of points.\n",
    "    \n",
    "    Args:\n",
    "        centers (torch.Tensor): A 2D tensor with shape (N, 2) representing N centers.\n",
    "        grid_size (int): The size of the mini-grid (grid_size x grid_size).\n",
    "        h (float): The step size for the grid.\n",
    "        \n",
    "    Returns:\n",
    "        torch.Tensor: A batch of mini-grids of shape (N, grid_size * grid_size, 2).\n",
    "    \"\"\"\n",
    "    offset = torch.arange(-3, 4) * h  # Relative offsets from the center (-3h, -2h, ..., 3h)\n",
    "    grid_x, grid_y = torch.meshgrid(offset, offset, indexing='ij')  # 7x7 grid for x and y\n",
    "\n",
    "    # Stack the coordinates (x, y) together and add to the center\n",
    "    mini_grid = torch.stack([grid_x, grid_y], dim=-1).float()  # Shape: (7, 7, 2)\n",
    "    mini_grid = mini_grid.reshape(49,2) # Shape: (49, 2)\n",
    "    # Expand dimensions to match the number of centers\n",
    "    mini_grid = mini_grid.unsqueeze(0)  # shape: (1, grid_size * grid_size, 2)\n",
    "\n",
    "    # Broadcast the centers to create the batch\n",
    "    centers = centers.unsqueeze(1)  # shape: (N, 1, 2)\n",
    "\n",
    "    # Add the centers to the mini-grid points\n",
    "    batch_minigrids = mini_grid + centers  # shape: (N, grid_size * grid_size, 2)\n",
    "    return batch_minigrids"
   ]
  },
  {
   "cell_type": "code",
   "execution_count": null,
   "id": "c12b9139",
   "metadata": {},
   "outputs": [],
   "source": [
    "centers = torch.rand(10,2)\n",
    "h = 0.01\n",
    "batch_minigrids = build_mini_grid_batch(centers, h)   \n",
    "\n",
    "print(\"batch of grids built correctly:\",torch.equal( batch_minigrids[:,24,:], centers))"
   ]
  },
  {
   "cell_type": "code",
   "execution_count": null,
   "id": "1b2292ba",
   "metadata": {},
   "outputs": [],
   "source": [
    "decoder(batch_minigrids).shape"
   ]
  },
  {
   "cell_type": "code",
   "execution_count": null,
   "id": "a07437d9",
   "metadata": {},
   "outputs": [],
   "source": [
    "def metric_fd_batch_minigrids(batch_minigrids, function):\n",
    "    h = (batch_minigrids[0,1] - batch_minigrids[0,0]).norm()\n",
    "    psi = function(batch_minigrids)\n",
    "    psi_next_x =  psi.roll(-1,1)\n",
    "    psi_prev_x =  psi.roll(1,1)\n",
    "    psi_next_y =  psi.roll(-7,1)\n",
    "    psi_prev_y =  psi.roll(7,1)\n",
    "\n",
    "    dpsidx = (psi_next_x - psi_prev_x)/(2 * h)\n",
    "    dpsidy = (psi_next_y - psi_prev_y)/(2 * h)\n",
    "    E = torch.einsum('bgD,bgD->bg',dpsidx, dpsidx)\n",
    "    F = torch.einsum('bgD,bgD->bg',dpsidx, dpsidy)\n",
    "    G = torch.einsum('bgD,bgD->bg',dpsidy, dpsidy)\n",
    "\n",
    "    metric = torch.cat((G.unsqueeze(-1), F.unsqueeze(-1), F.unsqueeze(-1), E.unsqueeze(-1)),-1)\n",
    "    metric = metric.view(-1, 7 * 7, 2, 2)\n",
    "    return metric\n"
   ]
  },
  {
   "cell_type": "code",
   "execution_count": null,
   "id": "f48237fb",
   "metadata": {},
   "outputs": [],
   "source": [
    "metric = metric_fd_batch_minigrids(batch_minigrids, decoder)\n",
    "metric[7][24]"
   ]
  },
  {
   "cell_type": "code",
   "execution_count": null,
   "id": "d64b5bfd",
   "metadata": {},
   "outputs": [],
   "source": [
    "ricci_regularization.metric_jacfwd(centers[7],decoder)"
   ]
  },
  {
   "cell_type": "code",
   "execution_count": null,
   "id": "9833564a",
   "metadata": {},
   "outputs": [],
   "source": [
    "def diff_by_x_minigrids(tensor_on_batch_minigrids, h):\n",
    "    tensor_next_x =  tensor_on_batch_minigrids.roll(-7,1)\n",
    "    tensor_prev_x =  tensor_on_batch_minigrids.roll(7,1)\n",
    "    tensor_dx = (tensor_next_x - tensor_prev_x)/(2*h)\n",
    "    return tensor_dx\n",
    "\n",
    "def diff_by_y_minigrids(tensor_on_batch_minigrids, h):\n",
    "    psi_next_y =  tensor_on_batch_minigrids.roll(-1,1)\n",
    "    psi_prev_y =  tensor_on_batch_minigrids.roll(1,1)\n",
    "    dpsidy = (psi_next_y - psi_prev_y)/(2*h)\n",
    "    return dpsidy\n",
    "\n",
    "def metric_der_fd_batch_minigrids(batch_minigrids, function):\n",
    "    h = (batch_minigrids[0,1] - batch_minigrids[0,0]).norm()\n",
    "    metric = metric_fd_batch_minigrids(batch_minigrids, \n",
    "                    function = function)\n",
    "    dg_dx_fd = diff_by_x_minigrids(metric, h = h)\n",
    "    dg_dy_fd = diff_by_y_minigrids(metric, h = h)\n",
    "    dg = torch.cat((dg_dx_fd.unsqueeze(-1), dg_dy_fd.unsqueeze(-1)), dim = -1)\n",
    "    return dg\n"
   ]
  },
  {
   "cell_type": "code",
   "execution_count": null,
   "id": "6d54150f",
   "metadata": {},
   "outputs": [],
   "source": [
    "metric_der_fd_batch_minigrids(batch_minigrids, decoder)[7][24]"
   ]
  },
  {
   "cell_type": "code",
   "execution_count": null,
   "id": "58e89c4a",
   "metadata": {},
   "outputs": [],
   "source": [
    "ricci_regularization.metric_der_jacfwd(centers[7],decoder)"
   ]
  },
  {
   "cell_type": "code",
   "execution_count": null,
   "id": "caf3e355",
   "metadata": {},
   "outputs": [],
   "source": [
    "def metric_inv_batch_minigrids(batch_minigrids, function, eps=0.0):\n",
    "    h = (batch_minigrids[0,1] - batch_minigrids[0,0]).norm()\n",
    "    g = metric_fd_batch_minigrids(batch_minigrids, function)\n",
    "    d = g.shape[-1]\n",
    "    device = g.device\n",
    "    g_inv = torch.inverse(g + eps*torch.eye(d,device=device))\n",
    "    return g_inv\n",
    "\n",
    "#metric_inv_jacfd_vmap = torch.func.vmap(metric_inv_fd)\n",
    "\n",
    "def Ch_fd_batch_minigrids (batch_minigrids, function, eps = 0.0):\n",
    "    g_inv = metric_inv_batch_minigrids(batch_minigrids,function,\n",
    "                                       eps=eps)\n",
    "    dg = metric_der_fd_batch_minigrids(batch_minigrids,function)\n",
    "    Ch = 0.5*(torch.einsum('bgim,bgmkl->bgikl',g_inv,dg)+\n",
    "              torch.einsum('bgim,bgmlk->bgikl',g_inv,dg)-\n",
    "              torch.einsum('bgim,bgklm->bgikl',g_inv,dg)\n",
    "              )\n",
    "    return Ch\n",
    "#Ch_fd_vmap = torch.func.vmap(Ch_fd)\n",
    "\n",
    "def Ch_der_fd_batch_minigrids (grid, function, eps=0.0):\n",
    "    h = (batch_minigrids[0,1] - batch_minigrids[0,0]).norm()\n",
    "\n",
    "    Ch = Ch_fd_batch_minigrids(grid, function=function, eps=eps)\n",
    "    dChdx = diff_by_x_minigrids(Ch, h)\n",
    "    dChdy = diff_by_y_minigrids(Ch, h)\n",
    "    dCh = torch.cat((dChdx.unsqueeze(-1), dChdy.unsqueeze(-1)), dim = -1)\n",
    "    return dCh"
   ]
  },
  {
   "cell_type": "code",
   "execution_count": null,
   "id": "b769d502",
   "metadata": {},
   "outputs": [],
   "source": [
    "Ch_der_fd_batch_minigrids(batch_minigrids, decoder)[7][24]"
   ]
  },
  {
   "cell_type": "code",
   "execution_count": null,
   "id": "af305a18",
   "metadata": {},
   "outputs": [],
   "source": [
    "ricci_regularization.Ch_der_jacfwd(centers[7],decoder)"
   ]
  },
  {
   "cell_type": "code",
   "execution_count": null,
   "id": "f06de9ef",
   "metadata": {},
   "outputs": [],
   "source": [
    "# Riemann curvature tensor (3,1)\n",
    "def Riem_fd_batch_minigrids(u, function,eps=0.0):\n",
    "    Ch = Ch_fd_batch_minigrids(u, function, eps=eps)\n",
    "    Ch_der = Ch_der_fd_batch_minigrids(u, function, eps=eps)\n",
    "\n",
    "    Riem = torch.einsum(\"bgiljk->bgijkl\",Ch_der) - torch.einsum(\"bgikjl->bgijkl\",Ch_der)\n",
    "    Riem += torch.einsum(\"bgikp,bgplj->bgijkl\", Ch, Ch) - torch.einsum(\"bgilp,bgpkj->bgijkl\", Ch, Ch)\n",
    "    return Riem\n",
    "\n",
    "def Ric_fd_batch_minigrids(u, function, eps=0.0):\n",
    "    Riemann = Riem_fd_batch_minigrids(u, function, eps=eps)\n",
    "    Ric = torch.einsum(\"bgcscr->bgsr\",Riemann)\n",
    "    return Ric\n",
    "\n",
    "def Sc_fd_batch_minigrids (u, function, eps = 0.0):\n",
    "    Ricci = Ric_fd_batch_minigrids(u, function=function,eps=eps)\n",
    "    metric_inv = metric_inv_batch_minigrids(u,function=function, eps=eps)\n",
    "    Sc = torch.einsum('bgsr,bgsr->bg',metric_inv,Ricci)\n",
    "    return Sc\n"
   ]
  },
  {
   "cell_type": "code",
   "execution_count": null,
   "id": "79dbd83d",
   "metadata": {},
   "outputs": [],
   "source": [
    "Sc_fd_batch_minigrids(batch_minigrids, decoder)[7][24]"
   ]
  },
  {
   "cell_type": "code",
   "execution_count": null,
   "id": "b35bc162",
   "metadata": {},
   "outputs": [],
   "source": [
    "ricci_regularization.Sc_jacfwd(centers[7],decoder)"
   ]
  },
  {
   "cell_type": "markdown",
   "id": "83f56535",
   "metadata": {},
   "source": [
    "errors"
   ]
  },
  {
   "cell_type": "code",
   "execution_count": null,
   "id": "73e960d2",
   "metadata": {},
   "outputs": [],
   "source": [
    "def error_fd_jacfwd_batch_minigrids(tensor_fd, tensor_jacfwd):\n",
    "    batch_size = tensor_fd.shape[0]\n",
    "    #finite differences\n",
    "    tensor_fd_central = tensor_fd[:, 24]\n",
    "\n",
    "    error = torch.functional.F.mse_loss(tensor_fd_central, tensor_jacfwd)\n",
    "    return error"
   ]
  },
  {
   "cell_type": "code",
   "execution_count": null,
   "id": "09672424",
   "metadata": {},
   "outputs": [],
   "source": [
    "metric_fd = metric_fd_batch_minigrids(batch_minigrids, function=decoder)\n",
    "metric_jacfwd = ricci_regularization.metric_jacfwd_vmap(centers, function=decoder)"
   ]
  },
  {
   "cell_type": "code",
   "execution_count": null,
   "id": "96ed36c3",
   "metadata": {},
   "outputs": [],
   "source": [
    "error_fd_jacfwd_batch_minigrids(metric_fd, metric_jacfwd)"
   ]
  },
  {
   "cell_type": "code",
   "execution_count": null,
   "id": "4799504c",
   "metadata": {},
   "outputs": [],
   "source": [
    "error_fd_jacfwd_batch_minigrids(metric_fd, metric_jacfwd)"
   ]
  },
  {
   "cell_type": "markdown",
   "id": "fe193440",
   "metadata": {},
   "source": [
    "Experiments"
   ]
  },
  {
   "cell_type": "code",
   "execution_count": null,
   "id": "a4e92413",
   "metadata": {},
   "outputs": [],
   "source": [
    "centers = torch.rand(10000,2)\n",
    "h = 0.01\n",
    "batch_minigrids = build_mini_grid_batch(centers, h)   "
   ]
  },
  {
   "cell_type": "code",
   "execution_count": null,
   "id": "c3ac3c00",
   "metadata": {},
   "outputs": [],
   "source": [
    "Sc_fd = Sc_fd_batch_minigrids(batch_minigrids, function=decoder)\n",
    "Sc_jacfwd = ricci_regularization.Sc_jacfwd_vmap(centers, function=decoder)"
   ]
  },
  {
   "cell_type": "code",
   "execution_count": null,
   "id": "54db83d2",
   "metadata": {},
   "outputs": [],
   "source": [
    "import timeit\n",
    "import json\n",
    "\n",
    "# Define the number of iterations for averaging\n",
    "iterations = 100\n",
    "\n",
    "batch_sizes = [8, 16, 32,40, 64, 128, 256]  # Different batch sizes to test\n",
    "\n",
    "# Initialize a list to hold timing results\n",
    "timing_results = []\n",
    "\n",
    "# Generate grid and centers based on the fixed numsteps\n",
    "h = 0.01  # Step size (arbitrary)\n",
    "centers = torch.randn(max(batch_sizes), 2)  # Example centers, random values\n",
    "# Generate batch mini-grids for the current numsteps\n",
    "batch_minigrids = build_mini_grid_batch(centers, h=h)\n",
    "\n",
    "# Loop through different batch sizes\n",
    "for batch_size in batch_sizes:\n",
    "    # Adjust centers and batch_minigrids to match the current batch_size\n",
    "    current_centers = centers[:batch_size]\n",
    "    current_batch_minigrids = batch_minigrids[:batch_size]\n",
    "\n",
    "    # Timing for Sc_fd\n",
    "    time_fd = timeit.timeit(\n",
    "        stmt=\"Sc_fd_batch_minigrids(current_batch_minigrids, function=decoder)\",\n",
    "        setup=\"from __main__ import Sc_fd_batch_minigrids, current_batch_minigrids, decoder\",\n",
    "        number=iterations\n",
    "    )\n",
    "\n",
    "    # Timing for Sc_jacfwd\n",
    "    time_jacfwd = timeit.timeit(\n",
    "        stmt=\"ricci_regularization.Sc_jacfwd_vmap(current_centers, function=decoder)\",\n",
    "        setup=\"from __main__ import ricci_regularization, current_centers, decoder\",\n",
    "        number=iterations\n",
    "    )\n",
    "\n",
    "    # Append the results to the timing_results list\n",
    "    timing_results.append({\n",
    "        \"batch_size\": batch_size,\n",
    "        \"Sc_fd_avg_time\": time_fd / iterations,\n",
    "        \"Sc_jacfwd_avg_time\": time_jacfwd / iterations,\n",
    "    })\n",
    "\n",
    "# Save results to a JSON file\n",
    "with open('timing_results_batch_minigrids.json', 'w') as f:\n",
    "    json.dump(timing_results, f, indent=4)\n",
    "\n",
    "# Print the timing results\n",
    "for result in timing_results:\n",
    "    print(result)"
   ]
  },
  {
   "cell_type": "code",
   "execution_count": null,
   "id": "b90f3443",
   "metadata": {},
   "outputs": [],
   "source": [
    "# Plotting the results\n",
    "batch_sizes = [result['batch_size'] for result in timing_results]\n",
    "sc_fd_times = [result['Sc_fd_avg_time'] for result in timing_results]\n",
    "sc_jacfwd_times = [result['Sc_jacfwd_avg_time'] for result in timing_results]\n",
    "\n",
    "plt.figure(figsize=(10, 6))\n",
    "\n",
    "# Plot average times for Sc_fd and Sc_jacfwd_vmap\n",
    "plt.plot(batch_sizes, sc_fd_times, marker='o', label='fd on mini_grids', linestyle='-')\n",
    "plt.plot(batch_sizes, sc_jacfwd_times, marker='s', label='jacfwd', linestyle='-')\n",
    "\n",
    "# Adding labels and title\n",
    "plt.ylabel('Average Time (seconds)')\n",
    "plt.xlabel('Batch Size')\n",
    "plt.title(f'Timing scalar curvature $R$ computation: fd on minigrids vs jacfwd')\n",
    "plt.grid()\n",
    "plt.legend()\n",
    "# Set x-ticks to be the actual batch size values\n",
    "plt.xticks(batch_sizes)  # Setting the x-ticks to match batch sizes\n",
    "\n",
    "# Save the plot\n",
    "plt.savefig(Path_pictures+'/timing_results_batch_minigrids.pdf', bbox_inches='tight')\n",
    "plt.show()"
   ]
  }
 ],
 "metadata": {
  "kernelspec": {
   "display_name": "pytorch",
   "language": "python",
   "name": "python3"
  },
  "language_info": {
   "codemirror_mode": {
    "name": "ipython",
    "version": 3
   },
   "file_extension": ".py",
   "mimetype": "text/x-python",
   "name": "python",
   "nbconvert_exporter": "python",
   "pygments_lexer": "ipython3",
   "version": "3.10.12"
  },
  "vscode": {
   "interpreter": {
    "hash": "7ed7132e93bf674294a86d7471c251a64840a87e0582b5a68a7249a63cee1cd5"
   }
  }
 },
 "nbformat": 4,
 "nbformat_minor": 5
}
