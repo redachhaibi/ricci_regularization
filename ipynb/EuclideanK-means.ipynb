{
 "cells": [
  {
   "cell_type": "markdown",
   "metadata": {},
   "source": [
    "NB! Geomstats package is required.\n",
    "\n",
    "The latent space of the AE is topologically a $d-$ dimensional torus $\\mathcal{T}^d$, i.e. it can be considered as a periodic box $[-\\pi, \\pi]^d$. We use $d=2$.\n",
    "\n",
    "The notebook includes Euclidean K-means clustering on a torus implemented with Geomstats.\n",
    "\n",
    "In this notebook data is the subset of MNIST dataset with selected labels specified in the yaml file.\n",
    "\n",
    "1) Setting hyperparameters, dataset loading, plotting embedded data for a pre-trained AE.\n",
    "2) Geomstats K-means: Euclidean metric on torus latent space + saving the results"
   ]
  },
  {
   "cell_type": "code",
   "execution_count": null,
   "metadata": {},
   "outputs": [],
   "source": [
    "# prerequisites\n",
    "%matplotlib inline\n",
    "import torch\n",
    "import yaml,os, ricci_regularization, json\n",
    "import numpy as np"
   ]
  },
  {
   "cell_type": "markdown",
   "metadata": {},
   "source": [
    "# 1. Setting hyperparameters, dataset loading, plotting embedded data for a pre-trained AE."
   ]
  },
  {
   "cell_type": "code",
   "execution_count": null,
   "metadata": {},
   "outputs": [],
   "source": [
    "# add an option of taking arbitrary data!!! not only the results of Riemannian K-means.\n",
    "# But save it differently then!!\n",
    "k_means_setup_number = 0\n",
    "pretrained_AE_setting_name = 'MNIST_Setting_3_exp5'\n",
    "Path_clustering_setup = f\"../experiments/{pretrained_AE_setting_name}/K_means_setup_{k_means_setup_number}\"\n",
    "Path_experiment = f'../experiments/{pretrained_AE_setting_name}_config.yaml'\n",
    "mode = \"selected_points\" # clustering only selected points\n",
    "#mode = \"all_points\""
   ]
  },
  {
   "cell_type": "code",
   "execution_count": null,
   "metadata": {},
   "outputs": [],
   "source": [
    "with open(Path_clustering_setup + f\"/params.json\", \"r\") as f_Riemannian:\n",
    "    Riemannian_k_means_params = json.load(f_Riemannian)\n",
    "encoded_points_to_cluster = torch.tensor(Riemannian_k_means_params[\"encoded_points\"])\n",
    "K = Riemannian_k_means_params[\"K\"]\n",
    "N = Riemannian_k_means_params[\"N\"]\n",
    "selected_labels = Riemannian_k_means_params[\"selected_labels\"]\n",
    "ground_truth_labels = Riemannian_k_means_params[\"ground_truth_labels\"]"
   ]
  },
  {
   "cell_type": "markdown",
   "metadata": {},
   "source": [
    "## Plots"
   ]
  },
  {
   "cell_type": "code",
   "execution_count": null,
   "metadata": {},
   "outputs": [],
   "source": [
    "\"\"\"\n",
    "plt.figure(figsize=(8, 6))\n",
    "plt.title(\"Encoded points selected for clustering colored by ground truth labels\")\n",
    "plt.scatter(encoded_points_to_cluster[:,0],encoded_points_to_cluster[:,1], c=ground_truth_labels, marker='o', edgecolor='none', cmap=ricci_regularization.discrete_cmap(K, 'jet'))\n",
    "plt.colorbar(ticks=range(K))\n",
    "plt.grid(True)\n",
    "#plt.savefig(f\"{Path_pictures}/latent_space.pdf\",format=\"pdf\")\n",
    "\"\"\""
   ]
  },
  {
   "cell_type": "markdown",
   "metadata": {},
   "source": [
    "# 2. Geomstats K-means: Euclidean metric on torus latent space"
   ]
  },
  {
   "cell_type": "code",
   "execution_count": null,
   "metadata": {},
   "outputs": [],
   "source": [
    "#this adds an environmental variable\n",
    "#%env GEOMSTATS_BACKEND=pytorch\n",
    "\n",
    "import geomstats.backend as gs\n",
    "import geomstats.visualization as visualization\n",
    "from geomstats.geometry.hypersphere import Hypersphere\n",
    "from geomstats.learning.kmeans import RiemannianKMeans"
   ]
  },
  {
   "cell_type": "code",
   "execution_count": null,
   "metadata": {},
   "outputs": [],
   "source": [
    "circumference1 = Hypersphere(dim=1)\n",
    "circumference2 = Hypersphere(dim=1)"
   ]
  },
  {
   "cell_type": "markdown",
   "metadata": {},
   "source": [
    "Building torus as a product $\\mathcal{T} = \\mathcal{S}^1 \\times \\mathcal{S}^1$ "
   ]
  },
  {
   "cell_type": "code",
   "execution_count": null,
   "metadata": {},
   "outputs": [],
   "source": [
    "from geomstats.geometry.product_manifold import ProductManifold\n",
    "torus = ProductManifold((circumference1,circumference2))"
   ]
  },
  {
   "cell_type": "markdown",
   "metadata": {},
   "source": [
    "Putting MNIST data on torus"
   ]
  },
  {
   "cell_type": "code",
   "execution_count": null,
   "metadata": {},
   "outputs": [],
   "source": [
    "circ_1_coordinates = torus.factors[0].intrinsic_to_extrinsic_coords(encoded_points_to_cluster[:,0]).reshape(2,-1).T\n",
    "circ_2_coordinates = torus.factors[1].intrinsic_to_extrinsic_coords(encoded_points_to_cluster[:,1]).reshape(2,-1).T\n",
    "MNIST_data_on_torus_4d = np.concatenate((circ_1_coordinates,circ_2_coordinates),axis = 1).reshape(-1,2,2) # cos\\phi, sin \\phi, cos \\psi, sin \\psi"
   ]
  },
  {
   "cell_type": "code",
   "execution_count": null,
   "metadata": {},
   "outputs": [],
   "source": [
    "kmeans = RiemannianKMeans(torus, K, tol=1e-3) # in geomstats it is called Riemannian K-means, but it is Euclidean on the chosen local chart of the torus\n",
    "kmeans.fit(MNIST_data_on_torus_4d)\n",
    "kmeans_latent_space_euclidean_labels = kmeans.labels_\n",
    "cluster_centers = kmeans.centroids_# kmeans.cluster_centers_"
   ]
  },
  {
   "cell_type": "code",
   "execution_count": null,
   "metadata": {},
   "outputs": [],
   "source": [
    "ricci_regularization.RiemannianKmeansTools.manifold_plot_selected_labels(encoded_points2plot=encoded_points_to_cluster,\n",
    "        encoded_points_labels=kmeans_latent_space_euclidean_labels,\n",
    "        selected_labels=selected_labels,\n",
    "        plot_title=\"Encoded points colored by Euclidean K-means via geomstats\",\n",
    "        save_plot=False)"
   ]
  },
  {
   "cell_type": "markdown",
   "metadata": {},
   "source": [
    "## Saving the results"
   ]
  },
  {
   "cell_type": "code",
   "execution_count": null,
   "metadata": {},
   "outputs": [],
   "source": [
    "# Define experiment parameters\n",
    "params = {\n",
    "    \"K\": K,  # Number of clusters\n",
    "    \"N\": N,  # Number of points to be clustered\n",
    "    \"selected_labels\": selected_labels,  # Labels used for clustering\n",
    "    \n",
    "    \"ground_truth_labels\": ground_truth_labels,\n",
    "    \"Euclidean_k_means_labels\": kmeans_latent_space_euclidean_labels.tolist(),\n",
    "    \"encoded_points\": encoded_points_to_cluster.tolist()\n",
    "}\n",
    "\n",
    "# Save to JSON file\n",
    "saving_path_parameters = f\"{Path_clustering_setup}/Euclidean_k_means_params.json\"\n",
    "with open(saving_path_parameters, \"w\") as f:\n",
    "    json.dump(params, f, indent=4)\n",
    "\n",
    "print(f\"Parameters saved to {saving_path_parameters}\")"
   ]
  }
 ],
 "metadata": {
  "kernelspec": {
   "display_name": ".venv_ricci2024",
   "language": "python",
   "name": "python3"
  },
  "language_info": {
   "codemirror_mode": {
    "name": "ipython",
    "version": 3
   },
   "file_extension": ".py",
   "mimetype": "text/x-python",
   "name": "python",
   "nbconvert_exporter": "python",
   "pygments_lexer": "ipython3",
   "version": "3.10.12"
  }
 },
 "nbformat": 4,
 "nbformat_minor": 2
}
